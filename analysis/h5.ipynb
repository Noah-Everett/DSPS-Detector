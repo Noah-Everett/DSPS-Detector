{
 "cells": [
  {
   "cell_type": "code",
   "execution_count": 13,
   "id": "028aa67f",
   "metadata": {},
   "outputs": [],
   "source": [
    "number = 1\n",
    "\n",
    "file_1 = f'/Volumes/SD/DSPS/temp_fasrc/trainData_1/grid_h5_{number}.h5'\n",
    "file_2 = f'/Volumes/SD/DSPS/tmp/MLdataNumbers/{number}.h5'"
   ]
  },
  {
   "cell_type": "code",
   "execution_count": 14,
   "id": "ba77357d",
   "metadata": {},
   "outputs": [
    {
     "name": "stdout",
     "output_type": "stream",
     "text": [
      "x1 shape: (6, 80, 80, 80), y1 shape: (80, 80, 80)\n",
      "x2 shape: (6, 80, 80, 80), y2 shape: (80, 80, 80)\n",
      "Shapes match!\n"
     ]
    }
   ],
   "source": [
    "import h5py\n",
    "\n",
    "with h5py.File(file_1, 'r') as f1, h5py.File(file_2, 'r') as f2:\n",
    "    # data is 'x'\n",
    "    # label is 'y'\n",
    "    x1 = f1['x'][:]\n",
    "    y1 = f1['y'][:]\n",
    "    x2 = f2['x'][:]\n",
    "    y2 = f2['y'][:]\n",
    "\n",
    "    print(f\"x1 shape: {x1.shape}, y1 shape: {y1.shape}\")\n",
    "    print(f\"x2 shape: {x2.shape}, y2 shape: {y2.shape}\")\n",
    "\n",
    "    # Check if the shapes match\n",
    "    if x1.shape == x2.shape and y1.shape == y2.shape:\n",
    "        print(\"Shapes match!\")"
   ]
  },
  {
   "cell_type": "code",
   "execution_count": null,
   "id": "a6263c87",
   "metadata": {},
   "outputs": [],
   "source": []
  }
 ],
 "metadata": {
  "kernelspec": {
   "display_name": "Python_3_11_5",
   "language": "python",
   "name": "python3"
  },
  "language_info": {
   "codemirror_mode": {
    "name": "ipython",
    "version": 3
   },
   "file_extension": ".py",
   "mimetype": "text/x-python",
   "name": "python",
   "nbconvert_exporter": "python",
   "pygments_lexer": "ipython3",
   "version": "3.11.5"
  }
 },
 "nbformat": 4,
 "nbformat_minor": 5
}
