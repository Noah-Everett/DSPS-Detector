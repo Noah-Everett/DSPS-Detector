{
 "cells": [
  {
   "cell_type": "markdown",
   "metadata": {},
   "source": [
    "# Initialize Notebook\n",
    "<hr style=\"border: none; height: 5px; background-color: white; margin-top: 0px; margin-bottom: 0px;\">"
   ]
  },
  {
   "cell_type": "code",
   "execution_count": null,
   "metadata": {},
   "outputs": [],
   "source": [
    "import numpy as np\n",
    "import matplotlib.pyplot as plt\n",
    "import matplotlib as mpl\n",
    "from mpl_toolkits.mplot3d import Axes3D\n",
    "import tensorflow as tf\n",
    "import ROOT\n",
    "import uproot\n",
    "import os\n",
    "import sys\n",
    "import tqdm\n",
    "import pandas as pd\n",
    "import pickle as pkl\n",
    "\n",
    "%jsroot on\n",
    "# %matplotlib qt\n",
    "%matplotlib inline"
   ]
  },
  {
   "cell_type": "code",
   "execution_count": null,
   "metadata": {},
   "outputs": [],
   "source": [
    "from filterMethods import *\n",
    "from reconstructionMethods import *\n",
    "from statisticsMethods import *"
   ]
  },
  {
   "cell_type": "code",
   "execution_count": null,
   "metadata": {},
   "outputs": [],
   "source": [
    "sys.path.append(\"../\")\n",
    "import plotParameters"
   ]
  },
  {
   "cell_type": "markdown",
   "metadata": {},
   "source": [
    "# Load Data\n",
    "<hr style=\"border: none; height: 5px; background-color: white; margin-top: 0px; margin-bottom: 0px;\">"
   ]
  },
  {
   "cell_type": "code",
   "execution_count": null,
   "metadata": {},
   "outputs": [],
   "source": [
    "# file_input_name = '../runs/calibration/calibration_-0.85000_-0.85000_-0.85000.root'\n",
    "# file_input_name = '../runs/calibration/calibration_-0.85000_-0.85000_-0.85000.root'\n",
    "# file_input_name = '../runs/calibration/calibration.root'\n",
    "# file_input_name = '../runs/calibration_8x8x8_e-_5MeV/calibration.root'\n",
    "# file_input_name = '../runs/output_NEST_e-_1MeV.root'\n",
    "# file_input_name = '../build/event_total.root'\n",
    "# file_input_name = '../build/event.root'\n",
    "file_input_name = '../build/output.root'\n",
    "histogram_directory = 'photoSensor_hits_histograms'\n",
    "file_input_pyroot = ROOT.TFile(file_input_name)\n",
    "file_input_uproot = uproot.open(file_input_name)\n",
    "\n",
    "histogram_names = [name for name in file_input_uproot.keys() if \"/photoSensor_\" in name]\n",
    "print(histogram_names)\n",
    "\n",
    "histogram_titles = [file_input_pyroot.Get(name).GetTitle() for name in histogram_names]\n",
    "print(histogram_titles)\n",
    "\n",
    "histogram_positions = [(float(title.split('_')[2]), float(title.split('_')[3]), float(title.split('_')[4])) for title in histogram_titles]\n",
    "print(histogram_positions)\n",
    "\n",
    "tree_names = [name for name in file_input_uproot.keys() if histogram_directory not in name]\n",
    "print(tree_names)"
   ]
  },
  {
   "cell_type": "code",
   "execution_count": null,
   "metadata": {},
   "outputs": [],
   "source": [
    "tree = file_input_uproot['photoSensor_hits;1']\n",
    "data = {\n",
    "    'position_initial': list(zip(\n",
    "        tree['photoSensor_hits_position_initial_x'].array(),\n",
    "        tree['photoSensor_hits_position_initial_y'].array(),\n",
    "        tree['photoSensor_hits_position_initial_z'].array()\n",
    "    )),\n",
    "    'position_absolute': list(zip(\n",
    "        tree['photoSensor_hits_position_absolute_x'].array(),\n",
    "        tree['photoSensor_hits_position_absolute_y'].array(),\n",
    "        tree['photoSensor_hits_position_absolute_z'].array()\n",
    "    )),\n",
    "    'process': tree['photoSensor_hits_process'].array()\n",
    "}\n",
    "\n",
    "df_photoSensor_hits = pd.DataFrame(data)\n",
    "\n",
    "df_photoSensor_hits['position_delta'] = [np.array(pi) - np.array(pa) for pi, pa in zip(df_photoSensor_hits['position_initial'], df_photoSensor_hits['position_absolute'])]\n",
    "df_photoSensor_hits['position_delta_r'] = np.linalg.norm(np.array(df_photoSensor_hits['position_delta'].tolist()), axis=1)"
   ]
  },
  {
   "cell_type": "code",
   "execution_count": null,
   "metadata": {},
   "outputs": [],
   "source": [
    "tree = file_input_uproot['calorimeter_hits;1']\n",
    "data_calorimeter = {\n",
    "    'position_initial': list(zip(\n",
    "        tree['calorimeter_hits_position_initial_x'].array(),\n",
    "        tree['calorimeter_hits_position_initial_y'].array(),\n",
    "        tree['calorimeter_hits_position_initial_z'].array()\n",
    "    )),\n",
    "    'position_absolute': list(zip(\n",
    "        tree['calorimeter_hits_position_absolute_x'].array(),\n",
    "        tree['calorimeter_hits_position_absolute_y'].array(),\n",
    "        tree['calorimeter_hits_position_absolute_z'].array()\n",
    "    )),\n",
    "    'process': tree['calorimeter_hits_process'].array()\n",
    "}\n",
    "\n",
    "df_calorimeter_hits = pd.DataFrame(data_calorimeter)\n",
    "\n",
    "df_calorimeter_hits['position_delta'] = [np.array(pi) - np.array(pa) for pi, pa in zip(df_calorimeter_hits['position_initial'], df_calorimeter_hits['position_absolute'])]\n",
    "df_calorimeter_hits['position_delta_r'] = np.linalg.norm(np.array(df_calorimeter_hits['position_delta'].tolist()), axis=1)"
   ]
  },
  {
   "cell_type": "code",
   "execution_count": null,
   "metadata": {},
   "outputs": [],
   "source": [
    "tree = file_input_uproot['lens_hits;1']\n",
    "data_lens = {\n",
    "    'position_initial': list(zip(\n",
    "        tree['lens_hits_position_initial_x'].array(),\n",
    "        tree['lens_hits_position_initial_y'].array(),\n",
    "        tree['lens_hits_position_initial_z'].array()\n",
    "    )),\n",
    "    'position_absolute': list(zip(\n",
    "        tree['lens_hits_position_absolute_x'].array(),\n",
    "        tree['lens_hits_position_absolute_y'].array(),\n",
    "        tree['lens_hits_position_absolute_z'].array()\n",
    "    )),\n",
    "    'process': tree['lens_hits_process'].array(),\n",
    "    'transmittance': tree['lens_hits_transmittance'].array()\n",
    "}\n",
    "\n",
    "df_lens_hits = pd.DataFrame(data_lens)\n",
    "\n",
    "df_lens_hits = df_lens_hits[df_lens_hits['transmittance'] != True]\n",
    "\n",
    "df_lens_hits['position_delta'] = [np.array(pi) - np.array(pa) for pi, pa in zip(df_lens_hits['position_initial'], df_lens_hits['position_absolute'])]\n",
    "df_lens_hits['position_delta_r'] = np.linalg.norm(np.array(df_lens_hits['position_delta'].tolist()), axis=1)"
   ]
  },
  {
   "cell_type": "code",
   "execution_count": null,
   "metadata": {},
   "outputs": [],
   "source": [
    "tree = file_input_uproot['photon;1']\n",
    "data_photon = {\n",
    "    'photon_stepNumber': tree['photon_stepNumber'].array(),\n",
    "}\n",
    "\n",
    "df_photon = pd.DataFrame(data_photon)"
   ]
  },
  {
   "cell_type": "markdown",
   "metadata": {},
   "source": [
    "# Plot Data\n",
    "<hr style=\"border: none; height: 5px; background-color: white; margin-top: 0px; margin-bottom: 0px;\">"
   ]
  },
  {
   "cell_type": "code",
   "execution_count": null,
   "metadata": {},
   "outputs": [],
   "source": [
    "nPhotons_total = np.sum(df_photon['photon_stepNumber'].values == 1)\n",
    "nPhotons_calorimeter = len(df_calorimeter_hits)\n",
    "nPhotons_photoSensor = len(df_photoSensor_hits)\n",
    "nPhotons_medium = nPhotons_total - nPhotons_calorimeter - nPhotons_photoSensor\n",
    "\n",
    "print(\"nPhotons_total      : \", nPhotons_total)\n",
    "print(\"nPhotons_calorimeter: \", nPhotons_calorimeter)\n",
    "print(\"nPhotons_photoSensor: \", nPhotons_photoSensor)"
   ]
  },
  {
   "cell_type": "code",
   "execution_count": null,
   "metadata": {},
   "outputs": [],
   "source": [
    "nBins = 50\n",
    "\n",
    "_, _, _, bins = get_PDF(np.concatenate((df_calorimeter_hits['position_delta_r'], \n",
    "                                        df_photoSensor_hits['position_delta_r'], \n",
    "                                        df_lens_hits       ['position_delta_r'])), nBins=nBins)\n",
    "\n",
    "PDF_photoSensor, hist_photoSensor, _, bins_photoSensor = get_PDF(df_photoSensor_hits['position_delta_r'], bins=bins)\n",
    "PDF_calorimeter, hist_calorimeter, _, bins_calorimeter = get_PDF(df_calorimeter_hits['position_delta_r'], bins=bins)\n",
    "PDF_lens       , hist_lens       , _, bins_lens        = get_PDF(df_lens_hits       ['position_delta_r'], bins=bins)\n",
    "\n",
    "hist_scaled_photoSensor = hist_photoSensor / nPhotons_total * 100\n",
    "hist_scaled_calorimeter = hist_calorimeter / nPhotons_total * 100\n",
    "hist_scaled_lens        = hist_lens        / nPhotons_total * 100\n",
    "\n",
    "bins_center_photoSensor = [(bins_photoSensor[i] + bins_photoSensor[i+1])/2 for i in range(len(bins_photoSensor)-1)]\n",
    "bins_center_calorimeter = [(bins_calorimeter[i] + bins_calorimeter[i+1])/2 for i in range(len(bins_calorimeter)-1)]\n",
    "bins_center_lens        = [(bins_lens       [i] + bins_lens       [i+1])/2 for i in range(len(bins_lens       )-1)]\n",
    "\n",
    "fileName = '../figures/transmittance_10cm.pkl'\n",
    "pkl_data = {\n",
    "    'bins_center_photoSensor': bins_center_photoSensor,\n",
    "    'bins_center_calorimeter': bins_center_calorimeter,\n",
    "    'bins_center_lens'       : bins_center_lens,\n",
    "    'hist_scaled_photoSensor': hist_scaled_photoSensor,\n",
    "    'hist_scaled_calorimeter': hist_scaled_calorimeter,\n",
    "    'hist_scaled_lens'       : hist_scaled_lens,\n",
    "}\n",
    "with open(fileName, 'wb') as f:\n",
    "    pkl.dump(pkl_data, f)\n",
    "\n",
    "pkl_data = pkl.load(open(fileName, 'rb'))\n",
    "bins_center_photoSensor = pkl_data['bins_center_photoSensor']\n",
    "bins_center_calorimeter = pkl_data['bins_center_calorimeter']\n",
    "bins_center_lens        = pkl_data['bins_center_lens']\n",
    "hist_scaled_photoSensor = pkl_data['hist_scaled_photoSensor']\n",
    "hist_scaled_calorimeter = pkl_data['hist_scaled_calorimeter']\n",
    "hist_scaled_lens        = pkl_data['hist_scaled_lens']\n",
    "\n",
    "fig, ax = plt.subplots(figsize=(5, 5))\n",
    "ax.plot(bins_center_calorimeter, hist_scaled_calorimeter, label='calorimeter', drawstyle='steps-mid')\n",
    "ax.plot(bins_center_lens       , hist_scaled_lens       , label='lens'       , drawstyle='steps-mid')\n",
    "ax.plot(bins_center_photoSensor, hist_scaled_photoSensor, label='photosensor', drawstyle='steps-mid')\n",
    "# ax.fill_between(bins_center_calorimeter, hist_scaled_calorimeter, 0, alpha=0.8)\n",
    "# ax.fill_between(bins_center_lens       , hist_scaled_lens       , 0, alpha=0.8)\n",
    "# ax.fill_between(bins_center_photoSensor, hist_scaled_photoSensor, 0, alpha=0.8)\n",
    "ax.set_xlabel(r'$r$ [mm]')\n",
    "ax.set_ylabel(r'Percentage of Photons')\n",
    "ax.set_xlim(xmin=0)\n",
    "# ax.set_ylim(ymin=0)\n",
    "ax.set_yscale('log')\n",
    "ax.set_title('60 cm')\n",
    "# ax.legend(loc='upper right')\n",
    "ax.grid()\n",
    "# fig.savefig('../figures/transmittance_60cm_nolegend_v3.pdf', bbox_inches='tight')\n",
    "fig.show()\n"
   ]
  }
 ],
 "metadata": {
  "kernelspec": {
   "display_name": "DSPD-Detector-Sim_Analysis",
   "language": "python",
   "name": "python3"
  },
  "language_info": {
   "codemirror_mode": {
    "name": "ipython",
    "version": 3
   },
   "file_extension": ".py",
   "mimetype": "text/x-python",
   "name": "python",
   "nbconvert_exporter": "python",
   "pygments_lexer": "ipython3",
   "version": "3.11.5"
  }
 },
 "nbformat": 4,
 "nbformat_minor": 2
}
