{
 "cells": [
  {
   "cell_type": "markdown",
   "metadata": {},
   "source": [
    "# Initialize Notebook\n",
    "<hr style=\"border: none; height: 5px; background-color: white; margin-top: 0px; margin-bottom: 0px;\">"
   ]
  },
  {
   "cell_type": "code",
   "execution_count": 1,
   "metadata": {},
   "outputs": [
    {
     "name": "stdout",
     "output_type": "stream",
     "text": [
      "Welcome to JupyROOT 6.30/02\n"
     ]
    }
   ],
   "source": [
    "import numpy as np\n",
    "import matplotlib.pyplot as plt\n",
    "import matplotlib as mpl\n",
    "from mpl_toolkits.mplot3d import Axes3D\n",
    "import tensorflow as tf\n",
    "import ROOT\n",
    "import uproot\n",
    "import os\n",
    "import sys\n",
    "import tqdm\n",
    "import pandas as pd\n",
    "import pickle as pkl\n",
    "\n",
    "%jsroot on\n",
    "# %matplotlib qt\n",
    "%matplotlib inline"
   ]
  },
  {
   "cell_type": "code",
   "execution_count": 2,
   "metadata": {},
   "outputs": [],
   "source": [
    "sys.path.append('../python/')\n",
    "from filterMethods import *\n",
    "from trackReconstructionMethods import *\n",
    "from hitAccuracyMethods import *\n",
    "from statisticsMethods import *\n",
    "from importMethods import *\n",
    "from constants import *\n",
    "import plotParameters"
   ]
  },
  {
   "cell_type": "code",
   "execution_count": 3,
   "metadata": {},
   "outputs": [],
   "source": [
    "sys.path.append(\"../\")\n",
    "import plotParameters"
   ]
  },
  {
   "cell_type": "markdown",
   "metadata": {},
   "source": [
    "# Load Data\n",
    "<hr style=\"border: none; height: 5px; background-color: white; margin-top: 0px; margin-bottom: 0px;\">"
   ]
  },
  {
   "cell_type": "code",
   "execution_count": 4,
   "metadata": {},
   "outputs": [
    {
     "name": "stdout",
     "output_type": "stream",
     "text": [
      "[]\n",
      "[]\n",
      "[]\n",
      "['photoSensor_hits;1', 'calorimeter_hits;1', 'lens_hits;1', 'medium_hits;1', 'photon;1']\n"
     ]
    }
   ],
   "source": [
    "# file_input_name = '../runs/calibration/calibration_-0.85000_-0.85000_-0.85000.root'\n",
    "# file_input_name = '../runs/calibration/calibration_-0.85000_-0.85000_-0.85000.root'\n",
    "# file_input_name = '../runs/calibration/calibration.root'\n",
    "# file_input_name = '../runs/calibration_8x8x8_e-_5MeV/calibration.root'\n",
    "# file_input_name = '../runs/output_NEST_e-_1MeV.root'\n",
    "# file_input_name = '../build/event_total.root'\n",
    "# file_input_name = '../build/event.root'\n",
    "# file_input_name = '../build/output.root'\n",
    "file_input_name = '../runs/calorimeterSizes/0cm_calibration.root'\n",
    "histogram_directory = 'photoSensor_hits_histograms'\n",
    "file_input_pyroot = ROOT.TFile(file_input_name)\n",
    "file_input_uproot = uproot.open(file_input_name)\n",
    "\n",
    "histogram_names = [name for name in file_input_uproot.keys() if \"/photoSensor_\" in name]\n",
    "print(histogram_names)\n",
    "\n",
    "histogram_titles = [file_input_pyroot.Get(name).GetTitle() for name in histogram_names]\n",
    "print(histogram_titles)\n",
    "\n",
    "histogram_positions = [(float(title.split('_')[2]), float(title.split('_')[3]), float(title.split('_')[4])) for title in histogram_titles]\n",
    "print(histogram_positions)\n",
    "\n",
    "tree_names = [name for name in file_input_uproot.keys() if histogram_directory not in name]\n",
    "print(tree_names)"
   ]
  },
  {
   "cell_type": "code",
   "execution_count": 5,
   "metadata": {},
   "outputs": [],
   "source": [
    "tree = file_input_uproot['photoSensor_hits;1']\n",
    "data = {\n",
    "    'position_initial': list(zip(\n",
    "        tree['photoSensor_hits_position_initial_x'].array(),\n",
    "        tree['photoSensor_hits_position_initial_y'].array(),\n",
    "        tree['photoSensor_hits_position_initial_z'].array()\n",
    "    )),\n",
    "    'position_absolute': list(zip(\n",
    "        tree['photoSensor_hits_position_absolute_x'].array(),\n",
    "        tree['photoSensor_hits_position_absolute_y'].array(),\n",
    "        tree['photoSensor_hits_position_absolute_z'].array()\n",
    "    )),\n",
    "    'process': tree['photoSensor_hits_process'].array()\n",
    "}\n",
    "\n",
    "df_photoSensor_hits = pd.DataFrame(data)\n",
    "\n",
    "df_photoSensor_hits['position_delta'] = [np.array(pi) - np.array(pa) for pi, pa in zip(df_photoSensor_hits['position_initial'], df_photoSensor_hits['position_absolute'])]\n",
    "df_photoSensor_hits['position_delta_r'] = np.linalg.norm(np.array(df_photoSensor_hits['position_delta'].tolist()), axis=1)"
   ]
  },
  {
   "cell_type": "code",
   "execution_count": 6,
   "metadata": {},
   "outputs": [
    {
     "ename": "AxisError",
     "evalue": "axis 1 is out of bounds for array of dimension 1",
     "output_type": "error",
     "traceback": [
      "\u001b[0;31m---------------------------------------------------------------------------\u001b[0m",
      "\u001b[0;31mAxisError\u001b[0m                                 Traceback (most recent call last)",
      "\u001b[1;32m/Users/noah-everett/Documents/FNAL/Geant4/USSD_Geant4/analysis/transmissionAnalysis.ipynb Cell 8\u001b[0m line \u001b[0;36m1\n\u001b[1;32m     <a href='vscode-notebook-cell:/Users/noah-everett/Documents/FNAL/Geant4/USSD_Geant4/analysis/transmissionAnalysis.ipynb#X10sZmlsZQ%3D%3D?line=15'>16</a>\u001b[0m df_calorimeter_hits \u001b[39m=\u001b[39m pd\u001b[39m.\u001b[39mDataFrame(data_calorimeter)\n\u001b[1;32m     <a href='vscode-notebook-cell:/Users/noah-everett/Documents/FNAL/Geant4/USSD_Geant4/analysis/transmissionAnalysis.ipynb#X10sZmlsZQ%3D%3D?line=17'>18</a>\u001b[0m df_calorimeter_hits[\u001b[39m'\u001b[39m\u001b[39mposition_delta\u001b[39m\u001b[39m'\u001b[39m] \u001b[39m=\u001b[39m [np\u001b[39m.\u001b[39marray(pi) \u001b[39m-\u001b[39m np\u001b[39m.\u001b[39marray(pa) \u001b[39mfor\u001b[39;00m pi, pa \u001b[39min\u001b[39;00m \u001b[39mzip\u001b[39m(df_calorimeter_hits[\u001b[39m'\u001b[39m\u001b[39mposition_initial\u001b[39m\u001b[39m'\u001b[39m], df_calorimeter_hits[\u001b[39m'\u001b[39m\u001b[39mposition_absolute\u001b[39m\u001b[39m'\u001b[39m])]\n\u001b[0;32m---> <a href='vscode-notebook-cell:/Users/noah-everett/Documents/FNAL/Geant4/USSD_Geant4/analysis/transmissionAnalysis.ipynb#X10sZmlsZQ%3D%3D?line=18'>19</a>\u001b[0m df_calorimeter_hits[\u001b[39m'\u001b[39m\u001b[39mposition_delta_r\u001b[39m\u001b[39m'\u001b[39m] \u001b[39m=\u001b[39m np\u001b[39m.\u001b[39mlinalg\u001b[39m.\u001b[39mnorm(np\u001b[39m.\u001b[39marray(df_calorimeter_hits[\u001b[39m'\u001b[39m\u001b[39mposition_delta\u001b[39m\u001b[39m'\u001b[39m]\u001b[39m.\u001b[39mtolist()), axis\u001b[39m=\u001b[39m\u001b[39m1\u001b[39m)\n",
      "File \u001b[0;32m<__array_function__ internals>:180\u001b[0m, in \u001b[0;36mnorm\u001b[0;34m(*args, **kwargs)\u001b[0m\n",
      "File \u001b[0;32m/opt/homebrew/anaconda3/envs/Python_3_11_5/lib/python3.11/site-packages/numpy/linalg/linalg.py:2557\u001b[0m, in \u001b[0;36mnorm\u001b[0;34m(x, ord, axis, keepdims)\u001b[0m\n\u001b[1;32m   2554\u001b[0m \u001b[39melif\u001b[39;00m \u001b[39mord\u001b[39m \u001b[39mis\u001b[39;00m \u001b[39mNone\u001b[39;00m \u001b[39mor\u001b[39;00m \u001b[39mord\u001b[39m \u001b[39m==\u001b[39m \u001b[39m2\u001b[39m:\n\u001b[1;32m   2555\u001b[0m     \u001b[39m# special case for speedup\u001b[39;00m\n\u001b[1;32m   2556\u001b[0m     s \u001b[39m=\u001b[39m (x\u001b[39m.\u001b[39mconj() \u001b[39m*\u001b[39m x)\u001b[39m.\u001b[39mreal\n\u001b[0;32m-> 2557\u001b[0m     \u001b[39mreturn\u001b[39;00m sqrt(add\u001b[39m.\u001b[39mreduce(s, axis\u001b[39m=\u001b[39maxis, keepdims\u001b[39m=\u001b[39mkeepdims))\n\u001b[1;32m   2558\u001b[0m \u001b[39m# None of the str-type keywords for ord ('fro', 'nuc')\u001b[39;00m\n\u001b[1;32m   2559\u001b[0m \u001b[39m# are valid for vectors\u001b[39;00m\n\u001b[1;32m   2560\u001b[0m \u001b[39melif\u001b[39;00m \u001b[39misinstance\u001b[39m(\u001b[39mord\u001b[39m, \u001b[39mstr\u001b[39m):\n",
      "\u001b[0;31mAxisError\u001b[0m: axis 1 is out of bounds for array of dimension 1"
     ]
    }
   ],
   "source": [
    "tree = file_input_uproot['calorimeter_hits;1']\n",
    "data_calorimeter = {\n",
    "    'position_initial': list(zip(\n",
    "        tree['calorimeter_hits_position_initial_x'].array(),\n",
    "        tree['calorimeter_hits_position_initial_y'].array(),\n",
    "        tree['calorimeter_hits_position_initial_z'].array()\n",
    "    )),\n",
    "    'position_absolute': list(zip(\n",
    "        tree['calorimeter_hits_position_absolute_x'].array(),\n",
    "        tree['calorimeter_hits_position_absolute_y'].array(),\n",
    "        tree['calorimeter_hits_position_absolute_z'].array()\n",
    "    )),\n",
    "    'process': tree['calorimeter_hits_process'].array()\n",
    "}\n",
    "\n",
    "df_calorimeter_hits = pd.DataFrame(data_calorimeter)\n",
    "\n",
    "df_calorimeter_hits['position_delta'] = [np.array(pi) - np.array(pa) for pi, pa in zip(df_calorimeter_hits['position_initial'], df_calorimeter_hits['position_absolute'])]\n",
    "df_calorimeter_hits['position_delta_r'] = np.linalg.norm(np.array(df_calorimeter_hits['position_delta'].tolist()), axis=1)"
   ]
  },
  {
   "cell_type": "code",
   "execution_count": null,
   "metadata": {},
   "outputs": [],
   "source": [
    "tree = file_input_uproot['lens_hits;1']\n",
    "data_lens = {\n",
    "    'position_initial': list(zip(\n",
    "        tree['lens_hits_position_initial_x'].array(),\n",
    "        tree['lens_hits_position_initial_y'].array(),\n",
    "        tree['lens_hits_position_initial_z'].array()\n",
    "    )),\n",
    "    'position_absolute': list(zip(\n",
    "        tree['lens_hits_position_absolute_x'].array(),\n",
    "        tree['lens_hits_position_absolute_y'].array(),\n",
    "        tree['lens_hits_position_absolute_z'].array()\n",
    "    )),\n",
    "    'process': tree['lens_hits_process'].array(),\n",
    "    'transmittance': tree['lens_hits_transmittance'].array()\n",
    "}\n",
    "\n",
    "df_lens_hits = pd.DataFrame(data_lens)\n",
    "\n",
    "\n",
    "df_lens_hits = df_lens_hits[df_lens_hits['transmittance'] != True]\n",
    "\n",
    "df_lens_hits['position_delta'] = [np.array(pi) - np.array(pa) for pi, pa in zip(df_lens_hits['position_initial'], df_lens_hits['position_absolute'])]\n",
    "df_lens_hits['position_delta_r'] = np.linalg.norm(np.array(df_lens_hits['position_delta'].tolist()), axis=1)"
   ]
  },
  {
   "cell_type": "code",
   "execution_count": null,
   "metadata": {},
   "outputs": [
    {
     "name": "stdout",
     "output_type": "stream",
     "text": [
      "number transmitted: 8148\n",
      "number reflected  : 98656\n"
     ]
    }
   ],
   "source": [
    "tree = file_input_uproot['medium_hits;1']\n",
    "data_medium = {\n",
    "    'position_initial': list(zip(\n",
    "        tree['medium_hits_position_initial_x'].array(),\n",
    "        tree['medium_hits_position_initial_y'].array(),\n",
    "        tree['medium_hits_position_initial_z'].array()\n",
    "    )),\n",
    "    'position_absolute': list(zip(\n",
    "        tree['medium_hits_position_absolute_x'].array(),\n",
    "        tree['medium_hits_position_absolute_y'].array(),\n",
    "        tree['medium_hits_position_absolute_z'].array()\n",
    "    )),\n",
    "    # 'process': tree['medium_hits_process'].array(),\n",
    "    'transmittance': tree['medium_hits_transmittance'].array()\n",
    "}\n",
    "\n",
    "df_medium_hits = pd.DataFrame(data_medium)\n",
    "\n",
    "print('number transmitted:', len(df_medium_hits[df_medium_hits['transmittance'] == True]))\n",
    "print('number reflected  :', len(df_medium_hits[df_medium_hits['transmittance'] == False]))\n",
    "\n",
    "df_medium_hits = df_medium_hits[df_medium_hits['transmittance'] != True]\n",
    "\n",
    "df_medium_hits['position_delta'] = [np.array(pi) - np.array(pa) for pi, pa in zip(df_medium_hits['position_initial'], df_medium_hits['position_absolute'])]\n",
    "df_medium_hits['position_delta_r'] = np.linalg.norm(np.array(df_medium_hits['position_delta'].tolist()), axis=1)"
   ]
  },
  {
   "cell_type": "code",
   "execution_count": null,
   "metadata": {},
   "outputs": [
    {
     "name": "stdout",
     "output_type": "stream",
     "text": [
      "114952\n"
     ]
    }
   ],
   "source": [
    "tree = file_input_uproot['photon;1']\n",
    "data_photon = {\n",
    "    'photon_stepNumber': tree['photon_stepNumber'].array(),\n",
    "}\n",
    "\n",
    "df_photon = pd.DataFrame(data_photon)\n",
    "print(len(df_photon))"
   ]
  },
  {
   "cell_type": "markdown",
   "metadata": {},
   "source": [
    "# Plot Data\n",
    "<hr style=\"border: none; height: 5px; background-color: white; margin-top: 0px; margin-bottom: 0px;\">"
   ]
  },
  {
   "cell_type": "code",
   "execution_count": null,
   "metadata": {},
   "outputs": [
    {
     "name": "stdout",
     "output_type": "stream",
     "text": [
      "nPhotons_total      :  100000\n",
      "nPhotons_calorimeter:  0\n",
      "nPhotons_photoSensor:  488\n",
      "nPhotons_lens       :  856\n",
      "nPhotons_medium     :  98656\n",
      "sum(volumes)        :  100000\n",
      "sum(volumes) / nPhotons_total:  1.0\n"
     ]
    }
   ],
   "source": [
    "nPhotons_total = np.sum(df_photon['photon_stepNumber'].values == 1)\n",
    "nPhotons_calorimeter = len(df_calorimeter_hits)\n",
    "nPhotons_photoSensor = len(df_photoSensor_hits)\n",
    "nPhotons_lens        = len(df_lens_hits)\n",
    "nPhotons_medium      = len(df_medium_hits)\n",
    "\n",
    "print(\"nPhotons_total      : \", nPhotons_total)\n",
    "print(\"nPhotons_calorimeter: \", nPhotons_calorimeter)\n",
    "print(\"nPhotons_photoSensor: \", nPhotons_photoSensor)\n",
    "print(\"nPhotons_lens       : \", nPhotons_lens)\n",
    "print(\"nPhotons_medium     : \", nPhotons_medium)\n",
    "print(\"sum(volumes)        : \", nPhotons_calorimeter + nPhotons_photoSensor + nPhotons_lens + nPhotons_medium)\n",
    "print('sum(volumes) / nPhotons_total: ', (nPhotons_calorimeter + nPhotons_photoSensor + nPhotons_lens + nPhotons_medium) / nPhotons_total)"
   ]
  },
  {
   "cell_type": "code",
   "execution_count": null,
   "metadata": {},
   "outputs": [
    {
     "name": "stderr",
     "output_type": "stream",
     "text": [
      "/var/folders/mv/_50rblmd16xfrbsjpr4x2z0c0000gn/T/ipykernel_54842/1833194513.py:67: UserWarning: FigureCanvasAgg is non-interactive, and thus cannot be shown\n",
      "  fig.show()\n"
     ]
    },
    {
     "name": "stdout",
     "output_type": "stream",
     "text": [
      "np.sum(hist_scaled_photoSensor):  0.439\n",
      "np.sum(hist_scaled_calorimeter):  6.276000000000002\n",
      "np.sum(hist_scaled_lens)       :  1.0390000000000001\n",
      "np.sum(hist_scaled_photoSensor) + np.sum(hist_scaled_calorimeter) + np.sum(hist_scaled_lens):  7.754000000000001\n",
      "nPhotons_total:  100000\n",
      "nPhotons_calorimeter/nPhotons_total*100:  6.276\n",
      "nPhotons_photoSensor/nPhotons_total*100:  0.439\n",
      "nPhotons_medium/nPhotons_total*100    :  191.807\n"
     ]
    },
    {
     "data": {
      "text/plain": [
       "<Figure size 500x500 with 0 Axes>"
      ]
     },
     "metadata": {},
     "output_type": "display_data"
    },
    {
     "data": {
      "image/png": "[encoded data removed]",
      "text/plain": [
       "<Figure size 500x500 with 1 Axes>"
      ]
     },
     "metadata": {},
     "output_type": "display_data"
    }
   ],
   "source": [
    "nBins = 50\n",
    "scale = 10\n",
    "\n",
    "_, _, _, bins = get_PDF(np.concatenate((df_calorimeter_hits['position_delta_r'], \n",
    "                                        df_photoSensor_hits['position_delta_r'], \n",
    "                                        df_lens_hits       ['position_delta_r'],\n",
    "                                        df_medium_hits     ['position_delta_r'])), nBins=nBins)\n",
    "\n",
    "PDF_photoSensor, hist_photoSensor, _, bins_photoSensor = get_PDF(df_photoSensor_hits['position_delta_r'], bins=bins, addStart=True, addEnd=True)\n",
    "PDF_calorimeter, hist_calorimeter, _, bins_calorimeter = get_PDF(df_calorimeter_hits['position_delta_r'], bins=bins, addStart=True, addEnd=True)\n",
    "PDF_lens       , hist_lens       , _, bins_lens        = get_PDF(df_lens_hits       ['position_delta_r'], bins=bins, addStart=True, addEnd=True)\n",
    "\n",
    "hist_scaled_photoSensor = hist_photoSensor / nPhotons_total * 100\n",
    "hist_scaled_calorimeter = hist_calorimeter / nPhotons_total * 100\n",
    "hist_scaled_lens        = hist_lens        / nPhotons_total * 100\n",
    "\n",
    "bins_center_photoSensor = [(bins_photoSensor[i] + bins_photoSensor[i+1])/2 for i in range(len(bins_photoSensor)-1)]\n",
    "bins_center_calorimeter = [(bins_calorimeter[i] + bins_calorimeter[i+1])/2 for i in range(len(bins_calorimeter)-1)]\n",
    "bins_center_lens        = [(bins_lens       [i] + bins_lens       [i+1])/2 for i in range(len(bins_lens       )-1)]\n",
    "\n",
    "# fileName = '../figures/transmittance_10cm.pkl'\n",
    "# pkl_data = {\n",
    "#     'bins_center_photoSensor': bins_center_photoSensor,\n",
    "#     'bins_center_calorimeter': bins_center_calorimeter,\n",
    "#     'bins_center_lens'       : bins_center_lens,\n",
    "#     'hist_scaled_photoSensor': hist_scaled_photoSensor,\n",
    "#     'hist_scaled_calorimeter': hist_scaled_calorimeter,\n",
    "#     'hist_scaled_lens'       : hist_scaled_lens,\n",
    "# }\n",
    "# with open(fileName, 'wb') as f:\n",
    "#     pkl.dump(pkl_data, f)\n",
    "\n",
    "# pkl_data = pkl.load(open(fileName, 'rb'))\n",
    "# bins_center_photoSensor = pkl_data['bins_center_photoSensor']\n",
    "# bins_center_calorimeter = pkl_data['bins_center_calorimeter']\n",
    "# bins_center_lens        = pkl_data['bins_center_lens']\n",
    "# hist_scaled_photoSensor = pkl_data['hist_scaled_photoSensor']\n",
    "# hist_scaled_calorimeter = pkl_data['hist_scaled_calorimeter']\n",
    "# hist_scaled_lens        = pkl_data['hist_scaled_lens']\n",
    "\n",
    "fig, ax = plt.subplots(figsize=(5, 5))\n",
    "\n",
    "print('np.sum(hist_scaled_photoSensor): ', np.sum(hist_scaled_photoSensor))\n",
    "print('np.sum(hist_scaled_calorimeter): ', np.sum(hist_scaled_calorimeter))\n",
    "print('np.sum(hist_scaled_lens)       : ', np.sum(hist_scaled_lens))\n",
    "print('np.sum(hist_scaled_photoSensor) + np.sum(hist_scaled_calorimeter) + np.sum(hist_scaled_lens): ', np.sum(hist_scaled_photoSensor) + np.sum(hist_scaled_calorimeter) + np.sum(hist_scaled_lens))\n",
    "print('nPhotons_total: ', nPhotons_total)\n",
    "print('nPhotons_calorimeter/nPhotons_total*100: ', nPhotons_calorimeter/nPhotons_total*100)\n",
    "print('nPhotons_photoSensor/nPhotons_total*100: ', nPhotons_photoSensor/nPhotons_total*100)\n",
    "print('nPhotons_medium/nPhotons_total*100    : ', nPhotons_medium/nPhotons_total*100)\n",
    "\n",
    "ax.plot(np.array(bins_center_calorimeter)/scale, hist_scaled_calorimeter, label='FOV Limiter', drawstyle='steps')\n",
    "ax.plot(np.array(bins_center_lens       )/scale, hist_scaled_lens       , label='Lens'       , drawstyle='steps')\n",
    "ax.plot(np.array(bins_center_photoSensor)/scale, hist_scaled_photoSensor, label='Photosensor', drawstyle='steps')\n",
    "# ax.fill_between(bins_center_calorimeter, hist_scaled_calorimeter, 0, alpha=0.8)\n",
    "# ax.fill_between(bins_center_lens       , hist_scaled_lens       , 0, alpha=0.8)\n",
    "# ax.fill_between(bins_center_photoSensor, hist_scaled_photoSensor, 0, alpha=0.8)\n",
    "ax.set_xlabel(r'$\\overline{VH}$ [cm]')\n",
    "ax.set_ylabel(r'Percentage of Photons')\n",
    "ax.set_xlim(xmin=0, xmax=300)\n",
    "# ax.set_ylim(ymin=0)\n",
    "ax.set_yscale('log')\n",
    "ax.text(0.99, 0.99, '0 cm', transform=ax.transAxes, ha='right', va='top', size=25)\n",
    "ax.legend(loc='lower left')\n",
    "ax.grid()\n",
    "# fig.savefig('../figures/transmittance_60cm_nolegend_v3.pdf', bbox_inches='tight')\n",
    "fig.show()\n"
   ]
  }
 ],
 "metadata": {
  "kernelspec": {
   "display_name": "DSPD-Detector-Sim_Analysis",
   "language": "python",
   "name": "python3"
  },
  "language_info": {
   "codemirror_mode": {
    "name": "ipython",
    "version": 3
   },
   "file_extension": ".py",
   "mimetype": "text/x-python",
   "name": "python",
   "nbconvert_exporter": "python",
   "pygments_lexer": "ipython3",
   "version": "3.11.5"
  }
 },
 "nbformat": 4,
 "nbformat_minor": 2
}
