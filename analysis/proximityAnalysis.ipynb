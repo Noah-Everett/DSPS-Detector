{
 "cells": [
  {
   "cell_type": "code",
   "execution_count": 22,
   "metadata": {},
   "outputs": [],
   "source": [
    "import numpy as np\n",
    "import matplotlib.pyplot as plt\n",
    "import matplotlib as mpl\n",
    "from mpl_toolkits.mplot3d import Axes3D\n",
    "import tensorflow as tf\n",
    "import ROOT\n",
    "import uproot\n",
    "import os\n",
    "import sys\n",
    "import tqdm\n",
    "import pandas as pd\n",
    "\n",
    "%jsroot on\n",
    "# %matplotlib qt\n",
    "%matplotlib inline"
   ]
  },
  {
   "cell_type": "code",
   "execution_count": 23,
   "metadata": {},
   "outputs": [],
   "source": [
    "os.environ['PATH'] = '/Library/TeX/texbin:' + os.environ['PATH']\n",
    "mpl.rc('font', **{'family':'serif', 'serif':['Computer Modern Roman']})\n",
    "params = {'backend': 'pdf',\n",
    "          'axes.labelsize': 20,\n",
    "          'font.size': 20,\n",
    "          'legend.fontsize': 20,\n",
    "          'xtick.labelsize': 20,\n",
    "          'ytick.labelsize': 20,\n",
    "          'text.usetex': True,\n",
    "          'figure.figsize': (5,5),\n",
    "          'axes.unicode_minus': True}\n",
    "mpl.rcParams.update(params)"
   ]
  },
  {
   "cell_type": "code",
   "execution_count": 37,
   "metadata": {},
   "outputs": [],
   "source": [
    "df = pd.DataFrame(columns=['radius', \n",
    "                           'number', \n",
    "                           'distance_primary_mean', \n",
    "                           'distance_primary_std', \n",
    "                           'distance_primary_sigma_1', \n",
    "                           'distance_primary_sigma_2', \n",
    "                           'distance_primary_sigma_3', \n",
    "                           'distance_initial_mean', \n",
    "                           'distance_initial_std', \n",
    "                           'distance_initial_sigma_1', \n",
    "                           'distance_initial_sigma_2', \n",
    "                           'distance_initial_sigma_3'\n",
    "                          ]\n",
    "                 )\n",
    "\n",
    "rows = [\n",
    "[0.00, 0.00, 77.89, 143.02, 40.86, 367.74, 994.26, 360.43, 527.48, 213.03, 1630.99, 2659.01],\n",
    "[3.00, 1.00, 40.25, 61.68, 27.45, 155.55, 475.80, 189.39, 262.59, 113.87, 766.67, 1760.07],\n",
    "[3.00, 2.00, 32.75, 42.05, 28.60, 108.68, 291.72, 149.26, 187.15, 126.32, 546.26, 1302.14],\n",
    "[3.00, 3.00, 30.45, 36.67, 27.84, 88.16, 259.84, 133.33, 157.21, 117.68, 430.60, 1115.10],\n",
    "[3.00, 4.00, 29.22, 33.83, 27.78, 78.71, 240.76, 124.72, 141.20, 118.20, 352.82, 1037.13],\n",
    "[3.00, 5.00, 28.04, 31.01, 27.78, 74.08, 226.87, 118.13, 129.43, 117.04, 316.15, 979.84],\n",
    "]\n",
    "\n",
    "for row in rows:\n",
    "    df.loc[len(df)] = row"
   ]
  },
  {
   "cell_type": "code",
   "execution_count": 38,
   "metadata": {},
   "outputs": [
    {
     "name": "stderr",
     "output_type": "stream",
     "text": [
      "/var/folders/mv/_50rblmd16xfrbsjpr4x2z0c0000gn/T/ipykernel_1214/3861808875.py:3: UserWarning: Matplotlib is currently using pdf, which is a non-GUI backend, so cannot show the figure.\n",
      "  fig.show()\n"
     ]
    },
    {
     "data": {
      "image/png": "[encoded data removed]",
      "text/plain": [
       "<Figure size 500x500 with 1 Axes>"
      ]
     },
     "metadata": {},
     "output_type": "display_data"
    }
   ],
   "source": [
    "fig, ax = plt.subplots(figsize=(5, 5))\n",
    "ax.errorbar(df['number'], df['distance_initial_mean'], yerr=df['distance_initial_sigma_1'], fmt='o', color='black', label='Primary')\n",
    "fig.show()"
   ]
  },
  {
   "cell_type": "code",
   "execution_count": null,
   "metadata": {},
   "outputs": [],
   "source": []
  }
 ],
 "metadata": {
  "kernelspec": {
   "display_name": "DSPD-Detector-Sim_Analysis",
   "language": "python",
   "name": "python3"
  },
  "language_info": {
   "codemirror_mode": {
    "name": "ipython",
    "version": 3
   },
   "file_extension": ".py",
   "mimetype": "text/x-python",
   "name": "python",
   "nbconvert_exporter": "python",
   "pygments_lexer": "ipython3",
   "version": "3.11.4"
  }
 },
 "nbformat": 4,
 "nbformat_minor": 2
}
