{
 "cells": [
  {
   "cell_type": "code",
   "execution_count": 5,
   "metadata": {},
   "outputs": [],
   "source": [
    "import numpy as np\n",
    "import matplotlib as mpl\n",
    "import matplotlib.pyplot as plt\n",
    "import scipy.optimize as opt\n",
    "import os\n",
    "\n",
    "%matplotlib qt"
   ]
  },
  {
   "cell_type": "code",
   "execution_count": 6,
   "metadata": {},
   "outputs": [],
   "source": [
    "sys.path.append(\"../\")\n",
    "import plotParameters"
   ]
  },
  {
   "cell_type": "code",
   "execution_count": 7,
   "metadata": {},
   "outputs": [],
   "source": [
    "refractiveIndices = [\n",
    "    (2.32542 ,1.84214),\n",
    "    (1.97009 ,1.85093),\n",
    "    (1.52958 ,1.86146),\n",
    "    (1.12864 ,1.87327),\n",
    "    (1.01398 ,1.87807),\n",
    "    (0.85211 ,1.88758),\n",
    "    (0.76819 ,1.89479),\n",
    "    (0.70652 ,1.90181),\n",
    "    (0.65627 ,1.90916),\n",
    "    (0.64385 ,1.91127),\n",
    "    (0.63280 ,1.91327),\n",
    "    (0.58929 ,1.92245),\n",
    "    (0.58756 ,1.92286),\n",
    "    (0.54607 ,1.93429),\n",
    "    (0.48613 ,1.95800),\n",
    "    (0.47999 ,1.96112),\n",
    "    (0.44157 ,1.98526),\n",
    "    (0.435835,1.98972),\n",
    "    (0.404656,2.01976)\n",
    "]\n",
    "refractiveIndices = np.array(refractiveIndices)\n",
    "\n",
    "# Convert wavelengths from air to liquid xenon\n",
    "refractiveIndices[:, 0] /= 1.69\n",
    "\n",
    "# Convert wavelengths from um to nm\n",
    "refractiveIndices[:, 0] *= 1000"
   ]
  },
  {
   "cell_type": "code",
   "execution_count": 8,
   "metadata": {},
   "outputs": [
    {
     "name": "stdout",
     "output_type": "stream",
     "text": [
      "refInd(185nm) = 2.102809942396481\n",
      "Parameters: [ 8.84663463e+01  3.67776321e-04 -1.55087042e-07  1.56188271e+00]\n"
     ]
    },
    {
     "name": "stderr",
     "output_type": "stream",
     "text": [
      "/var/folders/mv/_50rblmd16xfrbsjpr4x2z0c0000gn/T/ipykernel_18440/3336027637.py:32: UserWarning: Matplotlib is currently using pdf, which is a non-GUI backend, so cannot show the figure.\n",
      "  plt.show()\n"
     ]
    }
   ],
   "source": [
    "def func(x, a, b, c, d):\n",
    "    return a * 1/x + b * x + c * x**2 + d\n",
    "\n",
    "def fit_data(x, y):\n",
    "    # Define the function to fit the data\n",
    "    # def func(x, a, b, c):\n",
    "    #     return a * 1/x + b * x + c\n",
    "    # def func(x, a, b):\n",
    "    #     return a * 1/x + b\n",
    "\n",
    "    # Perform the fit with more points\n",
    "    x_fit = np.linspace(150, max(x), 100)\n",
    "    params, _ = opt.curve_fit(func, x, y)\n",
    "    y_fit = func(x_fit, *params)\n",
    "\n",
    "    print('refInd(185nm) =', func(185, *params))\n",
    "\n",
    "    return params, x_fit, y_fit\n",
    "\n",
    "params, x_fit, y_fit = fit_data(refractiveIndices[:,0], refractiveIndices[:,1])\n",
    "fig_fit, ax_fit = plt.subplots(figsize=(10, 6))\n",
    "ax_fit.plot(refractiveIndices[:,0], refractiveIndices[:,1], 'o', label='data')\n",
    "ax_fit.plot(x_fit, y_fit, '-', label='fit')\n",
    "ax_fit.axvline(x=185, color='gray', linestyle='-.')\n",
    "ax_fit.axhline(y=func(185, *params), color='gray', linestyle='-.')\n",
    "ax_fit.plot(185, func(185, *params), 'ro', label='$n_{185}$')\n",
    "ax_fit.set_xlabel('Wavelength [nm]')\n",
    "ax_fit.set_ylabel('Index of Refraction ($n$)')\n",
    "ax_fit.set_title('S-NPH2')\n",
    "ax_fit.grid(True)\n",
    "ax_fit.legend()\n",
    "plt.show()\n",
    "\n",
    "print('Parameters:', params)"
   ]
  }
 ],
 "metadata": {
  "kernelspec": {
   "display_name": "DSPD-Detector-Sim_Analysis",
   "language": "python",
   "name": "python3"
  },
  "language_info": {
   "codemirror_mode": {
    "name": "ipython",
    "version": 3
   },
   "file_extension": ".py",
   "mimetype": "text/x-python",
   "name": "python",
   "nbconvert_exporter": "python",
   "pygments_lexer": "ipython3",
   "version": "3.11.4"
  }
 },
 "nbformat": 4,
 "nbformat_minor": 2
}
