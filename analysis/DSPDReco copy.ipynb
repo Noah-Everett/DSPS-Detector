{
 "cells": [
  {
   "cell_type": "markdown",
   "metadata": {},
   "source": [
    "# Initialize Notebook"
   ]
  },
  {
   "cell_type": "code",
   "execution_count": 1,
   "metadata": {},
   "outputs": [
    {
     "name": "stdout",
     "output_type": "stream",
     "text": [
      "Welcome to JupyROOT 6.30/00\n"
     ]
    }
   ],
   "source": [
    "import numpy as np\n",
    "import matplotlib.pyplot as plt\n",
    "import matplotlib as mpl\n",
    "from mpl_toolkits.mplot3d import Axes3D\n",
    "import tensorflow as tf\n",
    "import ROOT\n",
    "import uproot\n",
    "import os\n",
    "import sys\n",
    "import tqdm\n",
    "import pandas as pd\n",
    "\n",
    "%jsroot on\n",
    "# %matplotlib qt\n",
    "%matplotlib inline"
   ]
  },
  {
   "cell_type": "code",
   "execution_count": 2,
   "metadata": {},
   "outputs": [],
   "source": [
    "os.environ['PATH'] = '/Library/TeX/texbin:' + os.environ['PATH']\n",
    "mpl.rc('font', **{'family':'serif', 'serif':['Computer Modern Roman']})\n",
    "params = {'backend': 'pdf',\n",
    "          'axes.labelsize': 20,\n",
    "          'font.size': 20,\n",
    "          'legend.fontsize': 20,\n",
    "          'xtick.labelsize': 20,\n",
    "          'ytick.labelsize': 20,\n",
    "          'text.usetex': True,\n",
    "          'figure.figsize': (5,5),\n",
    "          'axes.unicode_minus': True}\n",
    "mpl.rcParams.update(params)"
   ]
  },
  {
   "cell_type": "markdown",
   "metadata": {},
   "source": [
    "# Load Data"
   ]
  },
  {
   "cell_type": "code",
   "execution_count": 3,
   "metadata": {},
   "outputs": [
    {
     "name": "stdout",
     "output_type": "stream",
     "text": [
      "['photoSensor_hits_histograms/photoSensor_0;1', 'photoSensor_hits_histograms/photoSensor_1;1', 'photoSensor_hits_histograms/photoSensor_2;1', 'photoSensor_hits_histograms/photoSensor_3;1', 'photoSensor_hits_histograms/photoSensor_4;1', 'photoSensor_hits_histograms/photoSensor_5;1', 'photoSensor_hits_histograms/photoSensor_6;1', 'photoSensor_hits_histograms/photoSensor_7;1', 'photoSensor_hits_histograms/photoSensor_8;1', 'photoSensor_hits_histograms/photoSensor_9;1', 'photoSensor_hits_histograms/photoSensor_10;1', 'photoSensor_hits_histograms/photoSensor_11;1', 'photoSensor_hits_histograms/photoSensor_12;1', 'photoSensor_hits_histograms/photoSensor_13;1', 'photoSensor_hits_histograms/photoSensor_14;1', 'photoSensor_hits_histograms/photoSensor_15;1', 'photoSensor_hits_histograms/photoSensor_16;1', 'photoSensor_hits_histograms/photoSensor_17;1', 'photoSensor_hits_histograms/photoSensor_18;1', 'photoSensor_hits_histograms/photoSensor_19;1', 'photoSensor_hits_histograms/photoSensor_20;1', 'photoSensor_hits_histograms/photoSensor_21;1', 'photoSensor_hits_histograms/photoSensor_22;1', 'photoSensor_hits_histograms/photoSensor_23;1', 'photoSensor_hits_histograms/photoSensor_24;1', 'photoSensor_hits_histograms/photoSensor_25;1', 'photoSensor_hits_histograms/photoSensor_26;1', 'photoSensor_hits_histograms/photoSensor_27;1', 'photoSensor_hits_histograms/photoSensor_28;1', 'photoSensor_hits_histograms/photoSensor_29;1', 'photoSensor_hits_histograms/photoSensor_30;1', 'photoSensor_hits_histograms/photoSensor_31;1', 'photoSensor_hits_histograms/photoSensor_32;1', 'photoSensor_hits_histograms/photoSensor_33;1', 'photoSensor_hits_histograms/photoSensor_34;1', 'photoSensor_hits_histograms/photoSensor_35;1', 'photoSensor_hits_histograms/photoSensor_36;1', 'photoSensor_hits_histograms/photoSensor_37;1', 'photoSensor_hits_histograms/photoSensor_38;1', 'photoSensor_hits_histograms/photoSensor_39;1', 'photoSensor_hits_histograms/photoSensor_40;1', 'photoSensor_hits_histograms/photoSensor_41;1', 'photoSensor_hits_histograms/photoSensor_42;1', 'photoSensor_hits_histograms/photoSensor_43;1', 'photoSensor_hits_histograms/photoSensor_44;1', 'photoSensor_hits_histograms/photoSensor_45;1', 'photoSensor_hits_histograms/photoSensor_46;1', 'photoSensor_hits_histograms/photoSensor_47;1', 'photoSensor_hits_histograms/photoSensor_48;1', 'photoSensor_hits_histograms/photoSensor_49;1', 'photoSensor_hits_histograms/photoSensor_50;1', 'photoSensor_hits_histograms/photoSensor_51;1', 'photoSensor_hits_histograms/photoSensor_52;1', 'photoSensor_hits_histograms/photoSensor_53;1', 'photoSensor_hits_histograms/photoSensor_54;1', 'photoSensor_hits_histograms/photoSensor_55;1', 'photoSensor_hits_histograms/photoSensor_56;1', 'photoSensor_hits_histograms/photoSensor_57;1', 'photoSensor_hits_histograms/photoSensor_58;1', 'photoSensor_hits_histograms/photoSensor_59;1', 'photoSensor_hits_histograms/photoSensor_60;1', 'photoSensor_hits_histograms/photoSensor_61;1', 'photoSensor_hits_histograms/photoSensor_62;1', 'photoSensor_hits_histograms/photoSensor_63;1', 'photoSensor_hits_histograms/photoSensor_64;1', 'photoSensor_hits_histograms/photoSensor_65;1', 'photoSensor_hits_histograms/photoSensor_66;1', 'photoSensor_hits_histograms/photoSensor_67;1', 'photoSensor_hits_histograms/photoSensor_68;1', 'photoSensor_hits_histograms/photoSensor_69;1', 'photoSensor_hits_histograms/photoSensor_70;1', 'photoSensor_hits_histograms/photoSensor_71;1', 'photoSensor_hits_histograms/photoSensor_72;1', 'photoSensor_hits_histograms/photoSensor_73;1', 'photoSensor_hits_histograms/photoSensor_74;1', 'photoSensor_hits_histograms/photoSensor_75;1', 'photoSensor_hits_histograms/photoSensor_76;1', 'photoSensor_hits_histograms/photoSensor_77;1', 'photoSensor_hits_histograms/photoSensor_78;1', 'photoSensor_hits_histograms/photoSensor_79;1', 'photoSensor_hits_histograms/photoSensor_80;1', 'photoSensor_hits_histograms/photoSensor_81;1', 'photoSensor_hits_histograms/photoSensor_82;1', 'photoSensor_hits_histograms/photoSensor_83;1', 'photoSensor_hits_histograms/photoSensor_84;1', 'photoSensor_hits_histograms/photoSensor_85;1', 'photoSensor_hits_histograms/photoSensor_86;1', 'photoSensor_hits_histograms/photoSensor_87;1', 'photoSensor_hits_histograms/photoSensor_88;1', 'photoSensor_hits_histograms/photoSensor_89;1', 'photoSensor_hits_histograms/photoSensor_90;1', 'photoSensor_hits_histograms/photoSensor_91;1', 'photoSensor_hits_histograms/photoSensor_92;1', 'photoSensor_hits_histograms/photoSensor_93;1', 'photoSensor_hits_histograms/photoSensor_94;1', 'photoSensor_hits_histograms/photoSensor_95;1', 'photoSensor_hits_histograms/photoSensor_96;1', 'photoSensor_hits_histograms/photoSensor_97;1', 'photoSensor_hits_histograms/photoSensor_98;1', 'photoSensor_hits_histograms/photoSensor_99;1', 'photoSensor_hits_histograms/photoSensor_100;1', 'photoSensor_hits_histograms/photoSensor_101;1', 'photoSensor_hits_histograms/photoSensor_102;1', 'photoSensor_hits_histograms/photoSensor_103;1', 'photoSensor_hits_histograms/photoSensor_104;1', 'photoSensor_hits_histograms/photoSensor_105;1', 'photoSensor_hits_histograms/photoSensor_106;1', 'photoSensor_hits_histograms/photoSensor_107;1', 'photoSensor_hits_histograms/photoSensor_108;1', 'photoSensor_hits_histograms/photoSensor_109;1', 'photoSensor_hits_histograms/photoSensor_110;1', 'photoSensor_hits_histograms/photoSensor_111;1', 'photoSensor_hits_histograms/photoSensor_112;1', 'photoSensor_hits_histograms/photoSensor_113;1', 'photoSensor_hits_histograms/photoSensor_114;1', 'photoSensor_hits_histograms/photoSensor_115;1', 'photoSensor_hits_histograms/photoSensor_116;1', 'photoSensor_hits_histograms/photoSensor_117;1', 'photoSensor_hits_histograms/photoSensor_118;1', 'photoSensor_hits_histograms/photoSensor_119;1', 'photoSensor_hits_histograms/photoSensor_120;1', 'photoSensor_hits_histograms/photoSensor_121;1', 'photoSensor_hits_histograms/photoSensor_122;1', 'photoSensor_hits_histograms/photoSensor_123;1', 'photoSensor_hits_histograms/photoSensor_124;1', 'photoSensor_hits_histograms/photoSensor_125;1', 'photoSensor_hits_histograms/photoSensor_126;1', 'photoSensor_hits_histograms/photoSensor_127;1', 'photoSensor_hits_histograms/photoSensor_128;1', 'photoSensor_hits_histograms/photoSensor_129;1', 'photoSensor_hits_histograms/photoSensor_130;1', 'photoSensor_hits_histograms/photoSensor_131;1', 'photoSensor_hits_histograms/photoSensor_132;1', 'photoSensor_hits_histograms/photoSensor_133;1', 'photoSensor_hits_histograms/photoSensor_134;1', 'photoSensor_hits_histograms/photoSensor_135;1', 'photoSensor_hits_histograms/photoSensor_136;1', 'photoSensor_hits_histograms/photoSensor_137;1', 'photoSensor_hits_histograms/photoSensor_138;1', 'photoSensor_hits_histograms/photoSensor_139;1', 'photoSensor_hits_histograms/photoSensor_140;1', 'photoSensor_hits_histograms/photoSensor_141;1', 'photoSensor_hits_histograms/photoSensor_142;1', 'photoSensor_hits_histograms/photoSensor_143;1', 'photoSensor_hits_histograms/photoSensor_144;1', 'photoSensor_hits_histograms/photoSensor_145;1', 'photoSensor_hits_histograms/photoSensor_146;1', 'photoSensor_hits_histograms/photoSensor_147;1', 'photoSensor_hits_histograms/photoSensor_148;1', 'photoSensor_hits_histograms/photoSensor_149;1', 'photoSensor_hits_histograms/photoSensor_150;1', 'photoSensor_hits_histograms/photoSensor_151;1', 'photoSensor_hits_histograms/photoSensor_152;1', 'photoSensor_hits_histograms/photoSensor_153;1', 'photoSensor_hits_histograms/photoSensor_154;1', 'photoSensor_hits_histograms/photoSensor_155;1', 'photoSensor_hits_histograms/photoSensor_156;1', 'photoSensor_hits_histograms/photoSensor_157;1', 'photoSensor_hits_histograms/photoSensor_158;1', 'photoSensor_hits_histograms/photoSensor_159;1', 'photoSensor_hits_histograms/photoSensor_160;1', 'photoSensor_hits_histograms/photoSensor_161;1', 'photoSensor_hits_histograms/photoSensor_162;1', 'photoSensor_hits_histograms/photoSensor_163;1', 'photoSensor_hits_histograms/photoSensor_164;1', 'photoSensor_hits_histograms/photoSensor_165;1', 'photoSensor_hits_histograms/photoSensor_166;1', 'photoSensor_hits_histograms/photoSensor_167;1', 'photoSensor_hits_histograms/photoSensor_168;1', 'photoSensor_hits_histograms/photoSensor_169;1', 'photoSensor_hits_histograms/photoSensor_170;1', 'photoSensor_hits_histograms/photoSensor_171;1', 'photoSensor_hits_histograms/photoSensor_172;1', 'photoSensor_hits_histograms/photoSensor_173;1', 'photoSensor_hits_histograms/photoSensor_174;1', 'photoSensor_hits_histograms/photoSensor_175;1', 'photoSensor_hits_histograms/photoSensor_176;1', 'photoSensor_hits_histograms/photoSensor_177;1', 'photoSensor_hits_histograms/photoSensor_178;1', 'photoSensor_hits_histograms/photoSensor_179;1', 'photoSensor_hits_histograms/photoSensor_180;1', 'photoSensor_hits_histograms/photoSensor_181;1', 'photoSensor_hits_histograms/photoSensor_182;1', 'photoSensor_hits_histograms/photoSensor_183;1', 'photoSensor_hits_histograms/photoSensor_184;1', 'photoSensor_hits_histograms/photoSensor_185;1', 'photoSensor_hits_histograms/photoSensor_186;1', 'photoSensor_hits_histograms/photoSensor_187;1', 'photoSensor_hits_histograms/photoSensor_188;1', 'photoSensor_hits_histograms/photoSensor_189;1', 'photoSensor_hits_histograms/photoSensor_190;1', 'photoSensor_hits_histograms/photoSensor_191;1', 'photoSensor_hits_histograms/photoSensor_192;1', 'photoSensor_hits_histograms/photoSensor_193;1', 'photoSensor_hits_histograms/photoSensor_194;1', 'photoSensor_hits_histograms/photoSensor_195;1', 'photoSensor_hits_histograms/photoSensor_196;1', 'photoSensor_hits_histograms/photoSensor_197;1', 'photoSensor_hits_histograms/photoSensor_198;1', 'photoSensor_hits_histograms/photoSensor_199;1', 'photoSensor_hits_histograms/photoSensor_200;1', 'photoSensor_hits_histograms/photoSensor_201;1', 'photoSensor_hits_histograms/photoSensor_202;1', 'photoSensor_hits_histograms/photoSensor_203;1', 'photoSensor_hits_histograms/photoSensor_204;1', 'photoSensor_hits_histograms/photoSensor_205;1', 'photoSensor_hits_histograms/photoSensor_206;1', 'photoSensor_hits_histograms/photoSensor_207;1', 'photoSensor_hits_histograms/photoSensor_208;1', 'photoSensor_hits_histograms/photoSensor_209;1', 'photoSensor_hits_histograms/photoSensor_210;1', 'photoSensor_hits_histograms/photoSensor_211;1', 'photoSensor_hits_histograms/photoSensor_212;1', 'photoSensor_hits_histograms/photoSensor_213;1', 'photoSensor_hits_histograms/photoSensor_214;1', 'photoSensor_hits_histograms/photoSensor_215;1', 'photoSensor_hits_histograms/photoSensor_216;1', 'photoSensor_hits_histograms/photoSensor_217;1', 'photoSensor_hits_histograms/photoSensor_218;1', 'photoSensor_hits_histograms/photoSensor_219;1', 'photoSensor_hits_histograms/photoSensor_220;1', 'photoSensor_hits_histograms/photoSensor_221;1', 'photoSensor_hits_histograms/photoSensor_222;1', 'photoSensor_hits_histograms/photoSensor_223;1', 'photoSensor_hits_histograms/photoSensor_224;1', 'photoSensor_hits_histograms/photoSensor_225;1', 'photoSensor_hits_histograms/photoSensor_226;1', 'photoSensor_hits_histograms/photoSensor_227;1', 'photoSensor_hits_histograms/photoSensor_228;1', 'photoSensor_hits_histograms/photoSensor_229;1', 'photoSensor_hits_histograms/photoSensor_230;1', 'photoSensor_hits_histograms/photoSensor_231;1', 'photoSensor_hits_histograms/photoSensor_232;1', 'photoSensor_hits_histograms/photoSensor_233;1', 'photoSensor_hits_histograms/photoSensor_234;1', 'photoSensor_hits_histograms/photoSensor_235;1', 'photoSensor_hits_histograms/photoSensor_236;1', 'photoSensor_hits_histograms/photoSensor_237;1', 'photoSensor_hits_histograms/photoSensor_238;1', 'photoSensor_hits_histograms/photoSensor_239;1', 'photoSensor_hits_histograms/photoSensor_240;1', 'photoSensor_hits_histograms/photoSensor_241;1', 'photoSensor_hits_histograms/photoSensor_242;1', 'photoSensor_hits_histograms/photoSensor_243;1', 'photoSensor_hits_histograms/photoSensor_244;1', 'photoSensor_hits_histograms/photoSensor_245;1', 'photoSensor_hits_histograms/photoSensor_246;1', 'photoSensor_hits_histograms/photoSensor_247;1', 'photoSensor_hits_histograms/photoSensor_248;1', 'photoSensor_hits_histograms/photoSensor_249;1', 'photoSensor_hits_histograms/photoSensor_250;1', 'photoSensor_hits_histograms/photoSensor_251;1', 'photoSensor_hits_histograms/photoSensor_252;1', 'photoSensor_hits_histograms/photoSensor_253;1', 'photoSensor_hits_histograms/photoSensor_254;1', 'photoSensor_hits_histograms/photoSensor_255;1', 'photoSensor_hits_histograms/photoSensor_256;1', 'photoSensor_hits_histograms/photoSensor_257;1', 'photoSensor_hits_histograms/photoSensor_258;1', 'photoSensor_hits_histograms/photoSensor_259;1', 'photoSensor_hits_histograms/photoSensor_260;1', 'photoSensor_hits_histograms/photoSensor_261;1', 'photoSensor_hits_histograms/photoSensor_262;1', 'photoSensor_hits_histograms/photoSensor_263;1', 'photoSensor_hits_histograms/photoSensor_264;1', 'photoSensor_hits_histograms/photoSensor_265;1', 'photoSensor_hits_histograms/photoSensor_266;1', 'photoSensor_hits_histograms/photoSensor_267;1', 'photoSensor_hits_histograms/photoSensor_268;1', 'photoSensor_hits_histograms/photoSensor_269;1', 'photoSensor_hits_histograms/photoSensor_270;1', 'photoSensor_hits_histograms/photoSensor_271;1', 'photoSensor_hits_histograms/photoSensor_272;1', 'photoSensor_hits_histograms/photoSensor_273;1', 'photoSensor_hits_histograms/photoSensor_274;1', 'photoSensor_hits_histograms/photoSensor_275;1', 'photoSensor_hits_histograms/photoSensor_276;1', 'photoSensor_hits_histograms/photoSensor_277;1', 'photoSensor_hits_histograms/photoSensor_278;1', 'photoSensor_hits_histograms/photoSensor_279;1', 'photoSensor_hits_histograms/photoSensor_280;1', 'photoSensor_hits_histograms/photoSensor_281;1', 'photoSensor_hits_histograms/photoSensor_282;1', 'photoSensor_hits_histograms/photoSensor_283;1', 'photoSensor_hits_histograms/photoSensor_284;1', 'photoSensor_hits_histograms/photoSensor_285;1', 'photoSensor_hits_histograms/photoSensor_286;1', 'photoSensor_hits_histograms/photoSensor_287;1', 'photoSensor_hits_histograms/photoSensor_288;1', 'photoSensor_hits_histograms/photoSensor_289;1', 'photoSensor_hits_histograms/photoSensor_290;1', 'photoSensor_hits_histograms/photoSensor_291;1', 'photoSensor_hits_histograms/photoSensor_292;1', 'photoSensor_hits_histograms/photoSensor_293;1', 'photoSensor_hits_histograms/photoSensor_294;1', 'photoSensor_hits_histograms/photoSensor_295;1', 'photoSensor_hits_histograms/photoSensor_296;1', 'photoSensor_hits_histograms/photoSensor_297;1', 'photoSensor_hits_histograms/photoSensor_298;1', 'photoSensor_hits_histograms/photoSensor_299;1', 'photoSensor_hits_histograms/photoSensor_300;1', 'photoSensor_hits_histograms/photoSensor_301;1', 'photoSensor_hits_histograms/photoSensor_302;1', 'photoSensor_hits_histograms/photoSensor_303;1', 'photoSensor_hits_histograms/photoSensor_304;1', 'photoSensor_hits_histograms/photoSensor_305;1', 'photoSensor_hits_histograms/photoSensor_306;1', 'photoSensor_hits_histograms/photoSensor_307;1', 'photoSensor_hits_histograms/photoSensor_308;1', 'photoSensor_hits_histograms/photoSensor_309;1', 'photoSensor_hits_histograms/photoSensor_310;1', 'photoSensor_hits_histograms/photoSensor_311;1', 'photoSensor_hits_histograms/photoSensor_312;1', 'photoSensor_hits_histograms/photoSensor_313;1', 'photoSensor_hits_histograms/photoSensor_314;1', 'photoSensor_hits_histograms/photoSensor_315;1', 'photoSensor_hits_histograms/photoSensor_316;1', 'photoSensor_hits_histograms/photoSensor_317;1', 'photoSensor_hits_histograms/photoSensor_318;1', 'photoSensor_hits_histograms/photoSensor_319;1', 'photoSensor_hits_histograms/photoSensor_320;1', 'photoSensor_hits_histograms/photoSensor_321;1', 'photoSensor_hits_histograms/photoSensor_322;1', 'photoSensor_hits_histograms/photoSensor_323;1', 'photoSensor_hits_histograms/photoSensor_324;1', 'photoSensor_hits_histograms/photoSensor_325;1', 'photoSensor_hits_histograms/photoSensor_326;1', 'photoSensor_hits_histograms/photoSensor_327;1', 'photoSensor_hits_histograms/photoSensor_328;1', 'photoSensor_hits_histograms/photoSensor_329;1', 'photoSensor_hits_histograms/photoSensor_330;1', 'photoSensor_hits_histograms/photoSensor_331;1', 'photoSensor_hits_histograms/photoSensor_332;1', 'photoSensor_hits_histograms/photoSensor_333;1', 'photoSensor_hits_histograms/photoSensor_334;1', 'photoSensor_hits_histograms/photoSensor_335;1', 'photoSensor_hits_histograms/photoSensor_336;1', 'photoSensor_hits_histograms/photoSensor_337;1', 'photoSensor_hits_histograms/photoSensor_338;1', 'photoSensor_hits_histograms/photoSensor_339;1', 'photoSensor_hits_histograms/photoSensor_340;1', 'photoSensor_hits_histograms/photoSensor_341;1', 'photoSensor_hits_histograms/photoSensor_342;1', 'photoSensor_hits_histograms/photoSensor_343;1', 'photoSensor_hits_histograms/photoSensor_344;1', 'photoSensor_hits_histograms/photoSensor_345;1', 'photoSensor_hits_histograms/photoSensor_346;1', 'photoSensor_hits_histograms/photoSensor_347;1', 'photoSensor_hits_histograms/photoSensor_348;1', 'photoSensor_hits_histograms/photoSensor_349;1', 'photoSensor_hits_histograms/photoSensor_350;1', 'photoSensor_hits_histograms/photoSensor_351;1', 'photoSensor_hits_histograms/photoSensor_352;1', 'photoSensor_hits_histograms/photoSensor_353;1', 'photoSensor_hits_histograms/photoSensor_354;1', 'photoSensor_hits_histograms/photoSensor_355;1', 'photoSensor_hits_histograms/photoSensor_356;1', 'photoSensor_hits_histograms/photoSensor_357;1', 'photoSensor_hits_histograms/photoSensor_358;1', 'photoSensor_hits_histograms/photoSensor_359;1', 'photoSensor_hits_histograms/photoSensor_360;1', 'photoSensor_hits_histograms/photoSensor_361;1', 'photoSensor_hits_histograms/photoSensor_362;1', 'photoSensor_hits_histograms/photoSensor_363;1', 'photoSensor_hits_histograms/photoSensor_364;1', 'photoSensor_hits_histograms/photoSensor_365;1', 'photoSensor_hits_histograms/photoSensor_366;1', 'photoSensor_hits_histograms/photoSensor_367;1', 'photoSensor_hits_histograms/photoSensor_368;1', 'photoSensor_hits_histograms/photoSensor_369;1', 'photoSensor_hits_histograms/photoSensor_370;1', 'photoSensor_hits_histograms/photoSensor_371;1', 'photoSensor_hits_histograms/photoSensor_372;1', 'photoSensor_hits_histograms/photoSensor_373;1', 'photoSensor_hits_histograms/photoSensor_374;1', 'photoSensor_hits_histograms/photoSensor_375;1', 'photoSensor_hits_histograms/photoSensor_376;1', 'photoSensor_hits_histograms/photoSensor_377;1', 'photoSensor_hits_histograms/photoSensor_378;1', 'photoSensor_hits_histograms/photoSensor_379;1', 'photoSensor_hits_histograms/photoSensor_380;1', 'photoSensor_hits_histograms/photoSensor_381;1', 'photoSensor_hits_histograms/photoSensor_382;1', 'photoSensor_hits_histograms/photoSensor_383;1', 'photoSensor_hits_histograms/photoSensor_384;1', 'photoSensor_hits_histograms/photoSensor_385;1', 'photoSensor_hits_histograms/photoSensor_386;1', 'photoSensor_hits_histograms/photoSensor_387;1', 'photoSensor_hits_histograms/photoSensor_388;1', 'photoSensor_hits_histograms/photoSensor_389;1', 'photoSensor_hits_histograms/photoSensor_390;1', 'photoSensor_hits_histograms/photoSensor_391;1', 'photoSensor_hits_histograms/photoSensor_392;1', 'photoSensor_hits_histograms/photoSensor_393;1', 'photoSensor_hits_histograms/photoSensor_394;1', 'photoSensor_hits_histograms/photoSensor_395;1', 'photoSensor_hits_histograms/photoSensor_396;1', 'photoSensor_hits_histograms/photoSensor_397;1', 'photoSensor_hits_histograms/photoSensor_398;1', 'photoSensor_hits_histograms/photoSensor_399;1', 'photoSensor_hits_histograms/photoSensor_400;1', 'photoSensor_hits_histograms/photoSensor_401;1', 'photoSensor_hits_histograms/photoSensor_402;1', 'photoSensor_hits_histograms/photoSensor_403;1', 'photoSensor_hits_histograms/photoSensor_404;1', 'photoSensor_hits_histograms/photoSensor_405;1', 'photoSensor_hits_histograms/photoSensor_406;1', 'photoSensor_hits_histograms/photoSensor_407;1', 'photoSensor_hits_histograms/photoSensor_408;1', 'photoSensor_hits_histograms/photoSensor_409;1', 'photoSensor_hits_histograms/photoSensor_410;1', 'photoSensor_hits_histograms/photoSensor_411;1', 'photoSensor_hits_histograms/photoSensor_412;1', 'photoSensor_hits_histograms/photoSensor_413;1', 'photoSensor_hits_histograms/photoSensor_414;1', 'photoSensor_hits_histograms/photoSensor_415;1', 'photoSensor_hits_histograms/photoSensor_416;1', 'photoSensor_hits_histograms/photoSensor_417;1', 'photoSensor_hits_histograms/photoSensor_418;1', 'photoSensor_hits_histograms/photoSensor_419;1', 'photoSensor_hits_histograms/photoSensor_420;1', 'photoSensor_hits_histograms/photoSensor_421;1', 'photoSensor_hits_histograms/photoSensor_422;1', 'photoSensor_hits_histograms/photoSensor_423;1', 'photoSensor_hits_histograms/photoSensor_424;1', 'photoSensor_hits_histograms/photoSensor_425;1', 'photoSensor_hits_histograms/photoSensor_426;1', 'photoSensor_hits_histograms/photoSensor_427;1', 'photoSensor_hits_histograms/photoSensor_428;1', 'photoSensor_hits_histograms/photoSensor_429;1', 'photoSensor_hits_histograms/photoSensor_430;1', 'photoSensor_hits_histograms/photoSensor_431;1', 'photoSensor_hits_histograms/photoSensor_432;1', 'photoSensor_hits_histograms/photoSensor_433;1', 'photoSensor_hits_histograms/photoSensor_434;1', 'photoSensor_hits_histograms/photoSensor_435;1', 'photoSensor_hits_histograms/photoSensor_436;1', 'photoSensor_hits_histograms/photoSensor_437;1', 'photoSensor_hits_histograms/photoSensor_438;1', 'photoSensor_hits_histograms/photoSensor_439;1', 'photoSensor_hits_histograms/photoSensor_440;1', 'photoSensor_hits_histograms/photoSensor_441;1', 'photoSensor_hits_histograms/photoSensor_442;1', 'photoSensor_hits_histograms/photoSensor_443;1', 'photoSensor_hits_histograms/photoSensor_444;1', 'photoSensor_hits_histograms/photoSensor_445;1', 'photoSensor_hits_histograms/photoSensor_446;1', 'photoSensor_hits_histograms/photoSensor_447;1', 'photoSensor_hits_histograms/photoSensor_448;1', 'photoSensor_hits_histograms/photoSensor_449;1', 'photoSensor_hits_histograms/photoSensor_450;1', 'photoSensor_hits_histograms/photoSensor_451;1', 'photoSensor_hits_histograms/photoSensor_452;1', 'photoSensor_hits_histograms/photoSensor_453;1', 'photoSensor_hits_histograms/photoSensor_454;1', 'photoSensor_hits_histograms/photoSensor_455;1', 'photoSensor_hits_histograms/photoSensor_456;1', 'photoSensor_hits_histograms/photoSensor_457;1', 'photoSensor_hits_histograms/photoSensor_458;1', 'photoSensor_hits_histograms/photoSensor_459;1', 'photoSensor_hits_histograms/photoSensor_460;1', 'photoSensor_hits_histograms/photoSensor_461;1', 'photoSensor_hits_histograms/photoSensor_462;1', 'photoSensor_hits_histograms/photoSensor_463;1', 'photoSensor_hits_histograms/photoSensor_464;1', 'photoSensor_hits_histograms/photoSensor_465;1', 'photoSensor_hits_histograms/photoSensor_466;1', 'photoSensor_hits_histograms/photoSensor_467;1', 'photoSensor_hits_histograms/photoSensor_468;1', 'photoSensor_hits_histograms/photoSensor_469;1', 'photoSensor_hits_histograms/photoSensor_470;1', 'photoSensor_hits_histograms/photoSensor_471;1', 'photoSensor_hits_histograms/photoSensor_472;1', 'photoSensor_hits_histograms/photoSensor_473;1', 'photoSensor_hits_histograms/photoSensor_474;1', 'photoSensor_hits_histograms/photoSensor_475;1', 'photoSensor_hits_histograms/photoSensor_476;1', 'photoSensor_hits_histograms/photoSensor_477;1', 'photoSensor_hits_histograms/photoSensor_478;1', 'photoSensor_hits_histograms/photoSensor_479;1', 'photoSensor_hits_histograms/photoSensor_480;1', 'photoSensor_hits_histograms/photoSensor_481;1', 'photoSensor_hits_histograms/photoSensor_482;1', 'photoSensor_hits_histograms/photoSensor_483;1', 'photoSensor_hits_histograms/photoSensor_484;1', 'photoSensor_hits_histograms/photoSensor_485;1', 'photoSensor_hits_histograms/photoSensor_486;1', 'photoSensor_hits_histograms/photoSensor_487;1', 'photoSensor_hits_histograms/photoSensor_488;1', 'photoSensor_hits_histograms/photoSensor_489;1', 'photoSensor_hits_histograms/photoSensor_490;1', 'photoSensor_hits_histograms/photoSensor_491;1', 'photoSensor_hits_histograms/photoSensor_492;1', 'photoSensor_hits_histograms/photoSensor_493;1', 'photoSensor_hits_histograms/photoSensor_494;1', 'photoSensor_hits_histograms/photoSensor_495;1', 'photoSensor_hits_histograms/photoSensor_496;1', 'photoSensor_hits_histograms/photoSensor_497;1', 'photoSensor_hits_histograms/photoSensor_498;1', 'photoSensor_hits_histograms/photoSensor_499;1', 'photoSensor_hits_histograms/photoSensor_500;1', 'photoSensor_hits_histograms/photoSensor_501;1', 'photoSensor_hits_histograms/photoSensor_502;1', 'photoSensor_hits_histograms/photoSensor_503;1', 'photoSensor_hits_histograms/photoSensor_504;1', 'photoSensor_hits_histograms/photoSensor_505;1', 'photoSensor_hits_histograms/photoSensor_506;1', 'photoSensor_hits_histograms/photoSensor_507;1', 'photoSensor_hits_histograms/photoSensor_508;1', 'photoSensor_hits_histograms/photoSensor_509;1', 'photoSensor_hits_histograms/photoSensor_510;1', 'photoSensor_hits_histograms/photoSensor_511;1', 'photoSensor_hits_histograms/photoSensor_512;1', 'photoSensor_hits_histograms/photoSensor_513;1', 'photoSensor_hits_histograms/photoSensor_514;1', 'photoSensor_hits_histograms/photoSensor_515;1', 'photoSensor_hits_histograms/photoSensor_516;1', 'photoSensor_hits_histograms/photoSensor_517;1', 'photoSensor_hits_histograms/photoSensor_518;1', 'photoSensor_hits_histograms/photoSensor_519;1', 'photoSensor_hits_histograms/photoSensor_520;1', 'photoSensor_hits_histograms/photoSensor_521;1', 'photoSensor_hits_histograms/photoSensor_522;1', 'photoSensor_hits_histograms/photoSensor_523;1', 'photoSensor_hits_histograms/photoSensor_524;1', 'photoSensor_hits_histograms/photoSensor_525;1', 'photoSensor_hits_histograms/photoSensor_526;1', 'photoSensor_hits_histograms/photoSensor_527;1', 'photoSensor_hits_histograms/photoSensor_528;1', 'photoSensor_hits_histograms/photoSensor_529;1', 'photoSensor_hits_histograms/photoSensor_530;1', 'photoSensor_hits_histograms/photoSensor_531;1', 'photoSensor_hits_histograms/photoSensor_532;1', 'photoSensor_hits_histograms/photoSensor_533;1', 'photoSensor_hits_histograms/photoSensor_534;1', 'photoSensor_hits_histograms/photoSensor_535;1', 'photoSensor_hits_histograms/photoSensor_536;1', 'photoSensor_hits_histograms/photoSensor_537;1', 'photoSensor_hits_histograms/photoSensor_538;1', 'photoSensor_hits_histograms/photoSensor_539;1', 'photoSensor_hits_histograms/photoSensor_540;1', 'photoSensor_hits_histograms/photoSensor_541;1', 'photoSensor_hits_histograms/photoSensor_542;1', 'photoSensor_hits_histograms/photoSensor_543;1', 'photoSensor_hits_histograms/photoSensor_544;1', 'photoSensor_hits_histograms/photoSensor_545;1', 'photoSensor_hits_histograms/photoSensor_546;1', 'photoSensor_hits_histograms/photoSensor_547;1', 'photoSensor_hits_histograms/photoSensor_548;1', 'photoSensor_hits_histograms/photoSensor_549;1', 'photoSensor_hits_histograms/photoSensor_550;1', 'photoSensor_hits_histograms/photoSensor_551;1', 'photoSensor_hits_histograms/photoSensor_552;1', 'photoSensor_hits_histograms/photoSensor_553;1', 'photoSensor_hits_histograms/photoSensor_554;1', 'photoSensor_hits_histograms/photoSensor_555;1', 'photoSensor_hits_histograms/photoSensor_556;1', 'photoSensor_hits_histograms/photoSensor_557;1', 'photoSensor_hits_histograms/photoSensor_558;1', 'photoSensor_hits_histograms/photoSensor_559;1', 'photoSensor_hits_histograms/photoSensor_560;1', 'photoSensor_hits_histograms/photoSensor_561;1', 'photoSensor_hits_histograms/photoSensor_562;1', 'photoSensor_hits_histograms/photoSensor_563;1', 'photoSensor_hits_histograms/photoSensor_564;1', 'photoSensor_hits_histograms/photoSensor_565;1', 'photoSensor_hits_histograms/photoSensor_566;1', 'photoSensor_hits_histograms/photoSensor_567;1', 'photoSensor_hits_histograms/photoSensor_568;1', 'photoSensor_hits_histograms/photoSensor_569;1', 'photoSensor_hits_histograms/photoSensor_570;1', 'photoSensor_hits_histograms/photoSensor_571;1', 'photoSensor_hits_histograms/photoSensor_572;1', 'photoSensor_hits_histograms/photoSensor_573;1', 'photoSensor_hits_histograms/photoSensor_574;1', 'photoSensor_hits_histograms/photoSensor_575;1', 'photoSensor_hits_histograms/photoSensor_576;1', 'photoSensor_hits_histograms/photoSensor_577;1', 'photoSensor_hits_histograms/photoSensor_578;1', 'photoSensor_hits_histograms/photoSensor_579;1', 'photoSensor_hits_histograms/photoSensor_580;1', 'photoSensor_hits_histograms/photoSensor_581;1', 'photoSensor_hits_histograms/photoSensor_582;1', 'photoSensor_hits_histograms/photoSensor_583;1', 'photoSensor_hits_histograms/photoSensor_584;1', 'photoSensor_hits_histograms/photoSensor_585;1', 'photoSensor_hits_histograms/photoSensor_586;1', 'photoSensor_hits_histograms/photoSensor_587;1', 'photoSensor_hits_histograms/photoSensor_588;1', 'photoSensor_hits_histograms/photoSensor_589;1', 'photoSensor_hits_histograms/photoSensor_590;1', 'photoSensor_hits_histograms/photoSensor_591;1', 'photoSensor_hits_histograms/photoSensor_592;1', 'photoSensor_hits_histograms/photoSensor_593;1', 'photoSensor_hits_histograms/photoSensor_594;1', 'photoSensor_hits_histograms/photoSensor_595;1', 'photoSensor_hits_histograms/photoSensor_596;1', 'photoSensor_hits_histograms/photoSensor_597;1', 'photoSensor_hits_histograms/photoSensor_598;1', 'photoSensor_hits_histograms/photoSensor_599;1']\n",
      "['/DSPD_+x_1114.704220_990.000000_-990.000000_0_photoSensor_surface_sensitiveDetector', '/DSPD_+x_1114.704220_770.000000_-990.000000_1_photoSensor_surface_sensitiveDetector', '/DSPD_+x_1114.704220_550.000000_-990.000000_2_photoSensor_surface_sensitiveDetector', '/DSPD_+x_1114.704220_330.000000_-990.000000_3_photoSensor_surface_sensitiveDetector', '/DSPD_+x_1114.704220_110.000000_-990.000000_4_photoSensor_surface_sensitiveDetector', '/DSPD_+x_1114.704220_-110.000000_-990.000000_5_photoSensor_surface_sensitiveDetector', '/DSPD_+x_1114.704220_-330.000000_-990.000000_6_photoSensor_surface_sensitiveDetector', '/DSPD_+x_1114.704220_-550.000000_-990.000000_7_photoSensor_surface_sensitiveDetector', '/DSPD_+x_1114.704220_-770.000000_-990.000000_8_photoSensor_surface_sensitiveDetector', '/DSPD_+x_1114.704220_-990.000000_-990.000000_9_photoSensor_surface_sensitiveDetector', '/DSPD_+x_1114.704220_990.000000_-770.000000_10_photoSensor_surface_sensitiveDetector', '/DSPD_+x_1114.704220_770.000000_-770.000000_11_photoSensor_surface_sensitiveDetector', '/DSPD_+x_1114.704220_550.000000_-770.000000_12_photoSensor_surface_sensitiveDetector', '/DSPD_+x_1114.704220_330.000000_-770.000000_13_photoSensor_surface_sensitiveDetector', '/DSPD_+x_1114.704220_110.000000_-770.000000_14_photoSensor_surface_sensitiveDetector', '/DSPD_+x_1114.704220_-110.000000_-770.000000_15_photoSensor_surface_sensitiveDetector', '/DSPD_+x_1114.704220_-330.000000_-770.000000_16_photoSensor_surface_sensitiveDetector', '/DSPD_+x_1114.704220_-550.000000_-770.000000_17_photoSensor_surface_sensitiveDetector', '/DSPD_+x_1114.704220_-770.000000_-770.000000_18_photoSensor_surface_sensitiveDetector', '/DSPD_+x_1114.704220_-990.000000_-770.000000_19_photoSensor_surface_sensitiveDetector', '/DSPD_+x_1114.704220_990.000000_-550.000000_20_photoSensor_surface_sensitiveDetector', '/DSPD_+x_1114.704220_770.000000_-550.000000_21_photoSensor_surface_sensitiveDetector', '/DSPD_+x_1114.704220_550.000000_-550.000000_22_photoSensor_surface_sensitiveDetector', '/DSPD_+x_1114.704220_330.000000_-550.000000_23_photoSensor_surface_sensitiveDetector', '/DSPD_+x_1114.704220_110.000000_-550.000000_24_photoSensor_surface_sensitiveDetector', '/DSPD_+x_1114.704220_-110.000000_-550.000000_25_photoSensor_surface_sensitiveDetector', '/DSPD_+x_1114.704220_-330.000000_-550.000000_26_photoSensor_surface_sensitiveDetector', '/DSPD_+x_1114.704220_-550.000000_-550.000000_27_photoSensor_surface_sensitiveDetector', '/DSPD_+x_1114.704220_-770.000000_-550.000000_28_photoSensor_surface_sensitiveDetector', '/DSPD_+x_1114.704220_-990.000000_-550.000000_29_photoSensor_surface_sensitiveDetector', '/DSPD_+x_1114.704220_990.000000_-330.000000_30_photoSensor_surface_sensitiveDetector', '/DSPD_+x_1114.704220_770.000000_-330.000000_31_photoSensor_surface_sensitiveDetector', '/DSPD_+x_1114.704220_550.000000_-330.000000_32_photoSensor_surface_sensitiveDetector', '/DSPD_+x_1114.704220_330.000000_-330.000000_33_photoSensor_surface_sensitiveDetector', '/DSPD_+x_1114.704220_110.000000_-330.000000_34_photoSensor_surface_sensitiveDetector', '/DSPD_+x_1114.704220_-110.000000_-330.000000_35_photoSensor_surface_sensitiveDetector', '/DSPD_+x_1114.704220_-330.000000_-330.000000_36_photoSensor_surface_sensitiveDetector', '/DSPD_+x_1114.704220_-550.000000_-330.000000_37_photoSensor_surface_sensitiveDetector', '/DSPD_+x_1114.704220_-770.000000_-330.000000_38_photoSensor_surface_sensitiveDetector', '/DSPD_+x_1114.704220_-990.000000_-330.000000_39_photoSensor_surface_sensitiveDetector', '/DSPD_+x_1114.704220_990.000000_-110.000000_40_photoSensor_surface_sensitiveDetector', '/DSPD_+x_1114.704220_770.000000_-110.000000_41_photoSensor_surface_sensitiveDetector', '/DSPD_+x_1114.704220_550.000000_-110.000000_42_photoSensor_surface_sensitiveDetector', '/DSPD_+x_1114.704220_330.000000_-110.000000_43_photoSensor_surface_sensitiveDetector', '/DSPD_+x_1114.704220_110.000000_-110.000000_44_photoSensor_surface_sensitiveDetector', '/DSPD_+x_1114.704220_-110.000000_-110.000000_45_photoSensor_surface_sensitiveDetector', '/DSPD_+x_1114.704220_-330.000000_-110.000000_46_photoSensor_surface_sensitiveDetector', '/DSPD_+x_1114.704220_-550.000000_-110.000000_47_photoSensor_surface_sensitiveDetector', '/DSPD_+x_1114.704220_-770.000000_-110.000000_48_photoSensor_surface_sensitiveDetector', '/DSPD_+x_1114.704220_-990.000000_-110.000000_49_photoSensor_surface_sensitiveDetector', '/DSPD_+x_1114.704220_990.000000_110.000000_50_photoSensor_surface_sensitiveDetector', '/DSPD_+x_1114.704220_770.000000_110.000000_51_photoSensor_surface_sensitiveDetector', '/DSPD_+x_1114.704220_550.000000_110.000000_52_photoSensor_surface_sensitiveDetector', '/DSPD_+x_1114.704220_330.000000_110.000000_53_photoSensor_surface_sensitiveDetector', '/DSPD_+x_1114.704220_110.000000_110.000000_54_photoSensor_surface_sensitiveDetector', '/DSPD_+x_1114.704220_-110.000000_110.000000_55_photoSensor_surface_sensitiveDetector', '/DSPD_+x_1114.704220_-330.000000_110.000000_56_photoSensor_surface_sensitiveDetector', '/DSPD_+x_1114.704220_-550.000000_110.000000_57_photoSensor_surface_sensitiveDetector', '/DSPD_+x_1114.704220_-770.000000_110.000000_58_photoSensor_surface_sensitiveDetector', '/DSPD_+x_1114.704220_-990.000000_110.000000_59_photoSensor_surface_sensitiveDetector', '/DSPD_+x_1114.704220_990.000000_330.000000_60_photoSensor_surface_sensitiveDetector', '/DSPD_+x_1114.704220_770.000000_330.000000_61_photoSensor_surface_sensitiveDetector', '/DSPD_+x_1114.704220_550.000000_330.000000_62_photoSensor_surface_sensitiveDetector', '/DSPD_+x_1114.704220_330.000000_330.000000_63_photoSensor_surface_sensitiveDetector', '/DSPD_+x_1114.704220_110.000000_330.000000_64_photoSensor_surface_sensitiveDetector', '/DSPD_+x_1114.704220_-110.000000_330.000000_65_photoSensor_surface_sensitiveDetector', '/DSPD_+x_1114.704220_-330.000000_330.000000_66_photoSensor_surface_sensitiveDetector', '/DSPD_+x_1114.704220_-550.000000_330.000000_67_photoSensor_surface_sensitiveDetector', '/DSPD_+x_1114.704220_-770.000000_330.000000_68_photoSensor_surface_sensitiveDetector', '/DSPD_+x_1114.704220_-990.000000_330.000000_69_photoSensor_surface_sensitiveDetector', '/DSPD_+x_1114.704220_990.000000_550.000000_70_photoSensor_surface_sensitiveDetector', '/DSPD_+x_1114.704220_770.000000_550.000000_71_photoSensor_surface_sensitiveDetector', '/DSPD_+x_1114.704220_550.000000_550.000000_72_photoSensor_surface_sensitiveDetector', '/DSPD_+x_1114.704220_330.000000_550.000000_73_photoSensor_surface_sensitiveDetector', '/DSPD_+x_1114.704220_110.000000_550.000000_74_photoSensor_surface_sensitiveDetector', '/DSPD_+x_1114.704220_-110.000000_550.000000_75_photoSensor_surface_sensitiveDetector', '/DSPD_+x_1114.704220_-330.000000_550.000000_76_photoSensor_surface_sensitiveDetector', '/DSPD_+x_1114.704220_-550.000000_550.000000_77_photoSensor_surface_sensitiveDetector', '/DSPD_+x_1114.704220_-770.000000_550.000000_78_photoSensor_surface_sensitiveDetector', '/DSPD_+x_1114.704220_-990.000000_550.000000_79_photoSensor_surface_sensitiveDetector', '/DSPD_+x_1114.704220_990.000000_770.000000_80_photoSensor_surface_sensitiveDetector', '/DSPD_+x_1114.704220_770.000000_770.000000_81_photoSensor_surface_sensitiveDetector', '/DSPD_+x_1114.704220_550.000000_770.000000_82_photoSensor_surface_sensitiveDetector', '/DSPD_+x_1114.704220_330.000000_770.000000_83_photoSensor_surface_sensitiveDetector', '/DSPD_+x_1114.704220_110.000000_770.000000_84_photoSensor_surface_sensitiveDetector', '/DSPD_+x_1114.704220_-110.000000_770.000000_85_photoSensor_surface_sensitiveDetector', '/DSPD_+x_1114.704220_-330.000000_770.000000_86_photoSensor_surface_sensitiveDetector', '/DSPD_+x_1114.704220_-550.000000_770.000000_87_photoSensor_surface_sensitiveDetector', '/DSPD_+x_1114.704220_-770.000000_770.000000_88_photoSensor_surface_sensitiveDetector', '/DSPD_+x_1114.704220_-990.000000_770.000000_89_photoSensor_surface_sensitiveDetector', '/DSPD_+x_1114.704220_990.000000_990.000000_90_photoSensor_surface_sensitiveDetector', '/DSPD_+x_1114.704220_770.000000_990.000000_91_photoSensor_surface_sensitiveDetector', '/DSPD_+x_1114.704220_550.000000_990.000000_92_photoSensor_surface_sensitiveDetector', '/DSPD_+x_1114.704220_330.000000_990.000000_93_photoSensor_surface_sensitiveDetector', '/DSPD_+x_1114.704220_110.000000_990.000000_94_photoSensor_surface_sensitiveDetector', '/DSPD_+x_1114.704220_-110.000000_990.000000_95_photoSensor_surface_sensitiveDetector', '/DSPD_+x_1114.704220_-330.000000_990.000000_96_photoSensor_surface_sensitiveDetector', '/DSPD_+x_1114.704220_-550.000000_990.000000_97_photoSensor_surface_sensitiveDetector', '/DSPD_+x_1114.704220_-770.000000_990.000000_98_photoSensor_surface_sensitiveDetector', '/DSPD_+x_1114.704220_-990.000000_990.000000_99_photoSensor_surface_sensitiveDetector', '/DSPD_-x_-1114.704220_990.000000_990.000000_0_photoSensor_surface_sensitiveDetector', '/DSPD_-x_-1114.704220_770.000000_990.000000_1_photoSensor_surface_sensitiveDetector', '/DSPD_-x_-1114.704220_550.000000_990.000000_2_photoSensor_surface_sensitiveDetector', '/DSPD_-x_-1114.704220_330.000000_990.000000_3_photoSensor_surface_sensitiveDetector', '/DSPD_-x_-1114.704220_110.000000_990.000000_4_photoSensor_surface_sensitiveDetector', '/DSPD_-x_-1114.704220_-110.000000_990.000000_5_photoSensor_surface_sensitiveDetector', '/DSPD_-x_-1114.704220_-330.000000_990.000000_6_photoSensor_surface_sensitiveDetector', '/DSPD_-x_-1114.704220_-550.000000_990.000000_7_photoSensor_surface_sensitiveDetector', '/DSPD_-x_-1114.704220_-770.000000_990.000000_8_photoSensor_surface_sensitiveDetector', '/DSPD_-x_-1114.704220_-990.000000_990.000000_9_photoSensor_surface_sensitiveDetector', '/DSPD_-x_-1114.704220_990.000000_770.000000_10_photoSensor_surface_sensitiveDetector', '/DSPD_-x_-1114.704220_770.000000_770.000000_11_photoSensor_surface_sensitiveDetector', '/DSPD_-x_-1114.704220_550.000000_770.000000_12_photoSensor_surface_sensitiveDetector', '/DSPD_-x_-1114.704220_330.000000_770.000000_13_photoSensor_surface_sensitiveDetector', '/DSPD_-x_-1114.704220_110.000000_770.000000_14_photoSensor_surface_sensitiveDetector', '/DSPD_-x_-1114.704220_-110.000000_770.000000_15_photoSensor_surface_sensitiveDetector', '/DSPD_-x_-1114.704220_-330.000000_770.000000_16_photoSensor_surface_sensitiveDetector', '/DSPD_-x_-1114.704220_-550.000000_770.000000_17_photoSensor_surface_sensitiveDetector', '/DSPD_-x_-1114.704220_-770.000000_770.000000_18_photoSensor_surface_sensitiveDetector', '/DSPD_-x_-1114.704220_-990.000000_770.000000_19_photoSensor_surface_sensitiveDetector', '/DSPD_-x_-1114.704220_990.000000_550.000000_20_photoSensor_surface_sensitiveDetector', '/DSPD_-x_-1114.704220_770.000000_550.000000_21_photoSensor_surface_sensitiveDetector', '/DSPD_-x_-1114.704220_550.000000_550.000000_22_photoSensor_surface_sensitiveDetector', '/DSPD_-x_-1114.704220_330.000000_550.000000_23_photoSensor_surface_sensitiveDetector', '/DSPD_-x_-1114.704220_110.000000_550.000000_24_photoSensor_surface_sensitiveDetector', '/DSPD_-x_-1114.704220_-110.000000_550.000000_25_photoSensor_surface_sensitiveDetector', '/DSPD_-x_-1114.704220_-330.000000_550.000000_26_photoSensor_surface_sensitiveDetector', '/DSPD_-x_-1114.704220_-550.000000_550.000000_27_photoSensor_surface_sensitiveDetector', '/DSPD_-x_-1114.704220_-770.000000_550.000000_28_photoSensor_surface_sensitiveDetector', '/DSPD_-x_-1114.704220_-990.000000_550.000000_29_photoSensor_surface_sensitiveDetector', '/DSPD_-x_-1114.704220_990.000000_330.000000_30_photoSensor_surface_sensitiveDetector', '/DSPD_-x_-1114.704220_770.000000_330.000000_31_photoSensor_surface_sensitiveDetector', '/DSPD_-x_-1114.704220_550.000000_330.000000_32_photoSensor_surface_sensitiveDetector', '/DSPD_-x_-1114.704220_330.000000_330.000000_33_photoSensor_surface_sensitiveDetector', '/DSPD_-x_-1114.704220_110.000000_330.000000_34_photoSensor_surface_sensitiveDetector', '/DSPD_-x_-1114.704220_-110.000000_330.000000_35_photoSensor_surface_sensitiveDetector', '/DSPD_-x_-1114.704220_-330.000000_330.000000_36_photoSensor_surface_sensitiveDetector', '/DSPD_-x_-1114.704220_-550.000000_330.000000_37_photoSensor_surface_sensitiveDetector', '/DSPD_-x_-1114.704220_-770.000000_330.000000_38_photoSensor_surface_sensitiveDetector', '/DSPD_-x_-1114.704220_-990.000000_330.000000_39_photoSensor_surface_sensitiveDetector', '/DSPD_-x_-1114.704220_990.000000_110.000000_40_photoSensor_surface_sensitiveDetector', '/DSPD_-x_-1114.704220_770.000000_110.000000_41_photoSensor_surface_sensitiveDetector', '/DSPD_-x_-1114.704220_550.000000_110.000000_42_photoSensor_surface_sensitiveDetector', '/DSPD_-x_-1114.704220_330.000000_110.000000_43_photoSensor_surface_sensitiveDetector', '/DSPD_-x_-1114.704220_110.000000_110.000000_44_photoSensor_surface_sensitiveDetector', '/DSPD_-x_-1114.704220_-110.000000_110.000000_45_photoSensor_surface_sensitiveDetector', '/DSPD_-x_-1114.704220_-330.000000_110.000000_46_photoSensor_surface_sensitiveDetector', '/DSPD_-x_-1114.704220_-550.000000_110.000000_47_photoSensor_surface_sensitiveDetector', '/DSPD_-x_-1114.704220_-770.000000_110.000000_48_photoSensor_surface_sensitiveDetector', '/DSPD_-x_-1114.704220_-990.000000_110.000000_49_photoSensor_surface_sensitiveDetector', '/DSPD_-x_-1114.704220_990.000000_-110.000000_50_photoSensor_surface_sensitiveDetector', '/DSPD_-x_-1114.704220_770.000000_-110.000000_51_photoSensor_surface_sensitiveDetector', '/DSPD_-x_-1114.704220_550.000000_-110.000000_52_photoSensor_surface_sensitiveDetector', '/DSPD_-x_-1114.704220_330.000000_-110.000000_53_photoSensor_surface_sensitiveDetector', '/DSPD_-x_-1114.704220_110.000000_-110.000000_54_photoSensor_surface_sensitiveDetector', '/DSPD_-x_-1114.704220_-110.000000_-110.000000_55_photoSensor_surface_sensitiveDetector', '/DSPD_-x_-1114.704220_-330.000000_-110.000000_56_photoSensor_surface_sensitiveDetector', '/DSPD_-x_-1114.704220_-550.000000_-110.000000_57_photoSensor_surface_sensitiveDetector', '/DSPD_-x_-1114.704220_-770.000000_-110.000000_58_photoSensor_surface_sensitiveDetector', '/DSPD_-x_-1114.704220_-990.000000_-110.000000_59_photoSensor_surface_sensitiveDetector', '/DSPD_-x_-1114.704220_990.000000_-330.000000_60_photoSensor_surface_sensitiveDetector', '/DSPD_-x_-1114.704220_770.000000_-330.000000_61_photoSensor_surface_sensitiveDetector', '/DSPD_-x_-1114.704220_550.000000_-330.000000_62_photoSensor_surface_sensitiveDetector', '/DSPD_-x_-1114.704220_330.000000_-330.000000_63_photoSensor_surface_sensitiveDetector', '/DSPD_-x_-1114.704220_110.000000_-330.000000_64_photoSensor_surface_sensitiveDetector', '/DSPD_-x_-1114.704220_-110.000000_-330.000000_65_photoSensor_surface_sensitiveDetector', '/DSPD_-x_-1114.704220_-330.000000_-330.000000_66_photoSensor_surface_sensitiveDetector', '/DSPD_-x_-1114.704220_-550.000000_-330.000000_67_photoSensor_surface_sensitiveDetector', '/DSPD_-x_-1114.704220_-770.000000_-330.000000_68_photoSensor_surface_sensitiveDetector', '/DSPD_-x_-1114.704220_-990.000000_-330.000000_69_photoSensor_surface_sensitiveDetector', '/DSPD_-x_-1114.704220_990.000000_-550.000000_70_photoSensor_surface_sensitiveDetector', '/DSPD_-x_-1114.704220_770.000000_-550.000000_71_photoSensor_surface_sensitiveDetector', '/DSPD_-x_-1114.704220_550.000000_-550.000000_72_photoSensor_surface_sensitiveDetector', '/DSPD_-x_-1114.704220_330.000000_-550.000000_73_photoSensor_surface_sensitiveDetector', '/DSPD_-x_-1114.704220_110.000000_-550.000000_74_photoSensor_surface_sensitiveDetector', '/DSPD_-x_-1114.704220_-110.000000_-550.000000_75_photoSensor_surface_sensitiveDetector', '/DSPD_-x_-1114.704220_-330.000000_-550.000000_76_photoSensor_surface_sensitiveDetector', '/DSPD_-x_-1114.704220_-550.000000_-550.000000_77_photoSensor_surface_sensitiveDetector', '/DSPD_-x_-1114.704220_-770.000000_-550.000000_78_photoSensor_surface_sensitiveDetector', '/DSPD_-x_-1114.704220_-990.000000_-550.000000_79_photoSensor_surface_sensitiveDetector', '/DSPD_-x_-1114.704220_990.000000_-770.000000_80_photoSensor_surface_sensitiveDetector', '/DSPD_-x_-1114.704220_770.000000_-770.000000_81_photoSensor_surface_sensitiveDetector', '/DSPD_-x_-1114.704220_550.000000_-770.000000_82_photoSensor_surface_sensitiveDetector', '/DSPD_-x_-1114.704220_330.000000_-770.000000_83_photoSensor_surface_sensitiveDetector', '/DSPD_-x_-1114.704220_110.000000_-770.000000_84_photoSensor_surface_sensitiveDetector', '/DSPD_-x_-1114.704220_-110.000000_-770.000000_85_photoSensor_surface_sensitiveDetector', '/DSPD_-x_-1114.704220_-330.000000_-770.000000_86_photoSensor_surface_sensitiveDetector', '/DSPD_-x_-1114.704220_-550.000000_-770.000000_87_photoSensor_surface_sensitiveDetector', '/DSPD_-x_-1114.704220_-770.000000_-770.000000_88_photoSensor_surface_sensitiveDetector', '/DSPD_-x_-1114.704220_-990.000000_-770.000000_89_photoSensor_surface_sensitiveDetector', '/DSPD_-x_-1114.704220_990.000000_-990.000000_90_photoSensor_surface_sensitiveDetector', '/DSPD_-x_-1114.704220_770.000000_-990.000000_91_photoSensor_surface_sensitiveDetector', '/DSPD_-x_-1114.704220_550.000000_-990.000000_92_photoSensor_surface_sensitiveDetector', '/DSPD_-x_-1114.704220_330.000000_-990.000000_93_photoSensor_surface_sensitiveDetector', '/DSPD_-x_-1114.704220_110.000000_-990.000000_94_photoSensor_surface_sensitiveDetector', '/DSPD_-x_-1114.704220_-110.000000_-990.000000_95_photoSensor_surface_sensitiveDetector', '/DSPD_-x_-1114.704220_-330.000000_-990.000000_96_photoSensor_surface_sensitiveDetector', '/DSPD_-x_-1114.704220_-550.000000_-990.000000_97_photoSensor_surface_sensitiveDetector', '/DSPD_-x_-1114.704220_-770.000000_-990.000000_98_photoSensor_surface_sensitiveDetector', '/DSPD_-x_-1114.704220_-990.000000_-990.000000_99_photoSensor_surface_sensitiveDetector', '/DSPD_+y_990.000000_1114.704220_-990.000000_0_photoSensor_surface_sensitiveDetector', '/DSPD_+y_990.000000_1114.704220_-770.000000_1_photoSensor_surface_sensitiveDetector', '/DSPD_+y_990.000000_1114.704220_-550.000000_2_photoSensor_surface_sensitiveDetector', '/DSPD_+y_990.000000_1114.704220_-330.000000_3_photoSensor_surface_sensitiveDetector', '/DSPD_+y_990.000000_1114.704220_-110.000000_4_photoSensor_surface_sensitiveDetector', '/DSPD_+y_990.000000_1114.704220_110.000000_5_photoSensor_surface_sensitiveDetector', '/DSPD_+y_990.000000_1114.704220_330.000000_6_photoSensor_surface_sensitiveDetector', '/DSPD_+y_990.000000_1114.704220_550.000000_7_photoSensor_surface_sensitiveDetector', '/DSPD_+y_990.000000_1114.704220_770.000000_8_photoSensor_surface_sensitiveDetector', '/DSPD_+y_990.000000_1114.704220_990.000000_9_photoSensor_surface_sensitiveDetector', '/DSPD_+y_770.000000_1114.704220_-990.000000_10_photoSensor_surface_sensitiveDetector', '/DSPD_+y_770.000000_1114.704220_-770.000000_11_photoSensor_surface_sensitiveDetector', '/DSPD_+y_770.000000_1114.704220_-550.000000_12_photoSensor_surface_sensitiveDetector', '/DSPD_+y_770.000000_1114.704220_-330.000000_13_photoSensor_surface_sensitiveDetector', '/DSPD_+y_770.000000_1114.704220_-110.000000_14_photoSensor_surface_sensitiveDetector', '/DSPD_+y_770.000000_1114.704220_110.000000_15_photoSensor_surface_sensitiveDetector', '/DSPD_+y_770.000000_1114.704220_330.000000_16_photoSensor_surface_sensitiveDetector', '/DSPD_+y_770.000000_1114.704220_550.000000_17_photoSensor_surface_sensitiveDetector', '/DSPD_+y_770.000000_1114.704220_770.000000_18_photoSensor_surface_sensitiveDetector', '/DSPD_+y_770.000000_1114.704220_990.000000_19_photoSensor_surface_sensitiveDetector', '/DSPD_+y_550.000000_1114.704220_-990.000000_20_photoSensor_surface_sensitiveDetector', '/DSPD_+y_550.000000_1114.704220_-770.000000_21_photoSensor_surface_sensitiveDetector', '/DSPD_+y_550.000000_1114.704220_-550.000000_22_photoSensor_surface_sensitiveDetector', '/DSPD_+y_550.000000_1114.704220_-330.000000_23_photoSensor_surface_sensitiveDetector', '/DSPD_+y_550.000000_1114.704220_-110.000000_24_photoSensor_surface_sensitiveDetector', '/DSPD_+y_550.000000_1114.704220_110.000000_25_photoSensor_surface_sensitiveDetector', '/DSPD_+y_550.000000_1114.704220_330.000000_26_photoSensor_surface_sensitiveDetector', '/DSPD_+y_550.000000_1114.704220_550.000000_27_photoSensor_surface_sensitiveDetector', '/DSPD_+y_550.000000_1114.704220_770.000000_28_photoSensor_surface_sensitiveDetector', '/DSPD_+y_550.000000_1114.704220_990.000000_29_photoSensor_surface_sensitiveDetector', '/DSPD_+y_330.000000_1114.704220_-990.000000_30_photoSensor_surface_sensitiveDetector', '/DSPD_+y_330.000000_1114.704220_-770.000000_31_photoSensor_surface_sensitiveDetector', '/DSPD_+y_330.000000_1114.704220_-550.000000_32_photoSensor_surface_sensitiveDetector', '/DSPD_+y_330.000000_1114.704220_-330.000000_33_photoSensor_surface_sensitiveDetector', '/DSPD_+y_330.000000_1114.704220_-110.000000_34_photoSensor_surface_sensitiveDetector', '/DSPD_+y_330.000000_1114.704220_110.000000_35_photoSensor_surface_sensitiveDetector', '/DSPD_+y_330.000000_1114.704220_330.000000_36_photoSensor_surface_sensitiveDetector', '/DSPD_+y_330.000000_1114.704220_550.000000_37_photoSensor_surface_sensitiveDetector', '/DSPD_+y_330.000000_1114.704220_770.000000_38_photoSensor_surface_sensitiveDetector', '/DSPD_+y_330.000000_1114.704220_990.000000_39_photoSensor_surface_sensitiveDetector', '/DSPD_+y_110.000000_1114.704220_-990.000000_40_photoSensor_surface_sensitiveDetector', '/DSPD_+y_110.000000_1114.704220_-770.000000_41_photoSensor_surface_sensitiveDetector', '/DSPD_+y_110.000000_1114.704220_-550.000000_42_photoSensor_surface_sensitiveDetector', '/DSPD_+y_110.000000_1114.704220_-330.000000_43_photoSensor_surface_sensitiveDetector', '/DSPD_+y_110.000000_1114.704220_-110.000000_44_photoSensor_surface_sensitiveDetector', '/DSPD_+y_110.000000_1114.704220_110.000000_45_photoSensor_surface_sensitiveDetector', '/DSPD_+y_110.000000_1114.704220_330.000000_46_photoSensor_surface_sensitiveDetector', '/DSPD_+y_110.000000_1114.704220_550.000000_47_photoSensor_surface_sensitiveDetector', '/DSPD_+y_110.000000_1114.704220_770.000000_48_photoSensor_surface_sensitiveDetector', '/DSPD_+y_110.000000_1114.704220_990.000000_49_photoSensor_surface_sensitiveDetector', '/DSPD_+y_-110.000000_1114.704220_-990.000000_50_photoSensor_surface_sensitiveDetector', '/DSPD_+y_-110.000000_1114.704220_-770.000000_51_photoSensor_surface_sensitiveDetector', '/DSPD_+y_-110.000000_1114.704220_-550.000000_52_photoSensor_surface_sensitiveDetector', '/DSPD_+y_-110.000000_1114.704220_-330.000000_53_photoSensor_surface_sensitiveDetector', '/DSPD_+y_-110.000000_1114.704220_-110.000000_54_photoSensor_surface_sensitiveDetector', '/DSPD_+y_-110.000000_1114.704220_110.000000_55_photoSensor_surface_sensitiveDetector', '/DSPD_+y_-110.000000_1114.704220_330.000000_56_photoSensor_surface_sensitiveDetector', '/DSPD_+y_-110.000000_1114.704220_550.000000_57_photoSensor_surface_sensitiveDetector', '/DSPD_+y_-110.000000_1114.704220_770.000000_58_photoSensor_surface_sensitiveDetector', '/DSPD_+y_-110.000000_1114.704220_990.000000_59_photoSensor_surface_sensitiveDetector', '/DSPD_+y_-330.000000_1114.704220_-990.000000_60_photoSensor_surface_sensitiveDetector', '/DSPD_+y_-330.000000_1114.704220_-770.000000_61_photoSensor_surface_sensitiveDetector', '/DSPD_+y_-330.000000_1114.704220_-550.000000_62_photoSensor_surface_sensitiveDetector', '/DSPD_+y_-330.000000_1114.704220_-330.000000_63_photoSensor_surface_sensitiveDetector', '/DSPD_+y_-330.000000_1114.704220_-110.000000_64_photoSensor_surface_sensitiveDetector', '/DSPD_+y_-330.000000_1114.704220_110.000000_65_photoSensor_surface_sensitiveDetector', '/DSPD_+y_-330.000000_1114.704220_330.000000_66_photoSensor_surface_sensitiveDetector', '/DSPD_+y_-330.000000_1114.704220_550.000000_67_photoSensor_surface_sensitiveDetector', '/DSPD_+y_-330.000000_1114.704220_770.000000_68_photoSensor_surface_sensitiveDetector', '/DSPD_+y_-330.000000_1114.704220_990.000000_69_photoSensor_surface_sensitiveDetector', '/DSPD_+y_-550.000000_1114.704220_-990.000000_70_photoSensor_surface_sensitiveDetector', '/DSPD_+y_-550.000000_1114.704220_-770.000000_71_photoSensor_surface_sensitiveDetector', '/DSPD_+y_-550.000000_1114.704220_-550.000000_72_photoSensor_surface_sensitiveDetector', '/DSPD_+y_-550.000000_1114.704220_-330.000000_73_photoSensor_surface_sensitiveDetector', '/DSPD_+y_-550.000000_1114.704220_-110.000000_74_photoSensor_surface_sensitiveDetector', '/DSPD_+y_-550.000000_1114.704220_110.000000_75_photoSensor_surface_sensitiveDetector', '/DSPD_+y_-550.000000_1114.704220_330.000000_76_photoSensor_surface_sensitiveDetector', '/DSPD_+y_-550.000000_1114.704220_550.000000_77_photoSensor_surface_sensitiveDetector', '/DSPD_+y_-550.000000_1114.704220_770.000000_78_photoSensor_surface_sensitiveDetector', '/DSPD_+y_-550.000000_1114.704220_990.000000_79_photoSensor_surface_sensitiveDetector', '/DSPD_+y_-770.000000_1114.704220_-990.000000_80_photoSensor_surface_sensitiveDetector', '/DSPD_+y_-770.000000_1114.704220_-770.000000_81_photoSensor_surface_sensitiveDetector', '/DSPD_+y_-770.000000_1114.704220_-550.000000_82_photoSensor_surface_sensitiveDetector', '/DSPD_+y_-770.000000_1114.704220_-330.000000_83_photoSensor_surface_sensitiveDetector', '/DSPD_+y_-770.000000_1114.704220_-110.000000_84_photoSensor_surface_sensitiveDetector', '/DSPD_+y_-770.000000_1114.704220_110.000000_85_photoSensor_surface_sensitiveDetector', '/DSPD_+y_-770.000000_1114.704220_330.000000_86_photoSensor_surface_sensitiveDetector', '/DSPD_+y_-770.000000_1114.704220_550.000000_87_photoSensor_surface_sensitiveDetector', '/DSPD_+y_-770.000000_1114.704220_770.000000_88_photoSensor_surface_sensitiveDetector', '/DSPD_+y_-770.000000_1114.704220_990.000000_89_photoSensor_surface_sensitiveDetector', '/DSPD_+y_-990.000000_1114.704220_-990.000000_90_photoSensor_surface_sensitiveDetector', '/DSPD_+y_-990.000000_1114.704220_-770.000000_91_photoSensor_surface_sensitiveDetector', '/DSPD_+y_-990.000000_1114.704220_-550.000000_92_photoSensor_surface_sensitiveDetector', '/DSPD_+y_-990.000000_1114.704220_-330.000000_93_photoSensor_surface_sensitiveDetector', '/DSPD_+y_-990.000000_1114.704220_-110.000000_94_photoSensor_surface_sensitiveDetector', '/DSPD_+y_-990.000000_1114.704220_110.000000_95_photoSensor_surface_sensitiveDetector', '/DSPD_+y_-990.000000_1114.704220_330.000000_96_photoSensor_surface_sensitiveDetector', '/DSPD_+y_-990.000000_1114.704220_550.000000_97_photoSensor_surface_sensitiveDetector', '/DSPD_+y_-990.000000_1114.704220_770.000000_98_photoSensor_surface_sensitiveDetector', '/DSPD_+y_-990.000000_1114.704220_990.000000_99_photoSensor_surface_sensitiveDetector', '/DSPD_-y_990.000000_-1114.704220_990.000000_0_photoSensor_surface_sensitiveDetector', '/DSPD_-y_990.000000_-1114.704220_770.000000_1_photoSensor_surface_sensitiveDetector', '/DSPD_-y_990.000000_-1114.704220_550.000000_2_photoSensor_surface_sensitiveDetector', '/DSPD_-y_990.000000_-1114.704220_330.000000_3_photoSensor_surface_sensitiveDetector', '/DSPD_-y_990.000000_-1114.704220_110.000000_4_photoSensor_surface_sensitiveDetector', '/DSPD_-y_990.000000_-1114.704220_-110.000000_5_photoSensor_surface_sensitiveDetector', '/DSPD_-y_990.000000_-1114.704220_-330.000000_6_photoSensor_surface_sensitiveDetector', '/DSPD_-y_990.000000_-1114.704220_-550.000000_7_photoSensor_surface_sensitiveDetector', '/DSPD_-y_990.000000_-1114.704220_-770.000000_8_photoSensor_surface_sensitiveDetector', '/DSPD_-y_990.000000_-1114.704220_-990.000000_9_photoSensor_surface_sensitiveDetector', '/DSPD_-y_770.000000_-1114.704220_990.000000_10_photoSensor_surface_sensitiveDetector', '/DSPD_-y_770.000000_-1114.704220_770.000000_11_photoSensor_surface_sensitiveDetector', '/DSPD_-y_770.000000_-1114.704220_550.000000_12_photoSensor_surface_sensitiveDetector', '/DSPD_-y_770.000000_-1114.704220_330.000000_13_photoSensor_surface_sensitiveDetector', '/DSPD_-y_770.000000_-1114.704220_110.000000_14_photoSensor_surface_sensitiveDetector', '/DSPD_-y_770.000000_-1114.704220_-110.000000_15_photoSensor_surface_sensitiveDetector', '/DSPD_-y_770.000000_-1114.704220_-330.000000_16_photoSensor_surface_sensitiveDetector', '/DSPD_-y_770.000000_-1114.704220_-550.000000_17_photoSensor_surface_sensitiveDetector', '/DSPD_-y_770.000000_-1114.704220_-770.000000_18_photoSensor_surface_sensitiveDetector', '/DSPD_-y_770.000000_-1114.704220_-990.000000_19_photoSensor_surface_sensitiveDetector', '/DSPD_-y_550.000000_-1114.704220_990.000000_20_photoSensor_surface_sensitiveDetector', '/DSPD_-y_550.000000_-1114.704220_770.000000_21_photoSensor_surface_sensitiveDetector', '/DSPD_-y_550.000000_-1114.704220_550.000000_22_photoSensor_surface_sensitiveDetector', '/DSPD_-y_550.000000_-1114.704220_330.000000_23_photoSensor_surface_sensitiveDetector', '/DSPD_-y_550.000000_-1114.704220_110.000000_24_photoSensor_surface_sensitiveDetector', '/DSPD_-y_550.000000_-1114.704220_-110.000000_25_photoSensor_surface_sensitiveDetector', '/DSPD_-y_550.000000_-1114.704220_-330.000000_26_photoSensor_surface_sensitiveDetector', '/DSPD_-y_550.000000_-1114.704220_-550.000000_27_photoSensor_surface_sensitiveDetector', '/DSPD_-y_550.000000_-1114.704220_-770.000000_28_photoSensor_surface_sensitiveDetector', '/DSPD_-y_550.000000_-1114.704220_-990.000000_29_photoSensor_surface_sensitiveDetector', '/DSPD_-y_330.000000_-1114.704220_990.000000_30_photoSensor_surface_sensitiveDetector', '/DSPD_-y_330.000000_-1114.704220_770.000000_31_photoSensor_surface_sensitiveDetector', '/DSPD_-y_330.000000_-1114.704220_550.000000_32_photoSensor_surface_sensitiveDetector', '/DSPD_-y_330.000000_-1114.704220_330.000000_33_photoSensor_surface_sensitiveDetector', '/DSPD_-y_330.000000_-1114.704220_110.000000_34_photoSensor_surface_sensitiveDetector', '/DSPD_-y_330.000000_-1114.704220_-110.000000_35_photoSensor_surface_sensitiveDetector', '/DSPD_-y_330.000000_-1114.704220_-330.000000_36_photoSensor_surface_sensitiveDetector', '/DSPD_-y_330.000000_-1114.704220_-550.000000_37_photoSensor_surface_sensitiveDetector', '/DSPD_-y_330.000000_-1114.704220_-770.000000_38_photoSensor_surface_sensitiveDetector', '/DSPD_-y_330.000000_-1114.704220_-990.000000_39_photoSensor_surface_sensitiveDetector', '/DSPD_-y_110.000000_-1114.704220_990.000000_40_photoSensor_surface_sensitiveDetector', '/DSPD_-y_110.000000_-1114.704220_770.000000_41_photoSensor_surface_sensitiveDetector', '/DSPD_-y_110.000000_-1114.704220_550.000000_42_photoSensor_surface_sensitiveDetector', '/DSPD_-y_110.000000_-1114.704220_330.000000_43_photoSensor_surface_sensitiveDetector', '/DSPD_-y_110.000000_-1114.704220_110.000000_44_photoSensor_surface_sensitiveDetector', '/DSPD_-y_110.000000_-1114.704220_-110.000000_45_photoSensor_surface_sensitiveDetector', '/DSPD_-y_110.000000_-1114.704220_-330.000000_46_photoSensor_surface_sensitiveDetector', '/DSPD_-y_110.000000_-1114.704220_-550.000000_47_photoSensor_surface_sensitiveDetector', '/DSPD_-y_110.000000_-1114.704220_-770.000000_48_photoSensor_surface_sensitiveDetector', '/DSPD_-y_110.000000_-1114.704220_-990.000000_49_photoSensor_surface_sensitiveDetector', '/DSPD_-y_-110.000000_-1114.704220_990.000000_50_photoSensor_surface_sensitiveDetector', '/DSPD_-y_-110.000000_-1114.704220_770.000000_51_photoSensor_surface_sensitiveDetector', '/DSPD_-y_-110.000000_-1114.704220_550.000000_52_photoSensor_surface_sensitiveDetector', '/DSPD_-y_-110.000000_-1114.704220_330.000000_53_photoSensor_surface_sensitiveDetector', '/DSPD_-y_-110.000000_-1114.704220_110.000000_54_photoSensor_surface_sensitiveDetector', '/DSPD_-y_-110.000000_-1114.704220_-110.000000_55_photoSensor_surface_sensitiveDetector', '/DSPD_-y_-110.000000_-1114.704220_-330.000000_56_photoSensor_surface_sensitiveDetector', '/DSPD_-y_-110.000000_-1114.704220_-550.000000_57_photoSensor_surface_sensitiveDetector', '/DSPD_-y_-110.000000_-1114.704220_-770.000000_58_photoSensor_surface_sensitiveDetector', '/DSPD_-y_-110.000000_-1114.704220_-990.000000_59_photoSensor_surface_sensitiveDetector', '/DSPD_-y_-330.000000_-1114.704220_990.000000_60_photoSensor_surface_sensitiveDetector', '/DSPD_-y_-330.000000_-1114.704220_770.000000_61_photoSensor_surface_sensitiveDetector', '/DSPD_-y_-330.000000_-1114.704220_550.000000_62_photoSensor_surface_sensitiveDetector', '/DSPD_-y_-330.000000_-1114.704220_330.000000_63_photoSensor_surface_sensitiveDetector', '/DSPD_-y_-330.000000_-1114.704220_110.000000_64_photoSensor_surface_sensitiveDetector', '/DSPD_-y_-330.000000_-1114.704220_-110.000000_65_photoSensor_surface_sensitiveDetector', '/DSPD_-y_-330.000000_-1114.704220_-330.000000_66_photoSensor_surface_sensitiveDetector', '/DSPD_-y_-330.000000_-1114.704220_-550.000000_67_photoSensor_surface_sensitiveDetector', '/DSPD_-y_-330.000000_-1114.704220_-770.000000_68_photoSensor_surface_sensitiveDetector', '/DSPD_-y_-330.000000_-1114.704220_-990.000000_69_photoSensor_surface_sensitiveDetector', '/DSPD_-y_-550.000000_-1114.704220_990.000000_70_photoSensor_surface_sensitiveDetector', '/DSPD_-y_-550.000000_-1114.704220_770.000000_71_photoSensor_surface_sensitiveDetector', '/DSPD_-y_-550.000000_-1114.704220_550.000000_72_photoSensor_surface_sensitiveDetector', '/DSPD_-y_-550.000000_-1114.704220_330.000000_73_photoSensor_surface_sensitiveDetector', '/DSPD_-y_-550.000000_-1114.704220_110.000000_74_photoSensor_surface_sensitiveDetector', '/DSPD_-y_-550.000000_-1114.704220_-110.000000_75_photoSensor_surface_sensitiveDetector', '/DSPD_-y_-550.000000_-1114.704220_-330.000000_76_photoSensor_surface_sensitiveDetector', '/DSPD_-y_-550.000000_-1114.704220_-550.000000_77_photoSensor_surface_sensitiveDetector', '/DSPD_-y_-550.000000_-1114.704220_-770.000000_78_photoSensor_surface_sensitiveDetector', '/DSPD_-y_-550.000000_-1114.704220_-990.000000_79_photoSensor_surface_sensitiveDetector', '/DSPD_-y_-770.000000_-1114.704220_990.000000_80_photoSensor_surface_sensitiveDetector', '/DSPD_-y_-770.000000_-1114.704220_770.000000_81_photoSensor_surface_sensitiveDetector', '/DSPD_-y_-770.000000_-1114.704220_550.000000_82_photoSensor_surface_sensitiveDetector', '/DSPD_-y_-770.000000_-1114.704220_330.000000_83_photoSensor_surface_sensitiveDetector', '/DSPD_-y_-770.000000_-1114.704220_110.000000_84_photoSensor_surface_sensitiveDetector', '/DSPD_-y_-770.000000_-1114.704220_-110.000000_85_photoSensor_surface_sensitiveDetector', '/DSPD_-y_-770.000000_-1114.704220_-330.000000_86_photoSensor_surface_sensitiveDetector', '/DSPD_-y_-770.000000_-1114.704220_-550.000000_87_photoSensor_surface_sensitiveDetector', '/DSPD_-y_-770.000000_-1114.704220_-770.000000_88_photoSensor_surface_sensitiveDetector', '/DSPD_-y_-770.000000_-1114.704220_-990.000000_89_photoSensor_surface_sensitiveDetector', '/DSPD_-y_-990.000000_-1114.704220_990.000000_90_photoSensor_surface_sensitiveDetector', '/DSPD_-y_-990.000000_-1114.704220_770.000000_91_photoSensor_surface_sensitiveDetector', '/DSPD_-y_-990.000000_-1114.704220_550.000000_92_photoSensor_surface_sensitiveDetector', '/DSPD_-y_-990.000000_-1114.704220_330.000000_93_photoSensor_surface_sensitiveDetector', '/DSPD_-y_-990.000000_-1114.704220_110.000000_94_photoSensor_surface_sensitiveDetector', '/DSPD_-y_-990.000000_-1114.704220_-110.000000_95_photoSensor_surface_sensitiveDetector', '/DSPD_-y_-990.000000_-1114.704220_-330.000000_96_photoSensor_surface_sensitiveDetector', '/DSPD_-y_-990.000000_-1114.704220_-550.000000_97_photoSensor_surface_sensitiveDetector', '/DSPD_-y_-990.000000_-1114.704220_-770.000000_98_photoSensor_surface_sensitiveDetector', '/DSPD_-y_-990.000000_-1114.704220_-990.000000_99_photoSensor_surface_sensitiveDetector', '/DSPD_+z_990.000000_990.000000_1114.704220_0_photoSensor_surface_sensitiveDetector', '/DSPD_+z_990.000000_770.000000_1114.704220_1_photoSensor_surface_sensitiveDetector', '/DSPD_+z_990.000000_550.000000_1114.704220_2_photoSensor_surface_sensitiveDetector', '/DSPD_+z_990.000000_330.000000_1114.704220_3_photoSensor_surface_sensitiveDetector', '/DSPD_+z_990.000000_110.000000_1114.704220_4_photoSensor_surface_sensitiveDetector', '/DSPD_+z_990.000000_-110.000000_1114.704220_5_photoSensor_surface_sensitiveDetector', '/DSPD_+z_990.000000_-330.000000_1114.704220_6_photoSensor_surface_sensitiveDetector', '/DSPD_+z_990.000000_-550.000000_1114.704220_7_photoSensor_surface_sensitiveDetector', '/DSPD_+z_990.000000_-770.000000_1114.704220_8_photoSensor_surface_sensitiveDetector', '/DSPD_+z_990.000000_-990.000000_1114.704220_9_photoSensor_surface_sensitiveDetector', '/DSPD_+z_770.000000_990.000000_1114.704220_10_photoSensor_surface_sensitiveDetector', '/DSPD_+z_770.000000_770.000000_1114.704220_11_photoSensor_surface_sensitiveDetector', '/DSPD_+z_770.000000_550.000000_1114.704220_12_photoSensor_surface_sensitiveDetector', '/DSPD_+z_770.000000_330.000000_1114.704220_13_photoSensor_surface_sensitiveDetector', '/DSPD_+z_770.000000_110.000000_1114.704220_14_photoSensor_surface_sensitiveDetector', '/DSPD_+z_770.000000_-110.000000_1114.704220_15_photoSensor_surface_sensitiveDetector', '/DSPD_+z_770.000000_-330.000000_1114.704220_16_photoSensor_surface_sensitiveDetector', '/DSPD_+z_770.000000_-550.000000_1114.704220_17_photoSensor_surface_sensitiveDetector', '/DSPD_+z_770.000000_-770.000000_1114.704220_18_photoSensor_surface_sensitiveDetector', '/DSPD_+z_770.000000_-990.000000_1114.704220_19_photoSensor_surface_sensitiveDetector', '/DSPD_+z_550.000000_990.000000_1114.704220_20_photoSensor_surface_sensitiveDetector', '/DSPD_+z_550.000000_770.000000_1114.704220_21_photoSensor_surface_sensitiveDetector', '/DSPD_+z_550.000000_550.000000_1114.704220_22_photoSensor_surface_sensitiveDetector', '/DSPD_+z_550.000000_330.000000_1114.704220_23_photoSensor_surface_sensitiveDetector', '/DSPD_+z_550.000000_110.000000_1114.704220_24_photoSensor_surface_sensitiveDetector', '/DSPD_+z_550.000000_-110.000000_1114.704220_25_photoSensor_surface_sensitiveDetector', '/DSPD_+z_550.000000_-330.000000_1114.704220_26_photoSensor_surface_sensitiveDetector', '/DSPD_+z_550.000000_-550.000000_1114.704220_27_photoSensor_surface_sensitiveDetector', '/DSPD_+z_550.000000_-770.000000_1114.704220_28_photoSensor_surface_sensitiveDetector', '/DSPD_+z_550.000000_-990.000000_1114.704220_29_photoSensor_surface_sensitiveDetector', '/DSPD_+z_330.000000_990.000000_1114.704220_30_photoSensor_surface_sensitiveDetector', '/DSPD_+z_330.000000_770.000000_1114.704220_31_photoSensor_surface_sensitiveDetector', '/DSPD_+z_330.000000_550.000000_1114.704220_32_photoSensor_surface_sensitiveDetector', '/DSPD_+z_330.000000_330.000000_1114.704220_33_photoSensor_surface_sensitiveDetector', '/DSPD_+z_330.000000_110.000000_1114.704220_34_photoSensor_surface_sensitiveDetector', '/DSPD_+z_330.000000_-110.000000_1114.704220_35_photoSensor_surface_sensitiveDetector', '/DSPD_+z_330.000000_-330.000000_1114.704220_36_photoSensor_surface_sensitiveDetector', '/DSPD_+z_330.000000_-550.000000_1114.704220_37_photoSensor_surface_sensitiveDetector', '/DSPD_+z_330.000000_-770.000000_1114.704220_38_photoSensor_surface_sensitiveDetector', '/DSPD_+z_330.000000_-990.000000_1114.704220_39_photoSensor_surface_sensitiveDetector', '/DSPD_+z_110.000000_990.000000_1114.704220_40_photoSensor_surface_sensitiveDetector', '/DSPD_+z_110.000000_770.000000_1114.704220_41_photoSensor_surface_sensitiveDetector', '/DSPD_+z_110.000000_550.000000_1114.704220_42_photoSensor_surface_sensitiveDetector', '/DSPD_+z_110.000000_330.000000_1114.704220_43_photoSensor_surface_sensitiveDetector', '/DSPD_+z_110.000000_110.000000_1114.704220_44_photoSensor_surface_sensitiveDetector', '/DSPD_+z_110.000000_-110.000000_1114.704220_45_photoSensor_surface_sensitiveDetector', '/DSPD_+z_110.000000_-330.000000_1114.704220_46_photoSensor_surface_sensitiveDetector', '/DSPD_+z_110.000000_-550.000000_1114.704220_47_photoSensor_surface_sensitiveDetector', '/DSPD_+z_110.000000_-770.000000_1114.704220_48_photoSensor_surface_sensitiveDetector', '/DSPD_+z_110.000000_-990.000000_1114.704220_49_photoSensor_surface_sensitiveDetector', '/DSPD_+z_-110.000000_990.000000_1114.704220_50_photoSensor_surface_sensitiveDetector', '/DSPD_+z_-110.000000_770.000000_1114.704220_51_photoSensor_surface_sensitiveDetector', '/DSPD_+z_-110.000000_550.000000_1114.704220_52_photoSensor_surface_sensitiveDetector', '/DSPD_+z_-110.000000_330.000000_1114.704220_53_photoSensor_surface_sensitiveDetector', '/DSPD_+z_-110.000000_110.000000_1114.704220_54_photoSensor_surface_sensitiveDetector', '/DSPD_+z_-110.000000_-110.000000_1114.704220_55_photoSensor_surface_sensitiveDetector', '/DSPD_+z_-110.000000_-330.000000_1114.704220_56_photoSensor_surface_sensitiveDetector', '/DSPD_+z_-110.000000_-550.000000_1114.704220_57_photoSensor_surface_sensitiveDetector', '/DSPD_+z_-110.000000_-770.000000_1114.704220_58_photoSensor_surface_sensitiveDetector', '/DSPD_+z_-110.000000_-990.000000_1114.704220_59_photoSensor_surface_sensitiveDetector', '/DSPD_+z_-330.000000_990.000000_1114.704220_60_photoSensor_surface_sensitiveDetector', '/DSPD_+z_-330.000000_770.000000_1114.704220_61_photoSensor_surface_sensitiveDetector', '/DSPD_+z_-330.000000_550.000000_1114.704220_62_photoSensor_surface_sensitiveDetector', '/DSPD_+z_-330.000000_330.000000_1114.704220_63_photoSensor_surface_sensitiveDetector', '/DSPD_+z_-330.000000_110.000000_1114.704220_64_photoSensor_surface_sensitiveDetector', '/DSPD_+z_-330.000000_-110.000000_1114.704220_65_photoSensor_surface_sensitiveDetector', '/DSPD_+z_-330.000000_-330.000000_1114.704220_66_photoSensor_surface_sensitiveDetector', '/DSPD_+z_-330.000000_-550.000000_1114.704220_67_photoSensor_surface_sensitiveDetector', '/DSPD_+z_-330.000000_-770.000000_1114.704220_68_photoSensor_surface_sensitiveDetector', '/DSPD_+z_-330.000000_-990.000000_1114.704220_69_photoSensor_surface_sensitiveDetector', '/DSPD_+z_-550.000000_990.000000_1114.704220_70_photoSensor_surface_sensitiveDetector', '/DSPD_+z_-550.000000_770.000000_1114.704220_71_photoSensor_surface_sensitiveDetector', '/DSPD_+z_-550.000000_550.000000_1114.704220_72_photoSensor_surface_sensitiveDetector', '/DSPD_+z_-550.000000_330.000000_1114.704220_73_photoSensor_surface_sensitiveDetector', '/DSPD_+z_-550.000000_110.000000_1114.704220_74_photoSensor_surface_sensitiveDetector', '/DSPD_+z_-550.000000_-110.000000_1114.704220_75_photoSensor_surface_sensitiveDetector', '/DSPD_+z_-550.000000_-330.000000_1114.704220_76_photoSensor_surface_sensitiveDetector', '/DSPD_+z_-550.000000_-550.000000_1114.704220_77_photoSensor_surface_sensitiveDetector', '/DSPD_+z_-550.000000_-770.000000_1114.704220_78_photoSensor_surface_sensitiveDetector', '/DSPD_+z_-550.000000_-990.000000_1114.704220_79_photoSensor_surface_sensitiveDetector', '/DSPD_+z_-770.000000_990.000000_1114.704220_80_photoSensor_surface_sensitiveDetector', '/DSPD_+z_-770.000000_770.000000_1114.704220_81_photoSensor_surface_sensitiveDetector', '/DSPD_+z_-770.000000_550.000000_1114.704220_82_photoSensor_surface_sensitiveDetector', '/DSPD_+z_-770.000000_330.000000_1114.704220_83_photoSensor_surface_sensitiveDetector', '/DSPD_+z_-770.000000_110.000000_1114.704220_84_photoSensor_surface_sensitiveDetector', '/DSPD_+z_-770.000000_-110.000000_1114.704220_85_photoSensor_surface_sensitiveDetector', '/DSPD_+z_-770.000000_-330.000000_1114.704220_86_photoSensor_surface_sensitiveDetector', '/DSPD_+z_-770.000000_-550.000000_1114.704220_87_photoSensor_surface_sensitiveDetector', '/DSPD_+z_-770.000000_-770.000000_1114.704220_88_photoSensor_surface_sensitiveDetector', '/DSPD_+z_-770.000000_-990.000000_1114.704220_89_photoSensor_surface_sensitiveDetector', '/DSPD_+z_-990.000000_990.000000_1114.704220_90_photoSensor_surface_sensitiveDetector', '/DSPD_+z_-990.000000_770.000000_1114.704220_91_photoSensor_surface_sensitiveDetector', '/DSPD_+z_-990.000000_550.000000_1114.704220_92_photoSensor_surface_sensitiveDetector', '/DSPD_+z_-990.000000_330.000000_1114.704220_93_photoSensor_surface_sensitiveDetector', '/DSPD_+z_-990.000000_110.000000_1114.704220_94_photoSensor_surface_sensitiveDetector', '/DSPD_+z_-990.000000_-110.000000_1114.704220_95_photoSensor_surface_sensitiveDetector', '/DSPD_+z_-990.000000_-330.000000_1114.704220_96_photoSensor_surface_sensitiveDetector', '/DSPD_+z_-990.000000_-550.000000_1114.704220_97_photoSensor_surface_sensitiveDetector', '/DSPD_+z_-990.000000_-770.000000_1114.704220_98_photoSensor_surface_sensitiveDetector', '/DSPD_+z_-990.000000_-990.000000_1114.704220_99_photoSensor_surface_sensitiveDetector', '/DSPD_-z_-990.000000_-990.000000_-1114.704220_0_photoSensor_surface_sensitiveDetector', '/DSPD_-z_-990.000000_-770.000000_-1114.704220_1_photoSensor_surface_sensitiveDetector', '/DSPD_-z_-990.000000_-550.000000_-1114.704220_2_photoSensor_surface_sensitiveDetector', '/DSPD_-z_-990.000000_-330.000000_-1114.704220_3_photoSensor_surface_sensitiveDetector', '/DSPD_-z_-990.000000_-110.000000_-1114.704220_4_photoSensor_surface_sensitiveDetector', '/DSPD_-z_-990.000000_110.000000_-1114.704220_5_photoSensor_surface_sensitiveDetector', '/DSPD_-z_-990.000000_330.000000_-1114.704220_6_photoSensor_surface_sensitiveDetector', '/DSPD_-z_-990.000000_550.000000_-1114.704220_7_photoSensor_surface_sensitiveDetector', '/DSPD_-z_-990.000000_770.000000_-1114.704220_8_photoSensor_surface_sensitiveDetector', '/DSPD_-z_-990.000000_990.000000_-1114.704220_9_photoSensor_surface_sensitiveDetector', '/DSPD_-z_-770.000000_-990.000000_-1114.704220_10_photoSensor_surface_sensitiveDetector', '/DSPD_-z_-770.000000_-770.000000_-1114.704220_11_photoSensor_surface_sensitiveDetector', '/DSPD_-z_-770.000000_-550.000000_-1114.704220_12_photoSensor_surface_sensitiveDetector', '/DSPD_-z_-770.000000_-330.000000_-1114.704220_13_photoSensor_surface_sensitiveDetector', '/DSPD_-z_-770.000000_-110.000000_-1114.704220_14_photoSensor_surface_sensitiveDetector', '/DSPD_-z_-770.000000_110.000000_-1114.704220_15_photoSensor_surface_sensitiveDetector', '/DSPD_-z_-770.000000_330.000000_-1114.704220_16_photoSensor_surface_sensitiveDetector', '/DSPD_-z_-770.000000_550.000000_-1114.704220_17_photoSensor_surface_sensitiveDetector', '/DSPD_-z_-770.000000_770.000000_-1114.704220_18_photoSensor_surface_sensitiveDetector', '/DSPD_-z_-770.000000_990.000000_-1114.704220_19_photoSensor_surface_sensitiveDetector', '/DSPD_-z_-550.000000_-990.000000_-1114.704220_20_photoSensor_surface_sensitiveDetector', '/DSPD_-z_-550.000000_-770.000000_-1114.704220_21_photoSensor_surface_sensitiveDetector', '/DSPD_-z_-550.000000_-550.000000_-1114.704220_22_photoSensor_surface_sensitiveDetector', '/DSPD_-z_-550.000000_-330.000000_-1114.704220_23_photoSensor_surface_sensitiveDetector', '/DSPD_-z_-550.000000_-110.000000_-1114.704220_24_photoSensor_surface_sensitiveDetector', '/DSPD_-z_-550.000000_110.000000_-1114.704220_25_photoSensor_surface_sensitiveDetector', '/DSPD_-z_-550.000000_330.000000_-1114.704220_26_photoSensor_surface_sensitiveDetector', '/DSPD_-z_-550.000000_550.000000_-1114.704220_27_photoSensor_surface_sensitiveDetector', '/DSPD_-z_-550.000000_770.000000_-1114.704220_28_photoSensor_surface_sensitiveDetector', '/DSPD_-z_-550.000000_990.000000_-1114.704220_29_photoSensor_surface_sensitiveDetector', '/DSPD_-z_-330.000000_-990.000000_-1114.704220_30_photoSensor_surface_sensitiveDetector', '/DSPD_-z_-330.000000_-770.000000_-1114.704220_31_photoSensor_surface_sensitiveDetector', '/DSPD_-z_-330.000000_-550.000000_-1114.704220_32_photoSensor_surface_sensitiveDetector', '/DSPD_-z_-330.000000_-330.000000_-1114.704220_33_photoSensor_surface_sensitiveDetector', '/DSPD_-z_-330.000000_-110.000000_-1114.704220_34_photoSensor_surface_sensitiveDetector', '/DSPD_-z_-330.000000_110.000000_-1114.704220_35_photoSensor_surface_sensitiveDetector', '/DSPD_-z_-330.000000_330.000000_-1114.704220_36_photoSensor_surface_sensitiveDetector', '/DSPD_-z_-330.000000_550.000000_-1114.704220_37_photoSensor_surface_sensitiveDetector', '/DSPD_-z_-330.000000_770.000000_-1114.704220_38_photoSensor_surface_sensitiveDetector', '/DSPD_-z_-330.000000_990.000000_-1114.704220_39_photoSensor_surface_sensitiveDetector', '/DSPD_-z_-110.000000_-990.000000_-1114.704220_40_photoSensor_surface_sensitiveDetector', '/DSPD_-z_-110.000000_-770.000000_-1114.704220_41_photoSensor_surface_sensitiveDetector', '/DSPD_-z_-110.000000_-550.000000_-1114.704220_42_photoSensor_surface_sensitiveDetector', '/DSPD_-z_-110.000000_-330.000000_-1114.704220_43_photoSensor_surface_sensitiveDetector', '/DSPD_-z_-110.000000_-110.000000_-1114.704220_44_photoSensor_surface_sensitiveDetector', '/DSPD_-z_-110.000000_110.000000_-1114.704220_45_photoSensor_surface_sensitiveDetector', '/DSPD_-z_-110.000000_330.000000_-1114.704220_46_photoSensor_surface_sensitiveDetector', '/DSPD_-z_-110.000000_550.000000_-1114.704220_47_photoSensor_surface_sensitiveDetector', '/DSPD_-z_-110.000000_770.000000_-1114.704220_48_photoSensor_surface_sensitiveDetector', '/DSPD_-z_-110.000000_990.000000_-1114.704220_49_photoSensor_surface_sensitiveDetector', '/DSPD_-z_110.000000_-990.000000_-1114.704220_50_photoSensor_surface_sensitiveDetector', '/DSPD_-z_110.000000_-770.000000_-1114.704220_51_photoSensor_surface_sensitiveDetector', '/DSPD_-z_110.000000_-550.000000_-1114.704220_52_photoSensor_surface_sensitiveDetector', '/DSPD_-z_110.000000_-330.000000_-1114.704220_53_photoSensor_surface_sensitiveDetector', '/DSPD_-z_110.000000_-110.000000_-1114.704220_54_photoSensor_surface_sensitiveDetector', '/DSPD_-z_110.000000_110.000000_-1114.704220_55_photoSensor_surface_sensitiveDetector', '/DSPD_-z_110.000000_330.000000_-1114.704220_56_photoSensor_surface_sensitiveDetector', '/DSPD_-z_110.000000_550.000000_-1114.704220_57_photoSensor_surface_sensitiveDetector', '/DSPD_-z_110.000000_770.000000_-1114.704220_58_photoSensor_surface_sensitiveDetector', '/DSPD_-z_110.000000_990.000000_-1114.704220_59_photoSensor_surface_sensitiveDetector', '/DSPD_-z_330.000000_-990.000000_-1114.704220_60_photoSensor_surface_sensitiveDetector', '/DSPD_-z_330.000000_-770.000000_-1114.704220_61_photoSensor_surface_sensitiveDetector', '/DSPD_-z_330.000000_-550.000000_-1114.704220_62_photoSensor_surface_sensitiveDetector', '/DSPD_-z_330.000000_-330.000000_-1114.704220_63_photoSensor_surface_sensitiveDetector', '/DSPD_-z_330.000000_-110.000000_-1114.704220_64_photoSensor_surface_sensitiveDetector', '/DSPD_-z_330.000000_110.000000_-1114.704220_65_photoSensor_surface_sensitiveDetector', '/DSPD_-z_330.000000_330.000000_-1114.704220_66_photoSensor_surface_sensitiveDetector', '/DSPD_-z_330.000000_550.000000_-1114.704220_67_photoSensor_surface_sensitiveDetector', '/DSPD_-z_330.000000_770.000000_-1114.704220_68_photoSensor_surface_sensitiveDetector', '/DSPD_-z_330.000000_990.000000_-1114.704220_69_photoSensor_surface_sensitiveDetector', '/DSPD_-z_550.000000_-990.000000_-1114.704220_70_photoSensor_surface_sensitiveDetector', '/DSPD_-z_550.000000_-770.000000_-1114.704220_71_photoSensor_surface_sensitiveDetector', '/DSPD_-z_550.000000_-550.000000_-1114.704220_72_photoSensor_surface_sensitiveDetector', '/DSPD_-z_550.000000_-330.000000_-1114.704220_73_photoSensor_surface_sensitiveDetector', '/DSPD_-z_550.000000_-110.000000_-1114.704220_74_photoSensor_surface_sensitiveDetector', '/DSPD_-z_550.000000_110.000000_-1114.704220_75_photoSensor_surface_sensitiveDetector', '/DSPD_-z_550.000000_330.000000_-1114.704220_76_photoSensor_surface_sensitiveDetector', '/DSPD_-z_550.000000_550.000000_-1114.704220_77_photoSensor_surface_sensitiveDetector', '/DSPD_-z_550.000000_770.000000_-1114.704220_78_photoSensor_surface_sensitiveDetector', '/DSPD_-z_550.000000_990.000000_-1114.704220_79_photoSensor_surface_sensitiveDetector', '/DSPD_-z_770.000000_-990.000000_-1114.704220_80_photoSensor_surface_sensitiveDetector', '/DSPD_-z_770.000000_-770.000000_-1114.704220_81_photoSensor_surface_sensitiveDetector', '/DSPD_-z_770.000000_-550.000000_-1114.704220_82_photoSensor_surface_sensitiveDetector', '/DSPD_-z_770.000000_-330.000000_-1114.704220_83_photoSensor_surface_sensitiveDetector', '/DSPD_-z_770.000000_-110.000000_-1114.704220_84_photoSensor_surface_sensitiveDetector', '/DSPD_-z_770.000000_110.000000_-1114.704220_85_photoSensor_surface_sensitiveDetector', '/DSPD_-z_770.000000_330.000000_-1114.704220_86_photoSensor_surface_sensitiveDetector', '/DSPD_-z_770.000000_550.000000_-1114.704220_87_photoSensor_surface_sensitiveDetector', '/DSPD_-z_770.000000_770.000000_-1114.704220_88_photoSensor_surface_sensitiveDetector', '/DSPD_-z_770.000000_990.000000_-1114.704220_89_photoSensor_surface_sensitiveDetector', '/DSPD_-z_990.000000_-990.000000_-1114.704220_90_photoSensor_surface_sensitiveDetector', '/DSPD_-z_990.000000_-770.000000_-1114.704220_91_photoSensor_surface_sensitiveDetector', '/DSPD_-z_990.000000_-550.000000_-1114.704220_92_photoSensor_surface_sensitiveDetector', '/DSPD_-z_990.000000_-330.000000_-1114.704220_93_photoSensor_surface_sensitiveDetector', '/DSPD_-z_990.000000_-110.000000_-1114.704220_94_photoSensor_surface_sensitiveDetector', '/DSPD_-z_990.000000_110.000000_-1114.704220_95_photoSensor_surface_sensitiveDetector', '/DSPD_-z_990.000000_330.000000_-1114.704220_96_photoSensor_surface_sensitiveDetector', '/DSPD_-z_990.000000_550.000000_-1114.704220_97_photoSensor_surface_sensitiveDetector', '/DSPD_-z_990.000000_770.000000_-1114.704220_98_photoSensor_surface_sensitiveDetector', '/DSPD_-z_990.000000_990.000000_-1114.704220_99_photoSensor_surface_sensitiveDetector']\n",
      "[(1114.70422, 990.0, -990.0), (1114.70422, 770.0, -990.0), (1114.70422, 550.0, -990.0), (1114.70422, 330.0, -990.0), (1114.70422, 110.0, -990.0), (1114.70422, -110.0, -990.0), (1114.70422, -330.0, -990.0), (1114.70422, -550.0, -990.0), (1114.70422, -770.0, -990.0), (1114.70422, -990.0, -990.0), (1114.70422, 990.0, -770.0), (1114.70422, 770.0, -770.0), (1114.70422, 550.0, -770.0), (1114.70422, 330.0, -770.0), (1114.70422, 110.0, -770.0), (1114.70422, -110.0, -770.0), (1114.70422, -330.0, -770.0), (1114.70422, -550.0, -770.0), (1114.70422, -770.0, -770.0), (1114.70422, -990.0, -770.0), (1114.70422, 990.0, -550.0), (1114.70422, 770.0, -550.0), (1114.70422, 550.0, -550.0), (1114.70422, 330.0, -550.0), (1114.70422, 110.0, -550.0), (1114.70422, -110.0, -550.0), (1114.70422, -330.0, -550.0), (1114.70422, -550.0, -550.0), (1114.70422, -770.0, -550.0), (1114.70422, -990.0, -550.0), (1114.70422, 990.0, -330.0), (1114.70422, 770.0, -330.0), (1114.70422, 550.0, -330.0), (1114.70422, 330.0, -330.0), (1114.70422, 110.0, -330.0), (1114.70422, -110.0, -330.0), (1114.70422, -330.0, -330.0), (1114.70422, -550.0, -330.0), (1114.70422, -770.0, -330.0), (1114.70422, -990.0, -330.0), (1114.70422, 990.0, -110.0), (1114.70422, 770.0, -110.0), (1114.70422, 550.0, -110.0), (1114.70422, 330.0, -110.0), (1114.70422, 110.0, -110.0), (1114.70422, -110.0, -110.0), (1114.70422, -330.0, -110.0), (1114.70422, -550.0, -110.0), (1114.70422, -770.0, -110.0), (1114.70422, -990.0, -110.0), (1114.70422, 990.0, 110.0), (1114.70422, 770.0, 110.0), (1114.70422, 550.0, 110.0), (1114.70422, 330.0, 110.0), (1114.70422, 110.0, 110.0), (1114.70422, -110.0, 110.0), (1114.70422, -330.0, 110.0), (1114.70422, -550.0, 110.0), (1114.70422, -770.0, 110.0), (1114.70422, -990.0, 110.0), (1114.70422, 990.0, 330.0), (1114.70422, 770.0, 330.0), (1114.70422, 550.0, 330.0), (1114.70422, 330.0, 330.0), (1114.70422, 110.0, 330.0), (1114.70422, -110.0, 330.0), (1114.70422, -330.0, 330.0), (1114.70422, -550.0, 330.0), (1114.70422, -770.0, 330.0), (1114.70422, -990.0, 330.0), (1114.70422, 990.0, 550.0), (1114.70422, 770.0, 550.0), (1114.70422, 550.0, 550.0), (1114.70422, 330.0, 550.0), (1114.70422, 110.0, 550.0), (1114.70422, -110.0, 550.0), (1114.70422, -330.0, 550.0), (1114.70422, -550.0, 550.0), (1114.70422, -770.0, 550.0), (1114.70422, -990.0, 550.0), (1114.70422, 990.0, 770.0), (1114.70422, 770.0, 770.0), (1114.70422, 550.0, 770.0), (1114.70422, 330.0, 770.0), (1114.70422, 110.0, 770.0), (1114.70422, -110.0, 770.0), (1114.70422, -330.0, 770.0), (1114.70422, -550.0, 770.0), (1114.70422, -770.0, 770.0), (1114.70422, -990.0, 770.0), (1114.70422, 990.0, 990.0), (1114.70422, 770.0, 990.0), (1114.70422, 550.0, 990.0), (1114.70422, 330.0, 990.0), (1114.70422, 110.0, 990.0), (1114.70422, -110.0, 990.0), (1114.70422, -330.0, 990.0), (1114.70422, -550.0, 990.0), (1114.70422, -770.0, 990.0), (1114.70422, -990.0, 990.0), (-1114.70422, 990.0, 990.0), (-1114.70422, 770.0, 990.0), (-1114.70422, 550.0, 990.0), (-1114.70422, 330.0, 990.0), (-1114.70422, 110.0, 990.0), (-1114.70422, -110.0, 990.0), (-1114.70422, -330.0, 990.0), (-1114.70422, -550.0, 990.0), (-1114.70422, -770.0, 990.0), (-1114.70422, -990.0, 990.0), (-1114.70422, 990.0, 770.0), (-1114.70422, 770.0, 770.0), (-1114.70422, 550.0, 770.0), (-1114.70422, 330.0, 770.0), (-1114.70422, 110.0, 770.0), (-1114.70422, -110.0, 770.0), (-1114.70422, -330.0, 770.0), (-1114.70422, -550.0, 770.0), (-1114.70422, -770.0, 770.0), (-1114.70422, -990.0, 770.0), (-1114.70422, 990.0, 550.0), (-1114.70422, 770.0, 550.0), (-1114.70422, 550.0, 550.0), (-1114.70422, 330.0, 550.0), (-1114.70422, 110.0, 550.0), (-1114.70422, -110.0, 550.0), (-1114.70422, -330.0, 550.0), (-1114.70422, -550.0, 550.0), (-1114.70422, -770.0, 550.0), (-1114.70422, -990.0, 550.0), (-1114.70422, 990.0, 330.0), (-1114.70422, 770.0, 330.0), (-1114.70422, 550.0, 330.0), (-1114.70422, 330.0, 330.0), (-1114.70422, 110.0, 330.0), (-1114.70422, -110.0, 330.0), (-1114.70422, -330.0, 330.0), (-1114.70422, -550.0, 330.0), (-1114.70422, -770.0, 330.0), (-1114.70422, -990.0, 330.0), (-1114.70422, 990.0, 110.0), (-1114.70422, 770.0, 110.0), (-1114.70422, 550.0, 110.0), (-1114.70422, 330.0, 110.0), (-1114.70422, 110.0, 110.0), (-1114.70422, -110.0, 110.0), (-1114.70422, -330.0, 110.0), (-1114.70422, -550.0, 110.0), (-1114.70422, -770.0, 110.0), (-1114.70422, -990.0, 110.0), (-1114.70422, 990.0, -110.0), (-1114.70422, 770.0, -110.0), (-1114.70422, 550.0, -110.0), (-1114.70422, 330.0, -110.0), (-1114.70422, 110.0, -110.0), (-1114.70422, -110.0, -110.0), (-1114.70422, -330.0, -110.0), (-1114.70422, -550.0, -110.0), (-1114.70422, -770.0, -110.0), (-1114.70422, -990.0, -110.0), (-1114.70422, 990.0, -330.0), (-1114.70422, 770.0, -330.0), (-1114.70422, 550.0, -330.0), (-1114.70422, 330.0, -330.0), (-1114.70422, 110.0, -330.0), (-1114.70422, -110.0, -330.0), (-1114.70422, -330.0, -330.0), (-1114.70422, -550.0, -330.0), (-1114.70422, -770.0, -330.0), (-1114.70422, -990.0, -330.0), (-1114.70422, 990.0, -550.0), (-1114.70422, 770.0, -550.0), (-1114.70422, 550.0, -550.0), (-1114.70422, 330.0, -550.0), (-1114.70422, 110.0, -550.0), (-1114.70422, -110.0, -550.0), (-1114.70422, -330.0, -550.0), (-1114.70422, -550.0, -550.0), (-1114.70422, -770.0, -550.0), (-1114.70422, -990.0, -550.0), (-1114.70422, 990.0, -770.0), (-1114.70422, 770.0, -770.0), (-1114.70422, 550.0, -770.0), (-1114.70422, 330.0, -770.0), (-1114.70422, 110.0, -770.0), (-1114.70422, -110.0, -770.0), (-1114.70422, -330.0, -770.0), (-1114.70422, -550.0, -770.0), (-1114.70422, -770.0, -770.0), (-1114.70422, -990.0, -770.0), (-1114.70422, 990.0, -990.0), (-1114.70422, 770.0, -990.0), (-1114.70422, 550.0, -990.0), (-1114.70422, 330.0, -990.0), (-1114.70422, 110.0, -990.0), (-1114.70422, -110.0, -990.0), (-1114.70422, -330.0, -990.0), (-1114.70422, -550.0, -990.0), (-1114.70422, -770.0, -990.0), (-1114.70422, -990.0, -990.0), (990.0, 1114.70422, -990.0), (990.0, 1114.70422, -770.0), (990.0, 1114.70422, -550.0), (990.0, 1114.70422, -330.0), (990.0, 1114.70422, -110.0), (990.0, 1114.70422, 110.0), (990.0, 1114.70422, 330.0), (990.0, 1114.70422, 550.0), (990.0, 1114.70422, 770.0), (990.0, 1114.70422, 990.0), (770.0, 1114.70422, -990.0), (770.0, 1114.70422, -770.0), (770.0, 1114.70422, -550.0), (770.0, 1114.70422, -330.0), (770.0, 1114.70422, -110.0), (770.0, 1114.70422, 110.0), (770.0, 1114.70422, 330.0), (770.0, 1114.70422, 550.0), (770.0, 1114.70422, 770.0), (770.0, 1114.70422, 990.0), (550.0, 1114.70422, -990.0), (550.0, 1114.70422, -770.0), (550.0, 1114.70422, -550.0), (550.0, 1114.70422, -330.0), (550.0, 1114.70422, -110.0), (550.0, 1114.70422, 110.0), (550.0, 1114.70422, 330.0), (550.0, 1114.70422, 550.0), (550.0, 1114.70422, 770.0), (550.0, 1114.70422, 990.0), (330.0, 1114.70422, -990.0), (330.0, 1114.70422, -770.0), (330.0, 1114.70422, -550.0), (330.0, 1114.70422, -330.0), (330.0, 1114.70422, -110.0), (330.0, 1114.70422, 110.0), (330.0, 1114.70422, 330.0), (330.0, 1114.70422, 550.0), (330.0, 1114.70422, 770.0), (330.0, 1114.70422, 990.0), (110.0, 1114.70422, -990.0), (110.0, 1114.70422, -770.0), (110.0, 1114.70422, -550.0), (110.0, 1114.70422, -330.0), (110.0, 1114.70422, -110.0), (110.0, 1114.70422, 110.0), (110.0, 1114.70422, 330.0), (110.0, 1114.70422, 550.0), (110.0, 1114.70422, 770.0), (110.0, 1114.70422, 990.0), (-110.0, 1114.70422, -990.0), (-110.0, 1114.70422, -770.0), (-110.0, 1114.70422, -550.0), (-110.0, 1114.70422, -330.0), (-110.0, 1114.70422, -110.0), (-110.0, 1114.70422, 110.0), (-110.0, 1114.70422, 330.0), (-110.0, 1114.70422, 550.0), (-110.0, 1114.70422, 770.0), (-110.0, 1114.70422, 990.0), (-330.0, 1114.70422, -990.0), (-330.0, 1114.70422, -770.0), (-330.0, 1114.70422, -550.0), (-330.0, 1114.70422, -330.0), (-330.0, 1114.70422, -110.0), (-330.0, 1114.70422, 110.0), (-330.0, 1114.70422, 330.0), (-330.0, 1114.70422, 550.0), (-330.0, 1114.70422, 770.0), (-330.0, 1114.70422, 990.0), (-550.0, 1114.70422, -990.0), (-550.0, 1114.70422, -770.0), (-550.0, 1114.70422, -550.0), (-550.0, 1114.70422, -330.0), (-550.0, 1114.70422, -110.0), (-550.0, 1114.70422, 110.0), (-550.0, 1114.70422, 330.0), (-550.0, 1114.70422, 550.0), (-550.0, 1114.70422, 770.0), (-550.0, 1114.70422, 990.0), (-770.0, 1114.70422, -990.0), (-770.0, 1114.70422, -770.0), (-770.0, 1114.70422, -550.0), (-770.0, 1114.70422, -330.0), (-770.0, 1114.70422, -110.0), (-770.0, 1114.70422, 110.0), (-770.0, 1114.70422, 330.0), (-770.0, 1114.70422, 550.0), (-770.0, 1114.70422, 770.0), (-770.0, 1114.70422, 990.0), (-990.0, 1114.70422, -990.0), (-990.0, 1114.70422, -770.0), (-990.0, 1114.70422, -550.0), (-990.0, 1114.70422, -330.0), (-990.0, 1114.70422, -110.0), (-990.0, 1114.70422, 110.0), (-990.0, 1114.70422, 330.0), (-990.0, 1114.70422, 550.0), (-990.0, 1114.70422, 770.0), (-990.0, 1114.70422, 990.0), (990.0, -1114.70422, 990.0), (990.0, -1114.70422, 770.0), (990.0, -1114.70422, 550.0), (990.0, -1114.70422, 330.0), (990.0, -1114.70422, 110.0), (990.0, -1114.70422, -110.0), (990.0, -1114.70422, -330.0), (990.0, -1114.70422, -550.0), (990.0, -1114.70422, -770.0), (990.0, -1114.70422, -990.0), (770.0, -1114.70422, 990.0), (770.0, -1114.70422, 770.0), (770.0, -1114.70422, 550.0), (770.0, -1114.70422, 330.0), (770.0, -1114.70422, 110.0), (770.0, -1114.70422, -110.0), (770.0, -1114.70422, -330.0), (770.0, -1114.70422, -550.0), (770.0, -1114.70422, -770.0), (770.0, -1114.70422, -990.0), (550.0, -1114.70422, 990.0), (550.0, -1114.70422, 770.0), (550.0, -1114.70422, 550.0), (550.0, -1114.70422, 330.0), (550.0, -1114.70422, 110.0), (550.0, -1114.70422, -110.0), (550.0, -1114.70422, -330.0), (550.0, -1114.70422, -550.0), (550.0, -1114.70422, -770.0), (550.0, -1114.70422, -990.0), (330.0, -1114.70422, 990.0), (330.0, -1114.70422, 770.0), (330.0, -1114.70422, 550.0), (330.0, -1114.70422, 330.0), (330.0, -1114.70422, 110.0), (330.0, -1114.70422, -110.0), (330.0, -1114.70422, -330.0), (330.0, -1114.70422, -550.0), (330.0, -1114.70422, -770.0), (330.0, -1114.70422, -990.0), (110.0, -1114.70422, 990.0), (110.0, -1114.70422, 770.0), (110.0, -1114.70422, 550.0), (110.0, -1114.70422, 330.0), (110.0, -1114.70422, 110.0), (110.0, -1114.70422, -110.0), (110.0, -1114.70422, -330.0), (110.0, -1114.70422, -550.0), (110.0, -1114.70422, -770.0), (110.0, -1114.70422, -990.0), (-110.0, -1114.70422, 990.0), (-110.0, -1114.70422, 770.0), (-110.0, -1114.70422, 550.0), (-110.0, -1114.70422, 330.0), (-110.0, -1114.70422, 110.0), (-110.0, -1114.70422, -110.0), (-110.0, -1114.70422, -330.0), (-110.0, -1114.70422, -550.0), (-110.0, -1114.70422, -770.0), (-110.0, -1114.70422, -990.0), (-330.0, -1114.70422, 990.0), (-330.0, -1114.70422, 770.0), (-330.0, -1114.70422, 550.0), (-330.0, -1114.70422, 330.0), (-330.0, -1114.70422, 110.0), (-330.0, -1114.70422, -110.0), (-330.0, -1114.70422, -330.0), (-330.0, -1114.70422, -550.0), (-330.0, -1114.70422, -770.0), (-330.0, -1114.70422, -990.0), (-550.0, -1114.70422, 990.0), (-550.0, -1114.70422, 770.0), (-550.0, -1114.70422, 550.0), (-550.0, -1114.70422, 330.0), (-550.0, -1114.70422, 110.0), (-550.0, -1114.70422, -110.0), (-550.0, -1114.70422, -330.0), (-550.0, -1114.70422, -550.0), (-550.0, -1114.70422, -770.0), (-550.0, -1114.70422, -990.0), (-770.0, -1114.70422, 990.0), (-770.0, -1114.70422, 770.0), (-770.0, -1114.70422, 550.0), (-770.0, -1114.70422, 330.0), (-770.0, -1114.70422, 110.0), (-770.0, -1114.70422, -110.0), (-770.0, -1114.70422, -330.0), (-770.0, -1114.70422, -550.0), (-770.0, -1114.70422, -770.0), (-770.0, -1114.70422, -990.0), (-990.0, -1114.70422, 990.0), (-990.0, -1114.70422, 770.0), (-990.0, -1114.70422, 550.0), (-990.0, -1114.70422, 330.0), (-990.0, -1114.70422, 110.0), (-990.0, -1114.70422, -110.0), (-990.0, -1114.70422, -330.0), (-990.0, -1114.70422, -550.0), (-990.0, -1114.70422, -770.0), (-990.0, -1114.70422, -990.0), (990.0, 990.0, 1114.70422), (990.0, 770.0, 1114.70422), (990.0, 550.0, 1114.70422), (990.0, 330.0, 1114.70422), (990.0, 110.0, 1114.70422), (990.0, -110.0, 1114.70422), (990.0, -330.0, 1114.70422), (990.0, -550.0, 1114.70422), (990.0, -770.0, 1114.70422), (990.0, -990.0, 1114.70422), (770.0, 990.0, 1114.70422), (770.0, 770.0, 1114.70422), (770.0, 550.0, 1114.70422), (770.0, 330.0, 1114.70422), (770.0, 110.0, 1114.70422), (770.0, -110.0, 1114.70422), (770.0, -330.0, 1114.70422), (770.0, -550.0, 1114.70422), (770.0, -770.0, 1114.70422), (770.0, -990.0, 1114.70422), (550.0, 990.0, 1114.70422), (550.0, 770.0, 1114.70422), (550.0, 550.0, 1114.70422), (550.0, 330.0, 1114.70422), (550.0, 110.0, 1114.70422), (550.0, -110.0, 1114.70422), (550.0, -330.0, 1114.70422), (550.0, -550.0, 1114.70422), (550.0, -770.0, 1114.70422), (550.0, -990.0, 1114.70422), (330.0, 990.0, 1114.70422), (330.0, 770.0, 1114.70422), (330.0, 550.0, 1114.70422), (330.0, 330.0, 1114.70422), (330.0, 110.0, 1114.70422), (330.0, -110.0, 1114.70422), (330.0, -330.0, 1114.70422), (330.0, -550.0, 1114.70422), (330.0, -770.0, 1114.70422), (330.0, -990.0, 1114.70422), (110.0, 990.0, 1114.70422), (110.0, 770.0, 1114.70422), (110.0, 550.0, 1114.70422), (110.0, 330.0, 1114.70422), (110.0, 110.0, 1114.70422), (110.0, -110.0, 1114.70422), (110.0, -330.0, 1114.70422), (110.0, -550.0, 1114.70422), (110.0, -770.0, 1114.70422), (110.0, -990.0, 1114.70422), (-110.0, 990.0, 1114.70422), (-110.0, 770.0, 1114.70422), (-110.0, 550.0, 1114.70422), (-110.0, 330.0, 1114.70422), (-110.0, 110.0, 1114.70422), (-110.0, -110.0, 1114.70422), (-110.0, -330.0, 1114.70422), (-110.0, -550.0, 1114.70422), (-110.0, -770.0, 1114.70422), (-110.0, -990.0, 1114.70422), (-330.0, 990.0, 1114.70422), (-330.0, 770.0, 1114.70422), (-330.0, 550.0, 1114.70422), (-330.0, 330.0, 1114.70422), (-330.0, 110.0, 1114.70422), (-330.0, -110.0, 1114.70422), (-330.0, -330.0, 1114.70422), (-330.0, -550.0, 1114.70422), (-330.0, -770.0, 1114.70422), (-330.0, -990.0, 1114.70422), (-550.0, 990.0, 1114.70422), (-550.0, 770.0, 1114.70422), (-550.0, 550.0, 1114.70422), (-550.0, 330.0, 1114.70422), (-550.0, 110.0, 1114.70422), (-550.0, -110.0, 1114.70422), (-550.0, -330.0, 1114.70422), (-550.0, -550.0, 1114.70422), (-550.0, -770.0, 1114.70422), (-550.0, -990.0, 1114.70422), (-770.0, 990.0, 1114.70422), (-770.0, 770.0, 1114.70422), (-770.0, 550.0, 1114.70422), (-770.0, 330.0, 1114.70422), (-770.0, 110.0, 1114.70422), (-770.0, -110.0, 1114.70422), (-770.0, -330.0, 1114.70422), (-770.0, -550.0, 1114.70422), (-770.0, -770.0, 1114.70422), (-770.0, -990.0, 1114.70422), (-990.0, 990.0, 1114.70422), (-990.0, 770.0, 1114.70422), (-990.0, 550.0, 1114.70422), (-990.0, 330.0, 1114.70422), (-990.0, 110.0, 1114.70422), (-990.0, -110.0, 1114.70422), (-990.0, -330.0, 1114.70422), (-990.0, -550.0, 1114.70422), (-990.0, -770.0, 1114.70422), (-990.0, -990.0, 1114.70422), (-990.0, -990.0, -1114.70422), (-990.0, -770.0, -1114.70422), (-990.0, -550.0, -1114.70422), (-990.0, -330.0, -1114.70422), (-990.0, -110.0, -1114.70422), (-990.0, 110.0, -1114.70422), (-990.0, 330.0, -1114.70422), (-990.0, 550.0, -1114.70422), (-990.0, 770.0, -1114.70422), (-990.0, 990.0, -1114.70422), (-770.0, -990.0, -1114.70422), (-770.0, -770.0, -1114.70422), (-770.0, -550.0, -1114.70422), (-770.0, -330.0, -1114.70422), (-770.0, -110.0, -1114.70422), (-770.0, 110.0, -1114.70422), (-770.0, 330.0, -1114.70422), (-770.0, 550.0, -1114.70422), (-770.0, 770.0, -1114.70422), (-770.0, 990.0, -1114.70422), (-550.0, -990.0, -1114.70422), (-550.0, -770.0, -1114.70422), (-550.0, -550.0, -1114.70422), (-550.0, -330.0, -1114.70422), (-550.0, -110.0, -1114.70422), (-550.0, 110.0, -1114.70422), (-550.0, 330.0, -1114.70422), (-550.0, 550.0, -1114.70422), (-550.0, 770.0, -1114.70422), (-550.0, 990.0, -1114.70422), (-330.0, -990.0, -1114.70422), (-330.0, -770.0, -1114.70422), (-330.0, -550.0, -1114.70422), (-330.0, -330.0, -1114.70422), (-330.0, -110.0, -1114.70422), (-330.0, 110.0, -1114.70422), (-330.0, 330.0, -1114.70422), (-330.0, 550.0, -1114.70422), (-330.0, 770.0, -1114.70422), (-330.0, 990.0, -1114.70422), (-110.0, -990.0, -1114.70422), (-110.0, -770.0, -1114.70422), (-110.0, -550.0, -1114.70422), (-110.0, -330.0, -1114.70422), (-110.0, -110.0, -1114.70422), (-110.0, 110.0, -1114.70422), (-110.0, 330.0, -1114.70422), (-110.0, 550.0, -1114.70422), (-110.0, 770.0, -1114.70422), (-110.0, 990.0, -1114.70422), (110.0, -990.0, -1114.70422), (110.0, -770.0, -1114.70422), (110.0, -550.0, -1114.70422), (110.0, -330.0, -1114.70422), (110.0, -110.0, -1114.70422), (110.0, 110.0, -1114.70422), (110.0, 330.0, -1114.70422), (110.0, 550.0, -1114.70422), (110.0, 770.0, -1114.70422), (110.0, 990.0, -1114.70422), (330.0, -990.0, -1114.70422), (330.0, -770.0, -1114.70422), (330.0, -550.0, -1114.70422), (330.0, -330.0, -1114.70422), (330.0, -110.0, -1114.70422), (330.0, 110.0, -1114.70422), (330.0, 330.0, -1114.70422), (330.0, 550.0, -1114.70422), (330.0, 770.0, -1114.70422), (330.0, 990.0, -1114.70422), (550.0, -990.0, -1114.70422), (550.0, -770.0, -1114.70422), (550.0, -550.0, -1114.70422), (550.0, -330.0, -1114.70422), (550.0, -110.0, -1114.70422), (550.0, 110.0, -1114.70422), (550.0, 330.0, -1114.70422), (550.0, 550.0, -1114.70422), (550.0, 770.0, -1114.70422), (550.0, 990.0, -1114.70422), (770.0, -990.0, -1114.70422), (770.0, -770.0, -1114.70422), (770.0, -550.0, -1114.70422), (770.0, -330.0, -1114.70422), (770.0, -110.0, -1114.70422), (770.0, 110.0, -1114.70422), (770.0, 330.0, -1114.70422), (770.0, 550.0, -1114.70422), (770.0, 770.0, -1114.70422), (770.0, 990.0, -1114.70422), (990.0, -990.0, -1114.70422), (990.0, -770.0, -1114.70422), (990.0, -550.0, -1114.70422), (990.0, -330.0, -1114.70422), (990.0, -110.0, -1114.70422), (990.0, 110.0, -1114.70422), (990.0, 330.0, -1114.70422), (990.0, 550.0, -1114.70422), (990.0, 770.0, -1114.70422), (990.0, 990.0, -1114.70422)]\n",
      "['+x', '+x', '+x', '+x', '+x', '+x', '+x', '+x', '+x', '+x', '+x', '+x', '+x', '+x', '+x', '+x', '+x', '+x', '+x', '+x', '+x', '+x', '+x', '+x', '+x', '+x', '+x', '+x', '+x', '+x', '+x', '+x', '+x', '+x', '+x', '+x', '+x', '+x', '+x', '+x', '+x', '+x', '+x', '+x', '+x', '+x', '+x', '+x', '+x', '+x', '+x', '+x', '+x', '+x', '+x', '+x', '+x', '+x', '+x', '+x', '+x', '+x', '+x', '+x', '+x', '+x', '+x', '+x', '+x', '+x', '+x', '+x', '+x', '+x', '+x', '+x', '+x', '+x', '+x', '+x', '+x', '+x', '+x', '+x', '+x', '+x', '+x', '+x', '+x', '+x', '+x', '+x', '+x', '+x', '+x', '+x', '+x', '+x', '+x', '+x', '-x', '-x', '-x', '-x', '-x', '-x', '-x', '-x', '-x', '-x', '-x', '-x', '-x', '-x', '-x', '-x', '-x', '-x', '-x', '-x', '-x', '-x', '-x', '-x', '-x', '-x', '-x', '-x', '-x', '-x', '-x', '-x', '-x', '-x', '-x', '-x', '-x', '-x', '-x', '-x', '-x', '-x', '-x', '-x', '-x', '-x', '-x', '-x', '-x', '-x', '-x', '-x', '-x', '-x', '-x', '-x', '-x', '-x', '-x', '-x', '-x', '-x', '-x', '-x', '-x', '-x', '-x', '-x', '-x', '-x', '-x', '-x', '-x', '-x', '-x', '-x', '-x', '-x', '-x', '-x', '-x', '-x', '-x', '-x', '-x', '-x', '-x', '-x', '-x', '-x', '-x', '-x', '-x', '-x', '-x', '-x', '-x', '-x', '-x', '-x', '+y', '+y', '+y', '+y', '+y', '+y', '+y', '+y', '+y', '+y', '+y', '+y', '+y', '+y', '+y', '+y', '+y', '+y', '+y', '+y', '+y', '+y', '+y', '+y', '+y', '+y', '+y', '+y', '+y', '+y', '+y', '+y', '+y', '+y', '+y', '+y', '+y', '+y', '+y', '+y', '+y', '+y', '+y', '+y', '+y', '+y', '+y', '+y', '+y', '+y', '+y', '+y', '+y', '+y', '+y', '+y', '+y', '+y', '+y', '+y', '+y', '+y', '+y', '+y', '+y', '+y', '+y', '+y', '+y', '+y', '+y', '+y', '+y', '+y', '+y', '+y', '+y', '+y', '+y', '+y', '+y', '+y', '+y', '+y', '+y', '+y', '+y', '+y', '+y', '+y', '+y', '+y', '+y', '+y', '+y', '+y', '+y', '+y', '+y', '+y', '-y', '-y', '-y', '-y', '-y', '-y', '-y', '-y', '-y', '-y', '-y', '-y', '-y', '-y', '-y', '-y', '-y', '-y', '-y', '-y', '-y', '-y', '-y', '-y', '-y', '-y', '-y', '-y', '-y', '-y', '-y', '-y', '-y', '-y', '-y', '-y', '-y', '-y', '-y', '-y', '-y', '-y', '-y', '-y', '-y', '-y', '-y', '-y', '-y', '-y', '-y', '-y', '-y', '-y', '-y', '-y', '-y', '-y', '-y', '-y', '-y', '-y', '-y', '-y', '-y', '-y', '-y', '-y', '-y', '-y', '-y', '-y', '-y', '-y', '-y', '-y', '-y', '-y', '-y', '-y', '-y', '-y', '-y', '-y', '-y', '-y', '-y', '-y', '-y', '-y', '-y', '-y', '-y', '-y', '-y', '-y', '-y', '-y', '-y', '-y', '+z', '+z', '+z', '+z', '+z', '+z', '+z', '+z', '+z', '+z', '+z', '+z', '+z', '+z', '+z', '+z', '+z', '+z', '+z', '+z', '+z', '+z', '+z', '+z', '+z', '+z', '+z', '+z', '+z', '+z', '+z', '+z', '+z', '+z', '+z', '+z', '+z', '+z', '+z', '+z', '+z', '+z', '+z', '+z', '+z', '+z', '+z', '+z', '+z', '+z', '+z', '+z', '+z', '+z', '+z', '+z', '+z', '+z', '+z', '+z', '+z', '+z', '+z', '+z', '+z', '+z', '+z', '+z', '+z', '+z', '+z', '+z', '+z', '+z', '+z', '+z', '+z', '+z', '+z', '+z', '+z', '+z', '+z', '+z', '+z', '+z', '+z', '+z', '+z', '+z', '+z', '+z', '+z', '+z', '+z', '+z', '+z', '+z', '+z', '+z', '-z', '-z', '-z', '-z', '-z', '-z', '-z', '-z', '-z', '-z', '-z', '-z', '-z', '-z', '-z', '-z', '-z', '-z', '-z', '-z', '-z', '-z', '-z', '-z', '-z', '-z', '-z', '-z', '-z', '-z', '-z', '-z', '-z', '-z', '-z', '-z', '-z', '-z', '-z', '-z', '-z', '-z', '-z', '-z', '-z', '-z', '-z', '-z', '-z', '-z', '-z', '-z', '-z', '-z', '-z', '-z', '-z', '-z', '-z', '-z', '-z', '-z', '-z', '-z', '-z', '-z', '-z', '-z', '-z', '-z', '-z', '-z', '-z', '-z', '-z', '-z', '-z', '-z', '-z', '-z', '-z', '-z', '-z', '-z', '-z', '-z', '-z', '-z', '-z', '-z', '-z', '-z', '-z', '-z', '-z', '-z', '-z', '-z', '-z', '-z']\n",
      "['photoSensor_hits;1', 'primary;1', 'photon;1']\n"
     ]
    }
   ],
   "source": [
    "# file_input_name = '../runs/calibration/calibration_-0.85000_-0.85000_-0.85000.root'\n",
    "# file_input_name = '../runs/calibration/calibration_-0.85000_-0.85000_-0.85000.root'\n",
    "# file_input_name = '../runs/output_NEST_e-_1MeV.root'\n",
    "file_input_name = '../build/event_total.root'\n",
    "# file_input_name = '../build/event.root'\n",
    "histogram_directory = 'photoSensor_hits_histograms'\n",
    "file_input_pyroot = ROOT.TFile(file_input_name)\n",
    "file_input_uproot = uproot.open(file_input_name)\n",
    "\n",
    "histogram_names = [name for name in file_input_uproot.keys() if \"/photoSensor_\" in name]\n",
    "print(histogram_names)\n",
    "\n",
    "histogram_titles = [file_input_pyroot.Get(name).GetTitle() for name in histogram_names]\n",
    "print(histogram_titles)\n",
    "\n",
    "histogram_positions = [(float(title.split('_')[2]), float(title.split('_')[3]), float(title.split('_')[4])) for title in histogram_titles]\n",
    "print(histogram_positions)\n",
    "\n",
    "histogram_wall = [title.split('_')[1] for title in histogram_titles]\n",
    "print(histogram_wall)\n",
    "\n",
    "tree_names = [name for name in file_input_uproot.keys() if histogram_directory not in name]\n",
    "print(tree_names)"
   ]
  },
  {
   "cell_type": "code",
   "execution_count": 4,
   "metadata": {},
   "outputs": [],
   "source": [
    "tree = file_input_uproot['photoSensor_hits;1']\n",
    "\n",
    "position_relative_x = tree['photoSensor_hits_position_relative_x'].array()\n",
    "position_relative_y = tree['photoSensor_hits_position_relative_y'].array()\n",
    "\n",
    "histogram = file_input_pyroot.Get(histogram_names[0])\n",
    "n_bins_x = histogram.GetNbinsX()\n",
    "n_bins_y = histogram.GetNbinsY()\n",
    "values = np.zeros((n_bins_x, n_bins_y))\n",
    "x_edges = []\n",
    "y_edges = []\n",
    "for i in range(1, n_bins_x + 2):\n",
    "    x_edges.append(histogram.GetXaxis().GetBinLowEdge(i))\n",
    "for i in range(1, n_bins_y + 2):\n",
    "    y_edges.append(histogram.GetYaxis().GetBinLowEdge(i))\n",
    "x_edges[ 0] -= 1e-9\n",
    "y_edges[ 0] -= 1e-9\n",
    "x_edges[-1] += 1e-9\n",
    "y_edges[-1] += 1e-9\n",
    "\n",
    "position_relative_x_bins = pd.Series(pd.cut(np.array(position_relative_x), bins=x_edges, retbins=False))\n",
    "position_relative_y_bins = pd.Series(pd.cut(np.array(position_relative_y), bins=y_edges, retbins=False))\n",
    "position_relative_x_binned = position_relative_x_bins.apply(lambda x: (x.right + x.left) / 2)\n",
    "position_relative_y_binned = position_relative_y_bins.apply(lambda x: (x.right + x.left) / 2)\n",
    "position_relative_x_nBin = position_relative_x_bins.cat.codes\n",
    "position_relative_y_nBin = position_relative_y_bins.cat.codes\n",
    "\n",
    "position_initial_x = tree['photoSensor_hits_position_initial_x'].array()\n",
    "position_initial_y = tree['photoSensor_hits_position_initial_y'].array()\n",
    "position_initial_z = tree['photoSensor_hits_position_initial_z'].array()\n",
    "\n",
    "time = tree['photoSensor_hits_time'].array()\n",
    "photoSensorID = tree['photoSensor_hits_photoSensorID'].array()\n",
    "photoSensorPosition = [(float(ID.split('_')[2]), float(ID.split('_')[3]), float(ID.split('_')[4])) for ID in photoSensorID]\n",
    "photoSensorWall = [ID.split('_')[1] for ID in photoSensorID]\n",
    "photoSensorDirection = []\n",
    "for wall in photoSensorWall:\n",
    "    if wall == '+x':\n",
    "        photoSensorDirection.append([-1, 0, 0])\n",
    "    elif wall == '-x':\n",
    "        photoSensorDirection.append([+1, 0, 0])\n",
    "    elif wall == '+y':\n",
    "        photoSensorDirection.append([0, -1, 0])\n",
    "    elif wall == '-y':\n",
    "        photoSensorDirection.append([0, +1, 0])\n",
    "    elif wall == '+z':\n",
    "        photoSensorDirection.append([0, 0, -1])\n",
    "    elif wall == '-z':\n",
    "        photoSensorDirection.append([0, 0, +1])\n",
    "\n",
    "df_hits = pd.DataFrame(columns=['sensor_name', 'sensor_direction', 'sensor_position', 'relativePosition', 'relativePosition_binned', 'time'])\n",
    "df_hits['sensor_name'] = photoSensorID\n",
    "df_hits['sensor_direction'] = photoSensorDirection\n",
    "df_hits['sensor_position'] = photoSensorPosition\n",
    "df_hits['relativePosition'] = list(zip(position_relative_x, position_relative_y))\n",
    "df_hits['relativePosition_binned'] = list(zip(position_relative_x_binned, position_relative_y_binned))\n",
    "df_hits['relativePosition_nBin'] = list(zip(position_relative_x_nBin, position_relative_y_nBin))\n",
    "df_hits['initialPosition'] = list(zip(position_initial_x, position_initial_y, position_initial_z))\n",
    "df_hits['time'] = time\n",
    "\n",
    "# print(df_hits)"
   ]
  },
  {
   "cell_type": "code",
   "execution_count": 5,
   "metadata": {},
   "outputs": [],
   "source": [
    "primary_tree = file_input_uproot['primary;1']\n",
    "position_x = primary_tree['primary_position_x'].array()\n",
    "position_y = primary_tree['primary_position_y'].array()\n",
    "position_z = primary_tree['primary_position_z'].array()\n",
    "time = primary_tree['primary_time'].array()\n",
    "\n",
    "df_primary = pd.DataFrame(columns=['position', 'time'])\n",
    "df_primary['position'] = list(zip(position_x, position_y, position_z))\n",
    "df_primary['time'] = time"
   ]
  },
  {
   "cell_type": "markdown",
   "metadata": {},
   "source": [
    "# Constants"
   ]
  },
  {
   "cell_type": "code",
   "execution_count": 6,
   "metadata": {},
   "outputs": [],
   "source": [
    "CM_PER_RAD = 34.14230382\n",
    "MM_PER_CM = 10\n",
    "CM_PER_M = 100\n",
    "Y_LIM = 10 * MM_PER_CM\n",
    "C_M = 299792458\n",
    "C_CM = C_M * CM_PER_M\n",
    "N_XENON = 1.84\n",
    "C_XENON_M_PER_S = C_M / N_XENON\n",
    "C_XENON_CM_PER_S = C_XENON_M_PER_S * CM_PER_M\n",
    "C_XENON_MM_PER_S = C_XENON_CM_PER_S * MM_PER_CM\n",
    "NS_PER_S = 1e9\n",
    "C_XENON_MM_PER_NS = C_XENON_MM_PER_S / NS_PER_S"
   ]
  },
  {
   "cell_type": "markdown",
   "metadata": {},
   "source": [
    "# Define Reconstruction Methods"
   ]
  },
  {
   "cell_type": "code",
   "execution_count": 7,
   "metadata": {},
   "outputs": [],
   "source": [
    "def make_RThetaPhi(df_hits):\n",
    "    def rToTheta(r):\n",
    "        return r/(CM_PER_RAD*MM_PER_CM)\n",
    "        \n",
    "    r_list = []\n",
    "    theta_list = []\n",
    "    phi_list = []\n",
    "\n",
    "    for index, row in tqdm.tqdm(df_hits.iterrows(), total=len(df_hits)):\n",
    "        x, y = row['relativePosition']\n",
    "        \n",
    "        r = np.sqrt(x**2 + y**2)\n",
    "        if r > Y_LIM:\n",
    "            df_hits.drop(index, inplace=True)\n",
    "            continue\n",
    "\n",
    "        theta = rToTheta(r)\n",
    "        phi = np.arctan(y / x)\n",
    "        \n",
    "        r_list.append(r)\n",
    "        theta_list.append(theta)\n",
    "        phi_list.append(phi)\n",
    "\n",
    "    df_hits['r'] = r_list\n",
    "    df_hits['theta'] = theta_list\n",
    "    df_hits['phi'] = phi_list\n",
    "\n",
    "    df_hits.reset_index(drop=True, inplace=True)"
   ]
  },
  {
   "cell_type": "code",
   "execution_count": 8,
   "metadata": {},
   "outputs": [],
   "source": [
    "def make_reconstructedVector_direction(df_hits):\n",
    "    def get_rotationMatrix(vector, target_direction):\n",
    "        vector = vector / np.linalg.norm(vector)\n",
    "        target_direction = target_direction / np.linalg.norm(target_direction)\n",
    "\n",
    "        axis_of_rotation = np.cross(vector, target_direction)\n",
    "\n",
    "        angle = np.arccos(np.dot(vector, target_direction))\n",
    "\n",
    "        rotation_matrix = np.array([[np.cos(angle) + axis_of_rotation[0]**2 * (1 - np.cos(angle)),\n",
    "                                    axis_of_rotation[0] * axis_of_rotation[1] * (1 - np.cos(angle)) - axis_of_rotation[2] * np.sin(angle),\n",
    "                                    axis_of_rotation[0] * axis_of_rotation[2] * (1 - np.cos(angle)) + axis_of_rotation[1] * np.sin(angle)],\n",
    "                                    [axis_of_rotation[1] * axis_of_rotation[0] * (1 - np.cos(angle)) + axis_of_rotation[2] * np.sin(angle),\n",
    "                                    np.cos(angle) + axis_of_rotation[1]**2 * (1 - np.cos(angle)),\n",
    "                                    axis_of_rotation[1] * axis_of_rotation[2] * (1 - np.cos(angle)) - axis_of_rotation[0] * np.sin(angle)],\n",
    "                                    [axis_of_rotation[2] * axis_of_rotation[0] * (1 - np.cos(angle)) - axis_of_rotation[1] * np.sin(angle),\n",
    "                                    axis_of_rotation[2] * axis_of_rotation[1] * (1 - np.cos(angle)) + axis_of_rotation[0] * np.sin(angle),\n",
    "                                    np.cos(angle) + axis_of_rotation[2]**2 * (1 - np.cos(angle))]])\n",
    "        return rotation_matrix\n",
    "\n",
    "    output_vectors = []\n",
    "    for _, row in df_hits.iterrows():\n",
    "        theta = row['theta']\n",
    "        phi = row['phi']\n",
    "        sensor_direction = row['sensor_direction']\n",
    "        \n",
    "        output_vector = [np.sin(theta) * np.cos(phi), np.sin(theta) * np.sin(phi), np.cos(theta)]\n",
    "        \n",
    "        rotationMatrix = get_rotationMatrix([0, 0, 1], sensor_direction)\n",
    "        rotated_vector = np.dot(rotationMatrix, output_vector)\n",
    "        \n",
    "        output_vectors.append(rotated_vector)\n",
    "\n",
    "    df_hits['reconstructedVector_direction'] = output_vectors"
   ]
  },
  {
   "cell_type": "code",
   "execution_count": 9,
   "metadata": {},
   "outputs": [],
   "source": [
    "def make_reconstructedPoint_primary_distance(df_hits, df_primary):\n",
    "    closestPoints = np.full((df_hits.shape[0], 3), -1)\n",
    "    minDistances = np.full((df_hits.shape[0], 1), -1)\n",
    "    positions = np.array(df_primary['position'].tolist())\n",
    "    for i, hit_row in tqdm.tqdm(df_hits.iterrows(), total=df_hits.shape[0]):\n",
    "        recoVectorDirection = hit_row['reconstructedVector_direction']\n",
    "        sensorPosition = hit_row['sensor_position']\n",
    "\n",
    "        vectors = positions - sensorPosition\n",
    "\n",
    "        dot_products = np.dot(vectors, recoVectorDirection)\n",
    "        projections = dot_products / np.linalg.norm(recoVectorDirection)\n",
    "        closest_points_on_line = sensorPosition + projections[:, np.newaxis] * recoVectorDirection\n",
    "        distances = np.linalg.norm(closest_points_on_line - positions, axis=1)\n",
    "\n",
    "        minDistanceIndex = np.argmin(distances)\n",
    "        closestPoints[i] = closest_points_on_line[minDistanceIndex]\n",
    "        minDistances[i] = distances[minDistanceIndex]\n",
    "\n",
    "    df_hits['reconstructedPoint_primary_distance'] = closestPoints.tolist()\n",
    "    df_hits['reconstructedPoint_primary_distance_r'] = minDistances.reshape(-1).tolist()"
   ]
  },
  {
   "cell_type": "code",
   "execution_count": 10,
   "metadata": {},
   "outputs": [],
   "source": [
    "def make_reconstructedPoint_initial_distance(df_hits):\n",
    "    recoVectorDirections = df_hits['reconstructedVector_direction'].values\n",
    "    sensorPositions = df_hits['sensor_position'].values\n",
    "    initialPositions = df_hits['initialPosition'].values\n",
    "\n",
    "    vectors = np.array([np.array(ip) - np.array(sp) for ip, sp in zip(initialPositions, sensorPositions)])\n",
    "\n",
    "    dot_products = np.array([np.dot(v, rv) for v, rv in zip(vectors, recoVectorDirections)])\n",
    "    projections = np.array([ dp / np.linalg.norm(rv) for dp, rv in zip(dot_products, recoVectorDirections)])    \n",
    "    closest_points_on_line = np.array([sp + p * rvd for sp, p, rvd in zip(sensorPositions, projections, recoVectorDirections)])\n",
    "    distances = np.linalg.norm(np.array([cpol - ip for cpol, ip in zip(closest_points_on_line, initialPositions)]), axis=1)\n",
    "\n",
    "    df_hits['reconstructedPoint_initial_distance'] = closest_points_on_line.tolist()\n",
    "    df_hits['reconstructedPoint_initial_distance_r'] = distances.tolist()"
   ]
  },
  {
   "cell_type": "markdown",
   "metadata": {},
   "source": [
    "# Get Results"
   ]
  },
  {
   "cell_type": "code",
   "execution_count": 11,
   "metadata": {},
   "outputs": [
    {
     "name": "stderr",
     "output_type": "stream",
     "text": [
      "100%|██████████| 55354/55354 [00:33<00:00, 1630.10it/s]\n",
      "100%|██████████| 55354/55354 [00:46<00:00, 1183.50it/s]\n",
      "100%|██████████| 42933/42933 [02:39<00:00, 269.74it/s]\n"
     ]
    },
    {
     "name": "stdout",
     "output_type": "stream",
     "text": [
      "[0.00, 0.00, 77.89, 143.02, 40.86, 367.74, 994.26, 360.43, 527.48, 213.03, 1630.99, 2659.01]\n"
     ]
    },
    {
     "name": "stderr",
     "output_type": "stream",
     "text": [
      "100%|██████████| 55354/55354 [00:34<00:00, 1587.87it/s]\n",
      "100%|██████████| 15677/15677 [00:05<00:00, 2709.57it/s]\n",
      "100%|██████████| 10654/10654 [00:34<00:00, 308.91it/s]\n"
     ]
    },
    {
     "name": "stdout",
     "output_type": "stream",
     "text": [
      "[0.00, 1.00, 26.91, 31.68, 24.64, 61.60, 234.08, 112.44, 119.27, 100.16, 258.99, 973.73]\n"
     ]
    },
    {
     "name": "stderr",
     "output_type": "stream",
     "text": [
      "100%|██████████| 55354/55354 [00:34<00:00, 1617.14it/s]\n",
      "100%|██████████| 7511/7511 [00:01<00:00, 5156.35it/s] \n",
      "100%|██████████| 4067/4067 [00:12<00:00, 329.00it/s]\n"
     ]
    },
    {
     "name": "stdout",
     "output_type": "stream",
     "text": [
      "[0.00, 2.00, 23.12, 20.54, 21.28, 51.68, 152.00, 99.80, 81.96, 121.93, 175.56, 698.46]\n"
     ]
    },
    {
     "name": "stderr",
     "output_type": "stream",
     "text": [
      "100%|██████████| 55354/55354 [00:34<00:00, 1593.58it/s]\n",
      "100%|██████████| 4145/4145 [00:00<00:00, 7888.58it/s]\n",
      "100%|██████████| 1425/1425 [00:03<00:00, 431.34it/s]\n"
     ]
    },
    {
     "name": "stdout",
     "output_type": "stream",
     "text": [
      "[0.00, 3.00, 21.63, 17.74, 23.20, 46.40, 81.20, 96.77, 70.81, 130.19, 166.76, 486.77]\n"
     ]
    },
    {
     "name": "stderr",
     "output_type": "stream",
     "text": [
      "100%|██████████| 55354/55354 [00:33<00:00, 1644.46it/s]\n",
      "100%|██████████| 2657/2657 [00:00<00:00, 9005.83it/s]\n",
      "100%|██████████| 510/510 [00:01<00:00, 356.64it/s]\n"
     ]
    },
    {
     "name": "stdout",
     "output_type": "stream",
     "text": [
      "[0.00, 4.00, 20.21, 11.37, 21.68, 43.76, 49.52, 88.50, 71.88, 128.37, 171.52, 487.89]\n"
     ]
    },
    {
     "name": "stderr",
     "output_type": "stream",
     "text": [
      "100%|██████████| 55354/55354 [00:33<00:00, 1656.40it/s]\n",
      "100%|██████████| 1987/1987 [00:00<00:00, 9510.27it/s]\n",
      "100%|██████████| 210/210 [00:00<00:00, 328.62it/s]\n"
     ]
    },
    {
     "name": "stdout",
     "output_type": "stream",
     "text": [
      "[0.00, 5.00, 20.31, 10.13, 20.76, 44.84, 49.57, 68.01, 62.52, 114.33, 169.74, 192.40]\n"
     ]
    },
    {
     "name": "stderr",
     "output_type": "stream",
     "text": [
      "100%|██████████| 55354/55354 [00:33<00:00, 1656.46it/s]\n",
      "100%|██████████| 1591/1591 [00:00<00:00, 10195.51it/s]\n",
      "100%|██████████| 138/138 [00:00<00:00, 485.58it/s]\n"
     ]
    },
    {
     "name": "stdout",
     "output_type": "stream",
     "text": [
      "[0.00, 6.00, 18.40, 4.33, 19.92, 22.98, 23.83, 43.23, 49.16, 21.78, 160.57, 257.96]\n"
     ]
    },
    {
     "name": "stderr",
     "output_type": "stream",
     "text": [
      "100%|██████████| 55354/55354 [00:33<00:00, 1645.74it/s]\n",
      "100%|██████████| 1353/1353 [00:00<00:00, 10016.00it/s]\n",
      "100%|██████████| 120/120 [00:00<00:00, 340.21it/s]\n"
     ]
    },
    {
     "name": "stdout",
     "output_type": "stream",
     "text": [
      "[0.00, 7.00, 19.26, 3.61, 20.96, 22.88, 23.84, 33.67, 44.08, 19.35, 163.00, 257.96]\n"
     ]
    },
    {
     "name": "stderr",
     "output_type": "stream",
     "text": [
      "100%|██████████| 55354/55354 [00:33<00:00, 1663.96it/s]\n",
      "100%|██████████| 1017/1017 [00:00<00:00, 11410.92it/s]\n",
      "100%|██████████| 112/112 [00:00<00:00, 597.74it/s]\n"
     ]
    },
    {
     "name": "stdout",
     "output_type": "stream",
     "text": [
      "[0.00, 8.00, 18.98, 3.57, 20.00, 22.88, 23.84, 34.39, 45.54, 19.35, 163.00, 257.96]\n"
     ]
    },
    {
     "name": "stderr",
     "output_type": "stream",
     "text": [
      "100%|██████████| 55354/55354 [00:33<00:00, 1667.72it/s]\n",
      "100%|██████████| 864/864 [00:00<00:00, 12177.26it/s]\n",
      "100%|██████████| 103/103 [00:00<00:00, 478.92it/s]\n"
     ]
    },
    {
     "name": "stdout",
     "output_type": "stream",
     "text": [
      "[0.00, 9.00, 19.86, 2.04, 20.96, 22.96, 23.92, 22.78, 23.61, 19.35, 21.78, 257.96]\n"
     ]
    },
    {
     "name": "stderr",
     "output_type": "stream",
     "text": [
      "100%|██████████| 55354/55354 [00:33<00:00, 1663.08it/s]\n",
      "100%|██████████| 55354/55354 [00:42<00:00, 1289.56it/s]\n",
      "100%|██████████| 42933/42933 [01:53<00:00, 379.68it/s]\n"
     ]
    },
    {
     "name": "stdout",
     "output_type": "stream",
     "text": [
      "[1.00, 0.00, 77.89, 143.02, 40.86, 367.74, 994.26, 360.43, 527.48, 213.03, 1630.99, 2659.01]\n"
     ]
    },
    {
     "name": "stderr",
     "output_type": "stream",
     "text": [
      "100%|██████████| 55354/55354 [00:34<00:00, 1609.36it/s]\n",
      "100%|██████████| 33708/33708 [00:18<00:00, 1850.43it/s]\n",
      "100%|██████████| 25683/25683 [01:10<00:00, 362.82it/s]\n"
     ]
    },
    {
     "name": "stdout",
     "output_type": "stream",
     "text": [
      "[1.00, 1.00, 32.22, 43.15, 21.72, 101.36, 318.56, 141.37, 183.25, 113.87, 482.85, 1334.33]\n"
     ]
    },
    {
     "name": "stderr",
     "output_type": "stream",
     "text": [
      "100%|██████████| 55354/55354 [00:34<00:00, 1619.66it/s]\n",
      "100%|██████████| 25672/25672 [00:11<00:00, 2251.50it/s]\n",
      "100%|██████████| 19112/19112 [00:56<00:00, 339.10it/s]\n"
     ]
    },
    {
     "name": "stdout",
     "output_type": "stream",
     "text": [
      "[1.00, 2.00, 27.47, 31.42, 22.88, 68.64, 228.80, 113.08, 120.88, 100.16, 258.99, 953.88]\n"
     ]
    },
    {
     "name": "stderr",
     "output_type": "stream",
     "text": [
      "100%|██████████| 55354/55354 [00:34<00:00, 1591.48it/s]\n",
      "100%|██████████| 21473/21473 [00:08<00:00, 2669.33it/s]\n",
      "100%|██████████| 15683/15683 [00:33<00:00, 466.70it/s]\n"
     ]
    },
    {
     "name": "stdout",
     "output_type": "stream",
     "text": [
      "[1.00, 3.00, 25.44, 25.90, 22.20, 62.16, 213.12, 105.13, 98.28, 115.05, 200.66, 842.78]\n"
     ]
    },
    {
     "name": "stderr",
     "output_type": "stream",
     "text": [
      "100%|██████████| 55354/55354 [00:35<00:00, 1572.14it/s]\n",
      "100%|██████████| 18712/18712 [00:06<00:00, 2984.79it/s]\n",
      "100%|██████████| 13403/13403 [00:38<00:00, 345.99it/s]\n"
     ]
    },
    {
     "name": "stdout",
     "output_type": "stream",
     "text": [
      "[1.00, 4.00, 24.37, 22.83, 24.70, 59.28, 202.54, 100.50, 84.49, 110.46, 183.51, 792.22]\n"
     ]
    },
    {
     "name": "stderr",
     "output_type": "stream",
     "text": [
      "100%|██████████| 55354/55354 [00:34<00:00, 1596.06it/s]\n",
      "100%|██████████| 16721/16721 [00:05<00:00, 3057.44it/s]\n",
      "100%|██████████| 11822/11822 [00:45<00:00, 260.81it/s]\n"
     ]
    },
    {
     "name": "stdout",
     "output_type": "stream",
     "text": [
      "[1.00, 5.00, 23.52, 21.04, 24.70, 56.81, 185.25, 98.70, 79.05, 110.46, 171.33, 719.17]\n"
     ]
    },
    {
     "name": "stderr",
     "output_type": "stream",
     "text": [
      "100%|██████████| 55354/55354 [00:35<00:00, 1549.79it/s]\n",
      "100%|██████████| 15035/15035 [00:04<00:00, 3366.60it/s]\n",
      "100%|██████████| 10496/10496 [00:50<00:00, 209.67it/s]\n"
     ]
    },
    {
     "name": "stdout",
     "output_type": "stream",
     "text": [
      "[1.00, 6.00, 22.70, 18.76, 24.20, 53.24, 106.48, 97.06, 74.69, 110.46, 171.33, 707.00]\n"
     ]
    },
    {
     "name": "stderr",
     "output_type": "stream",
     "text": [
      "100%|██████████| 55354/55354 [00:35<00:00, 1544.71it/s]\n",
      "100%|██████████| 13356/13356 [00:04<00:00, 3150.23it/s]\n",
      "100%|██████████| 9133/9133 [00:30<00:00, 302.54it/s]\n"
     ]
    },
    {
     "name": "stdout",
     "output_type": "stream",
     "text": [
      "[1.00, 7.00, 21.90, 16.83, 22.50, 51.75, 103.50, 96.47, 72.85, 110.46, 171.33, 670.47]\n"
     ]
    },
    {
     "name": "stderr",
     "output_type": "stream",
     "text": [
      "100%|██████████| 55354/55354 [00:35<00:00, 1580.90it/s]\n",
      "100%|██████████| 11796/11796 [00:03<00:00, 3808.58it/s]\n",
      "100%|██████████| 7886/7886 [00:38<00:00, 204.74it/s]\n"
     ]
    },
    {
     "name": "stdout",
     "output_type": "stream",
     "text": [
      "[1.00, 8.00, 21.33, 15.92, 22.50, 49.50, 101.25, 96.30, 71.47, 122.63, 171.33, 621.78]\n"
     ]
    },
    {
     "name": "stderr",
     "output_type": "stream",
     "text": [
      "100%|██████████| 55354/55354 [00:35<00:00, 1568.55it/s]\n",
      "100%|██████████| 10330/10330 [00:02<00:00, 3673.28it/s]\n",
      "100%|██████████| 6708/6708 [00:33<00:00, 197.39it/s]\n"
     ]
    },
    {
     "name": "stdout",
     "output_type": "stream",
     "text": [
      "[1.00, 9.00, 20.69, 14.55, 22.89, 47.96, 83.93, 97.04, 72.93, 122.63, 171.33, 633.95]\n"
     ]
    },
    {
     "name": "stderr",
     "output_type": "stream",
     "text": [
      "100%|██████████| 55354/55354 [00:36<00:00, 1520.84it/s]\n",
      "100%|██████████| 55354/55354 [00:49<00:00, 1122.22it/s]\n",
      "100%|██████████| 42933/42933 [02:57<00:00, 242.39it/s]\n"
     ]
    },
    {
     "name": "stdout",
     "output_type": "stream",
     "text": [
      "[2.00, 0.00, 77.89, 143.02, 40.86, 367.74, 994.26, 360.43, 527.48, 213.03, 1630.99, 2659.01]\n"
     ]
    },
    {
     "name": "stderr",
     "output_type": "stream",
     "text": [
      "100%|██████████| 55354/55354 [00:35<00:00, 1580.74it/s]\n",
      "100%|██████████| 40991/40991 [00:28<00:00, 1454.79it/s]\n",
      "100%|██████████| 31710/31710 [02:30<00:00, 210.04it/s]\n"
     ]
    },
    {
     "name": "stdout",
     "output_type": "stream",
     "text": [
      "[2.00, 1.00, 36.27, 52.91, 27.45, 128.10, 411.75, 166.98, 227.67, 113.87, 653.14, 1561.39]\n"
     ]
    },
    {
     "name": "stderr",
     "output_type": "stream",
     "text": [
      "100%|██████████| 55354/55354 [00:33<00:00, 1638.54it/s]\n",
      "100%|██████████| 34605/34605 [00:17<00:00, 1969.25it/s]\n",
      "100%|██████████| 26564/26564 [00:59<00:00, 447.63it/s]\n"
     ]
    },
    {
     "name": "stdout",
     "output_type": "stream",
     "text": [
      "[2.00, 2.00, 30.51, 37.50, 28.60, 91.52, 263.12, 131.54, 156.09, 120.02, 417.82, 1132.56]\n"
     ]
    },
    {
     "name": "stderr",
     "output_type": "stream",
     "text": [
      "100%|██████████| 55354/55354 [00:34<00:00, 1617.20it/s]\n",
      "100%|██████████| 30102/30102 [00:14<00:00, 2135.37it/s]\n",
      "100%|██████████| 22931/22931 [00:54<00:00, 421.57it/s]\n"
     ]
    },
    {
     "name": "stdout",
     "output_type": "stream",
     "text": [
      "[2.00, 3.00, 28.45, 32.60, 27.84, 74.24, 236.64, 118.63, 129.00, 117.04, 310.61, 968.75]\n"
     ]
    },
    {
     "name": "stderr",
     "output_type": "stream",
     "text": [
      "100%|██████████| 55354/55354 [00:33<00:00, 1636.88it/s]\n",
      "100%|██████████| 26882/26882 [00:12<00:00, 2236.93it/s]\n",
      "100%|██████████| 20229/20229 [00:43<00:00, 468.68it/s]\n"
     ]
    },
    {
     "name": "stdout",
     "output_type": "stream",
     "text": [
      "[2.00, 4.00, 26.91, 29.07, 23.15, 69.45, 222.24, 111.47, 113.24, 116.61, 261.25, 912.15]\n"
     ]
    },
    {
     "name": "stderr",
     "output_type": "stream",
     "text": [
      "100%|██████████| 55354/55354 [00:33<00:00, 1642.73it/s]\n",
      "100%|██████████| 24542/24542 [00:10<00:00, 2449.42it/s]\n",
      "100%|██████████| 18276/18276 [00:44<00:00, 409.51it/s]\n"
     ]
    },
    {
     "name": "stdout",
     "output_type": "stream",
     "text": [
      "[2.00, 5.00, 25.89, 26.00, 22.20, 62.16, 213.12, 107.65, 104.63, 115.08, 229.26, 885.82]\n"
     ]
    },
    {
     "name": "stderr",
     "output_type": "stream",
     "text": [
      "100%|██████████| 55354/55354 [00:33<00:00, 1644.37it/s]\n",
      "100%|██████████| 22753/22753 [00:08<00:00, 2653.13it/s]\n",
      "100%|██████████| 16779/16779 [00:42<00:00, 392.19it/s]\n"
     ]
    },
    {
     "name": "stdout",
     "output_type": "stream",
     "text": [
      "[2.00, 6.00, 25.24, 24.53, 24.84, 63.48, 209.76, 105.16, 98.23, 115.08, 200.72, 857.28]\n"
     ]
    },
    {
     "name": "stderr",
     "output_type": "stream",
     "text": [
      "100%|██████████| 55354/55354 [00:33<00:00, 1646.75it/s]\n",
      "100%|██████████| 21393/21393 [00:07<00:00, 2840.80it/s]\n",
      "100%|██████████| 15676/15676 [00:38<00:00, 404.52it/s]\n"
     ]
    },
    {
     "name": "stdout",
     "output_type": "stream",
     "text": [
      "[2.00, 7.00, 24.63, 22.92, 24.20, 62.92, 188.76, 102.47, 90.94, 115.08, 186.44, 814.46]\n"
     ]
    },
    {
     "name": "stderr",
     "output_type": "stream",
     "text": [
      "100%|██████████| 55354/55354 [00:33<00:00, 1642.48it/s]\n",
      "100%|██████████| 20306/20306 [00:06<00:00, 3034.28it/s]\n",
      "100%|██████████| 14812/14812 [00:35<00:00, 418.08it/s]\n"
     ]
    },
    {
     "name": "stdout",
     "output_type": "stream",
     "text": [
      "[2.00, 8.00, 24.05, 21.44, 24.00, 60.00, 170.40, 100.54, 85.66, 110.46, 183.51, 792.22]\n"
     ]
    },
    {
     "name": "stderr",
     "output_type": "stream",
     "text": [
      "100%|██████████| 55354/55354 [00:33<00:00, 1651.07it/s]\n",
      "100%|██████████| 19356/19356 [00:06<00:00, 3138.05it/s]\n",
      "100%|██████████| 14062/14062 [00:34<00:00, 410.42it/s]\n"
     ]
    },
    {
     "name": "stdout",
     "output_type": "stream",
     "text": [
      "[2.00, 9.00, 23.62, 20.09, 24.86, 58.76, 115.26, 98.86, 81.21, 110.46, 183.51, 755.69]\n"
     ]
    },
    {
     "name": "stderr",
     "output_type": "stream",
     "text": [
      "100%|██████████| 55354/55354 [00:33<00:00, 1643.87it/s]\n",
      "100%|██████████| 55354/55354 [00:44<00:00, 1252.20it/s]\n",
      "100%|██████████| 42933/42933 [1:44:34<00:00,  6.84it/s]   \n"
     ]
    },
    {
     "name": "stdout",
     "output_type": "stream",
     "text": [
      "[3.00, 0.00, 77.89, 143.02, 40.86, 367.74, 994.26, 360.43, 527.48, 213.03, 1630.99, 2659.01]\n"
     ]
    },
    {
     "name": "stderr",
     "output_type": "stream",
     "text": [
      "100%|██████████| 55354/55354 [1:19:09<00:00, 11.65it/s]   \n",
      "100%|██████████| 44826/44826 [1:20:26<00:00,  9.29it/s]  \n",
      "100%|██████████| 34807/34807 [1:03:19<00:00,  9.16it/s]  \n"
     ]
    },
    {
     "name": "stdout",
     "output_type": "stream",
     "text": [
      "[3.00, 1.00, 40.25, 61.68, 27.45, 155.55, 475.80, 189.39, 262.59, 113.87, 766.67, 1760.07]\n"
     ]
    },
    {
     "name": "stderr",
     "output_type": "stream",
     "text": [
      "100%|██████████| 55354/55354 [1:19:47<00:00, 11.56it/s]   \n",
      "100%|██████████| 39914/39914 [20:35<00:00, 32.32it/s]  \n",
      "100%|██████████| 31000/31000 [03:01<00:00, 171.00it/s]\n"
     ]
    },
    {
     "name": "stdout",
     "output_type": "stream",
     "text": [
      "[3.00, 2.00, 32.75, 42.05, 28.60, 108.68, 291.72, 149.26, 187.15, 126.32, 546.26, 1302.14]\n"
     ]
    },
    {
     "name": "stderr",
     "output_type": "stream",
     "text": [
      "100%|██████████| 55354/55354 [06:41<00:00, 137.81it/s] \n",
      "100%|██████████| 36334/36334 [00:18<00:00, 1980.84it/s]\n",
      "100%|██████████| 28106/28106 [01:00<00:00, 467.71it/s]\n"
     ]
    },
    {
     "name": "stdout",
     "output_type": "stream",
     "text": [
      "[3.00, 3.00, 30.45, 36.67, 27.84, 88.16, 259.84, 133.33, 157.21, 117.68, 430.60, 1115.10]\n"
     ]
    },
    {
     "name": "stderr",
     "output_type": "stream",
     "text": [
      "100%|██████████| 55354/55354 [00:33<00:00, 1637.45it/s]\n",
      "100%|██████████| 33364/33364 [00:16<00:00, 2035.82it/s]\n",
      "100%|██████████| 25721/25721 [01:50<00:00, 233.23it/s]\n"
     ]
    },
    {
     "name": "stdout",
     "output_type": "stream",
     "text": [
      "[3.00, 4.00, 29.22, 33.83, 27.78, 78.71, 240.76, 124.72, 141.20, 118.20, 352.82, 1037.13]\n"
     ]
    },
    {
     "name": "stderr",
     "output_type": "stream",
     "text": [
      "100%|██████████| 55354/55354 [00:34<00:00, 1613.85it/s]\n",
      "100%|██████████| 30798/30798 [00:17<00:00, 1747.55it/s]\n",
      "100%|██████████| 23593/23593 [01:14<00:00, 314.62it/s]\n"
     ]
    },
    {
     "name": "stdout",
     "output_type": "stream",
     "text": [
      "[3.00, 5.00, 28.04, 31.01, 27.78, 74.08, 226.87, 118.13, 129.43, 117.04, 316.15, 979.84]\n"
     ]
    },
    {
     "name": "stderr",
     "output_type": "stream",
     "text": [
      "100%|██████████| 55354/55354 [00:33<00:00, 1644.71it/s]\n",
      "100%|██████████| 28534/28534 [00:13<00:00, 2156.12it/s]\n",
      "100%|██████████| 21722/21722 [00:46<00:00, 463.17it/s]\n"
     ]
    },
    {
     "name": "stdout",
     "output_type": "stream",
     "text": [
      "[3.00, 6.00, 27.12, 28.31, 26.58, 66.45, 221.50, 112.75, 117.20, 110.94, 283.88, 928.46]\n"
     ]
    },
    {
     "name": "stderr",
     "output_type": "stream",
     "text": [
      "100%|██████████| 55354/55354 [00:33<00:00, 1641.77it/s]\n",
      "100%|██████████| 26828/26828 [00:11<00:00, 2325.44it/s]\n",
      "100%|██████████| 20269/20269 [00:48<00:00, 416.28it/s]\n"
     ]
    },
    {
     "name": "stdout",
     "output_type": "stream",
     "text": [
      "[3.00, 7.00, 26.39, 26.25, 27.90, 66.96, 214.83, 109.37, 109.82, 102.14, 246.79, 897.68]\n"
     ]
    },
    {
     "name": "stderr",
     "output_type": "stream",
     "text": [
      "100%|██████████| 55354/55354 [00:33<00:00, 1643.04it/s]\n",
      "100%|██████████| 25368/25368 [00:10<00:00, 2433.50it/s]\n",
      "100%|██████████| 19007/19007 [00:46<00:00, 406.77it/s]\n"
     ]
    },
    {
     "name": "stdout",
     "output_type": "stream",
     "text": [
      "[3.00, 8.00, 25.78, 24.79, 27.10, 65.04, 208.67, 107.28, 105.05, 102.14, 217.86, 883.22]\n"
     ]
    },
    {
     "name": "stderr",
     "output_type": "stream",
     "text": [
      "100%|██████████| 55354/55354 [00:33<00:00, 1628.59it/s]\n",
      "100%|██████████| 24093/24093 [00:09<00:00, 2476.51it/s]\n",
      "100%|██████████| 17924/17924 [00:38<00:00, 469.84it/s]\n"
     ]
    },
    {
     "name": "stdout",
     "output_type": "stream",
     "text": [
      "[3.00, 9.00, 25.32, 23.66, 26.90, 64.56, 193.68, 105.55, 99.69, 115.08, 200.72, 871.55]\n"
     ]
    },
    {
     "name": "stderr",
     "output_type": "stream",
     "text": [
      "100%|██████████| 55354/55354 [00:33<00:00, 1634.81it/s]\n",
      "100%|██████████| 55354/55354 [00:50<00:00, 1099.71it/s]\n",
      "100%|██████████| 42933/42933 [02:33<00:00, 278.94it/s]\n"
     ]
    },
    {
     "name": "stdout",
     "output_type": "stream",
     "text": [
      "[4.00, 0.00, 77.89, 143.02, 40.86, 367.74, 994.26, 360.43, 527.48, 213.03, 1630.99, 2659.01]\n"
     ]
    },
    {
     "name": "stderr",
     "output_type": "stream",
     "text": [
      "100%|██████████| 55354/55354 [00:36<00:00, 1520.15it/s]\n",
      "100%|██████████| 46933/46933 [00:36<00:00, 1288.76it/s]\n",
      "100%|██████████| 36446/36446 [14:51<00:00, 40.88it/s] \n"
     ]
    },
    {
     "name": "stdout",
     "output_type": "stream",
     "text": [
      "[4.00, 1.00, 43.61, 69.15, 21.54, 172.32, 527.73, 208.41, 292.81, 118.00, 853.37, 1941.72]\n"
     ]
    },
    {
     "name": "stderr",
     "output_type": "stream",
     "text": [
      "100%|██████████| 55354/55354 [00:36<00:00, 1526.20it/s]\n",
      "100%|██████████| 42863/42863 [00:28<00:00, 1528.82it/s]\n",
      " 72%|███████▏  | 24082/33353 [02:51<01:06, 140.07it/s]\n"
     ]
    },
    {
     "ename": "KeyboardInterrupt",
     "evalue": "",
     "output_type": "error",
     "traceback": [
      "\u001b[0;31m---------------------------------------------------------------------------\u001b[0m",
      "\u001b[0;31mKeyboardInterrupt\u001b[0m                         Traceback (most recent call last)",
      "Cell \u001b[0;32mIn[11], line 26\u001b[0m\n\u001b[1;32m     24\u001b[0m make_RThetaPhi(df_hits)\n\u001b[1;32m     25\u001b[0m make_reconstructedVector_direction(df_hits)\n\u001b[0;32m---> 26\u001b[0m make_reconstructedPoint_primary_distance(df_hits, df_primary)\n\u001b[1;32m     27\u001b[0m make_reconstructedPoint_initial_distance(df_hits)\n\u001b[1;32m     29\u001b[0m hist, bins, _ \u001b[38;5;241m=\u001b[39m plt\u001b[38;5;241m.\u001b[39mhist(df_hits[\u001b[38;5;124m'\u001b[39m\u001b[38;5;124mreconstructedPoint_primary_distance_r\u001b[39m\u001b[38;5;124m'\u001b[39m], bins\u001b[38;5;241m=\u001b[39m\u001b[38;5;241m100\u001b[39m, alpha\u001b[38;5;241m=\u001b[39m\u001b[38;5;241m0.5\u001b[39m, label\u001b[38;5;241m=\u001b[39m\u001b[38;5;124m'\u001b[39m\u001b[38;5;124mHistogram\u001b[39m\u001b[38;5;124m'\u001b[39m)\n",
      "Cell \u001b[0;32mIn[9], line 14\u001b[0m, in \u001b[0;36mmake_reconstructedPoint_primary_distance\u001b[0;34m(df_hits, df_primary)\u001b[0m\n\u001b[1;32m     12\u001b[0m projections \u001b[38;5;241m=\u001b[39m dot_products \u001b[38;5;241m/\u001b[39m np\u001b[38;5;241m.\u001b[39mlinalg\u001b[38;5;241m.\u001b[39mnorm(recoVectorDirection)\n\u001b[1;32m     13\u001b[0m closest_points_on_line \u001b[38;5;241m=\u001b[39m sensorPosition \u001b[38;5;241m+\u001b[39m projections[:, np\u001b[38;5;241m.\u001b[39mnewaxis] \u001b[38;5;241m*\u001b[39m recoVectorDirection\n\u001b[0;32m---> 14\u001b[0m distances \u001b[38;5;241m=\u001b[39m np\u001b[38;5;241m.\u001b[39mlinalg\u001b[38;5;241m.\u001b[39mnorm(closest_points_on_line \u001b[38;5;241m-\u001b[39m positions, axis\u001b[38;5;241m=\u001b[39m\u001b[38;5;241m1\u001b[39m)\n\u001b[1;32m     16\u001b[0m minDistanceIndex \u001b[38;5;241m=\u001b[39m np\u001b[38;5;241m.\u001b[39margmin(distances)\n\u001b[1;32m     17\u001b[0m closestPoints[i] \u001b[38;5;241m=\u001b[39m closest_points_on_line[minDistanceIndex]\n",
      "File \u001b[0;32m<__array_function__ internals>:180\u001b[0m, in \u001b[0;36mnorm\u001b[0;34m(*args, **kwargs)\u001b[0m\n",
      "File \u001b[0;32m/opt/homebrew/anaconda3/envs/DSPD-Detector-Sim_Analysis/lib/python3.11/site-packages/numpy/linalg/linalg.py:2557\u001b[0m, in \u001b[0;36mnorm\u001b[0;34m(x, ord, axis, keepdims)\u001b[0m\n\u001b[1;32m   2554\u001b[0m \u001b[38;5;28;01melif\u001b[39;00m \u001b[38;5;28mord\u001b[39m \u001b[38;5;129;01mis\u001b[39;00m \u001b[38;5;28;01mNone\u001b[39;00m \u001b[38;5;129;01mor\u001b[39;00m \u001b[38;5;28mord\u001b[39m \u001b[38;5;241m==\u001b[39m \u001b[38;5;241m2\u001b[39m:\n\u001b[1;32m   2555\u001b[0m     \u001b[38;5;66;03m# special case for speedup\u001b[39;00m\n\u001b[1;32m   2556\u001b[0m     s \u001b[38;5;241m=\u001b[39m (x\u001b[38;5;241m.\u001b[39mconj() \u001b[38;5;241m*\u001b[39m x)\u001b[38;5;241m.\u001b[39mreal\n\u001b[0;32m-> 2557\u001b[0m     \u001b[38;5;28;01mreturn\u001b[39;00m sqrt(add\u001b[38;5;241m.\u001b[39mreduce(s, axis\u001b[38;5;241m=\u001b[39maxis, keepdims\u001b[38;5;241m=\u001b[39mkeepdims))\n\u001b[1;32m   2558\u001b[0m \u001b[38;5;66;03m# None of the str-type keywords for ord ('fro', 'nuc')\u001b[39;00m\n\u001b[1;32m   2559\u001b[0m \u001b[38;5;66;03m# are valid for vectors\u001b[39;00m\n\u001b[1;32m   2560\u001b[0m \u001b[38;5;28;01melif\u001b[39;00m \u001b[38;5;28misinstance\u001b[39m(\u001b[38;5;28mord\u001b[39m, \u001b[38;5;28mstr\u001b[39m):\n",
      "\u001b[0;31mKeyboardInterrupt\u001b[0m: "
     ]
    },
    {
     "data": {
      "text/plain": [
       "<Figure size 500x500 with 0 Axes>"
      ]
     },
     "metadata": {},
     "output_type": "display_data"
    }
   ],
   "source": [
    "search_radii = range(0, 10)\n",
    "search_numbers = range(0, 10)\n",
    "\n",
    "df_hits_original = df_hits.copy()\n",
    "\n",
    "for search_radius in search_radii:\n",
    "    for search_number in search_numbers:\n",
    "        df_hits = df_hits_original.copy()\n",
    "        df_hits['closeHits_count'] = 0\n",
    "        relative_positions = np.vstack(df_hits['relativePosition_nBin'].values)\n",
    "        photosensor_ids = df_hits['sensor_name'].values\n",
    "\n",
    "        for index, row in tqdm.tqdm(df_hits.iterrows(), total=len(df_hits)):\n",
    "            x, y = row['relativePosition_nBin']\n",
    "            photosensor_id = row['sensor_name']\n",
    "\n",
    "            same_photosensor = (photosensor_ids == photosensor_id)\n",
    "            \n",
    "            distances = np.max(np.abs(relative_positions[same_photosensor] - np.array([x, y])), axis=1)\n",
    "            df_hits.at[index, 'closeHits_count'] = np.sum(distances <= search_radius) - 1\n",
    "\n",
    "        df_hits = df_hits[df_hits['closeHits_count'] >= search_number].copy()\n",
    "\n",
    "        make_RThetaPhi(df_hits)\n",
    "        make_reconstructedVector_direction(df_hits)\n",
    "        make_reconstructedPoint_primary_distance(df_hits, df_primary)\n",
    "        make_reconstructedPoint_initial_distance(df_hits)\n",
    "\n",
    "        hist, bins, _ = plt.hist(df_hits['reconstructedPoint_primary_distance_r'], bins=100, alpha=0.5, label='Histogram')\n",
    "        cumulative_sum = np.cumsum(hist)\n",
    "        PDF = cumulative_sum/cumulative_sum[-1]\n",
    "        scaled_hist = hist / cumulative_sum[-1]\n",
    "        plt.clf()\n",
    "\n",
    "        # Add vertical line at 1 sigma\n",
    "        primary_sigma_1 = bins[np.argmin(np.abs(PDF - 0.6827))]\n",
    "        primary_sigma_2 = bins[np.argmin(np.abs(PDF - 0.9545))]\n",
    "        primary_sigma_3 = bins[np.argmin(np.abs(PDF - 0.9973))]\n",
    "        primary_mean = np.mean(df_hits['reconstructedPoint_primary_distance_r'])\n",
    "        primary_std = np.std(df_hits['reconstructedPoint_primary_distance_r'])\n",
    "\n",
    "        hist, bins, _ = plt.hist(df_hits['reconstructedPoint_initial_distance_r'], bins=100, alpha=0.5, label='Histogram')\n",
    "        cumulative_sum = np.cumsum(hist)\n",
    "        PDF = cumulative_sum/cumulative_sum[-1]\n",
    "        scaled_hist = hist / cumulative_sum[-1]\n",
    "        plt.clf()\n",
    "\n",
    "        # Add vertical line at 1 sigma\n",
    "        initial_sigma_1 = bins[np.argmin(np.abs(PDF - 0.6827))]\n",
    "        initial_sigma_2 = bins[np.argmin(np.abs(PDF - 0.9545))]\n",
    "        initial_sigma_3 = bins[np.argmin(np.abs(PDF - 0.9973))]\n",
    "        initial_mean = np.mean(df_hits['reconstructedPoint_initial_distance_r'])\n",
    "        initial_std = np.std(df_hits['reconstructedPoint_initial_distance_r'])\n",
    "\n",
    "        print('[{:.2f}, {:.2f}, {:.2f}, {:.2f}, {:.2f}, {:.2f}, {:.2f}, {:.2f}, {:.2f}, {:.2f}, {:.2f}, {:.2f}]'.format(search_radius, search_number, primary_mean, primary_std, primary_sigma_1, primary_sigma_2, primary_sigma_3, initial_mean, initial_std, initial_sigma_1, initial_sigma_2, initial_sigma_3))"
   ]
  }
 ],
 "metadata": {
  "kernelspec": {
   "display_name": "DSPD-Detector-Sim_Analysis",
   "language": "python",
   "name": "python3"
  },
  "language_info": {
   "codemirror_mode": {
    "name": "ipython",
    "version": 3
   },
   "file_extension": ".py",
   "mimetype": "text/x-python",
   "name": "python",
   "nbconvert_exporter": "python",
   "pygments_lexer": "ipython3",
   "version": "3.11.4"
  },
  "orig_nbformat": 4
 },
 "nbformat": 4,
 "nbformat_minor": 2
}
