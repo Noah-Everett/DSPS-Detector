{
 "cells": [
  {
   "cell_type": "markdown",
   "metadata": {},
   "source": [
    "# Initialize Notebook"
   ]
  },
  {
   "cell_type": "code",
   "execution_count": 1,
   "metadata": {},
   "outputs": [
    {
     "name": "stdout",
     "output_type": "stream",
     "text": [
      "Welcome to JupyROOT 6.30/00\n"
     ]
    }
   ],
   "source": [
    "import numpy as np\n",
    "import matplotlib.pyplot as plt\n",
    "import matplotlib as mpl\n",
    "from mpl_toolkits.mplot3d import Axes3D\n",
    "import tensorflow as tf\n",
    "import ROOT\n",
    "import uproot\n",
    "import os\n",
    "import sys\n",
    "import tqdm\n",
    "import pandas as pd\n",
    "\n",
    "%jsroot on\n",
    "# %matplotlib qt\n",
    "%matplotlib inline"
   ]
  },
  {
   "cell_type": "code",
   "execution_count": 2,
   "metadata": {},
   "outputs": [],
   "source": [
    "os.environ['PATH'] = '/Library/TeX/texbin:' + os.environ['PATH']\n",
    "mpl.rc('font', **{'family':'serif', 'serif':['Computer Modern Roman']})\n",
    "params = {'backend': 'pdf',\n",
    "          'axes.labelsize': 20,\n",
    "          'font.size': 20,\n",
    "          'legend.fontsize': 20,\n",
    "          'xtick.labelsize': 20,\n",
    "          'ytick.labelsize': 20,\n",
    "          'text.usetex': True,\n",
    "          'figure.figsize': (5,5),\n",
    "          'axes.unicode_minus': True}\n",
    "mpl.rcParams.update(params)"
   ]
  },
  {
   "cell_type": "code",
   "execution_count": 3,
   "metadata": {},
   "outputs": [],
   "source": [
    "from filterMethods import *\n",
    "from reconstructionMethods import *\n",
    "from statisticsMethods import *"
   ]
  },
  {
   "cell_type": "markdown",
   "metadata": {},
   "source": [
    "# Load Data"
   ]
  },
  {
   "cell_type": "code",
   "execution_count": 4,
   "metadata": {},
   "outputs": [
    {
     "name": "stdout",
     "output_type": "stream",
     "text": [
      "['photoSensor_hits_histograms/photoSensor_0;1', 'photoSensor_hits_histograms/photoSensor_1;1', 'photoSensor_hits_histograms/photoSensor_2;1', 'photoSensor_hits_histograms/photoSensor_3;1', 'photoSensor_hits_histograms/photoSensor_4;1', 'photoSensor_hits_histograms/photoSensor_5;1', 'photoSensor_hits_histograms/photoSensor_6;1', 'photoSensor_hits_histograms/photoSensor_7;1', 'photoSensor_hits_histograms/photoSensor_8;1', 'photoSensor_hits_histograms/photoSensor_9;1', 'photoSensor_hits_histograms/photoSensor_10;1', 'photoSensor_hits_histograms/photoSensor_11;1', 'photoSensor_hits_histograms/photoSensor_12;1', 'photoSensor_hits_histograms/photoSensor_13;1', 'photoSensor_hits_histograms/photoSensor_14;1', 'photoSensor_hits_histograms/photoSensor_15;1', 'photoSensor_hits_histograms/photoSensor_16;1', 'photoSensor_hits_histograms/photoSensor_17;1', 'photoSensor_hits_histograms/photoSensor_18;1', 'photoSensor_hits_histograms/photoSensor_19;1', 'photoSensor_hits_histograms/photoSensor_20;1', 'photoSensor_hits_histograms/photoSensor_21;1', 'photoSensor_hits_histograms/photoSensor_22;1', 'photoSensor_hits_histograms/photoSensor_23;1', 'photoSensor_hits_histograms/photoSensor_24;1', 'photoSensor_hits_histograms/photoSensor_25;1', 'photoSensor_hits_histograms/photoSensor_26;1', 'photoSensor_hits_histograms/photoSensor_27;1', 'photoSensor_hits_histograms/photoSensor_28;1', 'photoSensor_hits_histograms/photoSensor_29;1', 'photoSensor_hits_histograms/photoSensor_30;1', 'photoSensor_hits_histograms/photoSensor_31;1', 'photoSensor_hits_histograms/photoSensor_32;1', 'photoSensor_hits_histograms/photoSensor_33;1', 'photoSensor_hits_histograms/photoSensor_34;1', 'photoSensor_hits_histograms/photoSensor_35;1', 'photoSensor_hits_histograms/photoSensor_36;1', 'photoSensor_hits_histograms/photoSensor_37;1', 'photoSensor_hits_histograms/photoSensor_38;1', 'photoSensor_hits_histograms/photoSensor_39;1', 'photoSensor_hits_histograms/photoSensor_40;1', 'photoSensor_hits_histograms/photoSensor_41;1', 'photoSensor_hits_histograms/photoSensor_42;1', 'photoSensor_hits_histograms/photoSensor_43;1', 'photoSensor_hits_histograms/photoSensor_44;1', 'photoSensor_hits_histograms/photoSensor_45;1', 'photoSensor_hits_histograms/photoSensor_46;1', 'photoSensor_hits_histograms/photoSensor_47;1', 'photoSensor_hits_histograms/photoSensor_48;1', 'photoSensor_hits_histograms/photoSensor_49;1', 'photoSensor_hits_histograms/photoSensor_50;1', 'photoSensor_hits_histograms/photoSensor_51;1', 'photoSensor_hits_histograms/photoSensor_52;1', 'photoSensor_hits_histograms/photoSensor_53;1', 'photoSensor_hits_histograms/photoSensor_54;1', 'photoSensor_hits_histograms/photoSensor_55;1', 'photoSensor_hits_histograms/photoSensor_56;1', 'photoSensor_hits_histograms/photoSensor_57;1', 'photoSensor_hits_histograms/photoSensor_58;1', 'photoSensor_hits_histograms/photoSensor_59;1', 'photoSensor_hits_histograms/photoSensor_60;1', 'photoSensor_hits_histograms/photoSensor_61;1', 'photoSensor_hits_histograms/photoSensor_62;1', 'photoSensor_hits_histograms/photoSensor_63;1', 'photoSensor_hits_histograms/photoSensor_64;1', 'photoSensor_hits_histograms/photoSensor_65;1', 'photoSensor_hits_histograms/photoSensor_66;1', 'photoSensor_hits_histograms/photoSensor_67;1', 'photoSensor_hits_histograms/photoSensor_68;1', 'photoSensor_hits_histograms/photoSensor_69;1', 'photoSensor_hits_histograms/photoSensor_70;1', 'photoSensor_hits_histograms/photoSensor_71;1', 'photoSensor_hits_histograms/photoSensor_72;1', 'photoSensor_hits_histograms/photoSensor_73;1', 'photoSensor_hits_histograms/photoSensor_74;1', 'photoSensor_hits_histograms/photoSensor_75;1', 'photoSensor_hits_histograms/photoSensor_76;1', 'photoSensor_hits_histograms/photoSensor_77;1', 'photoSensor_hits_histograms/photoSensor_78;1', 'photoSensor_hits_histograms/photoSensor_79;1', 'photoSensor_hits_histograms/photoSensor_80;1', 'photoSensor_hits_histograms/photoSensor_81;1', 'photoSensor_hits_histograms/photoSensor_82;1', 'photoSensor_hits_histograms/photoSensor_83;1', 'photoSensor_hits_histograms/photoSensor_84;1', 'photoSensor_hits_histograms/photoSensor_85;1', 'photoSensor_hits_histograms/photoSensor_86;1', 'photoSensor_hits_histograms/photoSensor_87;1', 'photoSensor_hits_histograms/photoSensor_88;1', 'photoSensor_hits_histograms/photoSensor_89;1', 'photoSensor_hits_histograms/photoSensor_90;1', 'photoSensor_hits_histograms/photoSensor_91;1', 'photoSensor_hits_histograms/photoSensor_92;1', 'photoSensor_hits_histograms/photoSensor_93;1', 'photoSensor_hits_histograms/photoSensor_94;1', 'photoSensor_hits_histograms/photoSensor_95;1', 'photoSensor_hits_histograms/photoSensor_96;1', 'photoSensor_hits_histograms/photoSensor_97;1', 'photoSensor_hits_histograms/photoSensor_98;1', 'photoSensor_hits_histograms/photoSensor_99;1', 'photoSensor_hits_histograms/photoSensor_100;1', 'photoSensor_hits_histograms/photoSensor_101;1', 'photoSensor_hits_histograms/photoSensor_102;1', 'photoSensor_hits_histograms/photoSensor_103;1', 'photoSensor_hits_histograms/photoSensor_104;1', 'photoSensor_hits_histograms/photoSensor_105;1', 'photoSensor_hits_histograms/photoSensor_106;1', 'photoSensor_hits_histograms/photoSensor_107;1', 'photoSensor_hits_histograms/photoSensor_108;1', 'photoSensor_hits_histograms/photoSensor_109;1', 'photoSensor_hits_histograms/photoSensor_110;1', 'photoSensor_hits_histograms/photoSensor_111;1', 'photoSensor_hits_histograms/photoSensor_112;1', 'photoSensor_hits_histograms/photoSensor_113;1', 'photoSensor_hits_histograms/photoSensor_114;1', 'photoSensor_hits_histograms/photoSensor_115;1', 'photoSensor_hits_histograms/photoSensor_116;1', 'photoSensor_hits_histograms/photoSensor_117;1', 'photoSensor_hits_histograms/photoSensor_118;1', 'photoSensor_hits_histograms/photoSensor_119;1', 'photoSensor_hits_histograms/photoSensor_120;1', 'photoSensor_hits_histograms/photoSensor_121;1', 'photoSensor_hits_histograms/photoSensor_122;1', 'photoSensor_hits_histograms/photoSensor_123;1', 'photoSensor_hits_histograms/photoSensor_124;1', 'photoSensor_hits_histograms/photoSensor_125;1', 'photoSensor_hits_histograms/photoSensor_126;1', 'photoSensor_hits_histograms/photoSensor_127;1', 'photoSensor_hits_histograms/photoSensor_128;1', 'photoSensor_hits_histograms/photoSensor_129;1', 'photoSensor_hits_histograms/photoSensor_130;1', 'photoSensor_hits_histograms/photoSensor_131;1', 'photoSensor_hits_histograms/photoSensor_132;1', 'photoSensor_hits_histograms/photoSensor_133;1', 'photoSensor_hits_histograms/photoSensor_134;1', 'photoSensor_hits_histograms/photoSensor_135;1', 'photoSensor_hits_histograms/photoSensor_136;1', 'photoSensor_hits_histograms/photoSensor_137;1', 'photoSensor_hits_histograms/photoSensor_138;1', 'photoSensor_hits_histograms/photoSensor_139;1', 'photoSensor_hits_histograms/photoSensor_140;1', 'photoSensor_hits_histograms/photoSensor_141;1', 'photoSensor_hits_histograms/photoSensor_142;1', 'photoSensor_hits_histograms/photoSensor_143;1', 'photoSensor_hits_histograms/photoSensor_144;1', 'photoSensor_hits_histograms/photoSensor_145;1', 'photoSensor_hits_histograms/photoSensor_146;1', 'photoSensor_hits_histograms/photoSensor_147;1', 'photoSensor_hits_histograms/photoSensor_148;1', 'photoSensor_hits_histograms/photoSensor_149;1', 'photoSensor_hits_histograms/photoSensor_150;1', 'photoSensor_hits_histograms/photoSensor_151;1', 'photoSensor_hits_histograms/photoSensor_152;1', 'photoSensor_hits_histograms/photoSensor_153;1', 'photoSensor_hits_histograms/photoSensor_154;1', 'photoSensor_hits_histograms/photoSensor_155;1', 'photoSensor_hits_histograms/photoSensor_156;1', 'photoSensor_hits_histograms/photoSensor_157;1', 'photoSensor_hits_histograms/photoSensor_158;1', 'photoSensor_hits_histograms/photoSensor_159;1', 'photoSensor_hits_histograms/photoSensor_160;1', 'photoSensor_hits_histograms/photoSensor_161;1', 'photoSensor_hits_histograms/photoSensor_162;1', 'photoSensor_hits_histograms/photoSensor_163;1', 'photoSensor_hits_histograms/photoSensor_164;1', 'photoSensor_hits_histograms/photoSensor_165;1', 'photoSensor_hits_histograms/photoSensor_166;1', 'photoSensor_hits_histograms/photoSensor_167;1', 'photoSensor_hits_histograms/photoSensor_168;1', 'photoSensor_hits_histograms/photoSensor_169;1', 'photoSensor_hits_histograms/photoSensor_170;1', 'photoSensor_hits_histograms/photoSensor_171;1', 'photoSensor_hits_histograms/photoSensor_172;1', 'photoSensor_hits_histograms/photoSensor_173;1', 'photoSensor_hits_histograms/photoSensor_174;1', 'photoSensor_hits_histograms/photoSensor_175;1', 'photoSensor_hits_histograms/photoSensor_176;1', 'photoSensor_hits_histograms/photoSensor_177;1', 'photoSensor_hits_histograms/photoSensor_178;1', 'photoSensor_hits_histograms/photoSensor_179;1', 'photoSensor_hits_histograms/photoSensor_180;1', 'photoSensor_hits_histograms/photoSensor_181;1', 'photoSensor_hits_histograms/photoSensor_182;1', 'photoSensor_hits_histograms/photoSensor_183;1', 'photoSensor_hits_histograms/photoSensor_184;1', 'photoSensor_hits_histograms/photoSensor_185;1', 'photoSensor_hits_histograms/photoSensor_186;1', 'photoSensor_hits_histograms/photoSensor_187;1', 'photoSensor_hits_histograms/photoSensor_188;1', 'photoSensor_hits_histograms/photoSensor_189;1', 'photoSensor_hits_histograms/photoSensor_190;1', 'photoSensor_hits_histograms/photoSensor_191;1', 'photoSensor_hits_histograms/photoSensor_192;1', 'photoSensor_hits_histograms/photoSensor_193;1', 'photoSensor_hits_histograms/photoSensor_194;1', 'photoSensor_hits_histograms/photoSensor_195;1', 'photoSensor_hits_histograms/photoSensor_196;1', 'photoSensor_hits_histograms/photoSensor_197;1', 'photoSensor_hits_histograms/photoSensor_198;1', 'photoSensor_hits_histograms/photoSensor_199;1', 'photoSensor_hits_histograms/photoSensor_200;1', 'photoSensor_hits_histograms/photoSensor_201;1', 'photoSensor_hits_histograms/photoSensor_202;1', 'photoSensor_hits_histograms/photoSensor_203;1', 'photoSensor_hits_histograms/photoSensor_204;1', 'photoSensor_hits_histograms/photoSensor_205;1', 'photoSensor_hits_histograms/photoSensor_206;1', 'photoSensor_hits_histograms/photoSensor_207;1', 'photoSensor_hits_histograms/photoSensor_208;1', 'photoSensor_hits_histograms/photoSensor_209;1', 'photoSensor_hits_histograms/photoSensor_210;1', 'photoSensor_hits_histograms/photoSensor_211;1', 'photoSensor_hits_histograms/photoSensor_212;1', 'photoSensor_hits_histograms/photoSensor_213;1', 'photoSensor_hits_histograms/photoSensor_214;1', 'photoSensor_hits_histograms/photoSensor_215;1', 'photoSensor_hits_histograms/photoSensor_216;1', 'photoSensor_hits_histograms/photoSensor_217;1', 'photoSensor_hits_histograms/photoSensor_218;1', 'photoSensor_hits_histograms/photoSensor_219;1', 'photoSensor_hits_histograms/photoSensor_220;1', 'photoSensor_hits_histograms/photoSensor_221;1', 'photoSensor_hits_histograms/photoSensor_222;1', 'photoSensor_hits_histograms/photoSensor_223;1', 'photoSensor_hits_histograms/photoSensor_224;1', 'photoSensor_hits_histograms/photoSensor_225;1', 'photoSensor_hits_histograms/photoSensor_226;1', 'photoSensor_hits_histograms/photoSensor_227;1', 'photoSensor_hits_histograms/photoSensor_228;1', 'photoSensor_hits_histograms/photoSensor_229;1', 'photoSensor_hits_histograms/photoSensor_230;1', 'photoSensor_hits_histograms/photoSensor_231;1', 'photoSensor_hits_histograms/photoSensor_232;1', 'photoSensor_hits_histograms/photoSensor_233;1', 'photoSensor_hits_histograms/photoSensor_234;1', 'photoSensor_hits_histograms/photoSensor_235;1', 'photoSensor_hits_histograms/photoSensor_236;1', 'photoSensor_hits_histograms/photoSensor_237;1', 'photoSensor_hits_histograms/photoSensor_238;1', 'photoSensor_hits_histograms/photoSensor_239;1', 'photoSensor_hits_histograms/photoSensor_240;1', 'photoSensor_hits_histograms/photoSensor_241;1', 'photoSensor_hits_histograms/photoSensor_242;1', 'photoSensor_hits_histograms/photoSensor_243;1', 'photoSensor_hits_histograms/photoSensor_244;1', 'photoSensor_hits_histograms/photoSensor_245;1', 'photoSensor_hits_histograms/photoSensor_246;1', 'photoSensor_hits_histograms/photoSensor_247;1', 'photoSensor_hits_histograms/photoSensor_248;1', 'photoSensor_hits_histograms/photoSensor_249;1', 'photoSensor_hits_histograms/photoSensor_250;1', 'photoSensor_hits_histograms/photoSensor_251;1', 'photoSensor_hits_histograms/photoSensor_252;1', 'photoSensor_hits_histograms/photoSensor_253;1', 'photoSensor_hits_histograms/photoSensor_254;1', 'photoSensor_hits_histograms/photoSensor_255;1', 'photoSensor_hits_histograms/photoSensor_256;1', 'photoSensor_hits_histograms/photoSensor_257;1', 'photoSensor_hits_histograms/photoSensor_258;1', 'photoSensor_hits_histograms/photoSensor_259;1', 'photoSensor_hits_histograms/photoSensor_260;1', 'photoSensor_hits_histograms/photoSensor_261;1', 'photoSensor_hits_histograms/photoSensor_262;1', 'photoSensor_hits_histograms/photoSensor_263;1', 'photoSensor_hits_histograms/photoSensor_264;1', 'photoSensor_hits_histograms/photoSensor_265;1', 'photoSensor_hits_histograms/photoSensor_266;1', 'photoSensor_hits_histograms/photoSensor_267;1', 'photoSensor_hits_histograms/photoSensor_268;1', 'photoSensor_hits_histograms/photoSensor_269;1', 'photoSensor_hits_histograms/photoSensor_270;1', 'photoSensor_hits_histograms/photoSensor_271;1', 'photoSensor_hits_histograms/photoSensor_272;1', 'photoSensor_hits_histograms/photoSensor_273;1', 'photoSensor_hits_histograms/photoSensor_274;1', 'photoSensor_hits_histograms/photoSensor_275;1', 'photoSensor_hits_histograms/photoSensor_276;1', 'photoSensor_hits_histograms/photoSensor_277;1', 'photoSensor_hits_histograms/photoSensor_278;1', 'photoSensor_hits_histograms/photoSensor_279;1', 'photoSensor_hits_histograms/photoSensor_280;1', 'photoSensor_hits_histograms/photoSensor_281;1', 'photoSensor_hits_histograms/photoSensor_282;1', 'photoSensor_hits_histograms/photoSensor_283;1', 'photoSensor_hits_histograms/photoSensor_284;1', 'photoSensor_hits_histograms/photoSensor_285;1', 'photoSensor_hits_histograms/photoSensor_286;1', 'photoSensor_hits_histograms/photoSensor_287;1', 'photoSensor_hits_histograms/photoSensor_288;1', 'photoSensor_hits_histograms/photoSensor_289;1', 'photoSensor_hits_histograms/photoSensor_290;1', 'photoSensor_hits_histograms/photoSensor_291;1', 'photoSensor_hits_histograms/photoSensor_292;1', 'photoSensor_hits_histograms/photoSensor_293;1', 'photoSensor_hits_histograms/photoSensor_294;1', 'photoSensor_hits_histograms/photoSensor_295;1', 'photoSensor_hits_histograms/photoSensor_296;1', 'photoSensor_hits_histograms/photoSensor_297;1', 'photoSensor_hits_histograms/photoSensor_298;1', 'photoSensor_hits_histograms/photoSensor_299;1', 'photoSensor_hits_histograms/photoSensor_300;1', 'photoSensor_hits_histograms/photoSensor_301;1', 'photoSensor_hits_histograms/photoSensor_302;1', 'photoSensor_hits_histograms/photoSensor_303;1', 'photoSensor_hits_histograms/photoSensor_304;1', 'photoSensor_hits_histograms/photoSensor_305;1', 'photoSensor_hits_histograms/photoSensor_306;1', 'photoSensor_hits_histograms/photoSensor_307;1', 'photoSensor_hits_histograms/photoSensor_308;1', 'photoSensor_hits_histograms/photoSensor_309;1', 'photoSensor_hits_histograms/photoSensor_310;1', 'photoSensor_hits_histograms/photoSensor_311;1', 'photoSensor_hits_histograms/photoSensor_312;1', 'photoSensor_hits_histograms/photoSensor_313;1', 'photoSensor_hits_histograms/photoSensor_314;1', 'photoSensor_hits_histograms/photoSensor_315;1', 'photoSensor_hits_histograms/photoSensor_316;1', 'photoSensor_hits_histograms/photoSensor_317;1', 'photoSensor_hits_histograms/photoSensor_318;1', 'photoSensor_hits_histograms/photoSensor_319;1', 'photoSensor_hits_histograms/photoSensor_320;1', 'photoSensor_hits_histograms/photoSensor_321;1', 'photoSensor_hits_histograms/photoSensor_322;1', 'photoSensor_hits_histograms/photoSensor_323;1', 'photoSensor_hits_histograms/photoSensor_324;1', 'photoSensor_hits_histograms/photoSensor_325;1', 'photoSensor_hits_histograms/photoSensor_326;1', 'photoSensor_hits_histograms/photoSensor_327;1', 'photoSensor_hits_histograms/photoSensor_328;1', 'photoSensor_hits_histograms/photoSensor_329;1', 'photoSensor_hits_histograms/photoSensor_330;1', 'photoSensor_hits_histograms/photoSensor_331;1', 'photoSensor_hits_histograms/photoSensor_332;1', 'photoSensor_hits_histograms/photoSensor_333;1', 'photoSensor_hits_histograms/photoSensor_334;1', 'photoSensor_hits_histograms/photoSensor_335;1', 'photoSensor_hits_histograms/photoSensor_336;1', 'photoSensor_hits_histograms/photoSensor_337;1', 'photoSensor_hits_histograms/photoSensor_338;1', 'photoSensor_hits_histograms/photoSensor_339;1', 'photoSensor_hits_histograms/photoSensor_340;1', 'photoSensor_hits_histograms/photoSensor_341;1', 'photoSensor_hits_histograms/photoSensor_342;1', 'photoSensor_hits_histograms/photoSensor_343;1', 'photoSensor_hits_histograms/photoSensor_344;1', 'photoSensor_hits_histograms/photoSensor_345;1', 'photoSensor_hits_histograms/photoSensor_346;1', 'photoSensor_hits_histograms/photoSensor_347;1', 'photoSensor_hits_histograms/photoSensor_348;1', 'photoSensor_hits_histograms/photoSensor_349;1', 'photoSensor_hits_histograms/photoSensor_350;1', 'photoSensor_hits_histograms/photoSensor_351;1', 'photoSensor_hits_histograms/photoSensor_352;1', 'photoSensor_hits_histograms/photoSensor_353;1', 'photoSensor_hits_histograms/photoSensor_354;1', 'photoSensor_hits_histograms/photoSensor_355;1', 'photoSensor_hits_histograms/photoSensor_356;1', 'photoSensor_hits_histograms/photoSensor_357;1', 'photoSensor_hits_histograms/photoSensor_358;1', 'photoSensor_hits_histograms/photoSensor_359;1', 'photoSensor_hits_histograms/photoSensor_360;1', 'photoSensor_hits_histograms/photoSensor_361;1', 'photoSensor_hits_histograms/photoSensor_362;1', 'photoSensor_hits_histograms/photoSensor_363;1', 'photoSensor_hits_histograms/photoSensor_364;1', 'photoSensor_hits_histograms/photoSensor_365;1', 'photoSensor_hits_histograms/photoSensor_366;1', 'photoSensor_hits_histograms/photoSensor_367;1', 'photoSensor_hits_histograms/photoSensor_368;1', 'photoSensor_hits_histograms/photoSensor_369;1', 'photoSensor_hits_histograms/photoSensor_370;1', 'photoSensor_hits_histograms/photoSensor_371;1', 'photoSensor_hits_histograms/photoSensor_372;1', 'photoSensor_hits_histograms/photoSensor_373;1', 'photoSensor_hits_histograms/photoSensor_374;1', 'photoSensor_hits_histograms/photoSensor_375;1', 'photoSensor_hits_histograms/photoSensor_376;1', 'photoSensor_hits_histograms/photoSensor_377;1', 'photoSensor_hits_histograms/photoSensor_378;1', 'photoSensor_hits_histograms/photoSensor_379;1', 'photoSensor_hits_histograms/photoSensor_380;1', 'photoSensor_hits_histograms/photoSensor_381;1', 'photoSensor_hits_histograms/photoSensor_382;1', 'photoSensor_hits_histograms/photoSensor_383;1', 'photoSensor_hits_histograms/photoSensor_384;1', 'photoSensor_hits_histograms/photoSensor_385;1', 'photoSensor_hits_histograms/photoSensor_386;1', 'photoSensor_hits_histograms/photoSensor_387;1', 'photoSensor_hits_histograms/photoSensor_388;1', 'photoSensor_hits_histograms/photoSensor_389;1', 'photoSensor_hits_histograms/photoSensor_390;1', 'photoSensor_hits_histograms/photoSensor_391;1', 'photoSensor_hits_histograms/photoSensor_392;1', 'photoSensor_hits_histograms/photoSensor_393;1', 'photoSensor_hits_histograms/photoSensor_394;1', 'photoSensor_hits_histograms/photoSensor_395;1', 'photoSensor_hits_histograms/photoSensor_396;1', 'photoSensor_hits_histograms/photoSensor_397;1', 'photoSensor_hits_histograms/photoSensor_398;1', 'photoSensor_hits_histograms/photoSensor_399;1', 'photoSensor_hits_histograms/photoSensor_400;1', 'photoSensor_hits_histograms/photoSensor_401;1', 'photoSensor_hits_histograms/photoSensor_402;1', 'photoSensor_hits_histograms/photoSensor_403;1', 'photoSensor_hits_histograms/photoSensor_404;1', 'photoSensor_hits_histograms/photoSensor_405;1', 'photoSensor_hits_histograms/photoSensor_406;1', 'photoSensor_hits_histograms/photoSensor_407;1', 'photoSensor_hits_histograms/photoSensor_408;1', 'photoSensor_hits_histograms/photoSensor_409;1', 'photoSensor_hits_histograms/photoSensor_410;1', 'photoSensor_hits_histograms/photoSensor_411;1', 'photoSensor_hits_histograms/photoSensor_412;1', 'photoSensor_hits_histograms/photoSensor_413;1', 'photoSensor_hits_histograms/photoSensor_414;1', 'photoSensor_hits_histograms/photoSensor_415;1', 'photoSensor_hits_histograms/photoSensor_416;1', 'photoSensor_hits_histograms/photoSensor_417;1', 'photoSensor_hits_histograms/photoSensor_418;1', 'photoSensor_hits_histograms/photoSensor_419;1', 'photoSensor_hits_histograms/photoSensor_420;1', 'photoSensor_hits_histograms/photoSensor_421;1', 'photoSensor_hits_histograms/photoSensor_422;1', 'photoSensor_hits_histograms/photoSensor_423;1', 'photoSensor_hits_histograms/photoSensor_424;1', 'photoSensor_hits_histograms/photoSensor_425;1', 'photoSensor_hits_histograms/photoSensor_426;1', 'photoSensor_hits_histograms/photoSensor_427;1', 'photoSensor_hits_histograms/photoSensor_428;1', 'photoSensor_hits_histograms/photoSensor_429;1', 'photoSensor_hits_histograms/photoSensor_430;1', 'photoSensor_hits_histograms/photoSensor_431;1', 'photoSensor_hits_histograms/photoSensor_432;1', 'photoSensor_hits_histograms/photoSensor_433;1', 'photoSensor_hits_histograms/photoSensor_434;1', 'photoSensor_hits_histograms/photoSensor_435;1', 'photoSensor_hits_histograms/photoSensor_436;1', 'photoSensor_hits_histograms/photoSensor_437;1', 'photoSensor_hits_histograms/photoSensor_438;1', 'photoSensor_hits_histograms/photoSensor_439;1', 'photoSensor_hits_histograms/photoSensor_440;1', 'photoSensor_hits_histograms/photoSensor_441;1', 'photoSensor_hits_histograms/photoSensor_442;1', 'photoSensor_hits_histograms/photoSensor_443;1', 'photoSensor_hits_histograms/photoSensor_444;1', 'photoSensor_hits_histograms/photoSensor_445;1', 'photoSensor_hits_histograms/photoSensor_446;1', 'photoSensor_hits_histograms/photoSensor_447;1', 'photoSensor_hits_histograms/photoSensor_448;1', 'photoSensor_hits_histograms/photoSensor_449;1', 'photoSensor_hits_histograms/photoSensor_450;1', 'photoSensor_hits_histograms/photoSensor_451;1', 'photoSensor_hits_histograms/photoSensor_452;1', 'photoSensor_hits_histograms/photoSensor_453;1', 'photoSensor_hits_histograms/photoSensor_454;1', 'photoSensor_hits_histograms/photoSensor_455;1', 'photoSensor_hits_histograms/photoSensor_456;1', 'photoSensor_hits_histograms/photoSensor_457;1', 'photoSensor_hits_histograms/photoSensor_458;1', 'photoSensor_hits_histograms/photoSensor_459;1', 'photoSensor_hits_histograms/photoSensor_460;1', 'photoSensor_hits_histograms/photoSensor_461;1', 'photoSensor_hits_histograms/photoSensor_462;1', 'photoSensor_hits_histograms/photoSensor_463;1', 'photoSensor_hits_histograms/photoSensor_464;1', 'photoSensor_hits_histograms/photoSensor_465;1', 'photoSensor_hits_histograms/photoSensor_466;1', 'photoSensor_hits_histograms/photoSensor_467;1', 'photoSensor_hits_histograms/photoSensor_468;1', 'photoSensor_hits_histograms/photoSensor_469;1', 'photoSensor_hits_histograms/photoSensor_470;1', 'photoSensor_hits_histograms/photoSensor_471;1', 'photoSensor_hits_histograms/photoSensor_472;1', 'photoSensor_hits_histograms/photoSensor_473;1', 'photoSensor_hits_histograms/photoSensor_474;1', 'photoSensor_hits_histograms/photoSensor_475;1', 'photoSensor_hits_histograms/photoSensor_476;1', 'photoSensor_hits_histograms/photoSensor_477;1', 'photoSensor_hits_histograms/photoSensor_478;1', 'photoSensor_hits_histograms/photoSensor_479;1', 'photoSensor_hits_histograms/photoSensor_480;1', 'photoSensor_hits_histograms/photoSensor_481;1', 'photoSensor_hits_histograms/photoSensor_482;1', 'photoSensor_hits_histograms/photoSensor_483;1', 'photoSensor_hits_histograms/photoSensor_484;1', 'photoSensor_hits_histograms/photoSensor_485;1', 'photoSensor_hits_histograms/photoSensor_486;1', 'photoSensor_hits_histograms/photoSensor_487;1', 'photoSensor_hits_histograms/photoSensor_488;1', 'photoSensor_hits_histograms/photoSensor_489;1', 'photoSensor_hits_histograms/photoSensor_490;1', 'photoSensor_hits_histograms/photoSensor_491;1', 'photoSensor_hits_histograms/photoSensor_492;1', 'photoSensor_hits_histograms/photoSensor_493;1', 'photoSensor_hits_histograms/photoSensor_494;1', 'photoSensor_hits_histograms/photoSensor_495;1', 'photoSensor_hits_histograms/photoSensor_496;1', 'photoSensor_hits_histograms/photoSensor_497;1', 'photoSensor_hits_histograms/photoSensor_498;1', 'photoSensor_hits_histograms/photoSensor_499;1', 'photoSensor_hits_histograms/photoSensor_500;1', 'photoSensor_hits_histograms/photoSensor_501;1', 'photoSensor_hits_histograms/photoSensor_502;1', 'photoSensor_hits_histograms/photoSensor_503;1', 'photoSensor_hits_histograms/photoSensor_504;1', 'photoSensor_hits_histograms/photoSensor_505;1', 'photoSensor_hits_histograms/photoSensor_506;1', 'photoSensor_hits_histograms/photoSensor_507;1', 'photoSensor_hits_histograms/photoSensor_508;1', 'photoSensor_hits_histograms/photoSensor_509;1', 'photoSensor_hits_histograms/photoSensor_510;1', 'photoSensor_hits_histograms/photoSensor_511;1', 'photoSensor_hits_histograms/photoSensor_512;1', 'photoSensor_hits_histograms/photoSensor_513;1', 'photoSensor_hits_histograms/photoSensor_514;1', 'photoSensor_hits_histograms/photoSensor_515;1', 'photoSensor_hits_histograms/photoSensor_516;1', 'photoSensor_hits_histograms/photoSensor_517;1', 'photoSensor_hits_histograms/photoSensor_518;1', 'photoSensor_hits_histograms/photoSensor_519;1', 'photoSensor_hits_histograms/photoSensor_520;1', 'photoSensor_hits_histograms/photoSensor_521;1', 'photoSensor_hits_histograms/photoSensor_522;1', 'photoSensor_hits_histograms/photoSensor_523;1', 'photoSensor_hits_histograms/photoSensor_524;1', 'photoSensor_hits_histograms/photoSensor_525;1', 'photoSensor_hits_histograms/photoSensor_526;1', 'photoSensor_hits_histograms/photoSensor_527;1', 'photoSensor_hits_histograms/photoSensor_528;1', 'photoSensor_hits_histograms/photoSensor_529;1', 'photoSensor_hits_histograms/photoSensor_530;1', 'photoSensor_hits_histograms/photoSensor_531;1', 'photoSensor_hits_histograms/photoSensor_532;1', 'photoSensor_hits_histograms/photoSensor_533;1', 'photoSensor_hits_histograms/photoSensor_534;1', 'photoSensor_hits_histograms/photoSensor_535;1', 'photoSensor_hits_histograms/photoSensor_536;1', 'photoSensor_hits_histograms/photoSensor_537;1', 'photoSensor_hits_histograms/photoSensor_538;1', 'photoSensor_hits_histograms/photoSensor_539;1', 'photoSensor_hits_histograms/photoSensor_540;1', 'photoSensor_hits_histograms/photoSensor_541;1', 'photoSensor_hits_histograms/photoSensor_542;1', 'photoSensor_hits_histograms/photoSensor_543;1', 'photoSensor_hits_histograms/photoSensor_544;1', 'photoSensor_hits_histograms/photoSensor_545;1', 'photoSensor_hits_histograms/photoSensor_546;1', 'photoSensor_hits_histograms/photoSensor_547;1', 'photoSensor_hits_histograms/photoSensor_548;1', 'photoSensor_hits_histograms/photoSensor_549;1', 'photoSensor_hits_histograms/photoSensor_550;1', 'photoSensor_hits_histograms/photoSensor_551;1', 'photoSensor_hits_histograms/photoSensor_552;1', 'photoSensor_hits_histograms/photoSensor_553;1', 'photoSensor_hits_histograms/photoSensor_554;1', 'photoSensor_hits_histograms/photoSensor_555;1', 'photoSensor_hits_histograms/photoSensor_556;1', 'photoSensor_hits_histograms/photoSensor_557;1', 'photoSensor_hits_histograms/photoSensor_558;1', 'photoSensor_hits_histograms/photoSensor_559;1', 'photoSensor_hits_histograms/photoSensor_560;1', 'photoSensor_hits_histograms/photoSensor_561;1', 'photoSensor_hits_histograms/photoSensor_562;1', 'photoSensor_hits_histograms/photoSensor_563;1', 'photoSensor_hits_histograms/photoSensor_564;1', 'photoSensor_hits_histograms/photoSensor_565;1', 'photoSensor_hits_histograms/photoSensor_566;1', 'photoSensor_hits_histograms/photoSensor_567;1', 'photoSensor_hits_histograms/photoSensor_568;1', 'photoSensor_hits_histograms/photoSensor_569;1', 'photoSensor_hits_histograms/photoSensor_570;1', 'photoSensor_hits_histograms/photoSensor_571;1', 'photoSensor_hits_histograms/photoSensor_572;1', 'photoSensor_hits_histograms/photoSensor_573;1', 'photoSensor_hits_histograms/photoSensor_574;1', 'photoSensor_hits_histograms/photoSensor_575;1', 'photoSensor_hits_histograms/photoSensor_576;1', 'photoSensor_hits_histograms/photoSensor_577;1', 'photoSensor_hits_histograms/photoSensor_578;1', 'photoSensor_hits_histograms/photoSensor_579;1', 'photoSensor_hits_histograms/photoSensor_580;1', 'photoSensor_hits_histograms/photoSensor_581;1', 'photoSensor_hits_histograms/photoSensor_582;1', 'photoSensor_hits_histograms/photoSensor_583;1', 'photoSensor_hits_histograms/photoSensor_584;1', 'photoSensor_hits_histograms/photoSensor_585;1', 'photoSensor_hits_histograms/photoSensor_586;1', 'photoSensor_hits_histograms/photoSensor_587;1', 'photoSensor_hits_histograms/photoSensor_588;1', 'photoSensor_hits_histograms/photoSensor_589;1', 'photoSensor_hits_histograms/photoSensor_590;1', 'photoSensor_hits_histograms/photoSensor_591;1', 'photoSensor_hits_histograms/photoSensor_592;1', 'photoSensor_hits_histograms/photoSensor_593;1', 'photoSensor_hits_histograms/photoSensor_594;1', 'photoSensor_hits_histograms/photoSensor_595;1', 'photoSensor_hits_histograms/photoSensor_596;1', 'photoSensor_hits_histograms/photoSensor_597;1', 'photoSensor_hits_histograms/photoSensor_598;1', 'photoSensor_hits_histograms/photoSensor_599;1']\n",
      "['/DSPD_+x_1114.704220_990.000000_-990.000000_0_photoSensor_surface_sensitiveDetector', '/DSPD_+x_1114.704220_770.000000_-990.000000_1_photoSensor_surface_sensitiveDetector', '/DSPD_+x_1114.704220_550.000000_-990.000000_2_photoSensor_surface_sensitiveDetector', '/DSPD_+x_1114.704220_330.000000_-990.000000_3_photoSensor_surface_sensitiveDetector', '/DSPD_+x_1114.704220_110.000000_-990.000000_4_photoSensor_surface_sensitiveDetector', '/DSPD_+x_1114.704220_-110.000000_-990.000000_5_photoSensor_surface_sensitiveDetector', '/DSPD_+x_1114.704220_-330.000000_-990.000000_6_photoSensor_surface_sensitiveDetector', '/DSPD_+x_1114.704220_-550.000000_-990.000000_7_photoSensor_surface_sensitiveDetector', '/DSPD_+x_1114.704220_-770.000000_-990.000000_8_photoSensor_surface_sensitiveDetector', '/DSPD_+x_1114.704220_-990.000000_-990.000000_9_photoSensor_surface_sensitiveDetector', '/DSPD_+x_1114.704220_990.000000_-770.000000_10_photoSensor_surface_sensitiveDetector', '/DSPD_+x_1114.704220_770.000000_-770.000000_11_photoSensor_surface_sensitiveDetector', '/DSPD_+x_1114.704220_550.000000_-770.000000_12_photoSensor_surface_sensitiveDetector', '/DSPD_+x_1114.704220_330.000000_-770.000000_13_photoSensor_surface_sensitiveDetector', '/DSPD_+x_1114.704220_110.000000_-770.000000_14_photoSensor_surface_sensitiveDetector', '/DSPD_+x_1114.704220_-110.000000_-770.000000_15_photoSensor_surface_sensitiveDetector', '/DSPD_+x_1114.704220_-330.000000_-770.000000_16_photoSensor_surface_sensitiveDetector', '/DSPD_+x_1114.704220_-550.000000_-770.000000_17_photoSensor_surface_sensitiveDetector', '/DSPD_+x_1114.704220_-770.000000_-770.000000_18_photoSensor_surface_sensitiveDetector', '/DSPD_+x_1114.704220_-990.000000_-770.000000_19_photoSensor_surface_sensitiveDetector', '/DSPD_+x_1114.704220_990.000000_-550.000000_20_photoSensor_surface_sensitiveDetector', '/DSPD_+x_1114.704220_770.000000_-550.000000_21_photoSensor_surface_sensitiveDetector', '/DSPD_+x_1114.704220_550.000000_-550.000000_22_photoSensor_surface_sensitiveDetector', '/DSPD_+x_1114.704220_330.000000_-550.000000_23_photoSensor_surface_sensitiveDetector', '/DSPD_+x_1114.704220_110.000000_-550.000000_24_photoSensor_surface_sensitiveDetector', '/DSPD_+x_1114.704220_-110.000000_-550.000000_25_photoSensor_surface_sensitiveDetector', '/DSPD_+x_1114.704220_-330.000000_-550.000000_26_photoSensor_surface_sensitiveDetector', '/DSPD_+x_1114.704220_-550.000000_-550.000000_27_photoSensor_surface_sensitiveDetector', '/DSPD_+x_1114.704220_-770.000000_-550.000000_28_photoSensor_surface_sensitiveDetector', '/DSPD_+x_1114.704220_-990.000000_-550.000000_29_photoSensor_surface_sensitiveDetector', '/DSPD_+x_1114.704220_990.000000_-330.000000_30_photoSensor_surface_sensitiveDetector', '/DSPD_+x_1114.704220_770.000000_-330.000000_31_photoSensor_surface_sensitiveDetector', '/DSPD_+x_1114.704220_550.000000_-330.000000_32_photoSensor_surface_sensitiveDetector', '/DSPD_+x_1114.704220_330.000000_-330.000000_33_photoSensor_surface_sensitiveDetector', '/DSPD_+x_1114.704220_110.000000_-330.000000_34_photoSensor_surface_sensitiveDetector', '/DSPD_+x_1114.704220_-110.000000_-330.000000_35_photoSensor_surface_sensitiveDetector', '/DSPD_+x_1114.704220_-330.000000_-330.000000_36_photoSensor_surface_sensitiveDetector', '/DSPD_+x_1114.704220_-550.000000_-330.000000_37_photoSensor_surface_sensitiveDetector', '/DSPD_+x_1114.704220_-770.000000_-330.000000_38_photoSensor_surface_sensitiveDetector', '/DSPD_+x_1114.704220_-990.000000_-330.000000_39_photoSensor_surface_sensitiveDetector', '/DSPD_+x_1114.704220_990.000000_-110.000000_40_photoSensor_surface_sensitiveDetector', '/DSPD_+x_1114.704220_770.000000_-110.000000_41_photoSensor_surface_sensitiveDetector', '/DSPD_+x_1114.704220_550.000000_-110.000000_42_photoSensor_surface_sensitiveDetector', '/DSPD_+x_1114.704220_330.000000_-110.000000_43_photoSensor_surface_sensitiveDetector', '/DSPD_+x_1114.704220_110.000000_-110.000000_44_photoSensor_surface_sensitiveDetector', '/DSPD_+x_1114.704220_-110.000000_-110.000000_45_photoSensor_surface_sensitiveDetector', '/DSPD_+x_1114.704220_-330.000000_-110.000000_46_photoSensor_surface_sensitiveDetector', '/DSPD_+x_1114.704220_-550.000000_-110.000000_47_photoSensor_surface_sensitiveDetector', '/DSPD_+x_1114.704220_-770.000000_-110.000000_48_photoSensor_surface_sensitiveDetector', '/DSPD_+x_1114.704220_-990.000000_-110.000000_49_photoSensor_surface_sensitiveDetector', '/DSPD_+x_1114.704220_990.000000_110.000000_50_photoSensor_surface_sensitiveDetector', '/DSPD_+x_1114.704220_770.000000_110.000000_51_photoSensor_surface_sensitiveDetector', '/DSPD_+x_1114.704220_550.000000_110.000000_52_photoSensor_surface_sensitiveDetector', '/DSPD_+x_1114.704220_330.000000_110.000000_53_photoSensor_surface_sensitiveDetector', '/DSPD_+x_1114.704220_110.000000_110.000000_54_photoSensor_surface_sensitiveDetector', '/DSPD_+x_1114.704220_-110.000000_110.000000_55_photoSensor_surface_sensitiveDetector', '/DSPD_+x_1114.704220_-330.000000_110.000000_56_photoSensor_surface_sensitiveDetector', '/DSPD_+x_1114.704220_-550.000000_110.000000_57_photoSensor_surface_sensitiveDetector', '/DSPD_+x_1114.704220_-770.000000_110.000000_58_photoSensor_surface_sensitiveDetector', '/DSPD_+x_1114.704220_-990.000000_110.000000_59_photoSensor_surface_sensitiveDetector', '/DSPD_+x_1114.704220_990.000000_330.000000_60_photoSensor_surface_sensitiveDetector', '/DSPD_+x_1114.704220_770.000000_330.000000_61_photoSensor_surface_sensitiveDetector', '/DSPD_+x_1114.704220_550.000000_330.000000_62_photoSensor_surface_sensitiveDetector', '/DSPD_+x_1114.704220_330.000000_330.000000_63_photoSensor_surface_sensitiveDetector', '/DSPD_+x_1114.704220_110.000000_330.000000_64_photoSensor_surface_sensitiveDetector', '/DSPD_+x_1114.704220_-110.000000_330.000000_65_photoSensor_surface_sensitiveDetector', '/DSPD_+x_1114.704220_-330.000000_330.000000_66_photoSensor_surface_sensitiveDetector', '/DSPD_+x_1114.704220_-550.000000_330.000000_67_photoSensor_surface_sensitiveDetector', '/DSPD_+x_1114.704220_-770.000000_330.000000_68_photoSensor_surface_sensitiveDetector', '/DSPD_+x_1114.704220_-990.000000_330.000000_69_photoSensor_surface_sensitiveDetector', '/DSPD_+x_1114.704220_990.000000_550.000000_70_photoSensor_surface_sensitiveDetector', '/DSPD_+x_1114.704220_770.000000_550.000000_71_photoSensor_surface_sensitiveDetector', '/DSPD_+x_1114.704220_550.000000_550.000000_72_photoSensor_surface_sensitiveDetector', '/DSPD_+x_1114.704220_330.000000_550.000000_73_photoSensor_surface_sensitiveDetector', '/DSPD_+x_1114.704220_110.000000_550.000000_74_photoSensor_surface_sensitiveDetector', '/DSPD_+x_1114.704220_-110.000000_550.000000_75_photoSensor_surface_sensitiveDetector', '/DSPD_+x_1114.704220_-330.000000_550.000000_76_photoSensor_surface_sensitiveDetector', '/DSPD_+x_1114.704220_-550.000000_550.000000_77_photoSensor_surface_sensitiveDetector', '/DSPD_+x_1114.704220_-770.000000_550.000000_78_photoSensor_surface_sensitiveDetector', '/DSPD_+x_1114.704220_-990.000000_550.000000_79_photoSensor_surface_sensitiveDetector', '/DSPD_+x_1114.704220_990.000000_770.000000_80_photoSensor_surface_sensitiveDetector', '/DSPD_+x_1114.704220_770.000000_770.000000_81_photoSensor_surface_sensitiveDetector', '/DSPD_+x_1114.704220_550.000000_770.000000_82_photoSensor_surface_sensitiveDetector', '/DSPD_+x_1114.704220_330.000000_770.000000_83_photoSensor_surface_sensitiveDetector', '/DSPD_+x_1114.704220_110.000000_770.000000_84_photoSensor_surface_sensitiveDetector', '/DSPD_+x_1114.704220_-110.000000_770.000000_85_photoSensor_surface_sensitiveDetector', '/DSPD_+x_1114.704220_-330.000000_770.000000_86_photoSensor_surface_sensitiveDetector', '/DSPD_+x_1114.704220_-550.000000_770.000000_87_photoSensor_surface_sensitiveDetector', '/DSPD_+x_1114.704220_-770.000000_770.000000_88_photoSensor_surface_sensitiveDetector', '/DSPD_+x_1114.704220_-990.000000_770.000000_89_photoSensor_surface_sensitiveDetector', '/DSPD_+x_1114.704220_990.000000_990.000000_90_photoSensor_surface_sensitiveDetector', '/DSPD_+x_1114.704220_770.000000_990.000000_91_photoSensor_surface_sensitiveDetector', '/DSPD_+x_1114.704220_550.000000_990.000000_92_photoSensor_surface_sensitiveDetector', '/DSPD_+x_1114.704220_330.000000_990.000000_93_photoSensor_surface_sensitiveDetector', '/DSPD_+x_1114.704220_110.000000_990.000000_94_photoSensor_surface_sensitiveDetector', '/DSPD_+x_1114.704220_-110.000000_990.000000_95_photoSensor_surface_sensitiveDetector', '/DSPD_+x_1114.704220_-330.000000_990.000000_96_photoSensor_surface_sensitiveDetector', '/DSPD_+x_1114.704220_-550.000000_990.000000_97_photoSensor_surface_sensitiveDetector', '/DSPD_+x_1114.704220_-770.000000_990.000000_98_photoSensor_surface_sensitiveDetector', '/DSPD_+x_1114.704220_-990.000000_990.000000_99_photoSensor_surface_sensitiveDetector', '/DSPD_-x_-1114.704220_990.000000_990.000000_0_photoSensor_surface_sensitiveDetector', '/DSPD_-x_-1114.704220_770.000000_990.000000_1_photoSensor_surface_sensitiveDetector', '/DSPD_-x_-1114.704220_550.000000_990.000000_2_photoSensor_surface_sensitiveDetector', '/DSPD_-x_-1114.704220_330.000000_990.000000_3_photoSensor_surface_sensitiveDetector', '/DSPD_-x_-1114.704220_110.000000_990.000000_4_photoSensor_surface_sensitiveDetector', '/DSPD_-x_-1114.704220_-110.000000_990.000000_5_photoSensor_surface_sensitiveDetector', '/DSPD_-x_-1114.704220_-330.000000_990.000000_6_photoSensor_surface_sensitiveDetector', '/DSPD_-x_-1114.704220_-550.000000_990.000000_7_photoSensor_surface_sensitiveDetector', '/DSPD_-x_-1114.704220_-770.000000_990.000000_8_photoSensor_surface_sensitiveDetector', '/DSPD_-x_-1114.704220_-990.000000_990.000000_9_photoSensor_surface_sensitiveDetector', '/DSPD_-x_-1114.704220_990.000000_770.000000_10_photoSensor_surface_sensitiveDetector', '/DSPD_-x_-1114.704220_770.000000_770.000000_11_photoSensor_surface_sensitiveDetector', '/DSPD_-x_-1114.704220_550.000000_770.000000_12_photoSensor_surface_sensitiveDetector', '/DSPD_-x_-1114.704220_330.000000_770.000000_13_photoSensor_surface_sensitiveDetector', '/DSPD_-x_-1114.704220_110.000000_770.000000_14_photoSensor_surface_sensitiveDetector', '/DSPD_-x_-1114.704220_-110.000000_770.000000_15_photoSensor_surface_sensitiveDetector', '/DSPD_-x_-1114.704220_-330.000000_770.000000_16_photoSensor_surface_sensitiveDetector', '/DSPD_-x_-1114.704220_-550.000000_770.000000_17_photoSensor_surface_sensitiveDetector', '/DSPD_-x_-1114.704220_-770.000000_770.000000_18_photoSensor_surface_sensitiveDetector', '/DSPD_-x_-1114.704220_-990.000000_770.000000_19_photoSensor_surface_sensitiveDetector', '/DSPD_-x_-1114.704220_990.000000_550.000000_20_photoSensor_surface_sensitiveDetector', '/DSPD_-x_-1114.704220_770.000000_550.000000_21_photoSensor_surface_sensitiveDetector', '/DSPD_-x_-1114.704220_550.000000_550.000000_22_photoSensor_surface_sensitiveDetector', '/DSPD_-x_-1114.704220_330.000000_550.000000_23_photoSensor_surface_sensitiveDetector', '/DSPD_-x_-1114.704220_110.000000_550.000000_24_photoSensor_surface_sensitiveDetector', '/DSPD_-x_-1114.704220_-110.000000_550.000000_25_photoSensor_surface_sensitiveDetector', '/DSPD_-x_-1114.704220_-330.000000_550.000000_26_photoSensor_surface_sensitiveDetector', '/DSPD_-x_-1114.704220_-550.000000_550.000000_27_photoSensor_surface_sensitiveDetector', '/DSPD_-x_-1114.704220_-770.000000_550.000000_28_photoSensor_surface_sensitiveDetector', '/DSPD_-x_-1114.704220_-990.000000_550.000000_29_photoSensor_surface_sensitiveDetector', '/DSPD_-x_-1114.704220_990.000000_330.000000_30_photoSensor_surface_sensitiveDetector', '/DSPD_-x_-1114.704220_770.000000_330.000000_31_photoSensor_surface_sensitiveDetector', '/DSPD_-x_-1114.704220_550.000000_330.000000_32_photoSensor_surface_sensitiveDetector', '/DSPD_-x_-1114.704220_330.000000_330.000000_33_photoSensor_surface_sensitiveDetector', '/DSPD_-x_-1114.704220_110.000000_330.000000_34_photoSensor_surface_sensitiveDetector', '/DSPD_-x_-1114.704220_-110.000000_330.000000_35_photoSensor_surface_sensitiveDetector', '/DSPD_-x_-1114.704220_-330.000000_330.000000_36_photoSensor_surface_sensitiveDetector', '/DSPD_-x_-1114.704220_-550.000000_330.000000_37_photoSensor_surface_sensitiveDetector', '/DSPD_-x_-1114.704220_-770.000000_330.000000_38_photoSensor_surface_sensitiveDetector', '/DSPD_-x_-1114.704220_-990.000000_330.000000_39_photoSensor_surface_sensitiveDetector', '/DSPD_-x_-1114.704220_990.000000_110.000000_40_photoSensor_surface_sensitiveDetector', '/DSPD_-x_-1114.704220_770.000000_110.000000_41_photoSensor_surface_sensitiveDetector', '/DSPD_-x_-1114.704220_550.000000_110.000000_42_photoSensor_surface_sensitiveDetector', '/DSPD_-x_-1114.704220_330.000000_110.000000_43_photoSensor_surface_sensitiveDetector', '/DSPD_-x_-1114.704220_110.000000_110.000000_44_photoSensor_surface_sensitiveDetector', '/DSPD_-x_-1114.704220_-110.000000_110.000000_45_photoSensor_surface_sensitiveDetector', '/DSPD_-x_-1114.704220_-330.000000_110.000000_46_photoSensor_surface_sensitiveDetector', '/DSPD_-x_-1114.704220_-550.000000_110.000000_47_photoSensor_surface_sensitiveDetector', '/DSPD_-x_-1114.704220_-770.000000_110.000000_48_photoSensor_surface_sensitiveDetector', '/DSPD_-x_-1114.704220_-990.000000_110.000000_49_photoSensor_surface_sensitiveDetector', '/DSPD_-x_-1114.704220_990.000000_-110.000000_50_photoSensor_surface_sensitiveDetector', '/DSPD_-x_-1114.704220_770.000000_-110.000000_51_photoSensor_surface_sensitiveDetector', '/DSPD_-x_-1114.704220_550.000000_-110.000000_52_photoSensor_surface_sensitiveDetector', '/DSPD_-x_-1114.704220_330.000000_-110.000000_53_photoSensor_surface_sensitiveDetector', '/DSPD_-x_-1114.704220_110.000000_-110.000000_54_photoSensor_surface_sensitiveDetector', '/DSPD_-x_-1114.704220_-110.000000_-110.000000_55_photoSensor_surface_sensitiveDetector', '/DSPD_-x_-1114.704220_-330.000000_-110.000000_56_photoSensor_surface_sensitiveDetector', '/DSPD_-x_-1114.704220_-550.000000_-110.000000_57_photoSensor_surface_sensitiveDetector', '/DSPD_-x_-1114.704220_-770.000000_-110.000000_58_photoSensor_surface_sensitiveDetector', '/DSPD_-x_-1114.704220_-990.000000_-110.000000_59_photoSensor_surface_sensitiveDetector', '/DSPD_-x_-1114.704220_990.000000_-330.000000_60_photoSensor_surface_sensitiveDetector', '/DSPD_-x_-1114.704220_770.000000_-330.000000_61_photoSensor_surface_sensitiveDetector', '/DSPD_-x_-1114.704220_550.000000_-330.000000_62_photoSensor_surface_sensitiveDetector', '/DSPD_-x_-1114.704220_330.000000_-330.000000_63_photoSensor_surface_sensitiveDetector', '/DSPD_-x_-1114.704220_110.000000_-330.000000_64_photoSensor_surface_sensitiveDetector', '/DSPD_-x_-1114.704220_-110.000000_-330.000000_65_photoSensor_surface_sensitiveDetector', '/DSPD_-x_-1114.704220_-330.000000_-330.000000_66_photoSensor_surface_sensitiveDetector', '/DSPD_-x_-1114.704220_-550.000000_-330.000000_67_photoSensor_surface_sensitiveDetector', '/DSPD_-x_-1114.704220_-770.000000_-330.000000_68_photoSensor_surface_sensitiveDetector', '/DSPD_-x_-1114.704220_-990.000000_-330.000000_69_photoSensor_surface_sensitiveDetector', '/DSPD_-x_-1114.704220_990.000000_-550.000000_70_photoSensor_surface_sensitiveDetector', '/DSPD_-x_-1114.704220_770.000000_-550.000000_71_photoSensor_surface_sensitiveDetector', '/DSPD_-x_-1114.704220_550.000000_-550.000000_72_photoSensor_surface_sensitiveDetector', '/DSPD_-x_-1114.704220_330.000000_-550.000000_73_photoSensor_surface_sensitiveDetector', '/DSPD_-x_-1114.704220_110.000000_-550.000000_74_photoSensor_surface_sensitiveDetector', '/DSPD_-x_-1114.704220_-110.000000_-550.000000_75_photoSensor_surface_sensitiveDetector', '/DSPD_-x_-1114.704220_-330.000000_-550.000000_76_photoSensor_surface_sensitiveDetector', '/DSPD_-x_-1114.704220_-550.000000_-550.000000_77_photoSensor_surface_sensitiveDetector', '/DSPD_-x_-1114.704220_-770.000000_-550.000000_78_photoSensor_surface_sensitiveDetector', '/DSPD_-x_-1114.704220_-990.000000_-550.000000_79_photoSensor_surface_sensitiveDetector', '/DSPD_-x_-1114.704220_990.000000_-770.000000_80_photoSensor_surface_sensitiveDetector', '/DSPD_-x_-1114.704220_770.000000_-770.000000_81_photoSensor_surface_sensitiveDetector', '/DSPD_-x_-1114.704220_550.000000_-770.000000_82_photoSensor_surface_sensitiveDetector', '/DSPD_-x_-1114.704220_330.000000_-770.000000_83_photoSensor_surface_sensitiveDetector', '/DSPD_-x_-1114.704220_110.000000_-770.000000_84_photoSensor_surface_sensitiveDetector', '/DSPD_-x_-1114.704220_-110.000000_-770.000000_85_photoSensor_surface_sensitiveDetector', '/DSPD_-x_-1114.704220_-330.000000_-770.000000_86_photoSensor_surface_sensitiveDetector', '/DSPD_-x_-1114.704220_-550.000000_-770.000000_87_photoSensor_surface_sensitiveDetector', '/DSPD_-x_-1114.704220_-770.000000_-770.000000_88_photoSensor_surface_sensitiveDetector', '/DSPD_-x_-1114.704220_-990.000000_-770.000000_89_photoSensor_surface_sensitiveDetector', '/DSPD_-x_-1114.704220_990.000000_-990.000000_90_photoSensor_surface_sensitiveDetector', '/DSPD_-x_-1114.704220_770.000000_-990.000000_91_photoSensor_surface_sensitiveDetector', '/DSPD_-x_-1114.704220_550.000000_-990.000000_92_photoSensor_surface_sensitiveDetector', '/DSPD_-x_-1114.704220_330.000000_-990.000000_93_photoSensor_surface_sensitiveDetector', '/DSPD_-x_-1114.704220_110.000000_-990.000000_94_photoSensor_surface_sensitiveDetector', '/DSPD_-x_-1114.704220_-110.000000_-990.000000_95_photoSensor_surface_sensitiveDetector', '/DSPD_-x_-1114.704220_-330.000000_-990.000000_96_photoSensor_surface_sensitiveDetector', '/DSPD_-x_-1114.704220_-550.000000_-990.000000_97_photoSensor_surface_sensitiveDetector', '/DSPD_-x_-1114.704220_-770.000000_-990.000000_98_photoSensor_surface_sensitiveDetector', '/DSPD_-x_-1114.704220_-990.000000_-990.000000_99_photoSensor_surface_sensitiveDetector', '/DSPD_+y_990.000000_1114.704220_-990.000000_0_photoSensor_surface_sensitiveDetector', '/DSPD_+y_990.000000_1114.704220_-770.000000_1_photoSensor_surface_sensitiveDetector', '/DSPD_+y_990.000000_1114.704220_-550.000000_2_photoSensor_surface_sensitiveDetector', '/DSPD_+y_990.000000_1114.704220_-330.000000_3_photoSensor_surface_sensitiveDetector', '/DSPD_+y_990.000000_1114.704220_-110.000000_4_photoSensor_surface_sensitiveDetector', '/DSPD_+y_990.000000_1114.704220_110.000000_5_photoSensor_surface_sensitiveDetector', '/DSPD_+y_990.000000_1114.704220_330.000000_6_photoSensor_surface_sensitiveDetector', '/DSPD_+y_990.000000_1114.704220_550.000000_7_photoSensor_surface_sensitiveDetector', '/DSPD_+y_990.000000_1114.704220_770.000000_8_photoSensor_surface_sensitiveDetector', '/DSPD_+y_990.000000_1114.704220_990.000000_9_photoSensor_surface_sensitiveDetector', '/DSPD_+y_770.000000_1114.704220_-990.000000_10_photoSensor_surface_sensitiveDetector', '/DSPD_+y_770.000000_1114.704220_-770.000000_11_photoSensor_surface_sensitiveDetector', '/DSPD_+y_770.000000_1114.704220_-550.000000_12_photoSensor_surface_sensitiveDetector', '/DSPD_+y_770.000000_1114.704220_-330.000000_13_photoSensor_surface_sensitiveDetector', '/DSPD_+y_770.000000_1114.704220_-110.000000_14_photoSensor_surface_sensitiveDetector', '/DSPD_+y_770.000000_1114.704220_110.000000_15_photoSensor_surface_sensitiveDetector', '/DSPD_+y_770.000000_1114.704220_330.000000_16_photoSensor_surface_sensitiveDetector', '/DSPD_+y_770.000000_1114.704220_550.000000_17_photoSensor_surface_sensitiveDetector', '/DSPD_+y_770.000000_1114.704220_770.000000_18_photoSensor_surface_sensitiveDetector', '/DSPD_+y_770.000000_1114.704220_990.000000_19_photoSensor_surface_sensitiveDetector', '/DSPD_+y_550.000000_1114.704220_-990.000000_20_photoSensor_surface_sensitiveDetector', '/DSPD_+y_550.000000_1114.704220_-770.000000_21_photoSensor_surface_sensitiveDetector', '/DSPD_+y_550.000000_1114.704220_-550.000000_22_photoSensor_surface_sensitiveDetector', '/DSPD_+y_550.000000_1114.704220_-330.000000_23_photoSensor_surface_sensitiveDetector', '/DSPD_+y_550.000000_1114.704220_-110.000000_24_photoSensor_surface_sensitiveDetector', '/DSPD_+y_550.000000_1114.704220_110.000000_25_photoSensor_surface_sensitiveDetector', '/DSPD_+y_550.000000_1114.704220_330.000000_26_photoSensor_surface_sensitiveDetector', '/DSPD_+y_550.000000_1114.704220_550.000000_27_photoSensor_surface_sensitiveDetector', '/DSPD_+y_550.000000_1114.704220_770.000000_28_photoSensor_surface_sensitiveDetector', '/DSPD_+y_550.000000_1114.704220_990.000000_29_photoSensor_surface_sensitiveDetector', '/DSPD_+y_330.000000_1114.704220_-990.000000_30_photoSensor_surface_sensitiveDetector', '/DSPD_+y_330.000000_1114.704220_-770.000000_31_photoSensor_surface_sensitiveDetector', '/DSPD_+y_330.000000_1114.704220_-550.000000_32_photoSensor_surface_sensitiveDetector', '/DSPD_+y_330.000000_1114.704220_-330.000000_33_photoSensor_surface_sensitiveDetector', '/DSPD_+y_330.000000_1114.704220_-110.000000_34_photoSensor_surface_sensitiveDetector', '/DSPD_+y_330.000000_1114.704220_110.000000_35_photoSensor_surface_sensitiveDetector', '/DSPD_+y_330.000000_1114.704220_330.000000_36_photoSensor_surface_sensitiveDetector', '/DSPD_+y_330.000000_1114.704220_550.000000_37_photoSensor_surface_sensitiveDetector', '/DSPD_+y_330.000000_1114.704220_770.000000_38_photoSensor_surface_sensitiveDetector', '/DSPD_+y_330.000000_1114.704220_990.000000_39_photoSensor_surface_sensitiveDetector', '/DSPD_+y_110.000000_1114.704220_-990.000000_40_photoSensor_surface_sensitiveDetector', '/DSPD_+y_110.000000_1114.704220_-770.000000_41_photoSensor_surface_sensitiveDetector', '/DSPD_+y_110.000000_1114.704220_-550.000000_42_photoSensor_surface_sensitiveDetector', '/DSPD_+y_110.000000_1114.704220_-330.000000_43_photoSensor_surface_sensitiveDetector', '/DSPD_+y_110.000000_1114.704220_-110.000000_44_photoSensor_surface_sensitiveDetector', '/DSPD_+y_110.000000_1114.704220_110.000000_45_photoSensor_surface_sensitiveDetector', '/DSPD_+y_110.000000_1114.704220_330.000000_46_photoSensor_surface_sensitiveDetector', '/DSPD_+y_110.000000_1114.704220_550.000000_47_photoSensor_surface_sensitiveDetector', '/DSPD_+y_110.000000_1114.704220_770.000000_48_photoSensor_surface_sensitiveDetector', '/DSPD_+y_110.000000_1114.704220_990.000000_49_photoSensor_surface_sensitiveDetector', '/DSPD_+y_-110.000000_1114.704220_-990.000000_50_photoSensor_surface_sensitiveDetector', '/DSPD_+y_-110.000000_1114.704220_-770.000000_51_photoSensor_surface_sensitiveDetector', '/DSPD_+y_-110.000000_1114.704220_-550.000000_52_photoSensor_surface_sensitiveDetector', '/DSPD_+y_-110.000000_1114.704220_-330.000000_53_photoSensor_surface_sensitiveDetector', '/DSPD_+y_-110.000000_1114.704220_-110.000000_54_photoSensor_surface_sensitiveDetector', '/DSPD_+y_-110.000000_1114.704220_110.000000_55_photoSensor_surface_sensitiveDetector', '/DSPD_+y_-110.000000_1114.704220_330.000000_56_photoSensor_surface_sensitiveDetector', '/DSPD_+y_-110.000000_1114.704220_550.000000_57_photoSensor_surface_sensitiveDetector', '/DSPD_+y_-110.000000_1114.704220_770.000000_58_photoSensor_surface_sensitiveDetector', '/DSPD_+y_-110.000000_1114.704220_990.000000_59_photoSensor_surface_sensitiveDetector', '/DSPD_+y_-330.000000_1114.704220_-990.000000_60_photoSensor_surface_sensitiveDetector', '/DSPD_+y_-330.000000_1114.704220_-770.000000_61_photoSensor_surface_sensitiveDetector', '/DSPD_+y_-330.000000_1114.704220_-550.000000_62_photoSensor_surface_sensitiveDetector', '/DSPD_+y_-330.000000_1114.704220_-330.000000_63_photoSensor_surface_sensitiveDetector', '/DSPD_+y_-330.000000_1114.704220_-110.000000_64_photoSensor_surface_sensitiveDetector', '/DSPD_+y_-330.000000_1114.704220_110.000000_65_photoSensor_surface_sensitiveDetector', '/DSPD_+y_-330.000000_1114.704220_330.000000_66_photoSensor_surface_sensitiveDetector', '/DSPD_+y_-330.000000_1114.704220_550.000000_67_photoSensor_surface_sensitiveDetector', '/DSPD_+y_-330.000000_1114.704220_770.000000_68_photoSensor_surface_sensitiveDetector', '/DSPD_+y_-330.000000_1114.704220_990.000000_69_photoSensor_surface_sensitiveDetector', '/DSPD_+y_-550.000000_1114.704220_-990.000000_70_photoSensor_surface_sensitiveDetector', '/DSPD_+y_-550.000000_1114.704220_-770.000000_71_photoSensor_surface_sensitiveDetector', '/DSPD_+y_-550.000000_1114.704220_-550.000000_72_photoSensor_surface_sensitiveDetector', '/DSPD_+y_-550.000000_1114.704220_-330.000000_73_photoSensor_surface_sensitiveDetector', '/DSPD_+y_-550.000000_1114.704220_-110.000000_74_photoSensor_surface_sensitiveDetector', '/DSPD_+y_-550.000000_1114.704220_110.000000_75_photoSensor_surface_sensitiveDetector', '/DSPD_+y_-550.000000_1114.704220_330.000000_76_photoSensor_surface_sensitiveDetector', '/DSPD_+y_-550.000000_1114.704220_550.000000_77_photoSensor_surface_sensitiveDetector', '/DSPD_+y_-550.000000_1114.704220_770.000000_78_photoSensor_surface_sensitiveDetector', '/DSPD_+y_-550.000000_1114.704220_990.000000_79_photoSensor_surface_sensitiveDetector', '/DSPD_+y_-770.000000_1114.704220_-990.000000_80_photoSensor_surface_sensitiveDetector', '/DSPD_+y_-770.000000_1114.704220_-770.000000_81_photoSensor_surface_sensitiveDetector', '/DSPD_+y_-770.000000_1114.704220_-550.000000_82_photoSensor_surface_sensitiveDetector', '/DSPD_+y_-770.000000_1114.704220_-330.000000_83_photoSensor_surface_sensitiveDetector', '/DSPD_+y_-770.000000_1114.704220_-110.000000_84_photoSensor_surface_sensitiveDetector', '/DSPD_+y_-770.000000_1114.704220_110.000000_85_photoSensor_surface_sensitiveDetector', '/DSPD_+y_-770.000000_1114.704220_330.000000_86_photoSensor_surface_sensitiveDetector', '/DSPD_+y_-770.000000_1114.704220_550.000000_87_photoSensor_surface_sensitiveDetector', '/DSPD_+y_-770.000000_1114.704220_770.000000_88_photoSensor_surface_sensitiveDetector', '/DSPD_+y_-770.000000_1114.704220_990.000000_89_photoSensor_surface_sensitiveDetector', '/DSPD_+y_-990.000000_1114.704220_-990.000000_90_photoSensor_surface_sensitiveDetector', '/DSPD_+y_-990.000000_1114.704220_-770.000000_91_photoSensor_surface_sensitiveDetector', '/DSPD_+y_-990.000000_1114.704220_-550.000000_92_photoSensor_surface_sensitiveDetector', '/DSPD_+y_-990.000000_1114.704220_-330.000000_93_photoSensor_surface_sensitiveDetector', '/DSPD_+y_-990.000000_1114.704220_-110.000000_94_photoSensor_surface_sensitiveDetector', '/DSPD_+y_-990.000000_1114.704220_110.000000_95_photoSensor_surface_sensitiveDetector', '/DSPD_+y_-990.000000_1114.704220_330.000000_96_photoSensor_surface_sensitiveDetector', '/DSPD_+y_-990.000000_1114.704220_550.000000_97_photoSensor_surface_sensitiveDetector', '/DSPD_+y_-990.000000_1114.704220_770.000000_98_photoSensor_surface_sensitiveDetector', '/DSPD_+y_-990.000000_1114.704220_990.000000_99_photoSensor_surface_sensitiveDetector', '/DSPD_-y_990.000000_-1114.704220_990.000000_0_photoSensor_surface_sensitiveDetector', '/DSPD_-y_990.000000_-1114.704220_770.000000_1_photoSensor_surface_sensitiveDetector', '/DSPD_-y_990.000000_-1114.704220_550.000000_2_photoSensor_surface_sensitiveDetector', '/DSPD_-y_990.000000_-1114.704220_330.000000_3_photoSensor_surface_sensitiveDetector', '/DSPD_-y_990.000000_-1114.704220_110.000000_4_photoSensor_surface_sensitiveDetector', '/DSPD_-y_990.000000_-1114.704220_-110.000000_5_photoSensor_surface_sensitiveDetector', '/DSPD_-y_990.000000_-1114.704220_-330.000000_6_photoSensor_surface_sensitiveDetector', '/DSPD_-y_990.000000_-1114.704220_-550.000000_7_photoSensor_surface_sensitiveDetector', '/DSPD_-y_990.000000_-1114.704220_-770.000000_8_photoSensor_surface_sensitiveDetector', '/DSPD_-y_990.000000_-1114.704220_-990.000000_9_photoSensor_surface_sensitiveDetector', '/DSPD_-y_770.000000_-1114.704220_990.000000_10_photoSensor_surface_sensitiveDetector', '/DSPD_-y_770.000000_-1114.704220_770.000000_11_photoSensor_surface_sensitiveDetector', '/DSPD_-y_770.000000_-1114.704220_550.000000_12_photoSensor_surface_sensitiveDetector', '/DSPD_-y_770.000000_-1114.704220_330.000000_13_photoSensor_surface_sensitiveDetector', '/DSPD_-y_770.000000_-1114.704220_110.000000_14_photoSensor_surface_sensitiveDetector', '/DSPD_-y_770.000000_-1114.704220_-110.000000_15_photoSensor_surface_sensitiveDetector', '/DSPD_-y_770.000000_-1114.704220_-330.000000_16_photoSensor_surface_sensitiveDetector', '/DSPD_-y_770.000000_-1114.704220_-550.000000_17_photoSensor_surface_sensitiveDetector', '/DSPD_-y_770.000000_-1114.704220_-770.000000_18_photoSensor_surface_sensitiveDetector', '/DSPD_-y_770.000000_-1114.704220_-990.000000_19_photoSensor_surface_sensitiveDetector', '/DSPD_-y_550.000000_-1114.704220_990.000000_20_photoSensor_surface_sensitiveDetector', '/DSPD_-y_550.000000_-1114.704220_770.000000_21_photoSensor_surface_sensitiveDetector', '/DSPD_-y_550.000000_-1114.704220_550.000000_22_photoSensor_surface_sensitiveDetector', '/DSPD_-y_550.000000_-1114.704220_330.000000_23_photoSensor_surface_sensitiveDetector', '/DSPD_-y_550.000000_-1114.704220_110.000000_24_photoSensor_surface_sensitiveDetector', '/DSPD_-y_550.000000_-1114.704220_-110.000000_25_photoSensor_surface_sensitiveDetector', '/DSPD_-y_550.000000_-1114.704220_-330.000000_26_photoSensor_surface_sensitiveDetector', '/DSPD_-y_550.000000_-1114.704220_-550.000000_27_photoSensor_surface_sensitiveDetector', '/DSPD_-y_550.000000_-1114.704220_-770.000000_28_photoSensor_surface_sensitiveDetector', '/DSPD_-y_550.000000_-1114.704220_-990.000000_29_photoSensor_surface_sensitiveDetector', '/DSPD_-y_330.000000_-1114.704220_990.000000_30_photoSensor_surface_sensitiveDetector', '/DSPD_-y_330.000000_-1114.704220_770.000000_31_photoSensor_surface_sensitiveDetector', '/DSPD_-y_330.000000_-1114.704220_550.000000_32_photoSensor_surface_sensitiveDetector', '/DSPD_-y_330.000000_-1114.704220_330.000000_33_photoSensor_surface_sensitiveDetector', '/DSPD_-y_330.000000_-1114.704220_110.000000_34_photoSensor_surface_sensitiveDetector', '/DSPD_-y_330.000000_-1114.704220_-110.000000_35_photoSensor_surface_sensitiveDetector', '/DSPD_-y_330.000000_-1114.704220_-330.000000_36_photoSensor_surface_sensitiveDetector', '/DSPD_-y_330.000000_-1114.704220_-550.000000_37_photoSensor_surface_sensitiveDetector', '/DSPD_-y_330.000000_-1114.704220_-770.000000_38_photoSensor_surface_sensitiveDetector', '/DSPD_-y_330.000000_-1114.704220_-990.000000_39_photoSensor_surface_sensitiveDetector', '/DSPD_-y_110.000000_-1114.704220_990.000000_40_photoSensor_surface_sensitiveDetector', '/DSPD_-y_110.000000_-1114.704220_770.000000_41_photoSensor_surface_sensitiveDetector', '/DSPD_-y_110.000000_-1114.704220_550.000000_42_photoSensor_surface_sensitiveDetector', '/DSPD_-y_110.000000_-1114.704220_330.000000_43_photoSensor_surface_sensitiveDetector', '/DSPD_-y_110.000000_-1114.704220_110.000000_44_photoSensor_surface_sensitiveDetector', '/DSPD_-y_110.000000_-1114.704220_-110.000000_45_photoSensor_surface_sensitiveDetector', '/DSPD_-y_110.000000_-1114.704220_-330.000000_46_photoSensor_surface_sensitiveDetector', '/DSPD_-y_110.000000_-1114.704220_-550.000000_47_photoSensor_surface_sensitiveDetector', '/DSPD_-y_110.000000_-1114.704220_-770.000000_48_photoSensor_surface_sensitiveDetector', '/DSPD_-y_110.000000_-1114.704220_-990.000000_49_photoSensor_surface_sensitiveDetector', '/DSPD_-y_-110.000000_-1114.704220_990.000000_50_photoSensor_surface_sensitiveDetector', '/DSPD_-y_-110.000000_-1114.704220_770.000000_51_photoSensor_surface_sensitiveDetector', '/DSPD_-y_-110.000000_-1114.704220_550.000000_52_photoSensor_surface_sensitiveDetector', '/DSPD_-y_-110.000000_-1114.704220_330.000000_53_photoSensor_surface_sensitiveDetector', '/DSPD_-y_-110.000000_-1114.704220_110.000000_54_photoSensor_surface_sensitiveDetector', '/DSPD_-y_-110.000000_-1114.704220_-110.000000_55_photoSensor_surface_sensitiveDetector', '/DSPD_-y_-110.000000_-1114.704220_-330.000000_56_photoSensor_surface_sensitiveDetector', '/DSPD_-y_-110.000000_-1114.704220_-550.000000_57_photoSensor_surface_sensitiveDetector', '/DSPD_-y_-110.000000_-1114.704220_-770.000000_58_photoSensor_surface_sensitiveDetector', '/DSPD_-y_-110.000000_-1114.704220_-990.000000_59_photoSensor_surface_sensitiveDetector', '/DSPD_-y_-330.000000_-1114.704220_990.000000_60_photoSensor_surface_sensitiveDetector', '/DSPD_-y_-330.000000_-1114.704220_770.000000_61_photoSensor_surface_sensitiveDetector', '/DSPD_-y_-330.000000_-1114.704220_550.000000_62_photoSensor_surface_sensitiveDetector', '/DSPD_-y_-330.000000_-1114.704220_330.000000_63_photoSensor_surface_sensitiveDetector', '/DSPD_-y_-330.000000_-1114.704220_110.000000_64_photoSensor_surface_sensitiveDetector', '/DSPD_-y_-330.000000_-1114.704220_-110.000000_65_photoSensor_surface_sensitiveDetector', '/DSPD_-y_-330.000000_-1114.704220_-330.000000_66_photoSensor_surface_sensitiveDetector', '/DSPD_-y_-330.000000_-1114.704220_-550.000000_67_photoSensor_surface_sensitiveDetector', '/DSPD_-y_-330.000000_-1114.704220_-770.000000_68_photoSensor_surface_sensitiveDetector', '/DSPD_-y_-330.000000_-1114.704220_-990.000000_69_photoSensor_surface_sensitiveDetector', '/DSPD_-y_-550.000000_-1114.704220_990.000000_70_photoSensor_surface_sensitiveDetector', '/DSPD_-y_-550.000000_-1114.704220_770.000000_71_photoSensor_surface_sensitiveDetector', '/DSPD_-y_-550.000000_-1114.704220_550.000000_72_photoSensor_surface_sensitiveDetector', '/DSPD_-y_-550.000000_-1114.704220_330.000000_73_photoSensor_surface_sensitiveDetector', '/DSPD_-y_-550.000000_-1114.704220_110.000000_74_photoSensor_surface_sensitiveDetector', '/DSPD_-y_-550.000000_-1114.704220_-110.000000_75_photoSensor_surface_sensitiveDetector', '/DSPD_-y_-550.000000_-1114.704220_-330.000000_76_photoSensor_surface_sensitiveDetector', '/DSPD_-y_-550.000000_-1114.704220_-550.000000_77_photoSensor_surface_sensitiveDetector', '/DSPD_-y_-550.000000_-1114.704220_-770.000000_78_photoSensor_surface_sensitiveDetector', '/DSPD_-y_-550.000000_-1114.704220_-990.000000_79_photoSensor_surface_sensitiveDetector', '/DSPD_-y_-770.000000_-1114.704220_990.000000_80_photoSensor_surface_sensitiveDetector', '/DSPD_-y_-770.000000_-1114.704220_770.000000_81_photoSensor_surface_sensitiveDetector', '/DSPD_-y_-770.000000_-1114.704220_550.000000_82_photoSensor_surface_sensitiveDetector', '/DSPD_-y_-770.000000_-1114.704220_330.000000_83_photoSensor_surface_sensitiveDetector', '/DSPD_-y_-770.000000_-1114.704220_110.000000_84_photoSensor_surface_sensitiveDetector', '/DSPD_-y_-770.000000_-1114.704220_-110.000000_85_photoSensor_surface_sensitiveDetector', '/DSPD_-y_-770.000000_-1114.704220_-330.000000_86_photoSensor_surface_sensitiveDetector', '/DSPD_-y_-770.000000_-1114.704220_-550.000000_87_photoSensor_surface_sensitiveDetector', '/DSPD_-y_-770.000000_-1114.704220_-770.000000_88_photoSensor_surface_sensitiveDetector', '/DSPD_-y_-770.000000_-1114.704220_-990.000000_89_photoSensor_surface_sensitiveDetector', '/DSPD_-y_-990.000000_-1114.704220_990.000000_90_photoSensor_surface_sensitiveDetector', '/DSPD_-y_-990.000000_-1114.704220_770.000000_91_photoSensor_surface_sensitiveDetector', '/DSPD_-y_-990.000000_-1114.704220_550.000000_92_photoSensor_surface_sensitiveDetector', '/DSPD_-y_-990.000000_-1114.704220_330.000000_93_photoSensor_surface_sensitiveDetector', '/DSPD_-y_-990.000000_-1114.704220_110.000000_94_photoSensor_surface_sensitiveDetector', '/DSPD_-y_-990.000000_-1114.704220_-110.000000_95_photoSensor_surface_sensitiveDetector', '/DSPD_-y_-990.000000_-1114.704220_-330.000000_96_photoSensor_surface_sensitiveDetector', '/DSPD_-y_-990.000000_-1114.704220_-550.000000_97_photoSensor_surface_sensitiveDetector', '/DSPD_-y_-990.000000_-1114.704220_-770.000000_98_photoSensor_surface_sensitiveDetector', '/DSPD_-y_-990.000000_-1114.704220_-990.000000_99_photoSensor_surface_sensitiveDetector', '/DSPD_+z_990.000000_990.000000_1114.704220_0_photoSensor_surface_sensitiveDetector', '/DSPD_+z_990.000000_770.000000_1114.704220_1_photoSensor_surface_sensitiveDetector', '/DSPD_+z_990.000000_550.000000_1114.704220_2_photoSensor_surface_sensitiveDetector', '/DSPD_+z_990.000000_330.000000_1114.704220_3_photoSensor_surface_sensitiveDetector', '/DSPD_+z_990.000000_110.000000_1114.704220_4_photoSensor_surface_sensitiveDetector', '/DSPD_+z_990.000000_-110.000000_1114.704220_5_photoSensor_surface_sensitiveDetector', '/DSPD_+z_990.000000_-330.000000_1114.704220_6_photoSensor_surface_sensitiveDetector', '/DSPD_+z_990.000000_-550.000000_1114.704220_7_photoSensor_surface_sensitiveDetector', '/DSPD_+z_990.000000_-770.000000_1114.704220_8_photoSensor_surface_sensitiveDetector', '/DSPD_+z_990.000000_-990.000000_1114.704220_9_photoSensor_surface_sensitiveDetector', '/DSPD_+z_770.000000_990.000000_1114.704220_10_photoSensor_surface_sensitiveDetector', '/DSPD_+z_770.000000_770.000000_1114.704220_11_photoSensor_surface_sensitiveDetector', '/DSPD_+z_770.000000_550.000000_1114.704220_12_photoSensor_surface_sensitiveDetector', '/DSPD_+z_770.000000_330.000000_1114.704220_13_photoSensor_surface_sensitiveDetector', '/DSPD_+z_770.000000_110.000000_1114.704220_14_photoSensor_surface_sensitiveDetector', '/DSPD_+z_770.000000_-110.000000_1114.704220_15_photoSensor_surface_sensitiveDetector', '/DSPD_+z_770.000000_-330.000000_1114.704220_16_photoSensor_surface_sensitiveDetector', '/DSPD_+z_770.000000_-550.000000_1114.704220_17_photoSensor_surface_sensitiveDetector', '/DSPD_+z_770.000000_-770.000000_1114.704220_18_photoSensor_surface_sensitiveDetector', '/DSPD_+z_770.000000_-990.000000_1114.704220_19_photoSensor_surface_sensitiveDetector', '/DSPD_+z_550.000000_990.000000_1114.704220_20_photoSensor_surface_sensitiveDetector', '/DSPD_+z_550.000000_770.000000_1114.704220_21_photoSensor_surface_sensitiveDetector', '/DSPD_+z_550.000000_550.000000_1114.704220_22_photoSensor_surface_sensitiveDetector', '/DSPD_+z_550.000000_330.000000_1114.704220_23_photoSensor_surface_sensitiveDetector', '/DSPD_+z_550.000000_110.000000_1114.704220_24_photoSensor_surface_sensitiveDetector', '/DSPD_+z_550.000000_-110.000000_1114.704220_25_photoSensor_surface_sensitiveDetector', '/DSPD_+z_550.000000_-330.000000_1114.704220_26_photoSensor_surface_sensitiveDetector', '/DSPD_+z_550.000000_-550.000000_1114.704220_27_photoSensor_surface_sensitiveDetector', '/DSPD_+z_550.000000_-770.000000_1114.704220_28_photoSensor_surface_sensitiveDetector', '/DSPD_+z_550.000000_-990.000000_1114.704220_29_photoSensor_surface_sensitiveDetector', '/DSPD_+z_330.000000_990.000000_1114.704220_30_photoSensor_surface_sensitiveDetector', '/DSPD_+z_330.000000_770.000000_1114.704220_31_photoSensor_surface_sensitiveDetector', '/DSPD_+z_330.000000_550.000000_1114.704220_32_photoSensor_surface_sensitiveDetector', '/DSPD_+z_330.000000_330.000000_1114.704220_33_photoSensor_surface_sensitiveDetector', '/DSPD_+z_330.000000_110.000000_1114.704220_34_photoSensor_surface_sensitiveDetector', '/DSPD_+z_330.000000_-110.000000_1114.704220_35_photoSensor_surface_sensitiveDetector', '/DSPD_+z_330.000000_-330.000000_1114.704220_36_photoSensor_surface_sensitiveDetector', '/DSPD_+z_330.000000_-550.000000_1114.704220_37_photoSensor_surface_sensitiveDetector', '/DSPD_+z_330.000000_-770.000000_1114.704220_38_photoSensor_surface_sensitiveDetector', '/DSPD_+z_330.000000_-990.000000_1114.704220_39_photoSensor_surface_sensitiveDetector', '/DSPD_+z_110.000000_990.000000_1114.704220_40_photoSensor_surface_sensitiveDetector', '/DSPD_+z_110.000000_770.000000_1114.704220_41_photoSensor_surface_sensitiveDetector', '/DSPD_+z_110.000000_550.000000_1114.704220_42_photoSensor_surface_sensitiveDetector', '/DSPD_+z_110.000000_330.000000_1114.704220_43_photoSensor_surface_sensitiveDetector', '/DSPD_+z_110.000000_110.000000_1114.704220_44_photoSensor_surface_sensitiveDetector', '/DSPD_+z_110.000000_-110.000000_1114.704220_45_photoSensor_surface_sensitiveDetector', '/DSPD_+z_110.000000_-330.000000_1114.704220_46_photoSensor_surface_sensitiveDetector', '/DSPD_+z_110.000000_-550.000000_1114.704220_47_photoSensor_surface_sensitiveDetector', '/DSPD_+z_110.000000_-770.000000_1114.704220_48_photoSensor_surface_sensitiveDetector', '/DSPD_+z_110.000000_-990.000000_1114.704220_49_photoSensor_surface_sensitiveDetector', '/DSPD_+z_-110.000000_990.000000_1114.704220_50_photoSensor_surface_sensitiveDetector', '/DSPD_+z_-110.000000_770.000000_1114.704220_51_photoSensor_surface_sensitiveDetector', '/DSPD_+z_-110.000000_550.000000_1114.704220_52_photoSensor_surface_sensitiveDetector', '/DSPD_+z_-110.000000_330.000000_1114.704220_53_photoSensor_surface_sensitiveDetector', '/DSPD_+z_-110.000000_110.000000_1114.704220_54_photoSensor_surface_sensitiveDetector', '/DSPD_+z_-110.000000_-110.000000_1114.704220_55_photoSensor_surface_sensitiveDetector', '/DSPD_+z_-110.000000_-330.000000_1114.704220_56_photoSensor_surface_sensitiveDetector', '/DSPD_+z_-110.000000_-550.000000_1114.704220_57_photoSensor_surface_sensitiveDetector', '/DSPD_+z_-110.000000_-770.000000_1114.704220_58_photoSensor_surface_sensitiveDetector', '/DSPD_+z_-110.000000_-990.000000_1114.704220_59_photoSensor_surface_sensitiveDetector', '/DSPD_+z_-330.000000_990.000000_1114.704220_60_photoSensor_surface_sensitiveDetector', '/DSPD_+z_-330.000000_770.000000_1114.704220_61_photoSensor_surface_sensitiveDetector', '/DSPD_+z_-330.000000_550.000000_1114.704220_62_photoSensor_surface_sensitiveDetector', '/DSPD_+z_-330.000000_330.000000_1114.704220_63_photoSensor_surface_sensitiveDetector', '/DSPD_+z_-330.000000_110.000000_1114.704220_64_photoSensor_surface_sensitiveDetector', '/DSPD_+z_-330.000000_-110.000000_1114.704220_65_photoSensor_surface_sensitiveDetector', '/DSPD_+z_-330.000000_-330.000000_1114.704220_66_photoSensor_surface_sensitiveDetector', '/DSPD_+z_-330.000000_-550.000000_1114.704220_67_photoSensor_surface_sensitiveDetector', '/DSPD_+z_-330.000000_-770.000000_1114.704220_68_photoSensor_surface_sensitiveDetector', '/DSPD_+z_-330.000000_-990.000000_1114.704220_69_photoSensor_surface_sensitiveDetector', '/DSPD_+z_-550.000000_990.000000_1114.704220_70_photoSensor_surface_sensitiveDetector', '/DSPD_+z_-550.000000_770.000000_1114.704220_71_photoSensor_surface_sensitiveDetector', '/DSPD_+z_-550.000000_550.000000_1114.704220_72_photoSensor_surface_sensitiveDetector', '/DSPD_+z_-550.000000_330.000000_1114.704220_73_photoSensor_surface_sensitiveDetector', '/DSPD_+z_-550.000000_110.000000_1114.704220_74_photoSensor_surface_sensitiveDetector', '/DSPD_+z_-550.000000_-110.000000_1114.704220_75_photoSensor_surface_sensitiveDetector', '/DSPD_+z_-550.000000_-330.000000_1114.704220_76_photoSensor_surface_sensitiveDetector', '/DSPD_+z_-550.000000_-550.000000_1114.704220_77_photoSensor_surface_sensitiveDetector', '/DSPD_+z_-550.000000_-770.000000_1114.704220_78_photoSensor_surface_sensitiveDetector', '/DSPD_+z_-550.000000_-990.000000_1114.704220_79_photoSensor_surface_sensitiveDetector', '/DSPD_+z_-770.000000_990.000000_1114.704220_80_photoSensor_surface_sensitiveDetector', '/DSPD_+z_-770.000000_770.000000_1114.704220_81_photoSensor_surface_sensitiveDetector', '/DSPD_+z_-770.000000_550.000000_1114.704220_82_photoSensor_surface_sensitiveDetector', '/DSPD_+z_-770.000000_330.000000_1114.704220_83_photoSensor_surface_sensitiveDetector', '/DSPD_+z_-770.000000_110.000000_1114.704220_84_photoSensor_surface_sensitiveDetector', '/DSPD_+z_-770.000000_-110.000000_1114.704220_85_photoSensor_surface_sensitiveDetector', '/DSPD_+z_-770.000000_-330.000000_1114.704220_86_photoSensor_surface_sensitiveDetector', '/DSPD_+z_-770.000000_-550.000000_1114.704220_87_photoSensor_surface_sensitiveDetector', '/DSPD_+z_-770.000000_-770.000000_1114.704220_88_photoSensor_surface_sensitiveDetector', '/DSPD_+z_-770.000000_-990.000000_1114.704220_89_photoSensor_surface_sensitiveDetector', '/DSPD_+z_-990.000000_990.000000_1114.704220_90_photoSensor_surface_sensitiveDetector', '/DSPD_+z_-990.000000_770.000000_1114.704220_91_photoSensor_surface_sensitiveDetector', '/DSPD_+z_-990.000000_550.000000_1114.704220_92_photoSensor_surface_sensitiveDetector', '/DSPD_+z_-990.000000_330.000000_1114.704220_93_photoSensor_surface_sensitiveDetector', '/DSPD_+z_-990.000000_110.000000_1114.704220_94_photoSensor_surface_sensitiveDetector', '/DSPD_+z_-990.000000_-110.000000_1114.704220_95_photoSensor_surface_sensitiveDetector', '/DSPD_+z_-990.000000_-330.000000_1114.704220_96_photoSensor_surface_sensitiveDetector', '/DSPD_+z_-990.000000_-550.000000_1114.704220_97_photoSensor_surface_sensitiveDetector', '/DSPD_+z_-990.000000_-770.000000_1114.704220_98_photoSensor_surface_sensitiveDetector', '/DSPD_+z_-990.000000_-990.000000_1114.704220_99_photoSensor_surface_sensitiveDetector', '/DSPD_-z_-990.000000_-990.000000_-1114.704220_0_photoSensor_surface_sensitiveDetector', '/DSPD_-z_-990.000000_-770.000000_-1114.704220_1_photoSensor_surface_sensitiveDetector', '/DSPD_-z_-990.000000_-550.000000_-1114.704220_2_photoSensor_surface_sensitiveDetector', '/DSPD_-z_-990.000000_-330.000000_-1114.704220_3_photoSensor_surface_sensitiveDetector', '/DSPD_-z_-990.000000_-110.000000_-1114.704220_4_photoSensor_surface_sensitiveDetector', '/DSPD_-z_-990.000000_110.000000_-1114.704220_5_photoSensor_surface_sensitiveDetector', '/DSPD_-z_-990.000000_330.000000_-1114.704220_6_photoSensor_surface_sensitiveDetector', '/DSPD_-z_-990.000000_550.000000_-1114.704220_7_photoSensor_surface_sensitiveDetector', '/DSPD_-z_-990.000000_770.000000_-1114.704220_8_photoSensor_surface_sensitiveDetector', '/DSPD_-z_-990.000000_990.000000_-1114.704220_9_photoSensor_surface_sensitiveDetector', '/DSPD_-z_-770.000000_-990.000000_-1114.704220_10_photoSensor_surface_sensitiveDetector', '/DSPD_-z_-770.000000_-770.000000_-1114.704220_11_photoSensor_surface_sensitiveDetector', '/DSPD_-z_-770.000000_-550.000000_-1114.704220_12_photoSensor_surface_sensitiveDetector', '/DSPD_-z_-770.000000_-330.000000_-1114.704220_13_photoSensor_surface_sensitiveDetector', '/DSPD_-z_-770.000000_-110.000000_-1114.704220_14_photoSensor_surface_sensitiveDetector', '/DSPD_-z_-770.000000_110.000000_-1114.704220_15_photoSensor_surface_sensitiveDetector', '/DSPD_-z_-770.000000_330.000000_-1114.704220_16_photoSensor_surface_sensitiveDetector', '/DSPD_-z_-770.000000_550.000000_-1114.704220_17_photoSensor_surface_sensitiveDetector', '/DSPD_-z_-770.000000_770.000000_-1114.704220_18_photoSensor_surface_sensitiveDetector', '/DSPD_-z_-770.000000_990.000000_-1114.704220_19_photoSensor_surface_sensitiveDetector', '/DSPD_-z_-550.000000_-990.000000_-1114.704220_20_photoSensor_surface_sensitiveDetector', '/DSPD_-z_-550.000000_-770.000000_-1114.704220_21_photoSensor_surface_sensitiveDetector', '/DSPD_-z_-550.000000_-550.000000_-1114.704220_22_photoSensor_surface_sensitiveDetector', '/DSPD_-z_-550.000000_-330.000000_-1114.704220_23_photoSensor_surface_sensitiveDetector', '/DSPD_-z_-550.000000_-110.000000_-1114.704220_24_photoSensor_surface_sensitiveDetector', '/DSPD_-z_-550.000000_110.000000_-1114.704220_25_photoSensor_surface_sensitiveDetector', '/DSPD_-z_-550.000000_330.000000_-1114.704220_26_photoSensor_surface_sensitiveDetector', '/DSPD_-z_-550.000000_550.000000_-1114.704220_27_photoSensor_surface_sensitiveDetector', '/DSPD_-z_-550.000000_770.000000_-1114.704220_28_photoSensor_surface_sensitiveDetector', '/DSPD_-z_-550.000000_990.000000_-1114.704220_29_photoSensor_surface_sensitiveDetector', '/DSPD_-z_-330.000000_-990.000000_-1114.704220_30_photoSensor_surface_sensitiveDetector', '/DSPD_-z_-330.000000_-770.000000_-1114.704220_31_photoSensor_surface_sensitiveDetector', '/DSPD_-z_-330.000000_-550.000000_-1114.704220_32_photoSensor_surface_sensitiveDetector', '/DSPD_-z_-330.000000_-330.000000_-1114.704220_33_photoSensor_surface_sensitiveDetector', '/DSPD_-z_-330.000000_-110.000000_-1114.704220_34_photoSensor_surface_sensitiveDetector', '/DSPD_-z_-330.000000_110.000000_-1114.704220_35_photoSensor_surface_sensitiveDetector', '/DSPD_-z_-330.000000_330.000000_-1114.704220_36_photoSensor_surface_sensitiveDetector', '/DSPD_-z_-330.000000_550.000000_-1114.704220_37_photoSensor_surface_sensitiveDetector', '/DSPD_-z_-330.000000_770.000000_-1114.704220_38_photoSensor_surface_sensitiveDetector', '/DSPD_-z_-330.000000_990.000000_-1114.704220_39_photoSensor_surface_sensitiveDetector', '/DSPD_-z_-110.000000_-990.000000_-1114.704220_40_photoSensor_surface_sensitiveDetector', '/DSPD_-z_-110.000000_-770.000000_-1114.704220_41_photoSensor_surface_sensitiveDetector', '/DSPD_-z_-110.000000_-550.000000_-1114.704220_42_photoSensor_surface_sensitiveDetector', '/DSPD_-z_-110.000000_-330.000000_-1114.704220_43_photoSensor_surface_sensitiveDetector', '/DSPD_-z_-110.000000_-110.000000_-1114.704220_44_photoSensor_surface_sensitiveDetector', '/DSPD_-z_-110.000000_110.000000_-1114.704220_45_photoSensor_surface_sensitiveDetector', '/DSPD_-z_-110.000000_330.000000_-1114.704220_46_photoSensor_surface_sensitiveDetector', '/DSPD_-z_-110.000000_550.000000_-1114.704220_47_photoSensor_surface_sensitiveDetector', '/DSPD_-z_-110.000000_770.000000_-1114.704220_48_photoSensor_surface_sensitiveDetector', '/DSPD_-z_-110.000000_990.000000_-1114.704220_49_photoSensor_surface_sensitiveDetector', '/DSPD_-z_110.000000_-990.000000_-1114.704220_50_photoSensor_surface_sensitiveDetector', '/DSPD_-z_110.000000_-770.000000_-1114.704220_51_photoSensor_surface_sensitiveDetector', '/DSPD_-z_110.000000_-550.000000_-1114.704220_52_photoSensor_surface_sensitiveDetector', '/DSPD_-z_110.000000_-330.000000_-1114.704220_53_photoSensor_surface_sensitiveDetector', '/DSPD_-z_110.000000_-110.000000_-1114.704220_54_photoSensor_surface_sensitiveDetector', '/DSPD_-z_110.000000_110.000000_-1114.704220_55_photoSensor_surface_sensitiveDetector', '/DSPD_-z_110.000000_330.000000_-1114.704220_56_photoSensor_surface_sensitiveDetector', '/DSPD_-z_110.000000_550.000000_-1114.704220_57_photoSensor_surface_sensitiveDetector', '/DSPD_-z_110.000000_770.000000_-1114.704220_58_photoSensor_surface_sensitiveDetector', '/DSPD_-z_110.000000_990.000000_-1114.704220_59_photoSensor_surface_sensitiveDetector', '/DSPD_-z_330.000000_-990.000000_-1114.704220_60_photoSensor_surface_sensitiveDetector', '/DSPD_-z_330.000000_-770.000000_-1114.704220_61_photoSensor_surface_sensitiveDetector', '/DSPD_-z_330.000000_-550.000000_-1114.704220_62_photoSensor_surface_sensitiveDetector', '/DSPD_-z_330.000000_-330.000000_-1114.704220_63_photoSensor_surface_sensitiveDetector', '/DSPD_-z_330.000000_-110.000000_-1114.704220_64_photoSensor_surface_sensitiveDetector', '/DSPD_-z_330.000000_110.000000_-1114.704220_65_photoSensor_surface_sensitiveDetector', '/DSPD_-z_330.000000_330.000000_-1114.704220_66_photoSensor_surface_sensitiveDetector', '/DSPD_-z_330.000000_550.000000_-1114.704220_67_photoSensor_surface_sensitiveDetector', '/DSPD_-z_330.000000_770.000000_-1114.704220_68_photoSensor_surface_sensitiveDetector', '/DSPD_-z_330.000000_990.000000_-1114.704220_69_photoSensor_surface_sensitiveDetector', '/DSPD_-z_550.000000_-990.000000_-1114.704220_70_photoSensor_surface_sensitiveDetector', '/DSPD_-z_550.000000_-770.000000_-1114.704220_71_photoSensor_surface_sensitiveDetector', '/DSPD_-z_550.000000_-550.000000_-1114.704220_72_photoSensor_surface_sensitiveDetector', '/DSPD_-z_550.000000_-330.000000_-1114.704220_73_photoSensor_surface_sensitiveDetector', '/DSPD_-z_550.000000_-110.000000_-1114.704220_74_photoSensor_surface_sensitiveDetector', '/DSPD_-z_550.000000_110.000000_-1114.704220_75_photoSensor_surface_sensitiveDetector', '/DSPD_-z_550.000000_330.000000_-1114.704220_76_photoSensor_surface_sensitiveDetector', '/DSPD_-z_550.000000_550.000000_-1114.704220_77_photoSensor_surface_sensitiveDetector', '/DSPD_-z_550.000000_770.000000_-1114.704220_78_photoSensor_surface_sensitiveDetector', '/DSPD_-z_550.000000_990.000000_-1114.704220_79_photoSensor_surface_sensitiveDetector', '/DSPD_-z_770.000000_-990.000000_-1114.704220_80_photoSensor_surface_sensitiveDetector', '/DSPD_-z_770.000000_-770.000000_-1114.704220_81_photoSensor_surface_sensitiveDetector', '/DSPD_-z_770.000000_-550.000000_-1114.704220_82_photoSensor_surface_sensitiveDetector', '/DSPD_-z_770.000000_-330.000000_-1114.704220_83_photoSensor_surface_sensitiveDetector', '/DSPD_-z_770.000000_-110.000000_-1114.704220_84_photoSensor_surface_sensitiveDetector', '/DSPD_-z_770.000000_110.000000_-1114.704220_85_photoSensor_surface_sensitiveDetector', '/DSPD_-z_770.000000_330.000000_-1114.704220_86_photoSensor_surface_sensitiveDetector', '/DSPD_-z_770.000000_550.000000_-1114.704220_87_photoSensor_surface_sensitiveDetector', '/DSPD_-z_770.000000_770.000000_-1114.704220_88_photoSensor_surface_sensitiveDetector', '/DSPD_-z_770.000000_990.000000_-1114.704220_89_photoSensor_surface_sensitiveDetector', '/DSPD_-z_990.000000_-990.000000_-1114.704220_90_photoSensor_surface_sensitiveDetector', '/DSPD_-z_990.000000_-770.000000_-1114.704220_91_photoSensor_surface_sensitiveDetector', '/DSPD_-z_990.000000_-550.000000_-1114.704220_92_photoSensor_surface_sensitiveDetector', '/DSPD_-z_990.000000_-330.000000_-1114.704220_93_photoSensor_surface_sensitiveDetector', '/DSPD_-z_990.000000_-110.000000_-1114.704220_94_photoSensor_surface_sensitiveDetector', '/DSPD_-z_990.000000_110.000000_-1114.704220_95_photoSensor_surface_sensitiveDetector', '/DSPD_-z_990.000000_330.000000_-1114.704220_96_photoSensor_surface_sensitiveDetector', '/DSPD_-z_990.000000_550.000000_-1114.704220_97_photoSensor_surface_sensitiveDetector', '/DSPD_-z_990.000000_770.000000_-1114.704220_98_photoSensor_surface_sensitiveDetector', '/DSPD_-z_990.000000_990.000000_-1114.704220_99_photoSensor_surface_sensitiveDetector']\n",
      "[(1114.70422, 990.0, -990.0), (1114.70422, 770.0, -990.0), (1114.70422, 550.0, -990.0), (1114.70422, 330.0, -990.0), (1114.70422, 110.0, -990.0), (1114.70422, -110.0, -990.0), (1114.70422, -330.0, -990.0), (1114.70422, -550.0, -990.0), (1114.70422, -770.0, -990.0), (1114.70422, -990.0, -990.0), (1114.70422, 990.0, -770.0), (1114.70422, 770.0, -770.0), (1114.70422, 550.0, -770.0), (1114.70422, 330.0, -770.0), (1114.70422, 110.0, -770.0), (1114.70422, -110.0, -770.0), (1114.70422, -330.0, -770.0), (1114.70422, -550.0, -770.0), (1114.70422, -770.0, -770.0), (1114.70422, -990.0, -770.0), (1114.70422, 990.0, -550.0), (1114.70422, 770.0, -550.0), (1114.70422, 550.0, -550.0), (1114.70422, 330.0, -550.0), (1114.70422, 110.0, -550.0), (1114.70422, -110.0, -550.0), (1114.70422, -330.0, -550.0), (1114.70422, -550.0, -550.0), (1114.70422, -770.0, -550.0), (1114.70422, -990.0, -550.0), (1114.70422, 990.0, -330.0), (1114.70422, 770.0, -330.0), (1114.70422, 550.0, -330.0), (1114.70422, 330.0, -330.0), (1114.70422, 110.0, -330.0), (1114.70422, -110.0, -330.0), (1114.70422, -330.0, -330.0), (1114.70422, -550.0, -330.0), (1114.70422, -770.0, -330.0), (1114.70422, -990.0, -330.0), (1114.70422, 990.0, -110.0), (1114.70422, 770.0, -110.0), (1114.70422, 550.0, -110.0), (1114.70422, 330.0, -110.0), (1114.70422, 110.0, -110.0), (1114.70422, -110.0, -110.0), (1114.70422, -330.0, -110.0), (1114.70422, -550.0, -110.0), (1114.70422, -770.0, -110.0), (1114.70422, -990.0, -110.0), (1114.70422, 990.0, 110.0), (1114.70422, 770.0, 110.0), (1114.70422, 550.0, 110.0), (1114.70422, 330.0, 110.0), (1114.70422, 110.0, 110.0), (1114.70422, -110.0, 110.0), (1114.70422, -330.0, 110.0), (1114.70422, -550.0, 110.0), (1114.70422, -770.0, 110.0), (1114.70422, -990.0, 110.0), (1114.70422, 990.0, 330.0), (1114.70422, 770.0, 330.0), (1114.70422, 550.0, 330.0), (1114.70422, 330.0, 330.0), (1114.70422, 110.0, 330.0), (1114.70422, -110.0, 330.0), (1114.70422, -330.0, 330.0), (1114.70422, -550.0, 330.0), (1114.70422, -770.0, 330.0), (1114.70422, -990.0, 330.0), (1114.70422, 990.0, 550.0), (1114.70422, 770.0, 550.0), (1114.70422, 550.0, 550.0), (1114.70422, 330.0, 550.0), (1114.70422, 110.0, 550.0), (1114.70422, -110.0, 550.0), (1114.70422, -330.0, 550.0), (1114.70422, -550.0, 550.0), (1114.70422, -770.0, 550.0), (1114.70422, -990.0, 550.0), (1114.70422, 990.0, 770.0), (1114.70422, 770.0, 770.0), (1114.70422, 550.0, 770.0), (1114.70422, 330.0, 770.0), (1114.70422, 110.0, 770.0), (1114.70422, -110.0, 770.0), (1114.70422, -330.0, 770.0), (1114.70422, -550.0, 770.0), (1114.70422, -770.0, 770.0), (1114.70422, -990.0, 770.0), (1114.70422, 990.0, 990.0), (1114.70422, 770.0, 990.0), (1114.70422, 550.0, 990.0), (1114.70422, 330.0, 990.0), (1114.70422, 110.0, 990.0), (1114.70422, -110.0, 990.0), (1114.70422, -330.0, 990.0), (1114.70422, -550.0, 990.0), (1114.70422, -770.0, 990.0), (1114.70422, -990.0, 990.0), (-1114.70422, 990.0, 990.0), (-1114.70422, 770.0, 990.0), (-1114.70422, 550.0, 990.0), (-1114.70422, 330.0, 990.0), (-1114.70422, 110.0, 990.0), (-1114.70422, -110.0, 990.0), (-1114.70422, -330.0, 990.0), (-1114.70422, -550.0, 990.0), (-1114.70422, -770.0, 990.0), (-1114.70422, -990.0, 990.0), (-1114.70422, 990.0, 770.0), (-1114.70422, 770.0, 770.0), (-1114.70422, 550.0, 770.0), (-1114.70422, 330.0, 770.0), (-1114.70422, 110.0, 770.0), (-1114.70422, -110.0, 770.0), (-1114.70422, -330.0, 770.0), (-1114.70422, -550.0, 770.0), (-1114.70422, -770.0, 770.0), (-1114.70422, -990.0, 770.0), (-1114.70422, 990.0, 550.0), (-1114.70422, 770.0, 550.0), (-1114.70422, 550.0, 550.0), (-1114.70422, 330.0, 550.0), (-1114.70422, 110.0, 550.0), (-1114.70422, -110.0, 550.0), (-1114.70422, -330.0, 550.0), (-1114.70422, -550.0, 550.0), (-1114.70422, -770.0, 550.0), (-1114.70422, -990.0, 550.0), (-1114.70422, 990.0, 330.0), (-1114.70422, 770.0, 330.0), (-1114.70422, 550.0, 330.0), (-1114.70422, 330.0, 330.0), (-1114.70422, 110.0, 330.0), (-1114.70422, -110.0, 330.0), (-1114.70422, -330.0, 330.0), (-1114.70422, -550.0, 330.0), (-1114.70422, -770.0, 330.0), (-1114.70422, -990.0, 330.0), (-1114.70422, 990.0, 110.0), (-1114.70422, 770.0, 110.0), (-1114.70422, 550.0, 110.0), (-1114.70422, 330.0, 110.0), (-1114.70422, 110.0, 110.0), (-1114.70422, -110.0, 110.0), (-1114.70422, -330.0, 110.0), (-1114.70422, -550.0, 110.0), (-1114.70422, -770.0, 110.0), (-1114.70422, -990.0, 110.0), (-1114.70422, 990.0, -110.0), (-1114.70422, 770.0, -110.0), (-1114.70422, 550.0, -110.0), (-1114.70422, 330.0, -110.0), (-1114.70422, 110.0, -110.0), (-1114.70422, -110.0, -110.0), (-1114.70422, -330.0, -110.0), (-1114.70422, -550.0, -110.0), (-1114.70422, -770.0, -110.0), (-1114.70422, -990.0, -110.0), (-1114.70422, 990.0, -330.0), (-1114.70422, 770.0, -330.0), (-1114.70422, 550.0, -330.0), (-1114.70422, 330.0, -330.0), (-1114.70422, 110.0, -330.0), (-1114.70422, -110.0, -330.0), (-1114.70422, -330.0, -330.0), (-1114.70422, -550.0, -330.0), (-1114.70422, -770.0, -330.0), (-1114.70422, -990.0, -330.0), (-1114.70422, 990.0, -550.0), (-1114.70422, 770.0, -550.0), (-1114.70422, 550.0, -550.0), (-1114.70422, 330.0, -550.0), (-1114.70422, 110.0, -550.0), (-1114.70422, -110.0, -550.0), (-1114.70422, -330.0, -550.0), (-1114.70422, -550.0, -550.0), (-1114.70422, -770.0, -550.0), (-1114.70422, -990.0, -550.0), (-1114.70422, 990.0, -770.0), (-1114.70422, 770.0, -770.0), (-1114.70422, 550.0, -770.0), (-1114.70422, 330.0, -770.0), (-1114.70422, 110.0, -770.0), (-1114.70422, -110.0, -770.0), (-1114.70422, -330.0, -770.0), (-1114.70422, -550.0, -770.0), (-1114.70422, -770.0, -770.0), (-1114.70422, -990.0, -770.0), (-1114.70422, 990.0, -990.0), (-1114.70422, 770.0, -990.0), (-1114.70422, 550.0, -990.0), (-1114.70422, 330.0, -990.0), (-1114.70422, 110.0, -990.0), (-1114.70422, -110.0, -990.0), (-1114.70422, -330.0, -990.0), (-1114.70422, -550.0, -990.0), (-1114.70422, -770.0, -990.0), (-1114.70422, -990.0, -990.0), (990.0, 1114.70422, -990.0), (990.0, 1114.70422, -770.0), (990.0, 1114.70422, -550.0), (990.0, 1114.70422, -330.0), (990.0, 1114.70422, -110.0), (990.0, 1114.70422, 110.0), (990.0, 1114.70422, 330.0), (990.0, 1114.70422, 550.0), (990.0, 1114.70422, 770.0), (990.0, 1114.70422, 990.0), (770.0, 1114.70422, -990.0), (770.0, 1114.70422, -770.0), (770.0, 1114.70422, -550.0), (770.0, 1114.70422, -330.0), (770.0, 1114.70422, -110.0), (770.0, 1114.70422, 110.0), (770.0, 1114.70422, 330.0), (770.0, 1114.70422, 550.0), (770.0, 1114.70422, 770.0), (770.0, 1114.70422, 990.0), (550.0, 1114.70422, -990.0), (550.0, 1114.70422, -770.0), (550.0, 1114.70422, -550.0), (550.0, 1114.70422, -330.0), (550.0, 1114.70422, -110.0), (550.0, 1114.70422, 110.0), (550.0, 1114.70422, 330.0), (550.0, 1114.70422, 550.0), (550.0, 1114.70422, 770.0), (550.0, 1114.70422, 990.0), (330.0, 1114.70422, -990.0), (330.0, 1114.70422, -770.0), (330.0, 1114.70422, -550.0), (330.0, 1114.70422, -330.0), (330.0, 1114.70422, -110.0), (330.0, 1114.70422, 110.0), (330.0, 1114.70422, 330.0), (330.0, 1114.70422, 550.0), (330.0, 1114.70422, 770.0), (330.0, 1114.70422, 990.0), (110.0, 1114.70422, -990.0), (110.0, 1114.70422, -770.0), (110.0, 1114.70422, -550.0), (110.0, 1114.70422, -330.0), (110.0, 1114.70422, -110.0), (110.0, 1114.70422, 110.0), (110.0, 1114.70422, 330.0), (110.0, 1114.70422, 550.0), (110.0, 1114.70422, 770.0), (110.0, 1114.70422, 990.0), (-110.0, 1114.70422, -990.0), (-110.0, 1114.70422, -770.0), (-110.0, 1114.70422, -550.0), (-110.0, 1114.70422, -330.0), (-110.0, 1114.70422, -110.0), (-110.0, 1114.70422, 110.0), (-110.0, 1114.70422, 330.0), (-110.0, 1114.70422, 550.0), (-110.0, 1114.70422, 770.0), (-110.0, 1114.70422, 990.0), (-330.0, 1114.70422, -990.0), (-330.0, 1114.70422, -770.0), (-330.0, 1114.70422, -550.0), (-330.0, 1114.70422, -330.0), (-330.0, 1114.70422, -110.0), (-330.0, 1114.70422, 110.0), (-330.0, 1114.70422, 330.0), (-330.0, 1114.70422, 550.0), (-330.0, 1114.70422, 770.0), (-330.0, 1114.70422, 990.0), (-550.0, 1114.70422, -990.0), (-550.0, 1114.70422, -770.0), (-550.0, 1114.70422, -550.0), (-550.0, 1114.70422, -330.0), (-550.0, 1114.70422, -110.0), (-550.0, 1114.70422, 110.0), (-550.0, 1114.70422, 330.0), (-550.0, 1114.70422, 550.0), (-550.0, 1114.70422, 770.0), (-550.0, 1114.70422, 990.0), (-770.0, 1114.70422, -990.0), (-770.0, 1114.70422, -770.0), (-770.0, 1114.70422, -550.0), (-770.0, 1114.70422, -330.0), (-770.0, 1114.70422, -110.0), (-770.0, 1114.70422, 110.0), (-770.0, 1114.70422, 330.0), (-770.0, 1114.70422, 550.0), (-770.0, 1114.70422, 770.0), (-770.0, 1114.70422, 990.0), (-990.0, 1114.70422, -990.0), (-990.0, 1114.70422, -770.0), (-990.0, 1114.70422, -550.0), (-990.0, 1114.70422, -330.0), (-990.0, 1114.70422, -110.0), (-990.0, 1114.70422, 110.0), (-990.0, 1114.70422, 330.0), (-990.0, 1114.70422, 550.0), (-990.0, 1114.70422, 770.0), (-990.0, 1114.70422, 990.0), (990.0, -1114.70422, 990.0), (990.0, -1114.70422, 770.0), (990.0, -1114.70422, 550.0), (990.0, -1114.70422, 330.0), (990.0, -1114.70422, 110.0), (990.0, -1114.70422, -110.0), (990.0, -1114.70422, -330.0), (990.0, -1114.70422, -550.0), (990.0, -1114.70422, -770.0), (990.0, -1114.70422, -990.0), (770.0, -1114.70422, 990.0), (770.0, -1114.70422, 770.0), (770.0, -1114.70422, 550.0), (770.0, -1114.70422, 330.0), (770.0, -1114.70422, 110.0), (770.0, -1114.70422, -110.0), (770.0, -1114.70422, -330.0), (770.0, -1114.70422, -550.0), (770.0, -1114.70422, -770.0), (770.0, -1114.70422, -990.0), (550.0, -1114.70422, 990.0), (550.0, -1114.70422, 770.0), (550.0, -1114.70422, 550.0), (550.0, -1114.70422, 330.0), (550.0, -1114.70422, 110.0), (550.0, -1114.70422, -110.0), (550.0, -1114.70422, -330.0), (550.0, -1114.70422, -550.0), (550.0, -1114.70422, -770.0), (550.0, -1114.70422, -990.0), (330.0, -1114.70422, 990.0), (330.0, -1114.70422, 770.0), (330.0, -1114.70422, 550.0), (330.0, -1114.70422, 330.0), (330.0, -1114.70422, 110.0), (330.0, -1114.70422, -110.0), (330.0, -1114.70422, -330.0), (330.0, -1114.70422, -550.0), (330.0, -1114.70422, -770.0), (330.0, -1114.70422, -990.0), (110.0, -1114.70422, 990.0), (110.0, -1114.70422, 770.0), (110.0, -1114.70422, 550.0), (110.0, -1114.70422, 330.0), (110.0, -1114.70422, 110.0), (110.0, -1114.70422, -110.0), (110.0, -1114.70422, -330.0), (110.0, -1114.70422, -550.0), (110.0, -1114.70422, -770.0), (110.0, -1114.70422, -990.0), (-110.0, -1114.70422, 990.0), (-110.0, -1114.70422, 770.0), (-110.0, -1114.70422, 550.0), (-110.0, -1114.70422, 330.0), (-110.0, -1114.70422, 110.0), (-110.0, -1114.70422, -110.0), (-110.0, -1114.70422, -330.0), (-110.0, -1114.70422, -550.0), (-110.0, -1114.70422, -770.0), (-110.0, -1114.70422, -990.0), (-330.0, -1114.70422, 990.0), (-330.0, -1114.70422, 770.0), (-330.0, -1114.70422, 550.0), (-330.0, -1114.70422, 330.0), (-330.0, -1114.70422, 110.0), (-330.0, -1114.70422, -110.0), (-330.0, -1114.70422, -330.0), (-330.0, -1114.70422, -550.0), (-330.0, -1114.70422, -770.0), (-330.0, -1114.70422, -990.0), (-550.0, -1114.70422, 990.0), (-550.0, -1114.70422, 770.0), (-550.0, -1114.70422, 550.0), (-550.0, -1114.70422, 330.0), (-550.0, -1114.70422, 110.0), (-550.0, -1114.70422, -110.0), (-550.0, -1114.70422, -330.0), (-550.0, -1114.70422, -550.0), (-550.0, -1114.70422, -770.0), (-550.0, -1114.70422, -990.0), (-770.0, -1114.70422, 990.0), (-770.0, -1114.70422, 770.0), (-770.0, -1114.70422, 550.0), (-770.0, -1114.70422, 330.0), (-770.0, -1114.70422, 110.0), (-770.0, -1114.70422, -110.0), (-770.0, -1114.70422, -330.0), (-770.0, -1114.70422, -550.0), (-770.0, -1114.70422, -770.0), (-770.0, -1114.70422, -990.0), (-990.0, -1114.70422, 990.0), (-990.0, -1114.70422, 770.0), (-990.0, -1114.70422, 550.0), (-990.0, -1114.70422, 330.0), (-990.0, -1114.70422, 110.0), (-990.0, -1114.70422, -110.0), (-990.0, -1114.70422, -330.0), (-990.0, -1114.70422, -550.0), (-990.0, -1114.70422, -770.0), (-990.0, -1114.70422, -990.0), (990.0, 990.0, 1114.70422), (990.0, 770.0, 1114.70422), (990.0, 550.0, 1114.70422), (990.0, 330.0, 1114.70422), (990.0, 110.0, 1114.70422), (990.0, -110.0, 1114.70422), (990.0, -330.0, 1114.70422), (990.0, -550.0, 1114.70422), (990.0, -770.0, 1114.70422), (990.0, -990.0, 1114.70422), (770.0, 990.0, 1114.70422), (770.0, 770.0, 1114.70422), (770.0, 550.0, 1114.70422), (770.0, 330.0, 1114.70422), (770.0, 110.0, 1114.70422), (770.0, -110.0, 1114.70422), (770.0, -330.0, 1114.70422), (770.0, -550.0, 1114.70422), (770.0, -770.0, 1114.70422), (770.0, -990.0, 1114.70422), (550.0, 990.0, 1114.70422), (550.0, 770.0, 1114.70422), (550.0, 550.0, 1114.70422), (550.0, 330.0, 1114.70422), (550.0, 110.0, 1114.70422), (550.0, -110.0, 1114.70422), (550.0, -330.0, 1114.70422), (550.0, -550.0, 1114.70422), (550.0, -770.0, 1114.70422), (550.0, -990.0, 1114.70422), (330.0, 990.0, 1114.70422), (330.0, 770.0, 1114.70422), (330.0, 550.0, 1114.70422), (330.0, 330.0, 1114.70422), (330.0, 110.0, 1114.70422), (330.0, -110.0, 1114.70422), (330.0, -330.0, 1114.70422), (330.0, -550.0, 1114.70422), (330.0, -770.0, 1114.70422), (330.0, -990.0, 1114.70422), (110.0, 990.0, 1114.70422), (110.0, 770.0, 1114.70422), (110.0, 550.0, 1114.70422), (110.0, 330.0, 1114.70422), (110.0, 110.0, 1114.70422), (110.0, -110.0, 1114.70422), (110.0, -330.0, 1114.70422), (110.0, -550.0, 1114.70422), (110.0, -770.0, 1114.70422), (110.0, -990.0, 1114.70422), (-110.0, 990.0, 1114.70422), (-110.0, 770.0, 1114.70422), (-110.0, 550.0, 1114.70422), (-110.0, 330.0, 1114.70422), (-110.0, 110.0, 1114.70422), (-110.0, -110.0, 1114.70422), (-110.0, -330.0, 1114.70422), (-110.0, -550.0, 1114.70422), (-110.0, -770.0, 1114.70422), (-110.0, -990.0, 1114.70422), (-330.0, 990.0, 1114.70422), (-330.0, 770.0, 1114.70422), (-330.0, 550.0, 1114.70422), (-330.0, 330.0, 1114.70422), (-330.0, 110.0, 1114.70422), (-330.0, -110.0, 1114.70422), (-330.0, -330.0, 1114.70422), (-330.0, -550.0, 1114.70422), (-330.0, -770.0, 1114.70422), (-330.0, -990.0, 1114.70422), (-550.0, 990.0, 1114.70422), (-550.0, 770.0, 1114.70422), (-550.0, 550.0, 1114.70422), (-550.0, 330.0, 1114.70422), (-550.0, 110.0, 1114.70422), (-550.0, -110.0, 1114.70422), (-550.0, -330.0, 1114.70422), (-550.0, -550.0, 1114.70422), (-550.0, -770.0, 1114.70422), (-550.0, -990.0, 1114.70422), (-770.0, 990.0, 1114.70422), (-770.0, 770.0, 1114.70422), (-770.0, 550.0, 1114.70422), (-770.0, 330.0, 1114.70422), (-770.0, 110.0, 1114.70422), (-770.0, -110.0, 1114.70422), (-770.0, -330.0, 1114.70422), (-770.0, -550.0, 1114.70422), (-770.0, -770.0, 1114.70422), (-770.0, -990.0, 1114.70422), (-990.0, 990.0, 1114.70422), (-990.0, 770.0, 1114.70422), (-990.0, 550.0, 1114.70422), (-990.0, 330.0, 1114.70422), (-990.0, 110.0, 1114.70422), (-990.0, -110.0, 1114.70422), (-990.0, -330.0, 1114.70422), (-990.0, -550.0, 1114.70422), (-990.0, -770.0, 1114.70422), (-990.0, -990.0, 1114.70422), (-990.0, -990.0, -1114.70422), (-990.0, -770.0, -1114.70422), (-990.0, -550.0, -1114.70422), (-990.0, -330.0, -1114.70422), (-990.0, -110.0, -1114.70422), (-990.0, 110.0, -1114.70422), (-990.0, 330.0, -1114.70422), (-990.0, 550.0, -1114.70422), (-990.0, 770.0, -1114.70422), (-990.0, 990.0, -1114.70422), (-770.0, -990.0, -1114.70422), (-770.0, -770.0, -1114.70422), (-770.0, -550.0, -1114.70422), (-770.0, -330.0, -1114.70422), (-770.0, -110.0, -1114.70422), (-770.0, 110.0, -1114.70422), (-770.0, 330.0, -1114.70422), (-770.0, 550.0, -1114.70422), (-770.0, 770.0, -1114.70422), (-770.0, 990.0, -1114.70422), (-550.0, -990.0, -1114.70422), (-550.0, -770.0, -1114.70422), (-550.0, -550.0, -1114.70422), (-550.0, -330.0, -1114.70422), (-550.0, -110.0, -1114.70422), (-550.0, 110.0, -1114.70422), (-550.0, 330.0, -1114.70422), (-550.0, 550.0, -1114.70422), (-550.0, 770.0, -1114.70422), (-550.0, 990.0, -1114.70422), (-330.0, -990.0, -1114.70422), (-330.0, -770.0, -1114.70422), (-330.0, -550.0, -1114.70422), (-330.0, -330.0, -1114.70422), (-330.0, -110.0, -1114.70422), (-330.0, 110.0, -1114.70422), (-330.0, 330.0, -1114.70422), (-330.0, 550.0, -1114.70422), (-330.0, 770.0, -1114.70422), (-330.0, 990.0, -1114.70422), (-110.0, -990.0, -1114.70422), (-110.0, -770.0, -1114.70422), (-110.0, -550.0, -1114.70422), (-110.0, -330.0, -1114.70422), (-110.0, -110.0, -1114.70422), (-110.0, 110.0, -1114.70422), (-110.0, 330.0, -1114.70422), (-110.0, 550.0, -1114.70422), (-110.0, 770.0, -1114.70422), (-110.0, 990.0, -1114.70422), (110.0, -990.0, -1114.70422), (110.0, -770.0, -1114.70422), (110.0, -550.0, -1114.70422), (110.0, -330.0, -1114.70422), (110.0, -110.0, -1114.70422), (110.0, 110.0, -1114.70422), (110.0, 330.0, -1114.70422), (110.0, 550.0, -1114.70422), (110.0, 770.0, -1114.70422), (110.0, 990.0, -1114.70422), (330.0, -990.0, -1114.70422), (330.0, -770.0, -1114.70422), (330.0, -550.0, -1114.70422), (330.0, -330.0, -1114.70422), (330.0, -110.0, -1114.70422), (330.0, 110.0, -1114.70422), (330.0, 330.0, -1114.70422), (330.0, 550.0, -1114.70422), (330.0, 770.0, -1114.70422), (330.0, 990.0, -1114.70422), (550.0, -990.0, -1114.70422), (550.0, -770.0, -1114.70422), (550.0, -550.0, -1114.70422), (550.0, -330.0, -1114.70422), (550.0, -110.0, -1114.70422), (550.0, 110.0, -1114.70422), (550.0, 330.0, -1114.70422), (550.0, 550.0, -1114.70422), (550.0, 770.0, -1114.70422), (550.0, 990.0, -1114.70422), (770.0, -990.0, -1114.70422), (770.0, -770.0, -1114.70422), (770.0, -550.0, -1114.70422), (770.0, -330.0, -1114.70422), (770.0, -110.0, -1114.70422), (770.0, 110.0, -1114.70422), (770.0, 330.0, -1114.70422), (770.0, 550.0, -1114.70422), (770.0, 770.0, -1114.70422), (770.0, 990.0, -1114.70422), (990.0, -990.0, -1114.70422), (990.0, -770.0, -1114.70422), (990.0, -550.0, -1114.70422), (990.0, -330.0, -1114.70422), (990.0, -110.0, -1114.70422), (990.0, 110.0, -1114.70422), (990.0, 330.0, -1114.70422), (990.0, 550.0, -1114.70422), (990.0, 770.0, -1114.70422), (990.0, 990.0, -1114.70422)]\n",
      "['+x', '+x', '+x', '+x', '+x', '+x', '+x', '+x', '+x', '+x', '+x', '+x', '+x', '+x', '+x', '+x', '+x', '+x', '+x', '+x', '+x', '+x', '+x', '+x', '+x', '+x', '+x', '+x', '+x', '+x', '+x', '+x', '+x', '+x', '+x', '+x', '+x', '+x', '+x', '+x', '+x', '+x', '+x', '+x', '+x', '+x', '+x', '+x', '+x', '+x', '+x', '+x', '+x', '+x', '+x', '+x', '+x', '+x', '+x', '+x', '+x', '+x', '+x', '+x', '+x', '+x', '+x', '+x', '+x', '+x', '+x', '+x', '+x', '+x', '+x', '+x', '+x', '+x', '+x', '+x', '+x', '+x', '+x', '+x', '+x', '+x', '+x', '+x', '+x', '+x', '+x', '+x', '+x', '+x', '+x', '+x', '+x', '+x', '+x', '+x', '-x', '-x', '-x', '-x', '-x', '-x', '-x', '-x', '-x', '-x', '-x', '-x', '-x', '-x', '-x', '-x', '-x', '-x', '-x', '-x', '-x', '-x', '-x', '-x', '-x', '-x', '-x', '-x', '-x', '-x', '-x', '-x', '-x', '-x', '-x', '-x', '-x', '-x', '-x', '-x', '-x', '-x', '-x', '-x', '-x', '-x', '-x', '-x', '-x', '-x', '-x', '-x', '-x', '-x', '-x', '-x', '-x', '-x', '-x', '-x', '-x', '-x', '-x', '-x', '-x', '-x', '-x', '-x', '-x', '-x', '-x', '-x', '-x', '-x', '-x', '-x', '-x', '-x', '-x', '-x', '-x', '-x', '-x', '-x', '-x', '-x', '-x', '-x', '-x', '-x', '-x', '-x', '-x', '-x', '-x', '-x', '-x', '-x', '-x', '-x', '+y', '+y', '+y', '+y', '+y', '+y', '+y', '+y', '+y', '+y', '+y', '+y', '+y', '+y', '+y', '+y', '+y', '+y', '+y', '+y', '+y', '+y', '+y', '+y', '+y', '+y', '+y', '+y', '+y', '+y', '+y', '+y', '+y', '+y', '+y', '+y', '+y', '+y', '+y', '+y', '+y', '+y', '+y', '+y', '+y', '+y', '+y', '+y', '+y', '+y', '+y', '+y', '+y', '+y', '+y', '+y', '+y', '+y', '+y', '+y', '+y', '+y', '+y', '+y', '+y', '+y', '+y', '+y', '+y', '+y', '+y', '+y', '+y', '+y', '+y', '+y', '+y', '+y', '+y', '+y', '+y', '+y', '+y', '+y', '+y', '+y', '+y', '+y', '+y', '+y', '+y', '+y', '+y', '+y', '+y', '+y', '+y', '+y', '+y', '+y', '-y', '-y', '-y', '-y', '-y', '-y', '-y', '-y', '-y', '-y', '-y', '-y', '-y', '-y', '-y', '-y', '-y', '-y', '-y', '-y', '-y', '-y', '-y', '-y', '-y', '-y', '-y', '-y', '-y', '-y', '-y', '-y', '-y', '-y', '-y', '-y', '-y', '-y', '-y', '-y', '-y', '-y', '-y', '-y', '-y', '-y', '-y', '-y', '-y', '-y', '-y', '-y', '-y', '-y', '-y', '-y', '-y', '-y', '-y', '-y', '-y', '-y', '-y', '-y', '-y', '-y', '-y', '-y', '-y', '-y', '-y', '-y', '-y', '-y', '-y', '-y', '-y', '-y', '-y', '-y', '-y', '-y', '-y', '-y', '-y', '-y', '-y', '-y', '-y', '-y', '-y', '-y', '-y', '-y', '-y', '-y', '-y', '-y', '-y', '-y', '+z', '+z', '+z', '+z', '+z', '+z', '+z', '+z', '+z', '+z', '+z', '+z', '+z', '+z', '+z', '+z', '+z', '+z', '+z', '+z', '+z', '+z', '+z', '+z', '+z', '+z', '+z', '+z', '+z', '+z', '+z', '+z', '+z', '+z', '+z', '+z', '+z', '+z', '+z', '+z', '+z', '+z', '+z', '+z', '+z', '+z', '+z', '+z', '+z', '+z', '+z', '+z', '+z', '+z', '+z', '+z', '+z', '+z', '+z', '+z', '+z', '+z', '+z', '+z', '+z', '+z', '+z', '+z', '+z', '+z', '+z', '+z', '+z', '+z', '+z', '+z', '+z', '+z', '+z', '+z', '+z', '+z', '+z', '+z', '+z', '+z', '+z', '+z', '+z', '+z', '+z', '+z', '+z', '+z', '+z', '+z', '+z', '+z', '+z', '+z', '-z', '-z', '-z', '-z', '-z', '-z', '-z', '-z', '-z', '-z', '-z', '-z', '-z', '-z', '-z', '-z', '-z', '-z', '-z', '-z', '-z', '-z', '-z', '-z', '-z', '-z', '-z', '-z', '-z', '-z', '-z', '-z', '-z', '-z', '-z', '-z', '-z', '-z', '-z', '-z', '-z', '-z', '-z', '-z', '-z', '-z', '-z', '-z', '-z', '-z', '-z', '-z', '-z', '-z', '-z', '-z', '-z', '-z', '-z', '-z', '-z', '-z', '-z', '-z', '-z', '-z', '-z', '-z', '-z', '-z', '-z', '-z', '-z', '-z', '-z', '-z', '-z', '-z', '-z', '-z', '-z', '-z', '-z', '-z', '-z', '-z', '-z', '-z', '-z', '-z', '-z', '-z', '-z', '-z', '-z', '-z', '-z', '-z', '-z', '-z']\n",
      "['photoSensor_hits;1', 'primary;1', 'photon;1']\n"
     ]
    }
   ],
   "source": [
    "# file_input_name = '../runs/calibration/calibration_-0.85000_-0.85000_-0.85000.root'\n",
    "# file_input_name = '../runs/calibration/calibration_-0.85000_-0.85000_-0.85000.root'\n",
    "# file_input_name = '../runs/output_NEST_e-_1MeV.root'\n",
    "file_input_name = '../build/event_total.root'\n",
    "# file_input_name = '../build/event.root'\n",
    "histogram_directory = 'photoSensor_hits_histograms'\n",
    "file_input_pyroot = ROOT.TFile(file_input_name)\n",
    "file_input_uproot = uproot.open(file_input_name)\n",
    "\n",
    "histogram_names = [name for name in file_input_uproot.keys() if \"/photoSensor_\" in name]\n",
    "print(histogram_names)\n",
    "\n",
    "histogram_titles = [file_input_pyroot.Get(name).GetTitle() for name in histogram_names]\n",
    "print(histogram_titles)\n",
    "\n",
    "histogram_positions = [(float(title.split('_')[2]), float(title.split('_')[3]), float(title.split('_')[4])) for title in histogram_titles]\n",
    "print(histogram_positions)\n",
    "\n",
    "histogram_wall = [title.split('_')[1] for title in histogram_titles]\n",
    "print(histogram_wall)\n",
    "\n",
    "tree_names = [name for name in file_input_uproot.keys() if histogram_directory not in name]\n",
    "print(tree_names)"
   ]
  },
  {
   "cell_type": "code",
   "execution_count": 5,
   "metadata": {},
   "outputs": [],
   "source": [
    "tree = file_input_uproot['photoSensor_hits;1']\n",
    "\n",
    "position_relative_x = tree['photoSensor_hits_position_relative_x'].array()\n",
    "position_relative_y = tree['photoSensor_hits_position_relative_y'].array()\n",
    "\n",
    "histogram = file_input_pyroot.Get(histogram_names[0])\n",
    "n_bins_x = histogram.GetNbinsX()\n",
    "n_bins_y = histogram.GetNbinsY()\n",
    "values = np.zeros((n_bins_x, n_bins_y))\n",
    "x_edges = []\n",
    "y_edges = []\n",
    "for i in range(1, n_bins_x + 2):\n",
    "    x_edges.append(histogram.GetXaxis().GetBinLowEdge(i))\n",
    "for i in range(1, n_bins_y + 2):\n",
    "    y_edges.append(histogram.GetYaxis().GetBinLowEdge(i))\n",
    "x_edges[ 0] -= 1e-9\n",
    "y_edges[ 0] -= 1e-9\n",
    "x_edges[-1] += 1e-9\n",
    "y_edges[-1] += 1e-9\n",
    "\n",
    "position_relative_x_bins = pd.Series(pd.cut(np.array(position_relative_x), bins=x_edges, retbins=False))\n",
    "position_relative_y_bins = pd.Series(pd.cut(np.array(position_relative_y), bins=y_edges, retbins=False))\n",
    "position_relative_x_binned = position_relative_x_bins.apply(lambda x: (x.right + x.left) / 2)\n",
    "position_relative_y_binned = position_relative_y_bins.apply(lambda x: (x.right + x.left) / 2)\n",
    "position_relative_x_nBin = position_relative_x_bins.cat.codes\n",
    "position_relative_y_nBin = position_relative_y_bins.cat.codes\n",
    "\n",
    "position_initial_x = tree['photoSensor_hits_position_initial_x'].array()\n",
    "position_initial_y = tree['photoSensor_hits_position_initial_y'].array()\n",
    "position_initial_z = tree['photoSensor_hits_position_initial_z'].array()\n",
    "\n",
    "time = tree['photoSensor_hits_time'].array()\n",
    "photoSensorID = tree['photoSensor_hits_photoSensorID'].array()\n",
    "photoSensorPosition = [(float(ID.split('_')[2]), float(ID.split('_')[3]), float(ID.split('_')[4])) for ID in photoSensorID]\n",
    "photoSensorWall = [ID.split('_')[1] for ID in photoSensorID]\n",
    "photoSensorDirection = []\n",
    "for wall in photoSensorWall:\n",
    "    if wall == '+x':\n",
    "        photoSensorDirection.append([-1, 0, 0])\n",
    "    elif wall == '-x':\n",
    "        photoSensorDirection.append([+1, 0, 0])\n",
    "    elif wall == '+y':\n",
    "        photoSensorDirection.append([0, -1, 0])\n",
    "    elif wall == '-y':\n",
    "        photoSensorDirection.append([0, +1, 0])\n",
    "    elif wall == '+z':\n",
    "        photoSensorDirection.append([0, 0, -1])\n",
    "    elif wall == '-z':\n",
    "        photoSensorDirection.append([0, 0, +1])\n",
    "\n",
    "df_hits = pd.DataFrame(columns=['sensor_name', 'sensor_direction', 'sensor_position', 'relativePosition', 'relativePosition_binned', 'time'])\n",
    "df_hits['sensor_name'] = photoSensorID\n",
    "df_hits['sensor_direction'] = photoSensorDirection\n",
    "df_hits['sensor_position'] = photoSensorPosition\n",
    "df_hits['relativePosition'] = list(zip(position_relative_x, position_relative_y))\n",
    "df_hits['relativePosition_binned'] = list(zip(position_relative_x_binned, position_relative_y_binned))\n",
    "df_hits['relativePosition_nBin'] = list(zip(position_relative_x_nBin, position_relative_y_nBin))\n",
    "df_hits['initialPosition'] = list(zip(position_initial_x, position_initial_y, position_initial_z))\n",
    "df_hits['time'] = time\n",
    "\n",
    "# print(df_hits)"
   ]
  },
  {
   "cell_type": "code",
   "execution_count": 6,
   "metadata": {},
   "outputs": [],
   "source": [
    "primary_tree = file_input_uproot['primary;1']\n",
    "position_x = primary_tree['primary_position_x'].array()\n",
    "position_y = primary_tree['primary_position_y'].array()\n",
    "position_z = primary_tree['primary_position_z'].array()\n",
    "time = primary_tree['primary_time'].array()\n",
    "\n",
    "df_primary = pd.DataFrame(columns=['position', 'time'])\n",
    "df_primary['position'] = list(zip(position_x, position_y, position_z))\n",
    "df_primary['time'] = time"
   ]
  },
  {
   "cell_type": "markdown",
   "metadata": {},
   "source": [
    "# Constants"
   ]
  },
  {
   "cell_type": "code",
   "execution_count": 7,
   "metadata": {},
   "outputs": [],
   "source": [
    "CM_PER_RAD = 34.14230382\n",
    "MM_PER_CM = 10\n",
    "CM_PER_M = 100\n",
    "Y_LIM = 10 * MM_PER_CM\n",
    "C_M = 299792458\n",
    "C_CM = C_M * CM_PER_M\n",
    "N_XENON = 1.84\n",
    "C_XENON_M_PER_S = C_M / N_XENON\n",
    "C_XENON_CM_PER_S = C_XENON_M_PER_S * CM_PER_M\n",
    "C_XENON_MM_PER_S = C_XENON_CM_PER_S * MM_PER_CM\n",
    "NS_PER_S = 1e9\n",
    "C_XENON_MM_PER_NS = C_XENON_MM_PER_S / NS_PER_S"
   ]
  },
  {
   "cell_type": "markdown",
   "metadata": {},
   "source": [
    "# Get Results"
   ]
  },
  {
   "cell_type": "code",
   "execution_count": 8,
   "metadata": {},
   "outputs": [],
   "source": [
    "def rToTheta(r):\n",
    "    return r/(CM_PER_RAD*MM_PER_CM)"
   ]
  },
  {
   "cell_type": "code",
   "execution_count": 9,
   "metadata": {},
   "outputs": [
    {
     "name": "stderr",
     "output_type": "stream",
     "text": [
      "100%|██████████| 55354/55354 [00:33<00:00, 1630.19it/s]\n",
      "100%|██████████| 55354/55354 [00:00<00:00, 80032.15it/s]\n",
      "100%|██████████| 42933/42933 [00:00<00:00, 79967.48it/s]\n",
      "100%|██████████| 42933/42933 [00:00<00:00, 80564.96it/s]\n",
      "100%|██████████| 42933/42933 [01:58<00:00, 363.44it/s]\n"
     ]
    },
    {
     "name": "stdout",
     "output_type": "stream",
     "text": [
      "[0.00, 0.00, 77.89, 143.02, 40.86, 367.74, 994.26, 360.43, 527.48, 213.03, 1630.99, 2659.01]\n"
     ]
    },
    {
     "name": "stderr",
     "output_type": "stream",
     "text": [
      "100%|██████████| 55354/55354 [00:34<00:00, 1609.97it/s]\n",
      "100%|██████████| 15677/15677 [00:00<00:00, 80052.14it/s]\n",
      "100%|██████████| 10654/10654 [00:00<00:00, 78403.30it/s]\n",
      "100%|██████████| 10654/10654 [00:00<00:00, 79845.97it/s]\n",
      "100%|██████████| 10654/10654 [00:29<00:00, 359.82it/s]\n"
     ]
    },
    {
     "name": "stdout",
     "output_type": "stream",
     "text": [
      "[0.00, 1.00, 26.91, 31.68, 24.64, 61.60, 234.08, 112.44, 119.27, 100.16, 258.99, 973.73]\n"
     ]
    },
    {
     "name": "stderr",
     "output_type": "stream",
     "text": [
      "100%|██████████| 55354/55354 [00:35<00:00, 1572.92it/s]\n",
      "100%|██████████| 7511/7511 [00:00<00:00, 73230.21it/s]\n",
      "100%|██████████| 4067/4067 [00:00<00:00, 75434.85it/s]\n",
      "100%|██████████| 4067/4067 [00:00<00:00, 77033.56it/s]\n",
      "100%|██████████| 4067/4067 [00:10<00:00, 374.59it/s]\n"
     ]
    },
    {
     "name": "stdout",
     "output_type": "stream",
     "text": [
      "[0.00, 2.00, 23.12, 20.54, 21.28, 51.68, 152.00, 99.80, 81.96, 121.93, 175.56, 698.46]\n"
     ]
    },
    {
     "name": "stderr",
     "output_type": "stream",
     "text": [
      "100%|██████████| 55354/55354 [00:34<00:00, 1603.17it/s]\n",
      "100%|██████████| 4145/4145 [00:00<00:00, 79392.59it/s]\n",
      "100%|██████████| 1425/1425 [00:00<00:00, 79876.02it/s]\n",
      "100%|██████████| 1425/1425 [00:00<00:00, 77648.08it/s]\n",
      "100%|██████████| 1425/1425 [00:04<00:00, 354.25it/s]\n"
     ]
    },
    {
     "name": "stdout",
     "output_type": "stream",
     "text": [
      "[0.00, 3.00, 21.63, 17.74, 23.20, 46.40, 81.20, 96.77, 70.81, 130.19, 166.76, 486.77]\n"
     ]
    },
    {
     "name": "stderr",
     "output_type": "stream",
     "text": [
      "100%|██████████| 55354/55354 [00:35<00:00, 1578.79it/s]\n",
      "100%|██████████| 2657/2657 [00:00<00:00, 79138.94it/s]\n",
      "100%|██████████| 510/510 [00:00<00:00, 76165.04it/s]\n",
      "100%|██████████| 510/510 [00:00<00:00, 81430.39it/s]\n",
      "100%|██████████| 510/510 [00:01<00:00, 359.82it/s]\n"
     ]
    },
    {
     "name": "stdout",
     "output_type": "stream",
     "text": [
      "[0.00, 4.00, 20.21, 11.37, 21.68, 43.76, 49.52, 88.50, 71.88, 128.37, 171.52, 487.89]\n"
     ]
    },
    {
     "name": "stderr",
     "output_type": "stream",
     "text": [
      "100%|██████████| 55354/55354 [00:34<00:00, 1591.43it/s]\n",
      "100%|██████████| 1987/1987 [00:00<00:00, 78624.16it/s]\n",
      "100%|██████████| 210/210 [00:00<00:00, 77713.41it/s]\n",
      "100%|██████████| 210/210 [00:00<00:00, 74783.82it/s]\n",
      "100%|██████████| 210/210 [00:00<00:00, 381.39it/s]\n"
     ]
    },
    {
     "name": "stdout",
     "output_type": "stream",
     "text": [
      "[0.00, 5.00, 20.31, 10.13, 20.76, 44.84, 49.57, 68.01, 62.52, 114.33, 169.74, 192.40]\n"
     ]
    },
    {
     "name": "stderr",
     "output_type": "stream",
     "text": [
      "100%|██████████| 55354/55354 [00:34<00:00, 1609.61it/s]\n",
      "100%|██████████| 1591/1591 [00:00<00:00, 77034.78it/s]\n",
      "100%|██████████| 138/138 [00:00<00:00, 71273.73it/s]\n",
      "100%|██████████| 138/138 [00:00<00:00, 76119.67it/s]\n",
      "100%|██████████| 138/138 [00:00<00:00, 373.30it/s]\n"
     ]
    },
    {
     "name": "stdout",
     "output_type": "stream",
     "text": [
      "[0.00, 6.00, 18.40, 4.33, 19.92, 22.98, 23.83, 43.23, 49.16, 21.78, 160.57, 257.96]\n"
     ]
    },
    {
     "name": "stderr",
     "output_type": "stream",
     "text": [
      "100%|██████████| 55354/55354 [00:34<00:00, 1612.87it/s]\n",
      "100%|██████████| 1353/1353 [00:00<00:00, 78370.60it/s]\n",
      "100%|██████████| 120/120 [00:00<00:00, 71301.39it/s]\n",
      "100%|██████████| 120/120 [00:00<00:00, 74082.50it/s]\n",
      "100%|██████████| 120/120 [00:00<00:00, 246.83it/s]\n"
     ]
    },
    {
     "name": "stdout",
     "output_type": "stream",
     "text": [
      "[0.00, 7.00, 19.26, 3.61, 20.96, 22.88, 23.84, 33.67, 44.08, 19.35, 163.00, 257.96]\n"
     ]
    },
    {
     "name": "stderr",
     "output_type": "stream",
     "text": [
      "100%|██████████| 55354/55354 [00:34<00:00, 1594.63it/s]\n",
      "100%|██████████| 1017/1017 [00:00<00:00, 78849.63it/s]\n",
      "100%|██████████| 112/112 [00:00<00:00, 67923.95it/s]\n",
      "100%|██████████| 112/112 [00:00<00:00, 70524.25it/s]\n",
      "100%|██████████| 112/112 [00:00<00:00, 246.69it/s]\n"
     ]
    },
    {
     "name": "stdout",
     "output_type": "stream",
     "text": [
      "[0.00, 8.00, 18.98, 3.57, 20.00, 22.88, 23.84, 34.39, 45.54, 19.35, 163.00, 257.96]\n"
     ]
    },
    {
     "name": "stderr",
     "output_type": "stream",
     "text": [
      "100%|██████████| 55354/55354 [00:34<00:00, 1617.61it/s]\n",
      "100%|██████████| 864/864 [00:00<00:00, 79361.38it/s]\n",
      "100%|██████████| 103/103 [00:00<00:00, 72170.62it/s]\n",
      "100%|██████████| 103/103 [00:00<00:00, 77784.18it/s]\n",
      "100%|██████████| 103/103 [00:00<00:00, 347.61it/s]\n"
     ]
    },
    {
     "name": "stdout",
     "output_type": "stream",
     "text": [
      "[0.00, 9.00, 19.86, 2.04, 20.96, 22.96, 23.92, 22.78, 23.61, 19.35, 21.78, 257.96]\n"
     ]
    },
    {
     "name": "stderr",
     "output_type": "stream",
     "text": [
      "100%|██████████| 55354/55354 [00:34<00:00, 1622.49it/s]\n",
      "100%|██████████| 55354/55354 [00:00<00:00, 79678.36it/s]\n",
      "100%|██████████| 42933/42933 [00:00<00:00, 79066.89it/s]\n",
      "100%|██████████| 42933/42933 [00:00<00:00, 79597.36it/s]\n",
      "100%|██████████| 42933/42933 [02:06<00:00, 339.69it/s]\n"
     ]
    },
    {
     "name": "stdout",
     "output_type": "stream",
     "text": [
      "[1.00, 0.00, 77.89, 143.02, 40.86, 367.74, 994.26, 360.43, 527.48, 213.03, 1630.99, 2659.01]\n"
     ]
    },
    {
     "name": "stderr",
     "output_type": "stream",
     "text": [
      "100%|██████████| 55354/55354 [00:35<00:00, 1578.47it/s]\n",
      "100%|██████████| 33708/33708 [00:00<00:00, 80528.21it/s]\n",
      "100%|██████████| 25683/25683 [00:00<00:00, 78739.95it/s]\n",
      "100%|██████████| 25683/25683 [00:00<00:00, 80467.31it/s]\n",
      "100%|██████████| 25683/25683 [01:12<00:00, 354.63it/s]\n"
     ]
    },
    {
     "name": "stdout",
     "output_type": "stream",
     "text": [
      "[1.00, 1.00, 32.22, 43.15, 21.72, 101.36, 318.56, 141.37, 183.25, 113.87, 482.85, 1334.33]\n"
     ]
    },
    {
     "name": "stderr",
     "output_type": "stream",
     "text": [
      "100%|██████████| 55354/55354 [00:34<00:00, 1607.19it/s]\n",
      "100%|██████████| 25672/25672 [00:00<00:00, 79678.74it/s]\n",
      "100%|██████████| 19112/19112 [00:00<00:00, 79711.41it/s]\n",
      "100%|██████████| 19112/19112 [00:00<00:00, 80708.82it/s]\n",
      "100%|██████████| 19112/19112 [00:57<00:00, 333.40it/s]\n"
     ]
    },
    {
     "name": "stdout",
     "output_type": "stream",
     "text": [
      "[1.00, 2.00, 27.47, 31.42, 22.88, 68.64, 228.80, 113.08, 120.88, 100.16, 258.99, 953.88]\n"
     ]
    },
    {
     "name": "stderr",
     "output_type": "stream",
     "text": [
      "100%|██████████| 55354/55354 [00:33<00:00, 1637.02it/s]\n",
      "100%|██████████| 21473/21473 [00:00<00:00, 80973.99it/s]\n",
      "100%|██████████| 15683/15683 [00:00<00:00, 79945.54it/s]\n",
      "100%|██████████| 15683/15683 [00:00<00:00, 82066.52it/s]\n",
      "100%|██████████| 15683/15683 [00:44<00:00, 352.71it/s]\n"
     ]
    },
    {
     "name": "stdout",
     "output_type": "stream",
     "text": [
      "[1.00, 3.00, 25.44, 25.90, 22.20, 62.16, 213.12, 105.13, 98.28, 115.05, 200.66, 842.78]\n"
     ]
    },
    {
     "name": "stderr",
     "output_type": "stream",
     "text": [
      "100%|██████████| 55354/55354 [00:33<00:00, 1632.19it/s]\n",
      "100%|██████████| 18712/18712 [00:00<00:00, 81753.21it/s]\n",
      "100%|██████████| 13403/13403 [00:00<00:00, 79394.99it/s]\n",
      "100%|██████████| 13403/13403 [00:00<00:00, 78901.12it/s]\n",
      "100%|██████████| 13403/13403 [00:38<00:00, 346.31it/s]\n"
     ]
    },
    {
     "name": "stdout",
     "output_type": "stream",
     "text": [
      "[1.00, 4.00, 24.37, 22.83, 24.70, 59.28, 202.54, 100.50, 84.49, 110.46, 183.51, 792.22]\n"
     ]
    },
    {
     "name": "stderr",
     "output_type": "stream",
     "text": [
      "100%|██████████| 55354/55354 [00:34<00:00, 1602.34it/s]\n",
      "100%|██████████| 16721/16721 [00:00<00:00, 79769.33it/s]\n",
      "100%|██████████| 11822/11822 [00:00<00:00, 79239.24it/s]\n",
      "100%|██████████| 11822/11822 [00:00<00:00, 78994.97it/s]\n",
      "100%|██████████| 11822/11822 [09:46<00:00, 20.15it/s] \n"
     ]
    },
    {
     "name": "stdout",
     "output_type": "stream",
     "text": [
      "[1.00, 5.00, 23.52, 21.04, 24.70, 56.81, 185.25, 98.70, 79.05, 110.46, 171.33, 719.17]\n"
     ]
    },
    {
     "name": "stderr",
     "output_type": "stream",
     "text": [
      "100%|██████████| 55354/55354 [04:06<00:00, 225.00it/s] \n",
      "100%|██████████| 15035/15035 [00:00<00:00, 81183.98it/s]\n",
      "100%|██████████| 10496/10496 [00:00<00:00, 78385.08it/s]\n",
      "100%|██████████| 10496/10496 [00:00<00:00, 81999.99it/s]\n",
      "100%|██████████| 10496/10496 [00:26<00:00, 400.49it/s]\n"
     ]
    },
    {
     "name": "stdout",
     "output_type": "stream",
     "text": [
      "[1.00, 6.00, 22.70, 18.76, 24.20, 53.24, 106.48, 97.06, 74.69, 110.46, 171.33, 707.00]\n"
     ]
    },
    {
     "name": "stderr",
     "output_type": "stream",
     "text": [
      "100%|██████████| 55354/55354 [00:33<00:00, 1635.53it/s]\n",
      "100%|██████████| 13356/13356 [00:00<00:00, 81451.91it/s]\n",
      "100%|██████████| 9133/9133 [00:00<00:00, 80338.62it/s]\n",
      "100%|██████████| 9133/9133 [00:00<00:00, 81123.97it/s]\n",
      "100%|██████████| 9133/9133 [00:21<00:00, 422.32it/s]\n"
     ]
    },
    {
     "name": "stdout",
     "output_type": "stream",
     "text": [
      "[1.00, 7.00, 21.90, 16.83, 22.50, 51.75, 103.50, 96.47, 72.85, 110.46, 171.33, 670.47]\n"
     ]
    },
    {
     "name": "stderr",
     "output_type": "stream",
     "text": [
      "100%|██████████| 55354/55354 [00:33<00:00, 1649.56it/s]\n",
      "100%|██████████| 11796/11796 [00:00<00:00, 81229.66it/s]\n",
      "100%|██████████| 7886/7886 [00:00<00:00, 79845.99it/s]\n",
      "100%|██████████| 7886/7886 [00:00<00:00, 81528.51it/s]\n",
      "100%|██████████| 7886/7886 [00:19<00:00, 410.24it/s]\n"
     ]
    },
    {
     "name": "stdout",
     "output_type": "stream",
     "text": [
      "[1.00, 8.00, 21.33, 15.92, 22.50, 49.50, 101.25, 96.30, 71.47, 122.63, 171.33, 621.78]\n"
     ]
    },
    {
     "name": "stderr",
     "output_type": "stream",
     "text": [
      "100%|██████████| 55354/55354 [00:34<00:00, 1616.87it/s]\n",
      "100%|██████████| 10330/10330 [00:00<00:00, 81411.12it/s]\n",
      "100%|██████████| 6708/6708 [00:00<00:00, 79918.06it/s]\n",
      "100%|██████████| 6708/6708 [00:00<00:00, 81849.13it/s]\n",
      "100%|██████████| 6708/6708 [00:19<00:00, 349.83it/s]\n"
     ]
    },
    {
     "name": "stdout",
     "output_type": "stream",
     "text": [
      "[1.00, 9.00, 20.69, 14.55, 22.89, 47.96, 83.93, 97.04, 72.93, 122.63, 171.33, 633.95]\n"
     ]
    },
    {
     "name": "stderr",
     "output_type": "stream",
     "text": [
      "100%|██████████| 55354/55354 [00:34<00:00, 1608.87it/s]\n",
      "100%|██████████| 55354/55354 [00:00<00:00, 81758.22it/s]\n",
      "100%|██████████| 42933/42933 [00:00<00:00, 80520.11it/s]\n",
      "100%|██████████| 42933/42933 [00:00<00:00, 82033.29it/s]\n",
      "100%|██████████| 42933/42933 [01:54<00:00, 374.61it/s]\n"
     ]
    },
    {
     "name": "stdout",
     "output_type": "stream",
     "text": [
      "[2.00, 0.00, 77.89, 143.02, 40.86, 367.74, 994.26, 360.43, 527.48, 213.03, 1630.99, 2659.01]\n"
     ]
    },
    {
     "name": "stderr",
     "output_type": "stream",
     "text": [
      "100%|██████████| 55354/55354 [00:34<00:00, 1626.31it/s]\n",
      "100%|██████████| 40991/40991 [00:00<00:00, 80591.64it/s]\n",
      "100%|██████████| 31710/31710 [00:00<00:00, 80392.03it/s]\n",
      "100%|██████████| 31710/31710 [00:00<00:00, 80973.88it/s]\n",
      "100%|██████████| 31710/31710 [01:34<00:00, 336.73it/s]\n"
     ]
    },
    {
     "name": "stdout",
     "output_type": "stream",
     "text": [
      "[2.00, 1.00, 36.27, 52.91, 27.45, 128.10, 411.75, 166.98, 227.67, 113.87, 653.14, 1561.39]\n"
     ]
    },
    {
     "name": "stderr",
     "output_type": "stream",
     "text": [
      "100%|██████████| 55354/55354 [00:34<00:00, 1621.98it/s]\n",
      "100%|██████████| 34605/34605 [00:00<00:00, 80784.68it/s]\n",
      "100%|██████████| 26564/26564 [00:00<00:00, 80497.98it/s]\n",
      "100%|██████████| 26564/26564 [00:00<00:00, 81790.75it/s]\n",
      "100%|██████████| 26564/26564 [01:18<00:00, 338.70it/s]\n"
     ]
    },
    {
     "name": "stdout",
     "output_type": "stream",
     "text": [
      "[2.00, 2.00, 30.51, 37.50, 28.60, 91.52, 263.12, 131.54, 156.09, 120.02, 417.82, 1132.56]\n"
     ]
    },
    {
     "name": "stderr",
     "output_type": "stream",
     "text": [
      "100%|██████████| 55354/55354 [00:34<00:00, 1624.41it/s]\n",
      "100%|██████████| 30102/30102 [00:00<00:00, 81415.91it/s]\n",
      "100%|██████████| 22931/22931 [00:00<00:00, 79908.20it/s]\n",
      "100%|██████████| 22931/22931 [00:00<00:00, 80773.36it/s]\n",
      "100%|██████████| 22931/22931 [01:19<00:00, 288.45it/s]\n"
     ]
    },
    {
     "name": "stdout",
     "output_type": "stream",
     "text": [
      "[2.00, 3.00, 28.45, 32.60, 27.84, 74.24, 236.64, 118.63, 129.00, 117.04, 310.61, 968.75]\n"
     ]
    },
    {
     "name": "stderr",
     "output_type": "stream",
     "text": [
      "100%|██████████| 55354/55354 [00:34<00:00, 1602.80it/s]\n",
      "100%|██████████| 26882/26882 [00:00<00:00, 80199.28it/s]\n",
      "100%|██████████| 20229/20229 [00:00<00:00, 78302.01it/s]\n",
      "100%|██████████| 20229/20229 [00:00<00:00, 82052.92it/s]\n",
      "100%|██████████| 20229/20229 [00:54<00:00, 372.40it/s]\n"
     ]
    },
    {
     "name": "stdout",
     "output_type": "stream",
     "text": [
      "[2.00, 4.00, 26.91, 29.07, 23.15, 69.45, 222.24, 111.47, 113.24, 116.61, 261.25, 912.15]\n"
     ]
    },
    {
     "name": "stderr",
     "output_type": "stream",
     "text": [
      "100%|██████████| 55354/55354 [00:34<00:00, 1615.93it/s]\n",
      "100%|██████████| 24542/24542 [00:00<00:00, 79120.78it/s]\n",
      "100%|██████████| 18276/18276 [00:00<00:00, 77689.93it/s]\n",
      "100%|██████████| 18276/18276 [00:00<00:00, 78503.79it/s]\n",
      "100%|██████████| 18276/18276 [00:48<00:00, 379.58it/s]\n"
     ]
    },
    {
     "name": "stdout",
     "output_type": "stream",
     "text": [
      "[2.00, 5.00, 25.89, 26.00, 22.20, 62.16, 213.12, 107.65, 104.63, 115.08, 229.26, 885.82]\n"
     ]
    },
    {
     "name": "stderr",
     "output_type": "stream",
     "text": [
      "100%|██████████| 55354/55354 [00:34<00:00, 1616.86it/s]\n",
      "100%|██████████| 22753/22753 [00:00<00:00, 78050.08it/s]\n",
      "100%|██████████| 16779/16779 [00:00<00:00, 76736.95it/s]\n",
      "100%|██████████| 16779/16779 [00:00<00:00, 79588.07it/s]\n",
      "100%|██████████| 16779/16779 [00:46<00:00, 362.18it/s]\n"
     ]
    },
    {
     "name": "stdout",
     "output_type": "stream",
     "text": [
      "[2.00, 6.00, 25.24, 24.53, 24.84, 63.48, 209.76, 105.16, 98.23, 115.08, 200.72, 857.28]\n"
     ]
    },
    {
     "name": "stderr",
     "output_type": "stream",
     "text": [
      "100%|██████████| 55354/55354 [00:34<00:00, 1594.96it/s]\n",
      "100%|██████████| 21393/21393 [00:00<00:00, 81722.92it/s]\n",
      "100%|██████████| 15676/15676 [00:00<00:00, 81397.02it/s]\n",
      "100%|██████████| 15676/15676 [00:00<00:00, 82278.92it/s]\n",
      "100%|██████████| 15676/15676 [00:43<00:00, 360.41it/s]\n"
     ]
    },
    {
     "name": "stdout",
     "output_type": "stream",
     "text": [
      "[2.00, 7.00, 24.63, 22.92, 24.20, 62.92, 188.76, 102.47, 90.94, 115.08, 186.44, 814.46]\n"
     ]
    },
    {
     "name": "stderr",
     "output_type": "stream",
     "text": [
      "100%|██████████| 55354/55354 [00:37<00:00, 1472.06it/s]\n",
      "100%|██████████| 20306/20306 [00:00<00:00, 78968.39it/s]\n",
      "100%|██████████| 14812/14812 [00:00<00:00, 76806.24it/s]\n",
      "100%|██████████| 14812/14812 [00:00<00:00, 75340.72it/s]\n",
      "100%|██████████| 14812/14812 [01:27<00:00, 169.73it/s]\n"
     ]
    },
    {
     "name": "stdout",
     "output_type": "stream",
     "text": [
      "[2.00, 8.00, 24.05, 21.44, 24.00, 60.00, 170.40, 100.54, 85.66, 110.46, 183.51, 792.22]\n"
     ]
    },
    {
     "name": "stderr",
     "output_type": "stream",
     "text": [
      "100%|██████████| 55354/55354 [30:31<00:00, 30.22it/s]   \n",
      "100%|██████████| 19356/19356 [00:00<00:00, 83312.50it/s]\n",
      "100%|██████████| 14062/14062 [00:00<00:00, 82996.50it/s]\n",
      "100%|██████████| 14062/14062 [00:00<00:00, 83271.17it/s]\n",
      "100%|██████████| 14062/14062 [14:08<00:00, 16.57it/s]  \n"
     ]
    },
    {
     "name": "stdout",
     "output_type": "stream",
     "text": [
      "[2.00, 9.00, 23.62, 20.09, 24.86, 58.76, 115.26, 98.86, 81.21, 110.46, 183.51, 755.69]\n"
     ]
    },
    {
     "name": "stderr",
     "output_type": "stream",
     "text": [
      "100%|██████████| 55354/55354 [00:34<00:00, 1626.73it/s]\n",
      "100%|██████████| 55354/55354 [00:00<00:00, 80618.83it/s]\n",
      "100%|██████████| 42933/42933 [00:00<00:00, 79932.02it/s]\n",
      "100%|██████████| 42933/42933 [00:00<00:00, 81375.06it/s]\n",
      "100%|██████████| 42933/42933 [02:03<00:00, 348.91it/s]\n"
     ]
    },
    {
     "name": "stdout",
     "output_type": "stream",
     "text": [
      "[3.00, 0.00, 77.89, 143.02, 40.86, 367.74, 994.26, 360.43, 527.48, 213.03, 1630.99, 2659.01]\n"
     ]
    },
    {
     "name": "stderr",
     "output_type": "stream",
     "text": [
      "100%|██████████| 55354/55354 [00:34<00:00, 1594.37it/s]\n",
      "100%|██████████| 44826/44826 [00:00<00:00, 78875.14it/s]\n",
      "100%|██████████| 34807/34807 [00:00<00:00, 78151.62it/s]\n",
      "100%|██████████| 34807/34807 [00:00<00:00, 80758.17it/s]\n",
      "100%|██████████| 34807/34807 [02:00<00:00, 289.73it/s]\n"
     ]
    },
    {
     "name": "stdout",
     "output_type": "stream",
     "text": [
      "[3.00, 1.00, 40.25, 61.68, 27.45, 155.55, 475.80, 189.39, 262.59, 113.87, 766.67, 1760.07]\n"
     ]
    },
    {
     "name": "stderr",
     "output_type": "stream",
     "text": [
      "100%|██████████| 55354/55354 [00:34<00:00, 1603.67it/s]\n",
      "100%|██████████| 39914/39914 [00:00<00:00, 80788.06it/s]\n",
      "100%|██████████| 31000/31000 [00:00<00:00, 79271.31it/s]\n",
      "100%|██████████| 31000/31000 [00:00<00:00, 81225.96it/s]\n",
      "100%|██████████| 31000/31000 [02:03<00:00, 251.12it/s]\n"
     ]
    },
    {
     "name": "stdout",
     "output_type": "stream",
     "text": [
      "[3.00, 2.00, 32.75, 42.05, 28.60, 108.68, 291.72, 149.26, 187.15, 126.32, 546.26, 1302.14]\n"
     ]
    },
    {
     "name": "stderr",
     "output_type": "stream",
     "text": [
      "100%|██████████| 55354/55354 [00:34<00:00, 1612.90it/s]\n",
      "100%|██████████| 36334/36334 [00:00<00:00, 77395.78it/s]\n",
      "100%|██████████| 28106/28106 [00:00<00:00, 78289.08it/s]\n",
      "100%|██████████| 28106/28106 [00:00<00:00, 78903.32it/s]\n",
      "100%|██████████| 28106/28106 [01:34<00:00, 297.23it/s]\n"
     ]
    },
    {
     "name": "stdout",
     "output_type": "stream",
     "text": [
      "[3.00, 3.00, 30.45, 36.67, 27.84, 88.16, 259.84, 133.33, 157.21, 117.68, 430.60, 1115.10]\n"
     ]
    },
    {
     "name": "stderr",
     "output_type": "stream",
     "text": [
      "100%|██████████| 55354/55354 [00:34<00:00, 1626.63it/s]\n",
      "100%|██████████| 33364/33364 [00:00<00:00, 80423.51it/s]\n",
      "100%|██████████| 25721/25721 [00:00<00:00, 79923.08it/s]\n",
      "100%|██████████| 25721/25721 [00:00<00:00, 81916.03it/s]\n",
      "100%|██████████| 25721/25721 [01:25<00:00, 299.94it/s]\n"
     ]
    },
    {
     "name": "stdout",
     "output_type": "stream",
     "text": [
      "[3.00, 4.00, 29.22, 33.83, 27.78, 78.71, 240.76, 124.72, 141.20, 118.20, 352.82, 1037.13]\n"
     ]
    },
    {
     "name": "stderr",
     "output_type": "stream",
     "text": [
      "100%|██████████| 55354/55354 [00:35<00:00, 1562.41it/s]\n",
      "100%|██████████| 30798/30798 [00:00<00:00, 79483.64it/s]\n",
      "100%|██████████| 23593/23593 [00:00<00:00, 79015.28it/s]\n",
      "100%|██████████| 23593/23593 [00:00<00:00, 81018.21it/s]\n",
      "100%|██████████| 23593/23593 [01:49<00:00, 215.62it/s]\n"
     ]
    },
    {
     "name": "stdout",
     "output_type": "stream",
     "text": [
      "[3.00, 5.00, 28.04, 31.01, 27.78, 74.08, 226.87, 118.13, 129.43, 117.04, 316.15, 979.84]\n"
     ]
    },
    {
     "name": "stderr",
     "output_type": "stream",
     "text": [
      "100%|██████████| 55354/55354 [00:35<00:00, 1551.26it/s]\n",
      "100%|██████████| 28534/28534 [00:00<00:00, 78515.01it/s]\n",
      "100%|██████████| 21722/21722 [00:00<00:00, 75958.77it/s]\n",
      "100%|██████████| 21722/21722 [00:00<00:00, 78691.20it/s]\n",
      "100%|██████████| 21722/21722 [01:33<00:00, 231.90it/s]\n"
     ]
    },
    {
     "name": "stdout",
     "output_type": "stream",
     "text": [
      "[3.00, 6.00, 27.12, 28.31, 26.58, 66.45, 221.50, 112.75, 117.20, 110.94, 283.88, 928.46]\n"
     ]
    },
    {
     "name": "stderr",
     "output_type": "stream",
     "text": [
      "100%|██████████| 55354/55354 [00:36<00:00, 1504.28it/s]\n",
      "100%|██████████| 26828/26828 [00:00<00:00, 78417.44it/s]\n",
      "100%|██████████| 20269/20269 [00:00<00:00, 75951.17it/s]\n",
      "100%|██████████| 20269/20269 [00:00<00:00, 74700.98it/s]\n",
      "100%|██████████| 20269/20269 [01:26<00:00, 235.29it/s]\n"
     ]
    },
    {
     "name": "stdout",
     "output_type": "stream",
     "text": [
      "[3.00, 7.00, 26.39, 26.25, 27.90, 66.96, 214.83, 109.37, 109.82, 102.14, 246.79, 897.68]\n"
     ]
    },
    {
     "name": "stderr",
     "output_type": "stream",
     "text": [
      "100%|██████████| 55354/55354 [00:35<00:00, 1569.13it/s]\n",
      "100%|██████████| 25368/25368 [00:00<00:00, 79068.71it/s]\n",
      "100%|██████████| 19007/19007 [00:00<00:00, 78402.95it/s]\n",
      "100%|██████████| 19007/19007 [00:00<00:00, 81217.16it/s]\n",
      "100%|██████████| 19007/19007 [01:03<00:00, 301.26it/s]\n"
     ]
    },
    {
     "name": "stdout",
     "output_type": "stream",
     "text": [
      "[3.00, 8.00, 25.78, 24.79, 27.10, 65.04, 208.67, 107.28, 105.05, 102.14, 217.86, 883.22]\n"
     ]
    },
    {
     "name": "stderr",
     "output_type": "stream",
     "text": [
      "100%|██████████| 55354/55354 [00:35<00:00, 1559.66it/s]\n",
      "100%|██████████| 24093/24093 [00:00<00:00, 75559.17it/s]\n",
      "100%|██████████| 17924/17924 [00:00<00:00, 74546.99it/s]\n",
      "100%|██████████| 17924/17924 [00:00<00:00, 76454.19it/s]\n",
      "100%|██████████| 17924/17924 [01:01<00:00, 289.82it/s]\n"
     ]
    },
    {
     "name": "stdout",
     "output_type": "stream",
     "text": [
      "[3.00, 9.00, 25.32, 23.66, 26.90, 64.56, 193.68, 105.55, 99.69, 115.08, 200.72, 871.55]\n"
     ]
    },
    {
     "name": "stderr",
     "output_type": "stream",
     "text": [
      "100%|██████████| 55354/55354 [00:34<00:00, 1610.18it/s]\n",
      "100%|██████████| 55354/55354 [00:00<00:00, 78402.55it/s]\n",
      "100%|██████████| 42933/42933 [00:00<00:00, 78687.50it/s]\n",
      "100%|██████████| 42933/42933 [00:00<00:00, 81712.52it/s]\n",
      "100%|██████████| 42933/42933 [02:16<00:00, 313.68it/s]\n"
     ]
    },
    {
     "name": "stdout",
     "output_type": "stream",
     "text": [
      "[4.00, 0.00, 77.89, 143.02, 40.86, 367.74, 994.26, 360.43, 527.48, 213.03, 1630.99, 2659.01]\n"
     ]
    },
    {
     "name": "stderr",
     "output_type": "stream",
     "text": [
      "100%|██████████| 55354/55354 [00:34<00:00, 1619.86it/s]\n",
      "100%|██████████| 46933/46933 [00:00<00:00, 80461.45it/s]\n",
      "100%|██████████| 36446/36446 [00:00<00:00, 80836.32it/s]\n",
      "100%|██████████| 36446/36446 [00:00<00:00, 82167.39it/s]\n",
      "100%|██████████| 36446/36446 [01:54<00:00, 317.35it/s]\n"
     ]
    },
    {
     "name": "stdout",
     "output_type": "stream",
     "text": [
      "[4.00, 1.00, 43.61, 69.15, 21.54, 172.32, 527.73, 208.41, 292.81, 118.00, 853.37, 1941.72]\n"
     ]
    },
    {
     "name": "stderr",
     "output_type": "stream",
     "text": [
      "100%|██████████| 55354/55354 [00:35<00:00, 1566.17it/s]\n",
      "100%|██████████| 42863/42863 [00:00<00:00, 79505.78it/s]\n",
      "100%|██████████| 33353/33353 [00:00<00:00, 78075.49it/s]\n",
      "100%|██████████| 33353/33353 [00:00<00:00, 79812.67it/s]\n",
      "100%|██████████| 33353/33353 [01:45<00:00, 314.84it/s]\n"
     ]
    },
    {
     "name": "stdout",
     "output_type": "stream",
     "text": [
      "[4.00, 2.00, 34.97, 47.19, 24.21, 121.05, 322.80, 164.06, 210.98, 110.74, 618.61, 1413.52]\n"
     ]
    },
    {
     "name": "stderr",
     "output_type": "stream",
     "text": [
      "100%|██████████| 55354/55354 [00:34<00:00, 1608.53it/s]\n",
      "100%|██████████| 40124/40124 [00:00<00:00, 80758.74it/s]\n",
      "100%|██████████| 31234/31234 [00:00<00:00, 80244.19it/s]\n",
      "100%|██████████| 31234/31234 [00:00<00:00, 80958.82it/s]\n",
      "100%|██████████| 31234/31234 [01:40<00:00, 310.03it/s]\n"
     ]
    },
    {
     "name": "stdout",
     "output_type": "stream",
     "text": [
      "[4.00, 3.00, 31.85, 39.36, 28.86, 101.01, 274.17, 146.77, 179.44, 120.53, 521.17, 1222.29]\n"
     ]
    },
    {
     "name": "stderr",
     "output_type": "stream",
     "text": [
      "100%|██████████| 55354/55354 [00:34<00:00, 1604.77it/s]\n",
      "100%|██████████| 37751/37751 [00:00<00:00, 81275.47it/s]\n",
      "100%|██████████| 29368/29368 [00:00<00:00, 80874.12it/s]\n",
      "100%|██████████| 29368/29368 [00:00<00:00, 80014.39it/s]\n",
      "100%|██████████| 29368/29368 [01:29<00:00, 328.37it/s]\n"
     ]
    },
    {
     "name": "stdout",
     "output_type": "stream",
     "text": [
      "[4.00, 4.00, 30.46, 36.47, 27.84, 88.16, 255.20, 136.87, 162.50, 117.68, 469.71, 1134.66]\n"
     ]
    },
    {
     "name": "stderr",
     "output_type": "stream",
     "text": [
      "100%|██████████| 55354/55354 [00:34<00:00, 1604.26it/s]\n",
      "100%|██████████| 35620/35620 [00:00<00:00, 79809.48it/s]\n",
      "100%|██████████| 27686/27686 [00:00<00:00, 80606.22it/s]\n",
      "100%|██████████| 27686/27686 [00:00<00:00, 81015.51it/s]\n",
      "100%|██████████| 27686/27686 [01:23<00:00, 331.77it/s]\n"
     ]
    },
    {
     "name": "stdout",
     "output_type": "stream",
     "text": [
      "[4.00, 5.00, 29.58, 34.62, 27.84, 83.52, 245.92, 130.07, 151.40, 116.52, 415.29, 1095.80]\n"
     ]
    },
    {
     "name": "stderr",
     "output_type": "stream",
     "text": [
      "100%|██████████| 55354/55354 [00:34<00:00, 1591.47it/s]\n",
      "100%|██████████| 33645/33645 [00:00<00:00, 79343.56it/s]\n",
      "100%|██████████| 26137/26137 [00:00<00:00, 78453.22it/s]\n",
      "100%|██████████| 26137/26137 [00:00<00:00, 82073.41it/s]\n",
      "100%|██████████| 26137/26137 [01:18<00:00, 331.08it/s]\n"
     ]
    },
    {
     "name": "stdout",
     "output_type": "stream",
     "text": [
      "[4.00, 6.00, 28.87, 32.63, 27.06, 76.67, 234.52, 124.80, 141.62, 116.96, 365.86, 1029.59]\n"
     ]
    },
    {
     "name": "stderr",
     "output_type": "stream",
     "text": [
      "100%|██████████| 55354/55354 [00:34<00:00, 1622.19it/s]\n",
      "100%|██████████| 31767/31767 [00:00<00:00, 79562.36it/s]\n",
      "100%|██████████| 24523/24523 [00:00<00:00, 79652.17it/s]\n",
      "100%|██████████| 24523/24523 [00:00<00:00, 80925.72it/s]\n",
      "100%|██████████| 24523/24523 [01:19<00:00, 310.03it/s]\n"
     ]
    },
    {
     "name": "stdout",
     "output_type": "stream",
     "text": [
      "[4.00, 7.00, 28.08, 30.24, 26.46, 74.97, 224.91, 119.59, 132.58, 110.94, 331.04, 991.35]\n"
     ]
    },
    {
     "name": "stderr",
     "output_type": "stream",
     "text": [
      "100%|██████████| 55354/55354 [00:34<00:00, 1617.78it/s]\n",
      "100%|██████████| 30148/30148 [00:00<00:00, 80119.29it/s]\n",
      "100%|██████████| 23157/23157 [00:00<00:00, 78790.25it/s]\n",
      "100%|██████████| 23157/23157 [00:00<00:00, 81096.98it/s]\n",
      "100%|██████████| 23157/23157 [01:15<00:00, 306.67it/s]\n"
     ]
    },
    {
     "name": "stdout",
     "output_type": "stream",
     "text": [
      "[4.00, 8.00, 27.32, 28.27, 27.90, 69.75, 223.20, 114.96, 122.98, 116.61, 304.64, 941.08]\n"
     ]
    },
    {
     "name": "stderr",
     "output_type": "stream",
     "text": [
      "100%|██████████| 55354/55354 [00:34<00:00, 1615.81it/s]\n",
      "100%|██████████| 28731/28731 [00:00<00:00, 80800.63it/s]\n",
      "100%|██████████| 21972/21972 [00:00<00:00, 80075.25it/s]\n",
      "100%|██████████| 21972/21972 [00:00<00:00, 79625.68it/s]\n",
      "100%|██████████| 21972/21972 [01:05<00:00, 333.25it/s]\n"
     ]
    },
    {
     "name": "stdout",
     "output_type": "stream",
     "text": [
      "[4.00, 9.00, 26.64, 26.40, 27.60, 69.00, 212.52, 111.94, 116.68, 102.14, 275.71, 912.15]\n"
     ]
    },
    {
     "name": "stderr",
     "output_type": "stream",
     "text": [
      "100%|██████████| 55354/55354 [00:34<00:00, 1619.06it/s]\n",
      "100%|██████████| 55354/55354 [00:00<00:00, 79552.96it/s]\n",
      "100%|██████████| 42933/42933 [00:00<00:00, 79630.13it/s]\n",
      "100%|██████████| 42933/42933 [00:00<00:00, 80875.78it/s]\n",
      "100%|██████████| 42933/42933 [02:16<00:00, 314.20it/s]\n"
     ]
    },
    {
     "name": "stdout",
     "output_type": "stream",
     "text": [
      "[5.00, 0.00, 77.89, 143.02, 40.86, 367.74, 994.26, 360.43, 527.48, 213.03, 1630.99, 2659.01]\n"
     ]
    },
    {
     "name": "stderr",
     "output_type": "stream",
     "text": [
      "100%|██████████| 55354/55354 [00:34<00:00, 1587.33it/s]\n",
      "100%|██████████| 48377/48377 [00:00<00:00, 80424.58it/s]\n",
      "100%|██████████| 37609/37609 [00:00<00:00, 80357.64it/s]\n",
      "100%|██████████| 37609/37609 [00:00<00:00, 81584.35it/s]\n",
      "100%|██████████| 37609/37609 [01:43<00:00, 363.93it/s]\n"
     ]
    },
    {
     "name": "stdout",
     "output_type": "stream",
     "text": [
      "[5.00, 1.00, 47.08, 77.25, 24.10, 192.80, 578.40, 226.30, 320.78, 147.41, 941.61, 2029.96]\n"
     ]
    },
    {
     "name": "stderr",
     "output_type": "stream",
     "text": [
      "100%|██████████| 55354/55354 [00:33<00:00, 1628.80it/s]\n",
      "100%|██████████| 44789/44789 [00:00<00:00, 80562.01it/s]\n",
      "100%|██████████| 34874/34874 [00:00<00:00, 80314.69it/s]\n",
      "100%|██████████| 34874/34874 [00:00<00:00, 80342.26it/s]\n",
      "100%|██████████| 34874/34874 [01:39<00:00, 352.02it/s]\n"
     ]
    },
    {
     "name": "stdout",
     "output_type": "stream",
     "text": [
      "[5.00, 2.00, 37.12, 51.25, 24.21, 137.19, 379.29, 178.89, 235.02, 131.59, 709.09, 1549.09]\n"
     ]
    },
    {
     "name": "stderr",
     "output_type": "stream",
     "text": [
      "100%|██████████| 55354/55354 [00:33<00:00, 1629.01it/s]\n",
      "100%|██████████| 42501/42501 [00:00<00:00, 80519.75it/s]\n",
      "100%|██████████| 33126/33126 [00:00<00:00, 79846.69it/s]\n",
      "100%|██████████| 33126/33126 [00:00<00:00, 80206.27it/s]\n",
      "100%|██████████| 33126/33126 [01:34<00:00, 350.30it/s]\n"
     ]
    },
    {
     "name": "stdout",
     "output_type": "stream",
     "text": [
      "[5.00, 3.00, 33.54, 42.54, 29.22, 112.01, 292.20, 158.62, 198.75, 110.74, 596.53, 1303.12]\n"
     ]
    },
    {
     "name": "stderr",
     "output_type": "stream",
     "text": [
      "100%|██████████| 55354/55354 [00:33<00:00, 1633.57it/s]\n",
      "100%|██████████| 40665/40665 [00:00<00:00, 80113.34it/s]\n",
      "100%|██████████| 31739/31739 [00:00<00:00, 80618.37it/s]\n",
      "100%|██████████| 31739/31739 [00:00<00:00, 81566.08it/s]\n",
      "100%|██████████| 31739/31739 [01:31<00:00, 345.21it/s]\n"
     ]
    },
    {
     "name": "stdout",
     "output_type": "stream",
     "text": [
      "[5.00, 4.00, 31.86, 39.26, 29.22, 102.27, 267.85, 147.61, 180.99, 110.74, 530.28, 1236.87]\n"
     ]
    },
    {
     "name": "stderr",
     "output_type": "stream",
     "text": [
      "100%|██████████| 55354/55354 [00:33<00:00, 1631.86it/s]\n",
      "100%|██████████| 38961/38961 [00:00<00:00, 80369.59it/s]\n",
      "100%|██████████| 30390/30390 [00:00<00:00, 80592.12it/s]\n",
      "100%|██████████| 30390/30390 [00:00<00:00, 81676.64it/s]\n",
      "100%|██████████| 30390/30390 [01:28<00:00, 343.79it/s]\n"
     ]
    },
    {
     "name": "stdout",
     "output_type": "stream",
     "text": [
      "[5.00, 5.00, 30.76, 37.08, 24.35, 92.53, 253.24, 140.15, 167.79, 120.53, 481.11, 1162.19]\n"
     ]
    },
    {
     "name": "stderr",
     "output_type": "stream",
     "text": [
      "100%|██████████| 55354/55354 [00:33<00:00, 1630.25it/s]\n",
      "100%|██████████| 37361/37361 [00:00<00:00, 79736.48it/s]\n",
      "100%|██████████| 29151/29151 [00:00<00:00, 80358.21it/s]\n",
      "100%|██████████| 29151/29151 [00:00<00:00, 81409.91it/s]\n",
      "100%|██████████| 29151/29151 [01:25<00:00, 341.69it/s]\n"
     ]
    },
    {
     "name": "stdout",
     "output_type": "stream",
     "text": [
      "[5.00, 6.00, 29.99, 35.49, 24.35, 87.66, 253.24, 134.64, 158.63, 121.42, 450.07, 1124.66]\n"
     ]
    },
    {
     "name": "stderr",
     "output_type": "stream",
     "text": [
      "100%|██████████| 55354/55354 [00:34<00:00, 1606.67it/s]\n",
      "100%|██████████| 35838/35838 [00:00<00:00, 81598.33it/s]\n",
      "100%|██████████| 27946/27946 [00:00<00:00, 80880.71it/s]\n",
      "100%|██████████| 27946/27946 [00:00<00:00, 78801.67it/s]\n",
      "100%|██████████| 27946/27946 [01:25<00:00, 325.24it/s]\n"
     ]
    },
    {
     "name": "stdout",
     "output_type": "stream",
     "text": [
      "[5.00, 7.00, 29.34, 33.79, 27.06, 81.18, 239.03, 130.42, 152.06, 119.98, 409.41, 1090.42]\n"
     ]
    },
    {
     "name": "stderr",
     "output_type": "stream",
     "text": [
      "100%|██████████| 55354/55354 [00:34<00:00, 1610.22it/s]\n",
      "100%|██████████| 34410/34410 [00:00<00:00, 80779.78it/s]\n",
      "100%|██████████| 26824/26824 [00:00<00:00, 79540.53it/s]\n",
      "100%|██████████| 26824/26824 [00:00<00:00, 79774.02it/s]\n",
      "100%|██████████| 26824/26824 [01:23<00:00, 322.64it/s]\n"
     ]
    },
    {
     "name": "stdout",
     "output_type": "stream",
     "text": [
      "[5.00, 8.00, 28.71, 31.93, 26.94, 76.33, 233.48, 126.42, 145.74, 102.96, 375.36, 1056.37]\n"
     ]
    },
    {
     "name": "stderr",
     "output_type": "stream",
     "text": [
      "100%|██████████| 55354/55354 [00:34<00:00, 1598.86it/s]\n",
      "100%|██████████| 33032/33032 [00:00<00:00, 80348.90it/s]\n",
      "100%|██████████| 25676/25676 [00:00<00:00, 80346.53it/s]\n",
      "100%|██████████| 25676/25676 [00:00<00:00, 79803.59it/s]\n",
      "100%|██████████| 25676/25676 [01:20<00:00, 319.22it/s]\n"
     ]
    },
    {
     "name": "stdout",
     "output_type": "stream",
     "text": [
      "[5.00, 9.00, 28.14, 30.15, 26.64, 76.96, 227.92, 122.72, 139.78, 102.96, 358.34, 1039.35]\n"
     ]
    },
    {
     "name": "stderr",
     "output_type": "stream",
     "text": [
      "100%|██████████| 55354/55354 [00:35<00:00, 1578.66it/s]\n",
      "100%|██████████| 55354/55354 [00:00<00:00, 81426.89it/s]\n",
      "100%|██████████| 42933/42933 [00:00<00:00, 79486.57it/s]\n",
      "100%|██████████| 42933/42933 [00:00<00:00, 81703.22it/s]\n",
      "100%|██████████| 42933/42933 [02:08<00:00, 333.83it/s]\n"
     ]
    },
    {
     "name": "stdout",
     "output_type": "stream",
     "text": [
      "[6.00, 0.00, 77.89, 143.02, 40.86, 367.74, 994.26, 360.43, 527.48, 213.03, 1630.99, 2659.01]\n"
     ]
    },
    {
     "name": "stderr",
     "output_type": "stream",
     "text": [
      "100%|██████████| 55354/55354 [00:34<00:00, 1610.96it/s]\n",
      "100%|██████████| 49471/49471 [00:00<00:00, 79703.59it/s]\n",
      "100%|██████████| 38436/38436 [00:00<00:00, 77883.86it/s]\n",
      "100%|██████████| 38436/38436 [00:00<00:00, 79744.38it/s]\n",
      "100%|██████████| 38436/38436 [01:59<00:00, 322.17it/s]\n"
     ]
    },
    {
     "name": "stdout",
     "output_type": "stream",
     "text": [
      "[6.00, 1.00, 50.25, 84.47, 24.10, 204.85, 638.65, 241.46, 344.54, 147.41, 1000.44, 2147.62]\n"
     ]
    },
    {
     "name": "stderr",
     "output_type": "stream",
     "text": [
      "100%|██████████| 55354/55354 [00:33<00:00, 1629.69it/s]\n",
      "100%|██████████| 46195/46195 [00:00<00:00, 79806.29it/s]\n",
      "100%|██████████| 35960/35960 [00:00<00:00, 80501.14it/s]\n",
      "100%|██████████| 35960/35960 [00:00<00:00, 79894.21it/s]\n",
      "100%|██████████| 35960/35960 [02:00<00:00, 298.69it/s]\n"
     ]
    },
    {
     "name": "stdout",
     "output_type": "stream",
     "text": [
      "[6.00, 2.00, 39.78, 57.50, 26.97, 152.83, 431.52, 192.96, 256.56, 131.59, 787.84, 1601.59]\n"
     ]
    },
    {
     "name": "stderr",
     "output_type": "stream",
     "text": [
      "100%|██████████| 55354/55354 [00:33<00:00, 1628.68it/s]\n",
      "100%|██████████| 44094/44094 [00:00<00:00, 79223.95it/s]\n",
      "100%|██████████| 34367/34367 [00:00<00:00, 79922.53it/s]\n",
      "100%|██████████| 34367/34367 [00:00<00:00, 80687.37it/s]\n",
      "100%|██████████| 34367/34367 [01:49<00:00, 315.08it/s]\n"
     ]
    },
    {
     "name": "stdout",
     "output_type": "stream",
     "text": [
      "[6.00, 3.00, 35.41, 46.50, 28.60, 125.84, 314.60, 170.49, 217.74, 132.82, 662.77, 1391.44]\n"
     ]
    },
    {
     "name": "stderr",
     "output_type": "stream",
     "text": [
      "100%|██████████| 55354/55354 [00:33<00:00, 1632.64it/s]\n",
      "100%|██████████| 42510/42510 [00:00<00:00, 81414.31it/s]\n",
      "100%|██████████| 33182/33182 [00:00<00:00, 79008.69it/s]\n",
      "100%|██████████| 33182/33182 [00:00<00:00, 82050.42it/s]\n",
      "100%|██████████| 33182/33182 [01:34<00:00, 351.97it/s]\n"
     ]
    },
    {
     "name": "stdout",
     "output_type": "stream",
     "text": [
      "[6.00, 4.00, 33.32, 42.05, 29.70, 108.90, 287.10, 157.64, 196.79, 110.74, 596.53, 1303.12]\n"
     ]
    },
    {
     "name": "stderr",
     "output_type": "stream",
     "text": [
      "100%|██████████| 55354/55354 [00:34<00:00, 1612.79it/s]\n",
      "100%|██████████| 41153/41153 [00:00<00:00, 79641.05it/s]\n",
      "100%|██████████| 32151/32151 [00:00<00:00, 80186.92it/s]\n",
      "100%|██████████| 32151/32151 [00:00<00:00, 82026.45it/s]\n",
      "100%|██████████| 32151/32151 [01:33<00:00, 342.68it/s]\n"
     ]
    },
    {
     "name": "stdout",
     "output_type": "stream",
     "text": [
      "[6.00, 5.00, 31.90, 39.19, 29.22, 102.27, 262.98, 149.37, 183.63, 110.74, 530.28, 1258.95]\n"
     ]
    },
    {
     "name": "stderr",
     "output_type": "stream",
     "text": [
      "100%|██████████| 55354/55354 [00:33<00:00, 1632.98it/s]\n",
      "100%|██████████| 39887/39887 [00:00<00:00, 81214.10it/s]\n",
      "100%|██████████| 31196/31196 [00:00<00:00, 80785.54it/s]\n",
      "100%|██████████| 31196/31196 [00:00<00:00, 81095.77it/s]\n",
      "100%|██████████| 31196/31196 [01:35<00:00, 328.17it/s]\n"
     ]
    },
    {
     "name": "stdout",
     "output_type": "stream",
     "text": [
      "[6.00, 6.00, 31.14, 37.80, 29.22, 97.40, 258.11, 143.85, 174.61, 122.52, 509.42, 1201.78]\n"
     ]
    },
    {
     "name": "stderr",
     "output_type": "stream",
     "text": [
      "100%|██████████| 55354/55354 [00:34<00:00, 1621.09it/s]\n",
      "100%|██████████| 38634/38634 [00:00<00:00, 80014.74it/s]\n",
      "100%|██████████| 30200/30200 [00:00<00:00, 78925.73it/s]\n",
      "100%|██████████| 30200/30200 [00:00<00:00, 80925.44it/s]\n",
      "100%|██████████| 30200/30200 [01:30<00:00, 331.93it/s]\n"
     ]
    },
    {
     "name": "stdout",
     "output_type": "stream",
     "text": [
      "[6.00, 7.00, 30.44, 36.29, 24.35, 92.53, 253.24, 138.70, 165.58, 120.53, 481.11, 1142.16]\n"
     ]
    },
    {
     "name": "stderr",
     "output_type": "stream",
     "text": [
      "100%|██████████| 55354/55354 [00:34<00:00, 1609.42it/s]\n",
      "100%|██████████| 37491/37491 [00:00<00:00, 80996.84it/s]\n",
      "100%|██████████| 29335/29335 [00:00<00:00, 79758.23it/s]\n",
      "100%|██████████| 29335/29335 [00:00<00:00, 77690.88it/s]\n",
      "100%|██████████| 29335/29335 [01:31<00:00, 319.45it/s]\n"
     ]
    },
    {
     "name": "stdout",
     "output_type": "stream",
     "text": [
      "[6.00, 8.00, 29.85, 34.85, 27.84, 83.52, 245.92, 134.56, 158.77, 121.42, 450.07, 1124.66]\n"
     ]
    },
    {
     "name": "stderr",
     "output_type": "stream",
     "text": [
      "100%|██████████| 55354/55354 [00:34<00:00, 1616.84it/s]\n",
      "100%|██████████| 36386/36386 [00:00<00:00, 78965.10it/s]\n",
      "100%|██████████| 28462/28462 [00:00<00:00, 79253.97it/s]\n",
      "100%|██████████| 28462/28462 [00:00<00:00, 80826.04it/s]\n",
      "100%|██████████| 28462/28462 [01:31<00:00, 309.78it/s]\n"
     ]
    },
    {
     "name": "stdout",
     "output_type": "stream",
     "text": [
      "[6.00, 9.00, 29.31, 33.57, 27.84, 78.88, 236.64, 131.26, 153.53, 104.12, 432.77, 1090.07]\n"
     ]
    },
    {
     "name": "stderr",
     "output_type": "stream",
     "text": [
      "100%|██████████| 55354/55354 [00:34<00:00, 1593.17it/s]\n",
      "100%|██████████| 55354/55354 [00:00<00:00, 80212.84it/s]\n",
      "100%|██████████| 42933/42933 [00:00<00:00, 80900.05it/s]\n",
      "100%|██████████| 42933/42933 [00:00<00:00, 82066.18it/s]\n",
      "100%|██████████| 42933/42933 [02:23<00:00, 298.89it/s]\n"
     ]
    },
    {
     "name": "stdout",
     "output_type": "stream",
     "text": [
      "[7.00, 0.00, 77.89, 143.02, 40.86, 367.74, 994.26, 360.43, 527.48, 213.03, 1630.99, 2659.01]\n"
     ]
    },
    {
     "name": "stderr",
     "output_type": "stream",
     "text": [
      "100%|██████████| 55354/55354 [00:34<00:00, 1625.92it/s]\n",
      "100%|██████████| 50357/50357 [00:00<00:00, 79913.98it/s]\n",
      "100%|██████████| 39141/39141 [00:00<00:00, 80379.42it/s]\n",
      "100%|██████████| 39141/39141 [00:00<00:00, 80653.87it/s]\n",
      "100%|██████████| 39141/39141 [02:12<00:00, 294.33it/s]\n"
     ]
    },
    {
     "name": "stdout",
     "output_type": "stream",
     "text": [
      "[7.00, 1.00, 53.35, 91.41, 24.10, 216.90, 723.00, 255.22, 365.82, 147.41, 1059.27, 2235.87]\n"
     ]
    },
    {
     "name": "stderr",
     "output_type": "stream",
     "text": [
      "100%|██████████| 55354/55354 [00:33<00:00, 1638.85it/s]\n",
      "100%|██████████| 47320/47320 [00:00<00:00, 79672.98it/s]\n",
      "100%|██████████| 36840/36840 [00:00<00:00, 80200.10it/s]\n",
      "100%|██████████| 36840/36840 [00:00<00:00, 80939.65it/s]\n",
      "100%|██████████| 36840/36840 [01:46<00:00, 345.72it/s]\n"
     ]
    },
    {
     "name": "stdout",
     "output_type": "stream",
     "text": [
      "[7.00, 2.00, 42.22, 62.68, 31.32, 156.60, 459.36, 205.54, 276.00, 141.71, 820.28, 1696.77]\n"
     ]
    },
    {
     "name": "stderr",
     "output_type": "stream",
     "text": [
      "100%|██████████| 55354/55354 [00:34<00:00, 1614.32it/s]\n",
      "100%|██████████| 45403/45403 [00:00<00:00, 81406.95it/s]\n",
      "100%|██████████| 35380/35380 [00:00<00:00, 80736.23it/s]\n",
      "100%|██████████| 35380/35380 [00:00<00:00, 82106.61it/s]\n",
      "100%|██████████| 35380/35380 [01:44<00:00, 338.21it/s]\n"
     ]
    },
    {
     "name": "stdout",
     "output_type": "stream",
     "text": [
      "[7.00, 3.00, 37.32, 50.45, 31.64, 134.47, 340.13, 181.66, 235.28, 131.59, 709.09, 1470.34]\n"
     ]
    },
    {
     "name": "stderr",
     "output_type": "stream",
     "text": [
      "100%|██████████| 55354/55354 [00:34<00:00, 1612.22it/s]\n",
      "100%|██████████| 43924/43924 [00:00<00:00, 80407.39it/s]\n",
      "100%|██████████| 34297/34297 [00:00<00:00, 80995.17it/s]\n",
      "100%|██████████| 34297/34297 [00:00<00:00, 81504.28it/s]\n",
      "100%|██████████| 34297/34297 [01:43<00:00, 332.49it/s]\n"
     ]
    },
    {
     "name": "stdout",
     "output_type": "stream",
     "text": [
      "[7.00, 4.00, 34.82, 44.80, 31.26, 119.83, 302.18, 168.02, 212.68, 131.59, 630.34, 1365.34]\n"
     ]
    },
    {
     "name": "stderr",
     "output_type": "stream",
     "text": [
      "100%|██████████| 55354/55354 [00:34<00:00, 1602.38it/s]\n",
      "100%|██████████| 42716/42716 [00:00<00:00, 80464.69it/s]\n",
      "100%|██████████| 33381/33381 [00:00<00:00, 79366.46it/s]\n",
      "100%|██████████| 33381/33381 [00:00<00:00, 81273.00it/s]\n",
      "100%|██████████| 33381/33381 [01:45<00:00, 316.32it/s]\n"
     ]
    },
    {
     "name": "stdout",
     "output_type": "stream",
     "text": [
      "[7.00, 5.00, 33.24, 41.77, 25.85, 108.57, 279.18, 158.76, 198.78, 105.34, 604.09, 1312.84]\n"
     ]
    },
    {
     "name": "stderr",
     "output_type": "stream",
     "text": [
      "100%|██████████| 55354/55354 [00:34<00:00, 1582.87it/s]\n",
      "100%|██████████| 41702/41702 [00:00<00:00, 79141.14it/s]\n",
      "100%|██████████| 32623/32623 [00:00<00:00, 79601.23it/s]\n",
      "100%|██████████| 32623/32623 [00:00<00:00, 80582.83it/s]\n",
      "100%|██████████| 32623/32623 [01:40<00:00, 325.61it/s]\n"
     ]
    },
    {
     "name": "stdout",
     "output_type": "stream",
     "text": [
      "[7.00, 6.00, 32.36, 40.16, 29.22, 102.27, 267.85, 152.99, 189.51, 122.52, 570.51, 1262.87]\n"
     ]
    },
    {
     "name": "stderr",
     "output_type": "stream",
     "text": [
      "100%|██████████| 55354/55354 [00:34<00:00, 1614.04it/s]\n",
      "100%|██████████| 40731/40731 [00:00<00:00, 80291.07it/s]\n",
      "100%|██████████| 31870/31870 [00:00<00:00, 79016.56it/s]\n",
      "100%|██████████| 31870/31870 [00:00<00:00, 79164.01it/s]\n",
      "100%|██████████| 31870/31870 [01:37<00:00, 327.05it/s]\n"
     ]
    },
    {
     "name": "stdout",
     "output_type": "stream",
     "text": [
      "[7.00, 7.00, 31.54, 38.53, 29.22, 97.40, 262.98, 148.03, 182.06, 122.52, 529.79, 1242.50]\n"
     ]
    },
    {
     "name": "stderr",
     "output_type": "stream",
     "text": [
      "100%|██████████| 55354/55354 [00:35<00:00, 1581.15it/s]\n",
      "100%|██████████| 39662/39662 [00:00<00:00, 80192.67it/s]\n",
      "100%|██████████| 31069/31069 [00:00<00:00, 80004.05it/s]\n",
      "100%|██████████| 31069/31069 [00:00<00:00, 81328.15it/s]\n",
      "100%|██████████| 31069/31069 [01:38<00:00, 314.88it/s]\n"
     ]
    },
    {
     "name": "stdout",
     "output_type": "stream",
     "text": [
      "[7.00, 8.00, 30.89, 37.25, 29.22, 92.53, 258.11, 143.38, 174.40, 122.52, 509.42, 1201.78]\n"
     ]
    },
    {
     "name": "stderr",
     "output_type": "stream",
     "text": [
      "100%|██████████| 55354/55354 [00:34<00:00, 1604.02it/s]\n",
      "100%|██████████| 38723/38723 [00:00<00:00, 80248.60it/s]\n",
      "100%|██████████| 30367/30367 [00:00<00:00, 80287.97it/s]\n",
      "100%|██████████| 30367/30367 [00:00<00:00, 80725.49it/s]\n",
      "100%|██████████| 30367/30367 [01:29<00:00, 338.93it/s]\n"
     ]
    },
    {
     "name": "stdout",
     "output_type": "stream",
     "text": [
      "[7.00, 9.00, 30.29, 35.84, 27.84, 88.16, 245.92, 139.70, 168.84, 122.52, 489.06, 1161.05]\n"
     ]
    },
    {
     "name": "stderr",
     "output_type": "stream",
     "text": [
      "100%|██████████| 55354/55354 [00:34<00:00, 1601.46it/s]\n",
      "100%|██████████| 55354/55354 [00:00<00:00, 78996.69it/s]\n",
      "100%|██████████| 42933/42933 [00:00<00:00, 77925.80it/s]\n",
      "100%|██████████| 42933/42933 [00:00<00:00, 78171.19it/s]\n",
      "100%|██████████| 42933/42933 [02:03<00:00, 346.97it/s]\n"
     ]
    },
    {
     "name": "stdout",
     "output_type": "stream",
     "text": [
      "[8.00, 0.00, 77.89, 143.02, 40.86, 367.74, 994.26, 360.43, 527.48, 213.03, 1630.99, 2659.01]\n"
     ]
    },
    {
     "name": "stderr",
     "output_type": "stream",
     "text": [
      "100%|██████████| 55354/55354 [00:33<00:00, 1634.55it/s]\n",
      "100%|██████████| 51103/51103 [00:00<00:00, 79986.27it/s]\n",
      "100%|██████████| 39724/39724 [00:00<00:00, 79485.33it/s]\n",
      "100%|██████████| 39724/39724 [00:00<00:00, 80433.34it/s]\n",
      "100%|██████████| 39724/39724 [01:49<00:00, 363.90it/s]\n"
     ]
    },
    {
     "name": "stdout",
     "output_type": "stream",
     "text": [
      "[8.00, 1.00, 56.08, 97.22, 26.18, 235.62, 772.31, 267.58, 383.99, 163.67, 1143.65, 2286.96]\n"
     ]
    },
    {
     "name": "stderr",
     "output_type": "stream",
     "text": [
      "100%|██████████| 55354/55354 [00:33<00:00, 1634.51it/s]\n",
      "100%|██████████| 48266/48266 [00:00<00:00, 81317.76it/s]\n",
      "100%|██████████| 37577/37577 [00:00<00:00, 79513.26it/s]\n",
      "100%|██████████| 37577/37577 [00:00<00:00, 81916.53it/s]\n",
      "100%|██████████| 37577/37577 [01:52<00:00, 334.48it/s]\n"
     ]
    },
    {
     "name": "stdout",
     "output_type": "stream",
     "text": [
      "[8.00, 2.00, 44.41, 66.89, 31.32, 177.48, 480.24, 217.17, 293.67, 141.71, 876.83, 1781.59]\n"
     ]
    },
    {
     "name": "stderr",
     "output_type": "stream",
     "text": [
      "100%|██████████| 55354/55354 [00:34<00:00, 1604.02it/s]\n",
      "100%|██████████| 46417/46417 [00:00<00:00, 78764.59it/s]\n",
      "100%|██████████| 36165/36165 [00:00<00:00, 79842.70it/s]\n",
      "100%|██████████| 36165/36165 [00:00<00:00, 81057.27it/s]\n",
      "100%|██████████| 36165/36165 [01:50<00:00, 328.11it/s]\n"
     ]
    },
    {
     "name": "stdout",
     "output_type": "stream",
     "text": [
      "[8.00, 3.00, 39.35, 54.57, 24.99, 149.94, 383.18, 192.32, 250.95, 131.59, 761.59, 1522.84]\n"
     ]
    },
    {
     "name": "stderr",
     "output_type": "stream",
     "text": [
      "100%|██████████| 55354/55354 [00:33<00:00, 1635.56it/s]\n",
      "100%|██████████| 45069/45069 [00:00<00:00, 80441.12it/s]\n",
      "100%|██████████| 35168/35168 [00:00<00:00, 81077.11it/s]\n",
      "100%|██████████| 35168/35168 [00:00<00:00, 82415.82it/s]\n",
      "100%|██████████| 35168/35168 [02:38<00:00, 221.86it/s]\n"
     ]
    },
    {
     "name": "stdout",
     "output_type": "stream",
     "text": [
      "[8.00, 4.00, 36.45, 47.99, 31.26, 135.46, 323.02, 177.74, 227.34, 131.59, 682.84, 1417.84]\n"
     ]
    },
    {
     "name": "stderr",
     "output_type": "stream",
     "text": [
      "100%|██████████| 55354/55354 [00:34<00:00, 1609.21it/s]\n",
      "100%|██████████| 43922/43922 [00:00<00:00, 80358.31it/s]\n",
      "100%|██████████| 34301/34301 [00:00<00:00, 81718.25it/s]\n",
      "100%|██████████| 34301/34301 [00:00<00:00, 82280.67it/s]\n",
      "100%|██████████| 34301/34301 [01:25<00:00, 402.31it/s]\n"
     ]
    },
    {
     "name": "stdout",
     "output_type": "stream",
     "text": [
      "[8.00, 5.00, 34.53, 44.08, 31.02, 118.91, 294.69, 167.69, 212.13, 131.59, 630.34, 1365.34]\n"
     ]
    },
    {
     "name": "stderr",
     "output_type": "stream",
     "text": [
      "100%|██████████| 55354/55354 [00:34<00:00, 1604.10it/s]\n",
      "100%|██████████| 42967/42967 [00:00<00:00, 79681.52it/s]\n",
      "100%|██████████| 33574/33574 [00:00<00:00, 80994.83it/s]\n",
      "100%|██████████| 33574/33574 [00:00<00:00, 81606.81it/s]\n",
      "100%|██████████| 33574/33574 [01:44<00:00, 321.57it/s]\n"
     ]
    },
    {
     "name": "stdout",
     "output_type": "stream",
     "text": [
      "[8.00, 6.00, 33.29, 41.75, 29.22, 112.01, 277.59, 160.27, 200.97, 105.34, 604.09, 1312.84]\n"
     ]
    },
    {
     "name": "stderr",
     "output_type": "stream",
     "text": [
      "100%|██████████| 55354/55354 [00:34<00:00, 1599.49it/s]\n",
      "100%|██████████| 42141/42141 [00:00<00:00, 79980.45it/s]\n",
      "100%|██████████| 32960/32960 [00:00<00:00, 79642.60it/s]\n",
      "100%|██████████| 32960/32960 [00:00<00:00, 80953.39it/s]\n",
      "100%|██████████| 32960/32960 [01:35<00:00, 343.51it/s]\n"
     ]
    },
    {
     "name": "stdout",
     "output_type": "stream",
     "text": [
      "[8.00, 7.00, 32.50, 40.38, 29.22, 107.14, 272.72, 155.45, 194.14, 105.34, 577.84, 1286.59]\n"
     ]
    },
    {
     "name": "stderr",
     "output_type": "stream",
     "text": [
      "100%|██████████| 55354/55354 [00:33<00:00, 1637.70it/s]\n",
      "100%|██████████| 41340/41340 [00:00<00:00, 81541.69it/s]\n",
      "100%|██████████| 32396/32396 [00:00<00:00, 81215.56it/s]\n",
      "100%|██████████| 32396/32396 [00:00<00:00, 81120.43it/s]\n",
      "100%|██████████| 32396/32396 [01:25<00:00, 378.22it/s]\n"
     ]
    },
    {
     "name": "stdout",
     "output_type": "stream",
     "text": [
      "[8.00, 8.00, 31.86, 39.10, 29.22, 102.27, 262.98, 151.08, 186.74, 105.34, 551.59, 1260.34]\n"
     ]
    },
    {
     "name": "stderr",
     "output_type": "stream",
     "text": [
      "100%|██████████| 55354/55354 [00:33<00:00, 1647.48it/s]\n",
      "100%|██████████| 40551/40551 [00:00<00:00, 80498.71it/s]\n",
      "100%|██████████| 31799/31799 [00:00<00:00, 80826.47it/s]\n",
      "100%|██████████| 31799/31799 [00:00<00:00, 82052.64it/s]\n",
      "100%|██████████| 31799/31799 [01:25<00:00, 369.90it/s]\n"
     ]
    },
    {
     "name": "stdout",
     "output_type": "stream",
     "text": [
      "[8.00, 9.00, 31.29, 37.88, 29.22, 97.40, 258.11, 147.48, 181.56, 122.52, 529.79, 1242.50]\n"
     ]
    },
    {
     "name": "stderr",
     "output_type": "stream",
     "text": [
      "100%|██████████| 55354/55354 [00:34<00:00, 1596.92it/s]\n",
      "100%|██████████| 55354/55354 [00:00<00:00, 80498.02it/s]\n",
      "100%|██████████| 42933/42933 [00:00<00:00, 80184.19it/s]\n",
      "100%|██████████| 42933/42933 [00:00<00:00, 80057.50it/s]\n",
      "100%|██████████| 42933/42933 [01:58<00:00, 363.10it/s]\n"
     ]
    },
    {
     "name": "stdout",
     "output_type": "stream",
     "text": [
      "[9.00, 0.00, 77.89, 143.02, 40.86, 367.74, 994.26, 360.43, 527.48, 213.03, 1630.99, 2659.01]\n"
     ]
    },
    {
     "name": "stderr",
     "output_type": "stream",
     "text": [
      "100%|██████████| 55354/55354 [00:33<00:00, 1643.85it/s]\n",
      "100%|██████████| 51685/51685 [00:00<00:00, 80766.04it/s]\n",
      "100%|██████████| 40198/40198 [00:00<00:00, 80702.70it/s]\n",
      "100%|██████████| 40198/40198 [00:00<00:00, 81121.87it/s]\n",
      "100%|██████████| 40198/40198 [01:47<00:00, 373.96it/s]\n"
     ]
    },
    {
     "name": "stdout",
     "output_type": "stream",
     "text": [
      "[9.00, 1.00, 58.50, 101.77, 26.18, 248.71, 785.40, 278.21, 399.39, 163.67, 1176.31, 2319.62]\n"
     ]
    },
    {
     "name": "stderr",
     "output_type": "stream",
     "text": [
      "100%|██████████| 55354/55354 [00:33<00:00, 1633.44it/s]\n",
      "100%|██████████| 49035/49035 [00:00<00:00, 80619.95it/s]\n",
      "100%|██████████| 38179/38179 [00:00<00:00, 80291.78it/s]\n",
      "100%|██████████| 38179/38179 [00:00<00:00, 80790.65it/s]\n",
      "100%|██████████| 38179/38179 [01:39<00:00, 383.14it/s]\n"
     ]
    },
    {
     "name": "stdout",
     "output_type": "stream",
     "text": [
      "[9.00, 2.00, 46.56, 71.49, 23.82, 190.56, 500.22, 227.86, 310.29, 141.71, 933.38, 1866.41]\n"
     ]
    },
    {
     "name": "stderr",
     "output_type": "stream",
     "text": [
      "100%|██████████| 55354/55354 [00:34<00:00, 1624.79it/s]\n",
      "100%|██████████| 47270/47270 [00:00<00:00, 80913.36it/s]\n",
      "100%|██████████| 36825/36825 [00:00<00:00, 81099.30it/s]\n",
      "100%|██████████| 36825/36825 [00:00<00:00, 82403.91it/s]\n",
      "100%|██████████| 36825/36825 [01:39<00:00, 369.22it/s]\n"
     ]
    },
    {
     "name": "stdout",
     "output_type": "stream",
     "text": [
      "[9.00, 3.00, 41.15, 57.84, 33.32, 158.27, 408.17, 202.27, 266.24, 131.59, 814.09, 1601.59]\n"
     ]
    },
    {
     "name": "stderr",
     "output_type": "stream",
     "text": [
      "100%|██████████| 55354/55354 [00:33<00:00, 1629.22it/s]\n",
      "100%|██████████| 45986/45986 [00:00<00:00, 81657.09it/s]\n",
      "100%|██████████| 35897/35897 [00:00<00:00, 81408.87it/s]\n",
      "100%|██████████| 35897/35897 [00:00<00:00, 81115.45it/s]\n",
      "100%|██████████| 35897/35897 [01:30<00:00, 398.85it/s]\n"
     ]
    },
    {
     "name": "stdout",
     "output_type": "stream",
     "text": [
      "[9.00, 4.00, 38.13, 51.15, 30.70, 141.22, 343.84, 187.01, 240.44, 131.59, 735.34, 1444.09]\n"
     ]
    },
    {
     "name": "stderr",
     "output_type": "stream",
     "text": [
      "100%|██████████| 55354/55354 [00:33<00:00, 1642.93it/s]\n",
      "100%|██████████| 44921/44921 [00:00<00:00, 81109.71it/s]\n",
      "100%|██████████| 35080/35080 [00:00<00:00, 81435.31it/s]\n",
      "100%|██████████| 35080/35080 [00:00<00:00, 82628.28it/s]\n",
      "100%|██████████| 35080/35080 [01:32<00:00, 377.24it/s]\n"
     ]
    },
    {
     "name": "stdout",
     "output_type": "stream",
     "text": [
      "[9.00, 5.00, 35.94, 46.77, 31.14, 129.75, 316.59, 176.45, 224.91, 131.59, 682.84, 1391.59]\n"
     ]
    },
    {
     "name": "stderr",
     "output_type": "stream",
     "text": [
      "100%|██████████| 55354/55354 [00:33<00:00, 1641.77it/s]\n",
      "100%|██████████| 44001/44001 [00:00<00:00, 81161.98it/s]\n",
      "100%|██████████| 34392/34392 [00:00<00:00, 80260.99it/s]\n",
      "100%|██████████| 34392/34392 [00:00<00:00, 82658.79it/s]\n",
      "100%|██████████| 34392/34392 [01:32<00:00, 372.79it/s]\n"
     ]
    },
    {
     "name": "stdout",
     "output_type": "stream",
     "text": [
      "[9.00, 6.00, 34.57, 44.14, 31.02, 118.91, 294.69, 168.42, 213.03, 131.59, 630.34, 1365.34]\n"
     ]
    },
    {
     "name": "stderr",
     "output_type": "stream",
     "text": [
      "100%|██████████| 55354/55354 [00:33<00:00, 1643.52it/s]\n",
      "100%|██████████| 43240/43240 [00:00<00:00, 81611.86it/s]\n",
      "100%|██████████| 33810/33810 [00:00<00:00, 81609.84it/s]\n",
      "100%|██████████| 33810/33810 [00:00<00:00, 81692.91it/s]\n",
      "100%|██████████| 33810/33810 [01:26<00:00, 389.28it/s]\n"
     ]
    },
    {
     "name": "stdout",
     "output_type": "stream",
     "text": [
      "[9.00, 7.00, 33.49, 42.17, 30.48, 111.76, 279.40, 162.40, 204.23, 105.34, 604.09, 1339.09]\n"
     ]
    },
    {
     "name": "stderr",
     "output_type": "stream",
     "text": [
      "100%|██████████| 55354/55354 [00:33<00:00, 1644.19it/s]\n",
      "100%|██████████| 42521/42521 [00:00<00:00, 81199.90it/s]\n",
      "100%|██████████| 33281/33281 [00:00<00:00, 79996.05it/s]\n",
      "100%|██████████| 33281/33281 [00:00<00:00, 82853.68it/s]\n",
      "100%|██████████| 33281/33281 [01:28<00:00, 375.47it/s]\n"
     ]
    },
    {
     "name": "stdout",
     "output_type": "stream",
     "text": [
      "[9.00, 8.00, 32.69, 40.47, 29.22, 107.14, 267.85, 157.73, 197.16, 105.34, 577.84, 1312.84]\n"
     ]
    },
    {
     "name": "stderr",
     "output_type": "stream",
     "text": [
      "100%|██████████| 55354/55354 [00:33<00:00, 1637.47it/s]\n",
      "100%|██████████| 41842/41842 [00:00<00:00, 81746.78it/s]\n",
      "100%|██████████| 32776/32776 [00:00<00:00, 80936.79it/s]\n",
      "100%|██████████| 32776/32776 [00:00<00:00, 80976.40it/s]\n",
      "100%|██████████| 32776/32776 [01:27<00:00, 373.65it/s]\n"
     ]
    },
    {
     "name": "stdout",
     "output_type": "stream",
     "text": [
      "[9.00, 9.00, 32.05, 39.32, 29.22, 102.27, 262.98, 153.86, 191.66, 105.34, 577.84, 1286.59]\n"
     ]
    },
    {
     "data": {
      "text/plain": [
       "<Figure size 500x500 with 0 Axes>"
      ]
     },
     "metadata": {},
     "output_type": "display_data"
    }
   ],
   "source": [
    "search_radii = range(0, 10)\n",
    "search_numbers = range(0, 10)\n",
    "\n",
    "df_hits_original = df_hits.copy()\n",
    "\n",
    "for search_radius in search_radii:\n",
    "    for search_number in search_numbers:\n",
    "        df_hits = filter_hits(df_hits_original, search_radius, search_number)\n",
    "        df_hits = make_r(df_hits)\n",
    "        df_hits = filter_r(df_hits, Y_LIM)\n",
    "        df_hits = make_theta(df_hits, rToTheta)\n",
    "        df_hits = make_phi(df_hits)\n",
    "\n",
    "        df_hits = make_reconstructedVector_direction(df_hits)\n",
    "        df_hits = make_reconstructedPoint_primary_distance(df_hits, df_primary)\n",
    "        df_hits = make_reconstructedPoint_initial_distance(df_hits)\n",
    "\n",
    "        PDF, hist, bins = get_PDF(df_hits['reconstructedPoint_primary_distance_r'], nBins=100)\n",
    "        primary_mean = np.mean(df_hits['reconstructedPoint_primary_distance_r'])\n",
    "        primary_std = np.std(df_hits['reconstructedPoint_primary_distance_r'])\n",
    "        primary_sigma_1 = get_CSP('1 sigma', PDF=PDF, bins=bins)\n",
    "        primary_sigma_2 = get_CSP('2 sigma', PDF=PDF, bins=bins)\n",
    "        primary_sigma_3 = get_CSP('3 sigma', PDF=PDF, bins=bins)\n",
    "\n",
    "        PDF, hist, bins = get_PDF(df_hits['reconstructedPoint_initial_distance_r'], nBins=100)\n",
    "        initial_mean = np.mean(df_hits['reconstructedPoint_initial_distance_r'])\n",
    "        initial_std = np.std(df_hits['reconstructedPoint_initial_distance_r'])\n",
    "        initial_sigma_1 = get_CSP('1 sigma', PDF=PDF, bins=bins)\n",
    "        initial_sigma_2 = get_CSP('2 sigma', PDF=PDF, bins=bins)\n",
    "        initial_sigma_3 = get_CSP('3 sigma', PDF=PDF, bins=bins)\n",
    "\n",
    "        print('[{:.2f}, {:.2f}, {:.2f}, {:.2f}, {:.2f}, {:.2f}, {:.2f}, {:.2f}, {:.2f}, {:.2f}, {:.2f}, {:.2f}]'.format(search_radius, search_number, primary_mean, primary_std, primary_sigma_1, primary_sigma_2, primary_sigma_3, initial_mean, initial_std, initial_sigma_1, initial_sigma_2, initial_sigma_3))"
   ]
  },
  {
   "cell_type": "code",
   "execution_count": null,
   "metadata": {},
   "outputs": [],
   "source": []
  }
 ],
 "metadata": {
  "kernelspec": {
   "display_name": "DSPD-Detector-Sim_Analysis",
   "language": "python",
   "name": "python3"
  },
  "language_info": {
   "codemirror_mode": {
    "name": "ipython",
    "version": 3
   },
   "file_extension": ".py",
   "mimetype": "text/x-python",
   "name": "python",
   "nbconvert_exporter": "python",
   "pygments_lexer": "ipython3",
   "version": "3.11.4"
  },
  "orig_nbformat": 4
 },
 "nbformat": 4,
 "nbformat_minor": 2
}
